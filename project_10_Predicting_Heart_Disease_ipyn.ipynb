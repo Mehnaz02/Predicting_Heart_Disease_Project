{
  "nbformat": 4,
  "nbformat_minor": 0,
  "metadata": {
    "colab": {
      "provenance": []
    },
    "kernelspec": {
      "name": "python3",
      "display_name": "Python 3"
    },
    "language_info": {
      "name": "python"
    }
  },
  "cells": [
    {
      "cell_type": "code",
      "execution_count": 396,
      "metadata": {
        "colab": {
          "base_uri": "https://localhost:8080/",
          "height": 52
        },
        "id": "Ke74CEf3GVgl",
        "outputId": "e7b2d7cc-c987-4374-b8e5-24058f5db911"
      },
      "outputs": [
        {
          "output_type": "execute_result",
          "data": {
            "text/plain": [
              "'1. Data Analysis:\\na. Import the dataset\\nb. Get information about the dataset (mean, max, min, quartiles etc.)\\nc. Find the correlation between all fields'"
            ],
            "application/vnd.google.colaboratory.intrinsic+json": {
              "type": "string"
            }
          },
          "metadata": {},
          "execution_count": 396
        }
      ],
      "source": [
        "'''1. Data Analysis:\n",
        "a. Import the dataset\n",
        "b. Get information about the dataset (mean, max, min, quartiles etc.)\n",
        "c. Find the correlation between all fields'''"
      ]
    },
    {
      "cell_type": "code",
      "source": [
        "import pandas as pd\n",
        "import numpy as np\n",
        "import matplotlib.pyplot as plt\n",
        "import seaborn as sns"
      ],
      "metadata": {
        "id": "N2A-j6NNI5mq"
      },
      "execution_count": 397,
      "outputs": []
    },
    {
      "cell_type": "code",
      "source": [
        "data=pd.read_csv('/content/dataset.csv')"
      ],
      "metadata": {
        "id": "H1pn_dv-HF3l"
      },
      "execution_count": 398,
      "outputs": []
    },
    {
      "cell_type": "code",
      "source": [
        "data.head()"
      ],
      "metadata": {
        "colab": {
          "base_uri": "https://localhost:8080/",
          "height": 206
        },
        "id": "Eq429Mv-HJGE",
        "outputId": "302d38fb-2554-4002-961a-ea9fb0d9a499"
      },
      "execution_count": 399,
      "outputs": [
        {
          "output_type": "execute_result",
          "data": {
            "text/plain": [
              "   age  sex  cp  trestbps  chol  fbs  restecg  thalach  exang  oldpeak  slope  \\\n",
              "0   63    1   3       145   233    1        0      150      0      2.3      0   \n",
              "1   37    1   2       130   250    0        1      187      0      3.5      0   \n",
              "2   41    0   1       130   204    0        0      172      0      1.4      2   \n",
              "3   56    1   1       120   236    0        1      178      0      0.8      2   \n",
              "4   57    0   0       120   354    0        1      163      1      0.6      2   \n",
              "\n",
              "   ca  thal  target  \n",
              "0   0     1       1  \n",
              "1   0     2       1  \n",
              "2   0     2       1  \n",
              "3   0     2       1  \n",
              "4   0     2       1  "
            ],
            "text/html": [
              "\n",
              "  <div id=\"df-9aa4cc91-71c4-4320-b519-23440c97c137\" class=\"colab-df-container\">\n",
              "    <div>\n",
              "<style scoped>\n",
              "    .dataframe tbody tr th:only-of-type {\n",
              "        vertical-align: middle;\n",
              "    }\n",
              "\n",
              "    .dataframe tbody tr th {\n",
              "        vertical-align: top;\n",
              "    }\n",
              "\n",
              "    .dataframe thead th {\n",
              "        text-align: right;\n",
              "    }\n",
              "</style>\n",
              "<table border=\"1\" class=\"dataframe\">\n",
              "  <thead>\n",
              "    <tr style=\"text-align: right;\">\n",
              "      <th></th>\n",
              "      <th>age</th>\n",
              "      <th>sex</th>\n",
              "      <th>cp</th>\n",
              "      <th>trestbps</th>\n",
              "      <th>chol</th>\n",
              "      <th>fbs</th>\n",
              "      <th>restecg</th>\n",
              "      <th>thalach</th>\n",
              "      <th>exang</th>\n",
              "      <th>oldpeak</th>\n",
              "      <th>slope</th>\n",
              "      <th>ca</th>\n",
              "      <th>thal</th>\n",
              "      <th>target</th>\n",
              "    </tr>\n",
              "  </thead>\n",
              "  <tbody>\n",
              "    <tr>\n",
              "      <th>0</th>\n",
              "      <td>63</td>\n",
              "      <td>1</td>\n",
              "      <td>3</td>\n",
              "      <td>145</td>\n",
              "      <td>233</td>\n",
              "      <td>1</td>\n",
              "      <td>0</td>\n",
              "      <td>150</td>\n",
              "      <td>0</td>\n",
              "      <td>2.3</td>\n",
              "      <td>0</td>\n",
              "      <td>0</td>\n",
              "      <td>1</td>\n",
              "      <td>1</td>\n",
              "    </tr>\n",
              "    <tr>\n",
              "      <th>1</th>\n",
              "      <td>37</td>\n",
              "      <td>1</td>\n",
              "      <td>2</td>\n",
              "      <td>130</td>\n",
              "      <td>250</td>\n",
              "      <td>0</td>\n",
              "      <td>1</td>\n",
              "      <td>187</td>\n",
              "      <td>0</td>\n",
              "      <td>3.5</td>\n",
              "      <td>0</td>\n",
              "      <td>0</td>\n",
              "      <td>2</td>\n",
              "      <td>1</td>\n",
              "    </tr>\n",
              "    <tr>\n",
              "      <th>2</th>\n",
              "      <td>41</td>\n",
              "      <td>0</td>\n",
              "      <td>1</td>\n",
              "      <td>130</td>\n",
              "      <td>204</td>\n",
              "      <td>0</td>\n",
              "      <td>0</td>\n",
              "      <td>172</td>\n",
              "      <td>0</td>\n",
              "      <td>1.4</td>\n",
              "      <td>2</td>\n",
              "      <td>0</td>\n",
              "      <td>2</td>\n",
              "      <td>1</td>\n",
              "    </tr>\n",
              "    <tr>\n",
              "      <th>3</th>\n",
              "      <td>56</td>\n",
              "      <td>1</td>\n",
              "      <td>1</td>\n",
              "      <td>120</td>\n",
              "      <td>236</td>\n",
              "      <td>0</td>\n",
              "      <td>1</td>\n",
              "      <td>178</td>\n",
              "      <td>0</td>\n",
              "      <td>0.8</td>\n",
              "      <td>2</td>\n",
              "      <td>0</td>\n",
              "      <td>2</td>\n",
              "      <td>1</td>\n",
              "    </tr>\n",
              "    <tr>\n",
              "      <th>4</th>\n",
              "      <td>57</td>\n",
              "      <td>0</td>\n",
              "      <td>0</td>\n",
              "      <td>120</td>\n",
              "      <td>354</td>\n",
              "      <td>0</td>\n",
              "      <td>1</td>\n",
              "      <td>163</td>\n",
              "      <td>1</td>\n",
              "      <td>0.6</td>\n",
              "      <td>2</td>\n",
              "      <td>0</td>\n",
              "      <td>2</td>\n",
              "      <td>1</td>\n",
              "    </tr>\n",
              "  </tbody>\n",
              "</table>\n",
              "</div>\n",
              "    <div class=\"colab-df-buttons\">\n",
              "\n",
              "  <div class=\"colab-df-container\">\n",
              "    <button class=\"colab-df-convert\" onclick=\"convertToInteractive('df-9aa4cc91-71c4-4320-b519-23440c97c137')\"\n",
              "            title=\"Convert this dataframe to an interactive table.\"\n",
              "            style=\"display:none;\">\n",
              "\n",
              "  <svg xmlns=\"http://www.w3.org/2000/svg\" height=\"24px\" viewBox=\"0 -960 960 960\">\n",
              "    <path d=\"M120-120v-720h720v720H120Zm60-500h600v-160H180v160Zm220 220h160v-160H400v160Zm0 220h160v-160H400v160ZM180-400h160v-160H180v160Zm440 0h160v-160H620v160ZM180-180h160v-160H180v160Zm440 0h160v-160H620v160Z\"/>\n",
              "  </svg>\n",
              "    </button>\n",
              "\n",
              "  <style>\n",
              "    .colab-df-container {\n",
              "      display:flex;\n",
              "      gap: 12px;\n",
              "    }\n",
              "\n",
              "    .colab-df-convert {\n",
              "      background-color: #E8F0FE;\n",
              "      border: none;\n",
              "      border-radius: 50%;\n",
              "      cursor: pointer;\n",
              "      display: none;\n",
              "      fill: #1967D2;\n",
              "      height: 32px;\n",
              "      padding: 0 0 0 0;\n",
              "      width: 32px;\n",
              "    }\n",
              "\n",
              "    .colab-df-convert:hover {\n",
              "      background-color: #E2EBFA;\n",
              "      box-shadow: 0px 1px 2px rgba(60, 64, 67, 0.3), 0px 1px 3px 1px rgba(60, 64, 67, 0.15);\n",
              "      fill: #174EA6;\n",
              "    }\n",
              "\n",
              "    .colab-df-buttons div {\n",
              "      margin-bottom: 4px;\n",
              "    }\n",
              "\n",
              "    [theme=dark] .colab-df-convert {\n",
              "      background-color: #3B4455;\n",
              "      fill: #D2E3FC;\n",
              "    }\n",
              "\n",
              "    [theme=dark] .colab-df-convert:hover {\n",
              "      background-color: #434B5C;\n",
              "      box-shadow: 0px 1px 3px 1px rgba(0, 0, 0, 0.15);\n",
              "      filter: drop-shadow(0px 1px 2px rgba(0, 0, 0, 0.3));\n",
              "      fill: #FFFFFF;\n",
              "    }\n",
              "  </style>\n",
              "\n",
              "    <script>\n",
              "      const buttonEl =\n",
              "        document.querySelector('#df-9aa4cc91-71c4-4320-b519-23440c97c137 button.colab-df-convert');\n",
              "      buttonEl.style.display =\n",
              "        google.colab.kernel.accessAllowed ? 'block' : 'none';\n",
              "\n",
              "      async function convertToInteractive(key) {\n",
              "        const element = document.querySelector('#df-9aa4cc91-71c4-4320-b519-23440c97c137');\n",
              "        const dataTable =\n",
              "          await google.colab.kernel.invokeFunction('convertToInteractive',\n",
              "                                                    [key], {});\n",
              "        if (!dataTable) return;\n",
              "\n",
              "        const docLinkHtml = 'Like what you see? Visit the ' +\n",
              "          '<a target=\"_blank\" href=https://colab.research.google.com/notebooks/data_table.ipynb>data table notebook</a>'\n",
              "          + ' to learn more about interactive tables.';\n",
              "        element.innerHTML = '';\n",
              "        dataTable['output_type'] = 'display_data';\n",
              "        await google.colab.output.renderOutput(dataTable, element);\n",
              "        const docLink = document.createElement('div');\n",
              "        docLink.innerHTML = docLinkHtml;\n",
              "        element.appendChild(docLink);\n",
              "      }\n",
              "    </script>\n",
              "  </div>\n",
              "\n",
              "\n",
              "<div id=\"df-7b5aaf29-035c-4a96-9646-30b51118f861\">\n",
              "  <button class=\"colab-df-quickchart\" onclick=\"quickchart('df-7b5aaf29-035c-4a96-9646-30b51118f861')\"\n",
              "            title=\"Suggest charts.\"\n",
              "            style=\"display:none;\">\n",
              "\n",
              "<svg xmlns=\"http://www.w3.org/2000/svg\" height=\"24px\"viewBox=\"0 0 24 24\"\n",
              "     width=\"24px\">\n",
              "    <g>\n",
              "        <path d=\"M19 3H5c-1.1 0-2 .9-2 2v14c0 1.1.9 2 2 2h14c1.1 0 2-.9 2-2V5c0-1.1-.9-2-2-2zM9 17H7v-7h2v7zm4 0h-2V7h2v10zm4 0h-2v-4h2v4z\"/>\n",
              "    </g>\n",
              "</svg>\n",
              "  </button>\n",
              "\n",
              "<style>\n",
              "  .colab-df-quickchart {\n",
              "      --bg-color: #E8F0FE;\n",
              "      --fill-color: #1967D2;\n",
              "      --hover-bg-color: #E2EBFA;\n",
              "      --hover-fill-color: #174EA6;\n",
              "      --disabled-fill-color: #AAA;\n",
              "      --disabled-bg-color: #DDD;\n",
              "  }\n",
              "\n",
              "  [theme=dark] .colab-df-quickchart {\n",
              "      --bg-color: #3B4455;\n",
              "      --fill-color: #D2E3FC;\n",
              "      --hover-bg-color: #434B5C;\n",
              "      --hover-fill-color: #FFFFFF;\n",
              "      --disabled-bg-color: #3B4455;\n",
              "      --disabled-fill-color: #666;\n",
              "  }\n",
              "\n",
              "  .colab-df-quickchart {\n",
              "    background-color: var(--bg-color);\n",
              "    border: none;\n",
              "    border-radius: 50%;\n",
              "    cursor: pointer;\n",
              "    display: none;\n",
              "    fill: var(--fill-color);\n",
              "    height: 32px;\n",
              "    padding: 0;\n",
              "    width: 32px;\n",
              "  }\n",
              "\n",
              "  .colab-df-quickchart:hover {\n",
              "    background-color: var(--hover-bg-color);\n",
              "    box-shadow: 0 1px 2px rgba(60, 64, 67, 0.3), 0 1px 3px 1px rgba(60, 64, 67, 0.15);\n",
              "    fill: var(--button-hover-fill-color);\n",
              "  }\n",
              "\n",
              "  .colab-df-quickchart-complete:disabled,\n",
              "  .colab-df-quickchart-complete:disabled:hover {\n",
              "    background-color: var(--disabled-bg-color);\n",
              "    fill: var(--disabled-fill-color);\n",
              "    box-shadow: none;\n",
              "  }\n",
              "\n",
              "  .colab-df-spinner {\n",
              "    border: 2px solid var(--fill-color);\n",
              "    border-color: transparent;\n",
              "    border-bottom-color: var(--fill-color);\n",
              "    animation:\n",
              "      spin 1s steps(1) infinite;\n",
              "  }\n",
              "\n",
              "  @keyframes spin {\n",
              "    0% {\n",
              "      border-color: transparent;\n",
              "      border-bottom-color: var(--fill-color);\n",
              "      border-left-color: var(--fill-color);\n",
              "    }\n",
              "    20% {\n",
              "      border-color: transparent;\n",
              "      border-left-color: var(--fill-color);\n",
              "      border-top-color: var(--fill-color);\n",
              "    }\n",
              "    30% {\n",
              "      border-color: transparent;\n",
              "      border-left-color: var(--fill-color);\n",
              "      border-top-color: var(--fill-color);\n",
              "      border-right-color: var(--fill-color);\n",
              "    }\n",
              "    40% {\n",
              "      border-color: transparent;\n",
              "      border-right-color: var(--fill-color);\n",
              "      border-top-color: var(--fill-color);\n",
              "    }\n",
              "    60% {\n",
              "      border-color: transparent;\n",
              "      border-right-color: var(--fill-color);\n",
              "    }\n",
              "    80% {\n",
              "      border-color: transparent;\n",
              "      border-right-color: var(--fill-color);\n",
              "      border-bottom-color: var(--fill-color);\n",
              "    }\n",
              "    90% {\n",
              "      border-color: transparent;\n",
              "      border-bottom-color: var(--fill-color);\n",
              "    }\n",
              "  }\n",
              "</style>\n",
              "\n",
              "  <script>\n",
              "    async function quickchart(key) {\n",
              "      const quickchartButtonEl =\n",
              "        document.querySelector('#' + key + ' button');\n",
              "      quickchartButtonEl.disabled = true;  // To prevent multiple clicks.\n",
              "      quickchartButtonEl.classList.add('colab-df-spinner');\n",
              "      try {\n",
              "        const charts = await google.colab.kernel.invokeFunction(\n",
              "            'suggestCharts', [key], {});\n",
              "      } catch (error) {\n",
              "        console.error('Error during call to suggestCharts:', error);\n",
              "      }\n",
              "      quickchartButtonEl.classList.remove('colab-df-spinner');\n",
              "      quickchartButtonEl.classList.add('colab-df-quickchart-complete');\n",
              "    }\n",
              "    (() => {\n",
              "      let quickchartButtonEl =\n",
              "        document.querySelector('#df-7b5aaf29-035c-4a96-9646-30b51118f861 button');\n",
              "      quickchartButtonEl.style.display =\n",
              "        google.colab.kernel.accessAllowed ? 'block' : 'none';\n",
              "    })();\n",
              "  </script>\n",
              "</div>\n",
              "    </div>\n",
              "  </div>\n"
            ]
          },
          "metadata": {},
          "execution_count": 399
        }
      ]
    },
    {
      "cell_type": "code",
      "source": [
        "data.tail()"
      ],
      "metadata": {
        "colab": {
          "base_uri": "https://localhost:8080/",
          "height": 206
        },
        "id": "bnQIIt-UHSm_",
        "outputId": "f6b1d971-b0a1-4b5b-a841-941b8ccfa364"
      },
      "execution_count": 400,
      "outputs": [
        {
          "output_type": "execute_result",
          "data": {
            "text/plain": [
              "     age  sex  cp  trestbps  chol  fbs  restecg  thalach  exang  oldpeak  \\\n",
              "298   57    0   0       140   241    0        1      123      1      0.2   \n",
              "299   45    1   3       110   264    0        1      132      0      1.2   \n",
              "300   68    1   0       144   193    1        1      141      0      3.4   \n",
              "301   57    1   0       130   131    0        1      115      1      1.2   \n",
              "302   57    0   1       130   236    0        0      174      0      0.0   \n",
              "\n",
              "     slope  ca  thal  target  \n",
              "298      1   0     3       0  \n",
              "299      1   0     3       0  \n",
              "300      1   2     3       0  \n",
              "301      1   1     3       0  \n",
              "302      1   1     2       0  "
            ],
            "text/html": [
              "\n",
              "  <div id=\"df-669c49d1-b436-43a8-99eb-3e69c4e985d5\" class=\"colab-df-container\">\n",
              "    <div>\n",
              "<style scoped>\n",
              "    .dataframe tbody tr th:only-of-type {\n",
              "        vertical-align: middle;\n",
              "    }\n",
              "\n",
              "    .dataframe tbody tr th {\n",
              "        vertical-align: top;\n",
              "    }\n",
              "\n",
              "    .dataframe thead th {\n",
              "        text-align: right;\n",
              "    }\n",
              "</style>\n",
              "<table border=\"1\" class=\"dataframe\">\n",
              "  <thead>\n",
              "    <tr style=\"text-align: right;\">\n",
              "      <th></th>\n",
              "      <th>age</th>\n",
              "      <th>sex</th>\n",
              "      <th>cp</th>\n",
              "      <th>trestbps</th>\n",
              "      <th>chol</th>\n",
              "      <th>fbs</th>\n",
              "      <th>restecg</th>\n",
              "      <th>thalach</th>\n",
              "      <th>exang</th>\n",
              "      <th>oldpeak</th>\n",
              "      <th>slope</th>\n",
              "      <th>ca</th>\n",
              "      <th>thal</th>\n",
              "      <th>target</th>\n",
              "    </tr>\n",
              "  </thead>\n",
              "  <tbody>\n",
              "    <tr>\n",
              "      <th>298</th>\n",
              "      <td>57</td>\n",
              "      <td>0</td>\n",
              "      <td>0</td>\n",
              "      <td>140</td>\n",
              "      <td>241</td>\n",
              "      <td>0</td>\n",
              "      <td>1</td>\n",
              "      <td>123</td>\n",
              "      <td>1</td>\n",
              "      <td>0.2</td>\n",
              "      <td>1</td>\n",
              "      <td>0</td>\n",
              "      <td>3</td>\n",
              "      <td>0</td>\n",
              "    </tr>\n",
              "    <tr>\n",
              "      <th>299</th>\n",
              "      <td>45</td>\n",
              "      <td>1</td>\n",
              "      <td>3</td>\n",
              "      <td>110</td>\n",
              "      <td>264</td>\n",
              "      <td>0</td>\n",
              "      <td>1</td>\n",
              "      <td>132</td>\n",
              "      <td>0</td>\n",
              "      <td>1.2</td>\n",
              "      <td>1</td>\n",
              "      <td>0</td>\n",
              "      <td>3</td>\n",
              "      <td>0</td>\n",
              "    </tr>\n",
              "    <tr>\n",
              "      <th>300</th>\n",
              "      <td>68</td>\n",
              "      <td>1</td>\n",
              "      <td>0</td>\n",
              "      <td>144</td>\n",
              "      <td>193</td>\n",
              "      <td>1</td>\n",
              "      <td>1</td>\n",
              "      <td>141</td>\n",
              "      <td>0</td>\n",
              "      <td>3.4</td>\n",
              "      <td>1</td>\n",
              "      <td>2</td>\n",
              "      <td>3</td>\n",
              "      <td>0</td>\n",
              "    </tr>\n",
              "    <tr>\n",
              "      <th>301</th>\n",
              "      <td>57</td>\n",
              "      <td>1</td>\n",
              "      <td>0</td>\n",
              "      <td>130</td>\n",
              "      <td>131</td>\n",
              "      <td>0</td>\n",
              "      <td>1</td>\n",
              "      <td>115</td>\n",
              "      <td>1</td>\n",
              "      <td>1.2</td>\n",
              "      <td>1</td>\n",
              "      <td>1</td>\n",
              "      <td>3</td>\n",
              "      <td>0</td>\n",
              "    </tr>\n",
              "    <tr>\n",
              "      <th>302</th>\n",
              "      <td>57</td>\n",
              "      <td>0</td>\n",
              "      <td>1</td>\n",
              "      <td>130</td>\n",
              "      <td>236</td>\n",
              "      <td>0</td>\n",
              "      <td>0</td>\n",
              "      <td>174</td>\n",
              "      <td>0</td>\n",
              "      <td>0.0</td>\n",
              "      <td>1</td>\n",
              "      <td>1</td>\n",
              "      <td>2</td>\n",
              "      <td>0</td>\n",
              "    </tr>\n",
              "  </tbody>\n",
              "</table>\n",
              "</div>\n",
              "    <div class=\"colab-df-buttons\">\n",
              "\n",
              "  <div class=\"colab-df-container\">\n",
              "    <button class=\"colab-df-convert\" onclick=\"convertToInteractive('df-669c49d1-b436-43a8-99eb-3e69c4e985d5')\"\n",
              "            title=\"Convert this dataframe to an interactive table.\"\n",
              "            style=\"display:none;\">\n",
              "\n",
              "  <svg xmlns=\"http://www.w3.org/2000/svg\" height=\"24px\" viewBox=\"0 -960 960 960\">\n",
              "    <path d=\"M120-120v-720h720v720H120Zm60-500h600v-160H180v160Zm220 220h160v-160H400v160Zm0 220h160v-160H400v160ZM180-400h160v-160H180v160Zm440 0h160v-160H620v160ZM180-180h160v-160H180v160Zm440 0h160v-160H620v160Z\"/>\n",
              "  </svg>\n",
              "    </button>\n",
              "\n",
              "  <style>\n",
              "    .colab-df-container {\n",
              "      display:flex;\n",
              "      gap: 12px;\n",
              "    }\n",
              "\n",
              "    .colab-df-convert {\n",
              "      background-color: #E8F0FE;\n",
              "      border: none;\n",
              "      border-radius: 50%;\n",
              "      cursor: pointer;\n",
              "      display: none;\n",
              "      fill: #1967D2;\n",
              "      height: 32px;\n",
              "      padding: 0 0 0 0;\n",
              "      width: 32px;\n",
              "    }\n",
              "\n",
              "    .colab-df-convert:hover {\n",
              "      background-color: #E2EBFA;\n",
              "      box-shadow: 0px 1px 2px rgba(60, 64, 67, 0.3), 0px 1px 3px 1px rgba(60, 64, 67, 0.15);\n",
              "      fill: #174EA6;\n",
              "    }\n",
              "\n",
              "    .colab-df-buttons div {\n",
              "      margin-bottom: 4px;\n",
              "    }\n",
              "\n",
              "    [theme=dark] .colab-df-convert {\n",
              "      background-color: #3B4455;\n",
              "      fill: #D2E3FC;\n",
              "    }\n",
              "\n",
              "    [theme=dark] .colab-df-convert:hover {\n",
              "      background-color: #434B5C;\n",
              "      box-shadow: 0px 1px 3px 1px rgba(0, 0, 0, 0.15);\n",
              "      filter: drop-shadow(0px 1px 2px rgba(0, 0, 0, 0.3));\n",
              "      fill: #FFFFFF;\n",
              "    }\n",
              "  </style>\n",
              "\n",
              "    <script>\n",
              "      const buttonEl =\n",
              "        document.querySelector('#df-669c49d1-b436-43a8-99eb-3e69c4e985d5 button.colab-df-convert');\n",
              "      buttonEl.style.display =\n",
              "        google.colab.kernel.accessAllowed ? 'block' : 'none';\n",
              "\n",
              "      async function convertToInteractive(key) {\n",
              "        const element = document.querySelector('#df-669c49d1-b436-43a8-99eb-3e69c4e985d5');\n",
              "        const dataTable =\n",
              "          await google.colab.kernel.invokeFunction('convertToInteractive',\n",
              "                                                    [key], {});\n",
              "        if (!dataTable) return;\n",
              "\n",
              "        const docLinkHtml = 'Like what you see? Visit the ' +\n",
              "          '<a target=\"_blank\" href=https://colab.research.google.com/notebooks/data_table.ipynb>data table notebook</a>'\n",
              "          + ' to learn more about interactive tables.';\n",
              "        element.innerHTML = '';\n",
              "        dataTable['output_type'] = 'display_data';\n",
              "        await google.colab.output.renderOutput(dataTable, element);\n",
              "        const docLink = document.createElement('div');\n",
              "        docLink.innerHTML = docLinkHtml;\n",
              "        element.appendChild(docLink);\n",
              "      }\n",
              "    </script>\n",
              "  </div>\n",
              "\n",
              "\n",
              "<div id=\"df-f946df0c-dd5c-4cad-aa50-c80a73f2dbe4\">\n",
              "  <button class=\"colab-df-quickchart\" onclick=\"quickchart('df-f946df0c-dd5c-4cad-aa50-c80a73f2dbe4')\"\n",
              "            title=\"Suggest charts.\"\n",
              "            style=\"display:none;\">\n",
              "\n",
              "<svg xmlns=\"http://www.w3.org/2000/svg\" height=\"24px\"viewBox=\"0 0 24 24\"\n",
              "     width=\"24px\">\n",
              "    <g>\n",
              "        <path d=\"M19 3H5c-1.1 0-2 .9-2 2v14c0 1.1.9 2 2 2h14c1.1 0 2-.9 2-2V5c0-1.1-.9-2-2-2zM9 17H7v-7h2v7zm4 0h-2V7h2v10zm4 0h-2v-4h2v4z\"/>\n",
              "    </g>\n",
              "</svg>\n",
              "  </button>\n",
              "\n",
              "<style>\n",
              "  .colab-df-quickchart {\n",
              "      --bg-color: #E8F0FE;\n",
              "      --fill-color: #1967D2;\n",
              "      --hover-bg-color: #E2EBFA;\n",
              "      --hover-fill-color: #174EA6;\n",
              "      --disabled-fill-color: #AAA;\n",
              "      --disabled-bg-color: #DDD;\n",
              "  }\n",
              "\n",
              "  [theme=dark] .colab-df-quickchart {\n",
              "      --bg-color: #3B4455;\n",
              "      --fill-color: #D2E3FC;\n",
              "      --hover-bg-color: #434B5C;\n",
              "      --hover-fill-color: #FFFFFF;\n",
              "      --disabled-bg-color: #3B4455;\n",
              "      --disabled-fill-color: #666;\n",
              "  }\n",
              "\n",
              "  .colab-df-quickchart {\n",
              "    background-color: var(--bg-color);\n",
              "    border: none;\n",
              "    border-radius: 50%;\n",
              "    cursor: pointer;\n",
              "    display: none;\n",
              "    fill: var(--fill-color);\n",
              "    height: 32px;\n",
              "    padding: 0;\n",
              "    width: 32px;\n",
              "  }\n",
              "\n",
              "  .colab-df-quickchart:hover {\n",
              "    background-color: var(--hover-bg-color);\n",
              "    box-shadow: 0 1px 2px rgba(60, 64, 67, 0.3), 0 1px 3px 1px rgba(60, 64, 67, 0.15);\n",
              "    fill: var(--button-hover-fill-color);\n",
              "  }\n",
              "\n",
              "  .colab-df-quickchart-complete:disabled,\n",
              "  .colab-df-quickchart-complete:disabled:hover {\n",
              "    background-color: var(--disabled-bg-color);\n",
              "    fill: var(--disabled-fill-color);\n",
              "    box-shadow: none;\n",
              "  }\n",
              "\n",
              "  .colab-df-spinner {\n",
              "    border: 2px solid var(--fill-color);\n",
              "    border-color: transparent;\n",
              "    border-bottom-color: var(--fill-color);\n",
              "    animation:\n",
              "      spin 1s steps(1) infinite;\n",
              "  }\n",
              "\n",
              "  @keyframes spin {\n",
              "    0% {\n",
              "      border-color: transparent;\n",
              "      border-bottom-color: var(--fill-color);\n",
              "      border-left-color: var(--fill-color);\n",
              "    }\n",
              "    20% {\n",
              "      border-color: transparent;\n",
              "      border-left-color: var(--fill-color);\n",
              "      border-top-color: var(--fill-color);\n",
              "    }\n",
              "    30% {\n",
              "      border-color: transparent;\n",
              "      border-left-color: var(--fill-color);\n",
              "      border-top-color: var(--fill-color);\n",
              "      border-right-color: var(--fill-color);\n",
              "    }\n",
              "    40% {\n",
              "      border-color: transparent;\n",
              "      border-right-color: var(--fill-color);\n",
              "      border-top-color: var(--fill-color);\n",
              "    }\n",
              "    60% {\n",
              "      border-color: transparent;\n",
              "      border-right-color: var(--fill-color);\n",
              "    }\n",
              "    80% {\n",
              "      border-color: transparent;\n",
              "      border-right-color: var(--fill-color);\n",
              "      border-bottom-color: var(--fill-color);\n",
              "    }\n",
              "    90% {\n",
              "      border-color: transparent;\n",
              "      border-bottom-color: var(--fill-color);\n",
              "    }\n",
              "  }\n",
              "</style>\n",
              "\n",
              "  <script>\n",
              "    async function quickchart(key) {\n",
              "      const quickchartButtonEl =\n",
              "        document.querySelector('#' + key + ' button');\n",
              "      quickchartButtonEl.disabled = true;  // To prevent multiple clicks.\n",
              "      quickchartButtonEl.classList.add('colab-df-spinner');\n",
              "      try {\n",
              "        const charts = await google.colab.kernel.invokeFunction(\n",
              "            'suggestCharts', [key], {});\n",
              "      } catch (error) {\n",
              "        console.error('Error during call to suggestCharts:', error);\n",
              "      }\n",
              "      quickchartButtonEl.classList.remove('colab-df-spinner');\n",
              "      quickchartButtonEl.classList.add('colab-df-quickchart-complete');\n",
              "    }\n",
              "    (() => {\n",
              "      let quickchartButtonEl =\n",
              "        document.querySelector('#df-f946df0c-dd5c-4cad-aa50-c80a73f2dbe4 button');\n",
              "      quickchartButtonEl.style.display =\n",
              "        google.colab.kernel.accessAllowed ? 'block' : 'none';\n",
              "    })();\n",
              "  </script>\n",
              "</div>\n",
              "    </div>\n",
              "  </div>\n"
            ]
          },
          "metadata": {},
          "execution_count": 400
        }
      ]
    },
    {
      "cell_type": "code",
      "source": [
        "data.isna().sum()"
      ],
      "metadata": {
        "colab": {
          "base_uri": "https://localhost:8080/"
        },
        "id": "w1-kdF3QHVmv",
        "outputId": "e0704756-1ff8-4094-f456-b045ac953ff2"
      },
      "execution_count": 401,
      "outputs": [
        {
          "output_type": "execute_result",
          "data": {
            "text/plain": [
              "age         0\n",
              "sex         0\n",
              "cp          0\n",
              "trestbps    0\n",
              "chol        0\n",
              "fbs         0\n",
              "restecg     0\n",
              "thalach     0\n",
              "exang       0\n",
              "oldpeak     0\n",
              "slope       0\n",
              "ca          0\n",
              "thal        0\n",
              "target      0\n",
              "dtype: int64"
            ]
          },
          "metadata": {},
          "execution_count": 401
        }
      ]
    },
    {
      "cell_type": "code",
      "source": [
        "data.duplicated().sum()"
      ],
      "metadata": {
        "colab": {
          "base_uri": "https://localhost:8080/"
        },
        "id": "ai_IxFSqHqEl",
        "outputId": "c0185543-183a-4f81-f028-8e4893ecd97f"
      },
      "execution_count": 402,
      "outputs": [
        {
          "output_type": "execute_result",
          "data": {
            "text/plain": [
              "1"
            ]
          },
          "metadata": {},
          "execution_count": 402
        }
      ]
    },
    {
      "cell_type": "code",
      "source": [
        "data.drop_duplicates(inplace=True)"
      ],
      "metadata": {
        "id": "wdR_TY8XHtOl"
      },
      "execution_count": 403,
      "outputs": []
    },
    {
      "cell_type": "code",
      "source": [
        "data.duplicated().sum()"
      ],
      "metadata": {
        "colab": {
          "base_uri": "https://localhost:8080/"
        },
        "id": "4rUZ1dSiHyct",
        "outputId": "1ee27357-e1f3-4fa3-e71c-c7bf0c5e6268"
      },
      "execution_count": 404,
      "outputs": [
        {
          "output_type": "execute_result",
          "data": {
            "text/plain": [
              "0"
            ]
          },
          "metadata": {},
          "execution_count": 404
        }
      ]
    },
    {
      "cell_type": "code",
      "source": [
        "data.info()"
      ],
      "metadata": {
        "colab": {
          "base_uri": "https://localhost:8080/"
        },
        "id": "BItPE65CH0pU",
        "outputId": "f1f48593-a2a7-45f5-a1fc-62cc7f0d3ba5"
      },
      "execution_count": 405,
      "outputs": [
        {
          "output_type": "stream",
          "name": "stdout",
          "text": [
            "<class 'pandas.core.frame.DataFrame'>\n",
            "Int64Index: 302 entries, 0 to 302\n",
            "Data columns (total 14 columns):\n",
            " #   Column    Non-Null Count  Dtype  \n",
            "---  ------    --------------  -----  \n",
            " 0   age       302 non-null    int64  \n",
            " 1   sex       302 non-null    int64  \n",
            " 2   cp        302 non-null    int64  \n",
            " 3   trestbps  302 non-null    int64  \n",
            " 4   chol      302 non-null    int64  \n",
            " 5   fbs       302 non-null    int64  \n",
            " 6   restecg   302 non-null    int64  \n",
            " 7   thalach   302 non-null    int64  \n",
            " 8   exang     302 non-null    int64  \n",
            " 9   oldpeak   302 non-null    float64\n",
            " 10  slope     302 non-null    int64  \n",
            " 11  ca        302 non-null    int64  \n",
            " 12  thal      302 non-null    int64  \n",
            " 13  target    302 non-null    int64  \n",
            "dtypes: float64(1), int64(13)\n",
            "memory usage: 35.4 KB\n"
          ]
        }
      ]
    },
    {
      "cell_type": "code",
      "source": [
        "data.describe()"
      ],
      "metadata": {
        "colab": {
          "base_uri": "https://localhost:8080/",
          "height": 320
        },
        "id": "zdddif3jH34l",
        "outputId": "ba7c9b08-b13d-42ff-c35a-4b21ec2594d0"
      },
      "execution_count": 406,
      "outputs": [
        {
          "output_type": "execute_result",
          "data": {
            "text/plain": [
              "             age         sex          cp    trestbps        chol         fbs  \\\n",
              "count  302.00000  302.000000  302.000000  302.000000  302.000000  302.000000   \n",
              "mean    54.42053    0.682119    0.963576  131.602649  246.500000    0.149007   \n",
              "std      9.04797    0.466426    1.032044   17.563394   51.753489    0.356686   \n",
              "min     29.00000    0.000000    0.000000   94.000000  126.000000    0.000000   \n",
              "25%     48.00000    0.000000    0.000000  120.000000  211.000000    0.000000   \n",
              "50%     55.50000    1.000000    1.000000  130.000000  240.500000    0.000000   \n",
              "75%     61.00000    1.000000    2.000000  140.000000  274.750000    0.000000   \n",
              "max     77.00000    1.000000    3.000000  200.000000  564.000000    1.000000   \n",
              "\n",
              "          restecg     thalach       exang     oldpeak       slope          ca  \\\n",
              "count  302.000000  302.000000  302.000000  302.000000  302.000000  302.000000   \n",
              "mean     0.526490  149.569536    0.327815    1.043046    1.397351    0.718543   \n",
              "std      0.526027   22.903527    0.470196    1.161452    0.616274    1.006748   \n",
              "min      0.000000   71.000000    0.000000    0.000000    0.000000    0.000000   \n",
              "25%      0.000000  133.250000    0.000000    0.000000    1.000000    0.000000   \n",
              "50%      1.000000  152.500000    0.000000    0.800000    1.000000    0.000000   \n",
              "75%      1.000000  166.000000    1.000000    1.600000    2.000000    1.000000   \n",
              "max      2.000000  202.000000    1.000000    6.200000    2.000000    4.000000   \n",
              "\n",
              "             thal      target  \n",
              "count  302.000000  302.000000  \n",
              "mean     2.314570    0.543046  \n",
              "std      0.613026    0.498970  \n",
              "min      0.000000    0.000000  \n",
              "25%      2.000000    0.000000  \n",
              "50%      2.000000    1.000000  \n",
              "75%      3.000000    1.000000  \n",
              "max      3.000000    1.000000  "
            ],
            "text/html": [
              "\n",
              "  <div id=\"df-fa9348e0-8c72-467f-af3b-c367b81cfc68\" class=\"colab-df-container\">\n",
              "    <div>\n",
              "<style scoped>\n",
              "    .dataframe tbody tr th:only-of-type {\n",
              "        vertical-align: middle;\n",
              "    }\n",
              "\n",
              "    .dataframe tbody tr th {\n",
              "        vertical-align: top;\n",
              "    }\n",
              "\n",
              "    .dataframe thead th {\n",
              "        text-align: right;\n",
              "    }\n",
              "</style>\n",
              "<table border=\"1\" class=\"dataframe\">\n",
              "  <thead>\n",
              "    <tr style=\"text-align: right;\">\n",
              "      <th></th>\n",
              "      <th>age</th>\n",
              "      <th>sex</th>\n",
              "      <th>cp</th>\n",
              "      <th>trestbps</th>\n",
              "      <th>chol</th>\n",
              "      <th>fbs</th>\n",
              "      <th>restecg</th>\n",
              "      <th>thalach</th>\n",
              "      <th>exang</th>\n",
              "      <th>oldpeak</th>\n",
              "      <th>slope</th>\n",
              "      <th>ca</th>\n",
              "      <th>thal</th>\n",
              "      <th>target</th>\n",
              "    </tr>\n",
              "  </thead>\n",
              "  <tbody>\n",
              "    <tr>\n",
              "      <th>count</th>\n",
              "      <td>302.00000</td>\n",
              "      <td>302.000000</td>\n",
              "      <td>302.000000</td>\n",
              "      <td>302.000000</td>\n",
              "      <td>302.000000</td>\n",
              "      <td>302.000000</td>\n",
              "      <td>302.000000</td>\n",
              "      <td>302.000000</td>\n",
              "      <td>302.000000</td>\n",
              "      <td>302.000000</td>\n",
              "      <td>302.000000</td>\n",
              "      <td>302.000000</td>\n",
              "      <td>302.000000</td>\n",
              "      <td>302.000000</td>\n",
              "    </tr>\n",
              "    <tr>\n",
              "      <th>mean</th>\n",
              "      <td>54.42053</td>\n",
              "      <td>0.682119</td>\n",
              "      <td>0.963576</td>\n",
              "      <td>131.602649</td>\n",
              "      <td>246.500000</td>\n",
              "      <td>0.149007</td>\n",
              "      <td>0.526490</td>\n",
              "      <td>149.569536</td>\n",
              "      <td>0.327815</td>\n",
              "      <td>1.043046</td>\n",
              "      <td>1.397351</td>\n",
              "      <td>0.718543</td>\n",
              "      <td>2.314570</td>\n",
              "      <td>0.543046</td>\n",
              "    </tr>\n",
              "    <tr>\n",
              "      <th>std</th>\n",
              "      <td>9.04797</td>\n",
              "      <td>0.466426</td>\n",
              "      <td>1.032044</td>\n",
              "      <td>17.563394</td>\n",
              "      <td>51.753489</td>\n",
              "      <td>0.356686</td>\n",
              "      <td>0.526027</td>\n",
              "      <td>22.903527</td>\n",
              "      <td>0.470196</td>\n",
              "      <td>1.161452</td>\n",
              "      <td>0.616274</td>\n",
              "      <td>1.006748</td>\n",
              "      <td>0.613026</td>\n",
              "      <td>0.498970</td>\n",
              "    </tr>\n",
              "    <tr>\n",
              "      <th>min</th>\n",
              "      <td>29.00000</td>\n",
              "      <td>0.000000</td>\n",
              "      <td>0.000000</td>\n",
              "      <td>94.000000</td>\n",
              "      <td>126.000000</td>\n",
              "      <td>0.000000</td>\n",
              "      <td>0.000000</td>\n",
              "      <td>71.000000</td>\n",
              "      <td>0.000000</td>\n",
              "      <td>0.000000</td>\n",
              "      <td>0.000000</td>\n",
              "      <td>0.000000</td>\n",
              "      <td>0.000000</td>\n",
              "      <td>0.000000</td>\n",
              "    </tr>\n",
              "    <tr>\n",
              "      <th>25%</th>\n",
              "      <td>48.00000</td>\n",
              "      <td>0.000000</td>\n",
              "      <td>0.000000</td>\n",
              "      <td>120.000000</td>\n",
              "      <td>211.000000</td>\n",
              "      <td>0.000000</td>\n",
              "      <td>0.000000</td>\n",
              "      <td>133.250000</td>\n",
              "      <td>0.000000</td>\n",
              "      <td>0.000000</td>\n",
              "      <td>1.000000</td>\n",
              "      <td>0.000000</td>\n",
              "      <td>2.000000</td>\n",
              "      <td>0.000000</td>\n",
              "    </tr>\n",
              "    <tr>\n",
              "      <th>50%</th>\n",
              "      <td>55.50000</td>\n",
              "      <td>1.000000</td>\n",
              "      <td>1.000000</td>\n",
              "      <td>130.000000</td>\n",
              "      <td>240.500000</td>\n",
              "      <td>0.000000</td>\n",
              "      <td>1.000000</td>\n",
              "      <td>152.500000</td>\n",
              "      <td>0.000000</td>\n",
              "      <td>0.800000</td>\n",
              "      <td>1.000000</td>\n",
              "      <td>0.000000</td>\n",
              "      <td>2.000000</td>\n",
              "      <td>1.000000</td>\n",
              "    </tr>\n",
              "    <tr>\n",
              "      <th>75%</th>\n",
              "      <td>61.00000</td>\n",
              "      <td>1.000000</td>\n",
              "      <td>2.000000</td>\n",
              "      <td>140.000000</td>\n",
              "      <td>274.750000</td>\n",
              "      <td>0.000000</td>\n",
              "      <td>1.000000</td>\n",
              "      <td>166.000000</td>\n",
              "      <td>1.000000</td>\n",
              "      <td>1.600000</td>\n",
              "      <td>2.000000</td>\n",
              "      <td>1.000000</td>\n",
              "      <td>3.000000</td>\n",
              "      <td>1.000000</td>\n",
              "    </tr>\n",
              "    <tr>\n",
              "      <th>max</th>\n",
              "      <td>77.00000</td>\n",
              "      <td>1.000000</td>\n",
              "      <td>3.000000</td>\n",
              "      <td>200.000000</td>\n",
              "      <td>564.000000</td>\n",
              "      <td>1.000000</td>\n",
              "      <td>2.000000</td>\n",
              "      <td>202.000000</td>\n",
              "      <td>1.000000</td>\n",
              "      <td>6.200000</td>\n",
              "      <td>2.000000</td>\n",
              "      <td>4.000000</td>\n",
              "      <td>3.000000</td>\n",
              "      <td>1.000000</td>\n",
              "    </tr>\n",
              "  </tbody>\n",
              "</table>\n",
              "</div>\n",
              "    <div class=\"colab-df-buttons\">\n",
              "\n",
              "  <div class=\"colab-df-container\">\n",
              "    <button class=\"colab-df-convert\" onclick=\"convertToInteractive('df-fa9348e0-8c72-467f-af3b-c367b81cfc68')\"\n",
              "            title=\"Convert this dataframe to an interactive table.\"\n",
              "            style=\"display:none;\">\n",
              "\n",
              "  <svg xmlns=\"http://www.w3.org/2000/svg\" height=\"24px\" viewBox=\"0 -960 960 960\">\n",
              "    <path d=\"M120-120v-720h720v720H120Zm60-500h600v-160H180v160Zm220 220h160v-160H400v160Zm0 220h160v-160H400v160ZM180-400h160v-160H180v160Zm440 0h160v-160H620v160ZM180-180h160v-160H180v160Zm440 0h160v-160H620v160Z\"/>\n",
              "  </svg>\n",
              "    </button>\n",
              "\n",
              "  <style>\n",
              "    .colab-df-container {\n",
              "      display:flex;\n",
              "      gap: 12px;\n",
              "    }\n",
              "\n",
              "    .colab-df-convert {\n",
              "      background-color: #E8F0FE;\n",
              "      border: none;\n",
              "      border-radius: 50%;\n",
              "      cursor: pointer;\n",
              "      display: none;\n",
              "      fill: #1967D2;\n",
              "      height: 32px;\n",
              "      padding: 0 0 0 0;\n",
              "      width: 32px;\n",
              "    }\n",
              "\n",
              "    .colab-df-convert:hover {\n",
              "      background-color: #E2EBFA;\n",
              "      box-shadow: 0px 1px 2px rgba(60, 64, 67, 0.3), 0px 1px 3px 1px rgba(60, 64, 67, 0.15);\n",
              "      fill: #174EA6;\n",
              "    }\n",
              "\n",
              "    .colab-df-buttons div {\n",
              "      margin-bottom: 4px;\n",
              "    }\n",
              "\n",
              "    [theme=dark] .colab-df-convert {\n",
              "      background-color: #3B4455;\n",
              "      fill: #D2E3FC;\n",
              "    }\n",
              "\n",
              "    [theme=dark] .colab-df-convert:hover {\n",
              "      background-color: #434B5C;\n",
              "      box-shadow: 0px 1px 3px 1px rgba(0, 0, 0, 0.15);\n",
              "      filter: drop-shadow(0px 1px 2px rgba(0, 0, 0, 0.3));\n",
              "      fill: #FFFFFF;\n",
              "    }\n",
              "  </style>\n",
              "\n",
              "    <script>\n",
              "      const buttonEl =\n",
              "        document.querySelector('#df-fa9348e0-8c72-467f-af3b-c367b81cfc68 button.colab-df-convert');\n",
              "      buttonEl.style.display =\n",
              "        google.colab.kernel.accessAllowed ? 'block' : 'none';\n",
              "\n",
              "      async function convertToInteractive(key) {\n",
              "        const element = document.querySelector('#df-fa9348e0-8c72-467f-af3b-c367b81cfc68');\n",
              "        const dataTable =\n",
              "          await google.colab.kernel.invokeFunction('convertToInteractive',\n",
              "                                                    [key], {});\n",
              "        if (!dataTable) return;\n",
              "\n",
              "        const docLinkHtml = 'Like what you see? Visit the ' +\n",
              "          '<a target=\"_blank\" href=https://colab.research.google.com/notebooks/data_table.ipynb>data table notebook</a>'\n",
              "          + ' to learn more about interactive tables.';\n",
              "        element.innerHTML = '';\n",
              "        dataTable['output_type'] = 'display_data';\n",
              "        await google.colab.output.renderOutput(dataTable, element);\n",
              "        const docLink = document.createElement('div');\n",
              "        docLink.innerHTML = docLinkHtml;\n",
              "        element.appendChild(docLink);\n",
              "      }\n",
              "    </script>\n",
              "  </div>\n",
              "\n",
              "\n",
              "<div id=\"df-87090b0d-c508-4c65-a3c6-7198d30222d8\">\n",
              "  <button class=\"colab-df-quickchart\" onclick=\"quickchart('df-87090b0d-c508-4c65-a3c6-7198d30222d8')\"\n",
              "            title=\"Suggest charts.\"\n",
              "            style=\"display:none;\">\n",
              "\n",
              "<svg xmlns=\"http://www.w3.org/2000/svg\" height=\"24px\"viewBox=\"0 0 24 24\"\n",
              "     width=\"24px\">\n",
              "    <g>\n",
              "        <path d=\"M19 3H5c-1.1 0-2 .9-2 2v14c0 1.1.9 2 2 2h14c1.1 0 2-.9 2-2V5c0-1.1-.9-2-2-2zM9 17H7v-7h2v7zm4 0h-2V7h2v10zm4 0h-2v-4h2v4z\"/>\n",
              "    </g>\n",
              "</svg>\n",
              "  </button>\n",
              "\n",
              "<style>\n",
              "  .colab-df-quickchart {\n",
              "      --bg-color: #E8F0FE;\n",
              "      --fill-color: #1967D2;\n",
              "      --hover-bg-color: #E2EBFA;\n",
              "      --hover-fill-color: #174EA6;\n",
              "      --disabled-fill-color: #AAA;\n",
              "      --disabled-bg-color: #DDD;\n",
              "  }\n",
              "\n",
              "  [theme=dark] .colab-df-quickchart {\n",
              "      --bg-color: #3B4455;\n",
              "      --fill-color: #D2E3FC;\n",
              "      --hover-bg-color: #434B5C;\n",
              "      --hover-fill-color: #FFFFFF;\n",
              "      --disabled-bg-color: #3B4455;\n",
              "      --disabled-fill-color: #666;\n",
              "  }\n",
              "\n",
              "  .colab-df-quickchart {\n",
              "    background-color: var(--bg-color);\n",
              "    border: none;\n",
              "    border-radius: 50%;\n",
              "    cursor: pointer;\n",
              "    display: none;\n",
              "    fill: var(--fill-color);\n",
              "    height: 32px;\n",
              "    padding: 0;\n",
              "    width: 32px;\n",
              "  }\n",
              "\n",
              "  .colab-df-quickchart:hover {\n",
              "    background-color: var(--hover-bg-color);\n",
              "    box-shadow: 0 1px 2px rgba(60, 64, 67, 0.3), 0 1px 3px 1px rgba(60, 64, 67, 0.15);\n",
              "    fill: var(--button-hover-fill-color);\n",
              "  }\n",
              "\n",
              "  .colab-df-quickchart-complete:disabled,\n",
              "  .colab-df-quickchart-complete:disabled:hover {\n",
              "    background-color: var(--disabled-bg-color);\n",
              "    fill: var(--disabled-fill-color);\n",
              "    box-shadow: none;\n",
              "  }\n",
              "\n",
              "  .colab-df-spinner {\n",
              "    border: 2px solid var(--fill-color);\n",
              "    border-color: transparent;\n",
              "    border-bottom-color: var(--fill-color);\n",
              "    animation:\n",
              "      spin 1s steps(1) infinite;\n",
              "  }\n",
              "\n",
              "  @keyframes spin {\n",
              "    0% {\n",
              "      border-color: transparent;\n",
              "      border-bottom-color: var(--fill-color);\n",
              "      border-left-color: var(--fill-color);\n",
              "    }\n",
              "    20% {\n",
              "      border-color: transparent;\n",
              "      border-left-color: var(--fill-color);\n",
              "      border-top-color: var(--fill-color);\n",
              "    }\n",
              "    30% {\n",
              "      border-color: transparent;\n",
              "      border-left-color: var(--fill-color);\n",
              "      border-top-color: var(--fill-color);\n",
              "      border-right-color: var(--fill-color);\n",
              "    }\n",
              "    40% {\n",
              "      border-color: transparent;\n",
              "      border-right-color: var(--fill-color);\n",
              "      border-top-color: var(--fill-color);\n",
              "    }\n",
              "    60% {\n",
              "      border-color: transparent;\n",
              "      border-right-color: var(--fill-color);\n",
              "    }\n",
              "    80% {\n",
              "      border-color: transparent;\n",
              "      border-right-color: var(--fill-color);\n",
              "      border-bottom-color: var(--fill-color);\n",
              "    }\n",
              "    90% {\n",
              "      border-color: transparent;\n",
              "      border-bottom-color: var(--fill-color);\n",
              "    }\n",
              "  }\n",
              "</style>\n",
              "\n",
              "  <script>\n",
              "    async function quickchart(key) {\n",
              "      const quickchartButtonEl =\n",
              "        document.querySelector('#' + key + ' button');\n",
              "      quickchartButtonEl.disabled = true;  // To prevent multiple clicks.\n",
              "      quickchartButtonEl.classList.add('colab-df-spinner');\n",
              "      try {\n",
              "        const charts = await google.colab.kernel.invokeFunction(\n",
              "            'suggestCharts', [key], {});\n",
              "      } catch (error) {\n",
              "        console.error('Error during call to suggestCharts:', error);\n",
              "      }\n",
              "      quickchartButtonEl.classList.remove('colab-df-spinner');\n",
              "      quickchartButtonEl.classList.add('colab-df-quickchart-complete');\n",
              "    }\n",
              "    (() => {\n",
              "      let quickchartButtonEl =\n",
              "        document.querySelector('#df-87090b0d-c508-4c65-a3c6-7198d30222d8 button');\n",
              "      quickchartButtonEl.style.display =\n",
              "        google.colab.kernel.accessAllowed ? 'block' : 'none';\n",
              "    })();\n",
              "  </script>\n",
              "</div>\n",
              "    </div>\n",
              "  </div>\n"
            ]
          },
          "metadata": {},
          "execution_count": 406
        }
      ]
    },
    {
      "cell_type": "code",
      "source": [
        "data.corr()"
      ],
      "metadata": {
        "colab": {
          "base_uri": "https://localhost:8080/",
          "height": 509
        },
        "id": "lMPXJwS-H7PM",
        "outputId": "0c197724-c1c1-4772-8c0f-7973a3f59d84"
      },
      "execution_count": 407,
      "outputs": [
        {
          "output_type": "execute_result",
          "data": {
            "text/plain": [
              "               age       sex        cp  trestbps      chol       fbs  \\\n",
              "age       1.000000 -0.094962 -0.063107  0.283121  0.207216  0.119492   \n",
              "sex      -0.094962  1.000000 -0.051740 -0.057647 -0.195571  0.046022   \n",
              "cp       -0.063107 -0.051740  1.000000  0.046486 -0.072682  0.096018   \n",
              "trestbps  0.283121 -0.057647  0.046486  1.000000  0.125256  0.178125   \n",
              "chol      0.207216 -0.195571 -0.072682  0.125256  1.000000  0.011428   \n",
              "fbs       0.119492  0.046022  0.096018  0.178125  0.011428  1.000000   \n",
              "restecg  -0.111590 -0.060351  0.041561 -0.115367 -0.147602 -0.083081   \n",
              "thalach  -0.395235 -0.046439  0.293367 -0.048023 -0.005308 -0.007169   \n",
              "exang     0.093216  0.143460 -0.392937  0.068526  0.064099  0.024729   \n",
              "oldpeak   0.206040  0.098322 -0.146692  0.194600  0.050086  0.004514   \n",
              "slope    -0.164124 -0.032990  0.116854 -0.122873  0.000417 -0.058654   \n",
              "ca        0.302261  0.113060 -0.195356  0.099248  0.086878  0.144935   \n",
              "thal      0.065317  0.211452 -0.160370  0.062870  0.096810 -0.032752   \n",
              "target   -0.221476 -0.283609  0.432080 -0.146269 -0.081437 -0.026826   \n",
              "\n",
              "           restecg   thalach     exang   oldpeak     slope        ca  \\\n",
              "age      -0.111590 -0.395235  0.093216  0.206040 -0.164124  0.302261   \n",
              "sex      -0.060351 -0.046439  0.143460  0.098322 -0.032990  0.113060   \n",
              "cp        0.041561  0.293367 -0.392937 -0.146692  0.116854 -0.195356   \n",
              "trestbps -0.115367 -0.048023  0.068526  0.194600 -0.122873  0.099248   \n",
              "chol     -0.147602 -0.005308  0.064099  0.050086  0.000417  0.086878   \n",
              "fbs      -0.083081 -0.007169  0.024729  0.004514 -0.058654  0.144935   \n",
              "restecg   1.000000  0.041210 -0.068807 -0.056251  0.090402 -0.083112   \n",
              "thalach   0.041210  1.000000 -0.377411 -0.342201  0.384754 -0.228311   \n",
              "exang    -0.068807 -0.377411  1.000000  0.286766 -0.256106  0.125377   \n",
              "oldpeak  -0.056251 -0.342201  0.286766  1.000000 -0.576314  0.236560   \n",
              "slope     0.090402  0.384754 -0.256106 -0.576314  1.000000 -0.092236   \n",
              "ca       -0.083112 -0.228311  0.125377  0.236560 -0.092236  1.000000   \n",
              "thal     -0.010473 -0.094910  0.205826  0.209090 -0.103314  0.160085   \n",
              "target    0.134874  0.419955 -0.435601 -0.429146  0.343940 -0.408992   \n",
              "\n",
              "              thal    target  \n",
              "age       0.065317 -0.221476  \n",
              "sex       0.211452 -0.283609  \n",
              "cp       -0.160370  0.432080  \n",
              "trestbps  0.062870 -0.146269  \n",
              "chol      0.096810 -0.081437  \n",
              "fbs      -0.032752 -0.026826  \n",
              "restecg  -0.010473  0.134874  \n",
              "thalach  -0.094910  0.419955  \n",
              "exang     0.205826 -0.435601  \n",
              "oldpeak   0.209090 -0.429146  \n",
              "slope    -0.103314  0.343940  \n",
              "ca        0.160085 -0.408992  \n",
              "thal      1.000000 -0.343101  \n",
              "target   -0.343101  1.000000  "
            ],
            "text/html": [
              "\n",
              "  <div id=\"df-a9cf3335-e3d9-4002-91a5-af7908a279fa\" class=\"colab-df-container\">\n",
              "    <div>\n",
              "<style scoped>\n",
              "    .dataframe tbody tr th:only-of-type {\n",
              "        vertical-align: middle;\n",
              "    }\n",
              "\n",
              "    .dataframe tbody tr th {\n",
              "        vertical-align: top;\n",
              "    }\n",
              "\n",
              "    .dataframe thead th {\n",
              "        text-align: right;\n",
              "    }\n",
              "</style>\n",
              "<table border=\"1\" class=\"dataframe\">\n",
              "  <thead>\n",
              "    <tr style=\"text-align: right;\">\n",
              "      <th></th>\n",
              "      <th>age</th>\n",
              "      <th>sex</th>\n",
              "      <th>cp</th>\n",
              "      <th>trestbps</th>\n",
              "      <th>chol</th>\n",
              "      <th>fbs</th>\n",
              "      <th>restecg</th>\n",
              "      <th>thalach</th>\n",
              "      <th>exang</th>\n",
              "      <th>oldpeak</th>\n",
              "      <th>slope</th>\n",
              "      <th>ca</th>\n",
              "      <th>thal</th>\n",
              "      <th>target</th>\n",
              "    </tr>\n",
              "  </thead>\n",
              "  <tbody>\n",
              "    <tr>\n",
              "      <th>age</th>\n",
              "      <td>1.000000</td>\n",
              "      <td>-0.094962</td>\n",
              "      <td>-0.063107</td>\n",
              "      <td>0.283121</td>\n",
              "      <td>0.207216</td>\n",
              "      <td>0.119492</td>\n",
              "      <td>-0.111590</td>\n",
              "      <td>-0.395235</td>\n",
              "      <td>0.093216</td>\n",
              "      <td>0.206040</td>\n",
              "      <td>-0.164124</td>\n",
              "      <td>0.302261</td>\n",
              "      <td>0.065317</td>\n",
              "      <td>-0.221476</td>\n",
              "    </tr>\n",
              "    <tr>\n",
              "      <th>sex</th>\n",
              "      <td>-0.094962</td>\n",
              "      <td>1.000000</td>\n",
              "      <td>-0.051740</td>\n",
              "      <td>-0.057647</td>\n",
              "      <td>-0.195571</td>\n",
              "      <td>0.046022</td>\n",
              "      <td>-0.060351</td>\n",
              "      <td>-0.046439</td>\n",
              "      <td>0.143460</td>\n",
              "      <td>0.098322</td>\n",
              "      <td>-0.032990</td>\n",
              "      <td>0.113060</td>\n",
              "      <td>0.211452</td>\n",
              "      <td>-0.283609</td>\n",
              "    </tr>\n",
              "    <tr>\n",
              "      <th>cp</th>\n",
              "      <td>-0.063107</td>\n",
              "      <td>-0.051740</td>\n",
              "      <td>1.000000</td>\n",
              "      <td>0.046486</td>\n",
              "      <td>-0.072682</td>\n",
              "      <td>0.096018</td>\n",
              "      <td>0.041561</td>\n",
              "      <td>0.293367</td>\n",
              "      <td>-0.392937</td>\n",
              "      <td>-0.146692</td>\n",
              "      <td>0.116854</td>\n",
              "      <td>-0.195356</td>\n",
              "      <td>-0.160370</td>\n",
              "      <td>0.432080</td>\n",
              "    </tr>\n",
              "    <tr>\n",
              "      <th>trestbps</th>\n",
              "      <td>0.283121</td>\n",
              "      <td>-0.057647</td>\n",
              "      <td>0.046486</td>\n",
              "      <td>1.000000</td>\n",
              "      <td>0.125256</td>\n",
              "      <td>0.178125</td>\n",
              "      <td>-0.115367</td>\n",
              "      <td>-0.048023</td>\n",
              "      <td>0.068526</td>\n",
              "      <td>0.194600</td>\n",
              "      <td>-0.122873</td>\n",
              "      <td>0.099248</td>\n",
              "      <td>0.062870</td>\n",
              "      <td>-0.146269</td>\n",
              "    </tr>\n",
              "    <tr>\n",
              "      <th>chol</th>\n",
              "      <td>0.207216</td>\n",
              "      <td>-0.195571</td>\n",
              "      <td>-0.072682</td>\n",
              "      <td>0.125256</td>\n",
              "      <td>1.000000</td>\n",
              "      <td>0.011428</td>\n",
              "      <td>-0.147602</td>\n",
              "      <td>-0.005308</td>\n",
              "      <td>0.064099</td>\n",
              "      <td>0.050086</td>\n",
              "      <td>0.000417</td>\n",
              "      <td>0.086878</td>\n",
              "      <td>0.096810</td>\n",
              "      <td>-0.081437</td>\n",
              "    </tr>\n",
              "    <tr>\n",
              "      <th>fbs</th>\n",
              "      <td>0.119492</td>\n",
              "      <td>0.046022</td>\n",
              "      <td>0.096018</td>\n",
              "      <td>0.178125</td>\n",
              "      <td>0.011428</td>\n",
              "      <td>1.000000</td>\n",
              "      <td>-0.083081</td>\n",
              "      <td>-0.007169</td>\n",
              "      <td>0.024729</td>\n",
              "      <td>0.004514</td>\n",
              "      <td>-0.058654</td>\n",
              "      <td>0.144935</td>\n",
              "      <td>-0.032752</td>\n",
              "      <td>-0.026826</td>\n",
              "    </tr>\n",
              "    <tr>\n",
              "      <th>restecg</th>\n",
              "      <td>-0.111590</td>\n",
              "      <td>-0.060351</td>\n",
              "      <td>0.041561</td>\n",
              "      <td>-0.115367</td>\n",
              "      <td>-0.147602</td>\n",
              "      <td>-0.083081</td>\n",
              "      <td>1.000000</td>\n",
              "      <td>0.041210</td>\n",
              "      <td>-0.068807</td>\n",
              "      <td>-0.056251</td>\n",
              "      <td>0.090402</td>\n",
              "      <td>-0.083112</td>\n",
              "      <td>-0.010473</td>\n",
              "      <td>0.134874</td>\n",
              "    </tr>\n",
              "    <tr>\n",
              "      <th>thalach</th>\n",
              "      <td>-0.395235</td>\n",
              "      <td>-0.046439</td>\n",
              "      <td>0.293367</td>\n",
              "      <td>-0.048023</td>\n",
              "      <td>-0.005308</td>\n",
              "      <td>-0.007169</td>\n",
              "      <td>0.041210</td>\n",
              "      <td>1.000000</td>\n",
              "      <td>-0.377411</td>\n",
              "      <td>-0.342201</td>\n",
              "      <td>0.384754</td>\n",
              "      <td>-0.228311</td>\n",
              "      <td>-0.094910</td>\n",
              "      <td>0.419955</td>\n",
              "    </tr>\n",
              "    <tr>\n",
              "      <th>exang</th>\n",
              "      <td>0.093216</td>\n",
              "      <td>0.143460</td>\n",
              "      <td>-0.392937</td>\n",
              "      <td>0.068526</td>\n",
              "      <td>0.064099</td>\n",
              "      <td>0.024729</td>\n",
              "      <td>-0.068807</td>\n",
              "      <td>-0.377411</td>\n",
              "      <td>1.000000</td>\n",
              "      <td>0.286766</td>\n",
              "      <td>-0.256106</td>\n",
              "      <td>0.125377</td>\n",
              "      <td>0.205826</td>\n",
              "      <td>-0.435601</td>\n",
              "    </tr>\n",
              "    <tr>\n",
              "      <th>oldpeak</th>\n",
              "      <td>0.206040</td>\n",
              "      <td>0.098322</td>\n",
              "      <td>-0.146692</td>\n",
              "      <td>0.194600</td>\n",
              "      <td>0.050086</td>\n",
              "      <td>0.004514</td>\n",
              "      <td>-0.056251</td>\n",
              "      <td>-0.342201</td>\n",
              "      <td>0.286766</td>\n",
              "      <td>1.000000</td>\n",
              "      <td>-0.576314</td>\n",
              "      <td>0.236560</td>\n",
              "      <td>0.209090</td>\n",
              "      <td>-0.429146</td>\n",
              "    </tr>\n",
              "    <tr>\n",
              "      <th>slope</th>\n",
              "      <td>-0.164124</td>\n",
              "      <td>-0.032990</td>\n",
              "      <td>0.116854</td>\n",
              "      <td>-0.122873</td>\n",
              "      <td>0.000417</td>\n",
              "      <td>-0.058654</td>\n",
              "      <td>0.090402</td>\n",
              "      <td>0.384754</td>\n",
              "      <td>-0.256106</td>\n",
              "      <td>-0.576314</td>\n",
              "      <td>1.000000</td>\n",
              "      <td>-0.092236</td>\n",
              "      <td>-0.103314</td>\n",
              "      <td>0.343940</td>\n",
              "    </tr>\n",
              "    <tr>\n",
              "      <th>ca</th>\n",
              "      <td>0.302261</td>\n",
              "      <td>0.113060</td>\n",
              "      <td>-0.195356</td>\n",
              "      <td>0.099248</td>\n",
              "      <td>0.086878</td>\n",
              "      <td>0.144935</td>\n",
              "      <td>-0.083112</td>\n",
              "      <td>-0.228311</td>\n",
              "      <td>0.125377</td>\n",
              "      <td>0.236560</td>\n",
              "      <td>-0.092236</td>\n",
              "      <td>1.000000</td>\n",
              "      <td>0.160085</td>\n",
              "      <td>-0.408992</td>\n",
              "    </tr>\n",
              "    <tr>\n",
              "      <th>thal</th>\n",
              "      <td>0.065317</td>\n",
              "      <td>0.211452</td>\n",
              "      <td>-0.160370</td>\n",
              "      <td>0.062870</td>\n",
              "      <td>0.096810</td>\n",
              "      <td>-0.032752</td>\n",
              "      <td>-0.010473</td>\n",
              "      <td>-0.094910</td>\n",
              "      <td>0.205826</td>\n",
              "      <td>0.209090</td>\n",
              "      <td>-0.103314</td>\n",
              "      <td>0.160085</td>\n",
              "      <td>1.000000</td>\n",
              "      <td>-0.343101</td>\n",
              "    </tr>\n",
              "    <tr>\n",
              "      <th>target</th>\n",
              "      <td>-0.221476</td>\n",
              "      <td>-0.283609</td>\n",
              "      <td>0.432080</td>\n",
              "      <td>-0.146269</td>\n",
              "      <td>-0.081437</td>\n",
              "      <td>-0.026826</td>\n",
              "      <td>0.134874</td>\n",
              "      <td>0.419955</td>\n",
              "      <td>-0.435601</td>\n",
              "      <td>-0.429146</td>\n",
              "      <td>0.343940</td>\n",
              "      <td>-0.408992</td>\n",
              "      <td>-0.343101</td>\n",
              "      <td>1.000000</td>\n",
              "    </tr>\n",
              "  </tbody>\n",
              "</table>\n",
              "</div>\n",
              "    <div class=\"colab-df-buttons\">\n",
              "\n",
              "  <div class=\"colab-df-container\">\n",
              "    <button class=\"colab-df-convert\" onclick=\"convertToInteractive('df-a9cf3335-e3d9-4002-91a5-af7908a279fa')\"\n",
              "            title=\"Convert this dataframe to an interactive table.\"\n",
              "            style=\"display:none;\">\n",
              "\n",
              "  <svg xmlns=\"http://www.w3.org/2000/svg\" height=\"24px\" viewBox=\"0 -960 960 960\">\n",
              "    <path d=\"M120-120v-720h720v720H120Zm60-500h600v-160H180v160Zm220 220h160v-160H400v160Zm0 220h160v-160H400v160ZM180-400h160v-160H180v160Zm440 0h160v-160H620v160ZM180-180h160v-160H180v160Zm440 0h160v-160H620v160Z\"/>\n",
              "  </svg>\n",
              "    </button>\n",
              "\n",
              "  <style>\n",
              "    .colab-df-container {\n",
              "      display:flex;\n",
              "      gap: 12px;\n",
              "    }\n",
              "\n",
              "    .colab-df-convert {\n",
              "      background-color: #E8F0FE;\n",
              "      border: none;\n",
              "      border-radius: 50%;\n",
              "      cursor: pointer;\n",
              "      display: none;\n",
              "      fill: #1967D2;\n",
              "      height: 32px;\n",
              "      padding: 0 0 0 0;\n",
              "      width: 32px;\n",
              "    }\n",
              "\n",
              "    .colab-df-convert:hover {\n",
              "      background-color: #E2EBFA;\n",
              "      box-shadow: 0px 1px 2px rgba(60, 64, 67, 0.3), 0px 1px 3px 1px rgba(60, 64, 67, 0.15);\n",
              "      fill: #174EA6;\n",
              "    }\n",
              "\n",
              "    .colab-df-buttons div {\n",
              "      margin-bottom: 4px;\n",
              "    }\n",
              "\n",
              "    [theme=dark] .colab-df-convert {\n",
              "      background-color: #3B4455;\n",
              "      fill: #D2E3FC;\n",
              "    }\n",
              "\n",
              "    [theme=dark] .colab-df-convert:hover {\n",
              "      background-color: #434B5C;\n",
              "      box-shadow: 0px 1px 3px 1px rgba(0, 0, 0, 0.15);\n",
              "      filter: drop-shadow(0px 1px 2px rgba(0, 0, 0, 0.3));\n",
              "      fill: #FFFFFF;\n",
              "    }\n",
              "  </style>\n",
              "\n",
              "    <script>\n",
              "      const buttonEl =\n",
              "        document.querySelector('#df-a9cf3335-e3d9-4002-91a5-af7908a279fa button.colab-df-convert');\n",
              "      buttonEl.style.display =\n",
              "        google.colab.kernel.accessAllowed ? 'block' : 'none';\n",
              "\n",
              "      async function convertToInteractive(key) {\n",
              "        const element = document.querySelector('#df-a9cf3335-e3d9-4002-91a5-af7908a279fa');\n",
              "        const dataTable =\n",
              "          await google.colab.kernel.invokeFunction('convertToInteractive',\n",
              "                                                    [key], {});\n",
              "        if (!dataTable) return;\n",
              "\n",
              "        const docLinkHtml = 'Like what you see? Visit the ' +\n",
              "          '<a target=\"_blank\" href=https://colab.research.google.com/notebooks/data_table.ipynb>data table notebook</a>'\n",
              "          + ' to learn more about interactive tables.';\n",
              "        element.innerHTML = '';\n",
              "        dataTable['output_type'] = 'display_data';\n",
              "        await google.colab.output.renderOutput(dataTable, element);\n",
              "        const docLink = document.createElement('div');\n",
              "        docLink.innerHTML = docLinkHtml;\n",
              "        element.appendChild(docLink);\n",
              "      }\n",
              "    </script>\n",
              "  </div>\n",
              "\n",
              "\n",
              "<div id=\"df-fa1ea288-3d7b-4391-9240-e48ed60adb70\">\n",
              "  <button class=\"colab-df-quickchart\" onclick=\"quickchart('df-fa1ea288-3d7b-4391-9240-e48ed60adb70')\"\n",
              "            title=\"Suggest charts.\"\n",
              "            style=\"display:none;\">\n",
              "\n",
              "<svg xmlns=\"http://www.w3.org/2000/svg\" height=\"24px\"viewBox=\"0 0 24 24\"\n",
              "     width=\"24px\">\n",
              "    <g>\n",
              "        <path d=\"M19 3H5c-1.1 0-2 .9-2 2v14c0 1.1.9 2 2 2h14c1.1 0 2-.9 2-2V5c0-1.1-.9-2-2-2zM9 17H7v-7h2v7zm4 0h-2V7h2v10zm4 0h-2v-4h2v4z\"/>\n",
              "    </g>\n",
              "</svg>\n",
              "  </button>\n",
              "\n",
              "<style>\n",
              "  .colab-df-quickchart {\n",
              "      --bg-color: #E8F0FE;\n",
              "      --fill-color: #1967D2;\n",
              "      --hover-bg-color: #E2EBFA;\n",
              "      --hover-fill-color: #174EA6;\n",
              "      --disabled-fill-color: #AAA;\n",
              "      --disabled-bg-color: #DDD;\n",
              "  }\n",
              "\n",
              "  [theme=dark] .colab-df-quickchart {\n",
              "      --bg-color: #3B4455;\n",
              "      --fill-color: #D2E3FC;\n",
              "      --hover-bg-color: #434B5C;\n",
              "      --hover-fill-color: #FFFFFF;\n",
              "      --disabled-bg-color: #3B4455;\n",
              "      --disabled-fill-color: #666;\n",
              "  }\n",
              "\n",
              "  .colab-df-quickchart {\n",
              "    background-color: var(--bg-color);\n",
              "    border: none;\n",
              "    border-radius: 50%;\n",
              "    cursor: pointer;\n",
              "    display: none;\n",
              "    fill: var(--fill-color);\n",
              "    height: 32px;\n",
              "    padding: 0;\n",
              "    width: 32px;\n",
              "  }\n",
              "\n",
              "  .colab-df-quickchart:hover {\n",
              "    background-color: var(--hover-bg-color);\n",
              "    box-shadow: 0 1px 2px rgba(60, 64, 67, 0.3), 0 1px 3px 1px rgba(60, 64, 67, 0.15);\n",
              "    fill: var(--button-hover-fill-color);\n",
              "  }\n",
              "\n",
              "  .colab-df-quickchart-complete:disabled,\n",
              "  .colab-df-quickchart-complete:disabled:hover {\n",
              "    background-color: var(--disabled-bg-color);\n",
              "    fill: var(--disabled-fill-color);\n",
              "    box-shadow: none;\n",
              "  }\n",
              "\n",
              "  .colab-df-spinner {\n",
              "    border: 2px solid var(--fill-color);\n",
              "    border-color: transparent;\n",
              "    border-bottom-color: var(--fill-color);\n",
              "    animation:\n",
              "      spin 1s steps(1) infinite;\n",
              "  }\n",
              "\n",
              "  @keyframes spin {\n",
              "    0% {\n",
              "      border-color: transparent;\n",
              "      border-bottom-color: var(--fill-color);\n",
              "      border-left-color: var(--fill-color);\n",
              "    }\n",
              "    20% {\n",
              "      border-color: transparent;\n",
              "      border-left-color: var(--fill-color);\n",
              "      border-top-color: var(--fill-color);\n",
              "    }\n",
              "    30% {\n",
              "      border-color: transparent;\n",
              "      border-left-color: var(--fill-color);\n",
              "      border-top-color: var(--fill-color);\n",
              "      border-right-color: var(--fill-color);\n",
              "    }\n",
              "    40% {\n",
              "      border-color: transparent;\n",
              "      border-right-color: var(--fill-color);\n",
              "      border-top-color: var(--fill-color);\n",
              "    }\n",
              "    60% {\n",
              "      border-color: transparent;\n",
              "      border-right-color: var(--fill-color);\n",
              "    }\n",
              "    80% {\n",
              "      border-color: transparent;\n",
              "      border-right-color: var(--fill-color);\n",
              "      border-bottom-color: var(--fill-color);\n",
              "    }\n",
              "    90% {\n",
              "      border-color: transparent;\n",
              "      border-bottom-color: var(--fill-color);\n",
              "    }\n",
              "  }\n",
              "</style>\n",
              "\n",
              "  <script>\n",
              "    async function quickchart(key) {\n",
              "      const quickchartButtonEl =\n",
              "        document.querySelector('#' + key + ' button');\n",
              "      quickchartButtonEl.disabled = true;  // To prevent multiple clicks.\n",
              "      quickchartButtonEl.classList.add('colab-df-spinner');\n",
              "      try {\n",
              "        const charts = await google.colab.kernel.invokeFunction(\n",
              "            'suggestCharts', [key], {});\n",
              "      } catch (error) {\n",
              "        console.error('Error during call to suggestCharts:', error);\n",
              "      }\n",
              "      quickchartButtonEl.classList.remove('colab-df-spinner');\n",
              "      quickchartButtonEl.classList.add('colab-df-quickchart-complete');\n",
              "    }\n",
              "    (() => {\n",
              "      let quickchartButtonEl =\n",
              "        document.querySelector('#df-fa1ea288-3d7b-4391-9240-e48ed60adb70 button');\n",
              "      quickchartButtonEl.style.display =\n",
              "        google.colab.kernel.accessAllowed ? 'block' : 'none';\n",
              "    })();\n",
              "  </script>\n",
              "</div>\n",
              "    </div>\n",
              "  </div>\n"
            ]
          },
          "metadata": {},
          "execution_count": 407
        }
      ]
    },
    {
      "cell_type": "code",
      "source": [
        "'''2. Data Visualization:\n",
        "a. Visualize the number of patients having a heart disease and not having\n",
        "a heart disease\n",
        "b. Visualize the age and whether a patient has disease or not\n",
        "c. Visualize correlation between all features using a heat map'''"
      ],
      "metadata": {
        "colab": {
          "base_uri": "https://localhost:8080/",
          "height": 52
        },
        "id": "K71ZrwhcIDjp",
        "outputId": "929ce9dd-d671-4bdb-c54e-e97b2baac866"
      },
      "execution_count": 408,
      "outputs": [
        {
          "output_type": "execute_result",
          "data": {
            "text/plain": [
              "'2. Data Visualization:\\na. Visualize the number of patients having a heart disease and not having\\na heart disease\\nb. Visualize the age and whether a patient has disease or not\\nc. Visualize correlation between all features using a heat map'"
            ],
            "application/vnd.google.colaboratory.intrinsic+json": {
              "type": "string"
            }
          },
          "metadata": {},
          "execution_count": 408
        }
      ]
    },
    {
      "cell_type": "code",
      "source": [
        "data['target'].value_counts()"
      ],
      "metadata": {
        "colab": {
          "base_uri": "https://localhost:8080/"
        },
        "id": "zuGojE0UIQG-",
        "outputId": "72999b31-2295-41be-863d-11b4c6573ce2"
      },
      "execution_count": 409,
      "outputs": [
        {
          "output_type": "execute_result",
          "data": {
            "text/plain": [
              "1    164\n",
              "0    138\n",
              "Name: target, dtype: int64"
            ]
          },
          "metadata": {},
          "execution_count": 409
        }
      ]
    },
    {
      "cell_type": "code",
      "source": [
        "x=['Yes','No']\n",
        "y=[164,138]\n",
        "sns.barplot(x=x,y=y)\n",
        "plt.title('patients having heart disease or not')\n",
        "plt.show()"
      ],
      "metadata": {
        "colab": {
          "base_uri": "https://localhost:8080/",
          "height": 452
        },
        "id": "cln9qcekIYtT",
        "outputId": "38d12df7-734d-49c8-a10e-b56a7381a046"
      },
      "execution_count": 410,
      "outputs": [
        {
          "output_type": "display_data",
          "data": {
            "text/plain": [
              "<Figure size 640x480 with 1 Axes>"
            ],
            "image/png": "[encoded data removed]"
          },
          "metadata": {}
        }
      ]
    },
    {
      "cell_type": "code",
      "source": [
        "data.head(2)"
      ],
      "metadata": {
        "colab": {
          "base_uri": "https://localhost:8080/",
          "height": 112
        },
        "id": "iRlt_1nFIhzn",
        "outputId": "2fb0e79a-97ce-4602-ae0c-045944a5e6e0"
      },
      "execution_count": 411,
      "outputs": [
        {
          "output_type": "execute_result",
          "data": {
            "text/plain": [
              "   age  sex  cp  trestbps  chol  fbs  restecg  thalach  exang  oldpeak  slope  \\\n",
              "0   63    1   3       145   233    1        0      150      0      2.3      0   \n",
              "1   37    1   2       130   250    0        1      187      0      3.5      0   \n",
              "\n",
              "   ca  thal  target  \n",
              "0   0     1       1  \n",
              "1   0     2       1  "
            ],
            "text/html": [
              "\n",
              "  <div id=\"df-b52c9c21-d5cd-43c8-a5ed-1e2c5c40b90e\" class=\"colab-df-container\">\n",
              "    <div>\n",
              "<style scoped>\n",
              "    .dataframe tbody tr th:only-of-type {\n",
              "        vertical-align: middle;\n",
              "    }\n",
              "\n",
              "    .dataframe tbody tr th {\n",
              "        vertical-align: top;\n",
              "    }\n",
              "\n",
              "    .dataframe thead th {\n",
              "        text-align: right;\n",
              "    }\n",
              "</style>\n",
              "<table border=\"1\" class=\"dataframe\">\n",
              "  <thead>\n",
              "    <tr style=\"text-align: right;\">\n",
              "      <th></th>\n",
              "      <th>age</th>\n",
              "      <th>sex</th>\n",
              "      <th>cp</th>\n",
              "      <th>trestbps</th>\n",
              "      <th>chol</th>\n",
              "      <th>fbs</th>\n",
              "      <th>restecg</th>\n",
              "      <th>thalach</th>\n",
              "      <th>exang</th>\n",
              "      <th>oldpeak</th>\n",
              "      <th>slope</th>\n",
              "      <th>ca</th>\n",
              "      <th>thal</th>\n",
              "      <th>target</th>\n",
              "    </tr>\n",
              "  </thead>\n",
              "  <tbody>\n",
              "    <tr>\n",
              "      <th>0</th>\n",
              "      <td>63</td>\n",
              "      <td>1</td>\n",
              "      <td>3</td>\n",
              "      <td>145</td>\n",
              "      <td>233</td>\n",
              "      <td>1</td>\n",
              "      <td>0</td>\n",
              "      <td>150</td>\n",
              "      <td>0</td>\n",
              "      <td>2.3</td>\n",
              "      <td>0</td>\n",
              "      <td>0</td>\n",
              "      <td>1</td>\n",
              "      <td>1</td>\n",
              "    </tr>\n",
              "    <tr>\n",
              "      <th>1</th>\n",
              "      <td>37</td>\n",
              "      <td>1</td>\n",
              "      <td>2</td>\n",
              "      <td>130</td>\n",
              "      <td>250</td>\n",
              "      <td>0</td>\n",
              "      <td>1</td>\n",
              "      <td>187</td>\n",
              "      <td>0</td>\n",
              "      <td>3.5</td>\n",
              "      <td>0</td>\n",
              "      <td>0</td>\n",
              "      <td>2</td>\n",
              "      <td>1</td>\n",
              "    </tr>\n",
              "  </tbody>\n",
              "</table>\n",
              "</div>\n",
              "    <div class=\"colab-df-buttons\">\n",
              "\n",
              "  <div class=\"colab-df-container\">\n",
              "    <button class=\"colab-df-convert\" onclick=\"convertToInteractive('df-b52c9c21-d5cd-43c8-a5ed-1e2c5c40b90e')\"\n",
              "            title=\"Convert this dataframe to an interactive table.\"\n",
              "            style=\"display:none;\">\n",
              "\n",
              "  <svg xmlns=\"http://www.w3.org/2000/svg\" height=\"24px\" viewBox=\"0 -960 960 960\">\n",
              "    <path d=\"M120-120v-720h720v720H120Zm60-500h600v-160H180v160Zm220 220h160v-160H400v160Zm0 220h160v-160H400v160ZM180-400h160v-160H180v160Zm440 0h160v-160H620v160ZM180-180h160v-160H180v160Zm440 0h160v-160H620v160Z\"/>\n",
              "  </svg>\n",
              "    </button>\n",
              "\n",
              "  <style>\n",
              "    .colab-df-container {\n",
              "      display:flex;\n",
              "      gap: 12px;\n",
              "    }\n",
              "\n",
              "    .colab-df-convert {\n",
              "      background-color: #E8F0FE;\n",
              "      border: none;\n",
              "      border-radius: 50%;\n",
              "      cursor: pointer;\n",
              "      display: none;\n",
              "      fill: #1967D2;\n",
              "      height: 32px;\n",
              "      padding: 0 0 0 0;\n",
              "      width: 32px;\n",
              "    }\n",
              "\n",
              "    .colab-df-convert:hover {\n",
              "      background-color: #E2EBFA;\n",
              "      box-shadow: 0px 1px 2px rgba(60, 64, 67, 0.3), 0px 1px 3px 1px rgba(60, 64, 67, 0.15);\n",
              "      fill: #174EA6;\n",
              "    }\n",
              "\n",
              "    .colab-df-buttons div {\n",
              "      margin-bottom: 4px;\n",
              "    }\n",
              "\n",
              "    [theme=dark] .colab-df-convert {\n",
              "      background-color: #3B4455;\n",
              "      fill: #D2E3FC;\n",
              "    }\n",
              "\n",
              "    [theme=dark] .colab-df-convert:hover {\n",
              "      background-color: #434B5C;\n",
              "      box-shadow: 0px 1px 3px 1px rgba(0, 0, 0, 0.15);\n",
              "      filter: drop-shadow(0px 1px 2px rgba(0, 0, 0, 0.3));\n",
              "      fill: #FFFFFF;\n",
              "    }\n",
              "  </style>\n",
              "\n",
              "    <script>\n",
              "      const buttonEl =\n",
              "        document.querySelector('#df-b52c9c21-d5cd-43c8-a5ed-1e2c5c40b90e button.colab-df-convert');\n",
              "      buttonEl.style.display =\n",
              "        google.colab.kernel.accessAllowed ? 'block' : 'none';\n",
              "\n",
              "      async function convertToInteractive(key) {\n",
              "        const element = document.querySelector('#df-b52c9c21-d5cd-43c8-a5ed-1e2c5c40b90e');\n",
              "        const dataTable =\n",
              "          await google.colab.kernel.invokeFunction('convertToInteractive',\n",
              "                                                    [key], {});\n",
              "        if (!dataTable) return;\n",
              "\n",
              "        const docLinkHtml = 'Like what you see? Visit the ' +\n",
              "          '<a target=\"_blank\" href=https://colab.research.google.com/notebooks/data_table.ipynb>data table notebook</a>'\n",
              "          + ' to learn more about interactive tables.';\n",
              "        element.innerHTML = '';\n",
              "        dataTable['output_type'] = 'display_data';\n",
              "        await google.colab.output.renderOutput(dataTable, element);\n",
              "        const docLink = document.createElement('div');\n",
              "        docLink.innerHTML = docLinkHtml;\n",
              "        element.appendChild(docLink);\n",
              "      }\n",
              "    </script>\n",
              "  </div>\n",
              "\n",
              "\n",
              "<div id=\"df-d33c5dd4-8a6c-48b1-806e-ebf15dbee55d\">\n",
              "  <button class=\"colab-df-quickchart\" onclick=\"quickchart('df-d33c5dd4-8a6c-48b1-806e-ebf15dbee55d')\"\n",
              "            title=\"Suggest charts.\"\n",
              "            style=\"display:none;\">\n",
              "\n",
              "<svg xmlns=\"http://www.w3.org/2000/svg\" height=\"24px\"viewBox=\"0 0 24 24\"\n",
              "     width=\"24px\">\n",
              "    <g>\n",
              "        <path d=\"M19 3H5c-1.1 0-2 .9-2 2v14c0 1.1.9 2 2 2h14c1.1 0 2-.9 2-2V5c0-1.1-.9-2-2-2zM9 17H7v-7h2v7zm4 0h-2V7h2v10zm4 0h-2v-4h2v4z\"/>\n",
              "    </g>\n",
              "</svg>\n",
              "  </button>\n",
              "\n",
              "<style>\n",
              "  .colab-df-quickchart {\n",
              "      --bg-color: #E8F0FE;\n",
              "      --fill-color: #1967D2;\n",
              "      --hover-bg-color: #E2EBFA;\n",
              "      --hover-fill-color: #174EA6;\n",
              "      --disabled-fill-color: #AAA;\n",
              "      --disabled-bg-color: #DDD;\n",
              "  }\n",
              "\n",
              "  [theme=dark] .colab-df-quickchart {\n",
              "      --bg-color: #3B4455;\n",
              "      --fill-color: #D2E3FC;\n",
              "      --hover-bg-color: #434B5C;\n",
              "      --hover-fill-color: #FFFFFF;\n",
              "      --disabled-bg-color: #3B4455;\n",
              "      --disabled-fill-color: #666;\n",
              "  }\n",
              "\n",
              "  .colab-df-quickchart {\n",
              "    background-color: var(--bg-color);\n",
              "    border: none;\n",
              "    border-radius: 50%;\n",
              "    cursor: pointer;\n",
              "    display: none;\n",
              "    fill: var(--fill-color);\n",
              "    height: 32px;\n",
              "    padding: 0;\n",
              "    width: 32px;\n",
              "  }\n",
              "\n",
              "  .colab-df-quickchart:hover {\n",
              "    background-color: var(--hover-bg-color);\n",
              "    box-shadow: 0 1px 2px rgba(60, 64, 67, 0.3), 0 1px 3px 1px rgba(60, 64, 67, 0.15);\n",
              "    fill: var(--button-hover-fill-color);\n",
              "  }\n",
              "\n",
              "  .colab-df-quickchart-complete:disabled,\n",
              "  .colab-df-quickchart-complete:disabled:hover {\n",
              "    background-color: var(--disabled-bg-color);\n",
              "    fill: var(--disabled-fill-color);\n",
              "    box-shadow: none;\n",
              "  }\n",
              "\n",
              "  .colab-df-spinner {\n",
              "    border: 2px solid var(--fill-color);\n",
              "    border-color: transparent;\n",
              "    border-bottom-color: var(--fill-color);\n",
              "    animation:\n",
              "      spin 1s steps(1) infinite;\n",
              "  }\n",
              "\n",
              "  @keyframes spin {\n",
              "    0% {\n",
              "      border-color: transparent;\n",
              "      border-bottom-color: var(--fill-color);\n",
              "      border-left-color: var(--fill-color);\n",
              "    }\n",
              "    20% {\n",
              "      border-color: transparent;\n",
              "      border-left-color: var(--fill-color);\n",
              "      border-top-color: var(--fill-color);\n",
              "    }\n",
              "    30% {\n",
              "      border-color: transparent;\n",
              "      border-left-color: var(--fill-color);\n",
              "      border-top-color: var(--fill-color);\n",
              "      border-right-color: var(--fill-color);\n",
              "    }\n",
              "    40% {\n",
              "      border-color: transparent;\n",
              "      border-right-color: var(--fill-color);\n",
              "      border-top-color: var(--fill-color);\n",
              "    }\n",
              "    60% {\n",
              "      border-color: transparent;\n",
              "      border-right-color: var(--fill-color);\n",
              "    }\n",
              "    80% {\n",
              "      border-color: transparent;\n",
              "      border-right-color: var(--fill-color);\n",
              "      border-bottom-color: var(--fill-color);\n",
              "    }\n",
              "    90% {\n",
              "      border-color: transparent;\n",
              "      border-bottom-color: var(--fill-color);\n",
              "    }\n",
              "  }\n",
              "</style>\n",
              "\n",
              "  <script>\n",
              "    async function quickchart(key) {\n",
              "      const quickchartButtonEl =\n",
              "        document.querySelector('#' + key + ' button');\n",
              "      quickchartButtonEl.disabled = true;  // To prevent multiple clicks.\n",
              "      quickchartButtonEl.classList.add('colab-df-spinner');\n",
              "      try {\n",
              "        const charts = await google.colab.kernel.invokeFunction(\n",
              "            'suggestCharts', [key], {});\n",
              "      } catch (error) {\n",
              "        console.error('Error during call to suggestCharts:', error);\n",
              "      }\n",
              "      quickchartButtonEl.classList.remove('colab-df-spinner');\n",
              "      quickchartButtonEl.classList.add('colab-df-quickchart-complete');\n",
              "    }\n",
              "    (() => {\n",
              "      let quickchartButtonEl =\n",
              "        document.querySelector('#df-d33c5dd4-8a6c-48b1-806e-ebf15dbee55d button');\n",
              "      quickchartButtonEl.style.display =\n",
              "        google.colab.kernel.accessAllowed ? 'block' : 'none';\n",
              "    })();\n",
              "  </script>\n",
              "</div>\n",
              "    </div>\n",
              "  </div>\n"
            ]
          },
          "metadata": {},
          "execution_count": 411
        }
      ]
    },
    {
      "cell_type": "code",
      "source": [
        " #Visualize the age and whether a patient has disease or not\n",
        "\n",
        "sns.histplot(x=data['age'],hue=data['target'])"
      ],
      "metadata": {
        "colab": {
          "base_uri": "https://localhost:8080/",
          "height": 466
        },
        "id": "X5ztI9CQJuPI",
        "outputId": "0f987726-c6d6-480b-95b0-4babbe6eacf9"
      },
      "execution_count": 412,
      "outputs": [
        {
          "output_type": "execute_result",
          "data": {
            "text/plain": [
              "<Axes: xlabel='age', ylabel='Count'>"
            ]
          },
          "metadata": {},
          "execution_count": 412
        },
        {
          "output_type": "display_data",
          "data": {
            "text/plain": [
              "<Figure size 640x480 with 1 Axes>"
            ],
            "image/png": "[encoded data removed]"
          },
          "metadata": {}
        }
      ]
    },
    {
      "cell_type": "code",
      "source": [
        "plt.figure(figsize=(18,9))\n",
        "sns.heatmap(data.corr(),annot=True)"
      ],
      "metadata": {
        "colab": {
          "base_uri": "https://localhost:8080/",
          "height": 647
        },
        "id": "t19Hi-c0J1zo",
        "outputId": "4c7f8800-1c4e-44f8-b1a3-4ff231bb59d3"
      },
      "execution_count": 413,
      "outputs": [
        {
          "output_type": "execute_result",
          "data": {
            "text/plain": [
              "<Axes: >"
            ]
          },
          "metadata": {},
          "execution_count": 413
        },
        {
          "output_type": "display_data",
          "data": {
            "text/plain": [
              "<Figure size 1800x900 with 2 Axes>"
            ],
            "image/png": "[encoded data removed]"
          },
          "metadata": {}
        }
      ]
    },
    {
      "cell_type": "code",
      "source": [
        "'''3. Logistic Regression:\n",
        "a. Build a simple logistic regression model:\n",
        "i. Divide the dataset in 70:30 ratio\n",
        "ii. Build the model on train set and predict the values on test set\n",
        "iii. Build the confusion matrix and get the accuracy score'''"
      ],
      "metadata": {
        "colab": {
          "base_uri": "https://localhost:8080/",
          "height": 52
        },
        "id": "DoiY5AdDMDCf",
        "outputId": "40b55cba-8ef2-4580-d74c-dc2a06344d29"
      },
      "execution_count": 414,
      "outputs": [
        {
          "output_type": "execute_result",
          "data": {
            "text/plain": [
              "'3. Logistic Regression:\\na. Build a simple logistic regression model:\\ni. Divide the dataset in 70:30 ratio\\nii. Build the model on train set and predict the values on test set\\niii. Build the confusion matrix and get the accuracy score'"
            ],
            "application/vnd.google.colaboratory.intrinsic+json": {
              "type": "string"
            }
          },
          "metadata": {},
          "execution_count": 414
        }
      ]
    },
    {
      "cell_type": "code",
      "source": [
        "x=data.iloc[:,:-1]\n",
        "y=data.loc[:,'target']"
      ],
      "metadata": {
        "id": "t-jPBfSvMg3-"
      },
      "execution_count": 422,
      "outputs": []
    },
    {
      "cell_type": "code",
      "source": [
        "from sklearn.model_selection import train_test_split"
      ],
      "metadata": {
        "id": "VyxKMDEKM7Pk"
      },
      "execution_count": 423,
      "outputs": []
    },
    {
      "cell_type": "code",
      "source": [
        "x_train,x_test,y_train,y_test=train_test_split(x,y,test_size=0.3)"
      ],
      "metadata": {
        "id": "bKzx5WkUM8WC"
      },
      "execution_count": 424,
      "outputs": []
    },
    {
      "cell_type": "code",
      "source": [
        "from sklearn.linear_model import LogisticRegression"
      ],
      "metadata": {
        "id": "1xIbdKOCNQge"
      },
      "execution_count": 425,
      "outputs": []
    },
    {
      "cell_type": "code",
      "source": [
        "log=LogisticRegression()"
      ],
      "metadata": {
        "id": "PsJuiBijNXoK"
      },
      "execution_count": 426,
      "outputs": []
    },
    {
      "cell_type": "code",
      "source": [
        "log.fit(x_train,y_train)"
      ],
      "metadata": {
        "colab": {
          "base_uri": "https://localhost:8080/",
          "height": 234
        },
        "id": "agwoMJg-NaZP",
        "outputId": "db28674c-353e-4756-f184-72bd1a8569f8"
      },
      "execution_count": 427,
      "outputs": [
        {
          "output_type": "stream",
          "name": "stderr",
          "text": [
            "/usr/local/lib/python3.10/dist-packages/sklearn/linear_model/_logistic.py:458: ConvergenceWarning: lbfgs failed to converge (status=1):\n",
            "STOP: TOTAL NO. of ITERATIONS REACHED LIMIT.\n",
            "\n",
            "Increase the number of iterations (max_iter) or scale the data as shown in:\n",
            "    https://scikit-learn.org/stable/modules/preprocessing.html\n",
            "Please also refer to the documentation for alternative solver options:\n",
            "    https://scikit-learn.org/stable/modules/linear_model.html#logistic-regression\n",
            "  n_iter_i = _check_optimize_result(\n"
          ]
        },
        {
          "output_type": "execute_result",
          "data": {
            "text/plain": [
              "LogisticRegression()"
            ],
            "text/html": [
              "<style>#sk-container-id-21 {color: black;background-color: white;}#sk-container-id-21 pre{padding: 0;}#sk-container-id-21 div.sk-toggleable {background-color: white;}#sk-container-id-21 label.sk-toggleable__label {cursor: pointer;display: block;width: 100%;margin-bottom: 0;padding: 0.3em;box-sizing: border-box;text-align: center;}#sk-container-id-21 label.sk-toggleable__label-arrow:before {content: \"▸\";float: left;margin-right: 0.25em;color: #696969;}#sk-container-id-21 label.sk-toggleable__label-arrow:hover:before {color: black;}#sk-container-id-21 div.sk-estimator:hover label.sk-toggleable__label-arrow:before {color: black;}#sk-container-id-21 div.sk-toggleable__content {max-height: 0;max-width: 0;overflow: hidden;text-align: left;background-color: #f0f8ff;}#sk-container-id-21 div.sk-toggleable__content pre {margin: 0.2em;color: black;border-radius: 0.25em;background-color: #f0f8ff;}#sk-container-id-21 input.sk-toggleable__control:checked~div.sk-toggleable__content {max-height: 200px;max-width: 100%;overflow: auto;}#sk-container-id-21 input.sk-toggleable__control:checked~label.sk-toggleable__label-arrow:before {content: \"▾\";}#sk-container-id-21 div.sk-estimator input.sk-toggleable__control:checked~label.sk-toggleable__label {background-color: #d4ebff;}#sk-container-id-21 div.sk-label input.sk-toggleable__control:checked~label.sk-toggleable__label {background-color: #d4ebff;}#sk-container-id-21 input.sk-hidden--visually {border: 0;clip: rect(1px 1px 1px 1px);clip: rect(1px, 1px, 1px, 1px);height: 1px;margin: -1px;overflow: hidden;padding: 0;position: absolute;width: 1px;}#sk-container-id-21 div.sk-estimator {font-family: monospace;background-color: #f0f8ff;border: 1px dotted black;border-radius: 0.25em;box-sizing: border-box;margin-bottom: 0.5em;}#sk-container-id-21 div.sk-estimator:hover {background-color: #d4ebff;}#sk-container-id-21 div.sk-parallel-item::after {content: \"\";width: 100%;border-bottom: 1px solid gray;flex-grow: 1;}#sk-container-id-21 div.sk-label:hover label.sk-toggleable__label {background-color: #d4ebff;}#sk-container-id-21 div.sk-serial::before {content: \"\";position: absolute;border-left: 1px solid gray;box-sizing: border-box;top: 0;bottom: 0;left: 50%;z-index: 0;}#sk-container-id-21 div.sk-serial {display: flex;flex-direction: column;align-items: center;background-color: white;padding-right: 0.2em;padding-left: 0.2em;position: relative;}#sk-container-id-21 div.sk-item {position: relative;z-index: 1;}#sk-container-id-21 div.sk-parallel {display: flex;align-items: stretch;justify-content: center;background-color: white;position: relative;}#sk-container-id-21 div.sk-item::before, #sk-container-id-21 div.sk-parallel-item::before {content: \"\";position: absolute;border-left: 1px solid gray;box-sizing: border-box;top: 0;bottom: 0;left: 50%;z-index: -1;}#sk-container-id-21 div.sk-parallel-item {display: flex;flex-direction: column;z-index: 1;position: relative;background-color: white;}#sk-container-id-21 div.sk-parallel-item:first-child::after {align-self: flex-end;width: 50%;}#sk-container-id-21 div.sk-parallel-item:last-child::after {align-self: flex-start;width: 50%;}#sk-container-id-21 div.sk-parallel-item:only-child::after {width: 0;}#sk-container-id-21 div.sk-dashed-wrapped {border: 1px dashed gray;margin: 0 0.4em 0.5em 0.4em;box-sizing: border-box;padding-bottom: 0.4em;background-color: white;}#sk-container-id-21 div.sk-label label {font-family: monospace;font-weight: bold;display: inline-block;line-height: 1.2em;}#sk-container-id-21 div.sk-label-container {text-align: center;}#sk-container-id-21 div.sk-container {/* jupyter's `normalize.less` sets `[hidden] { display: none; }` but bootstrap.min.css set `[hidden] { display: none !important; }` so we also need the `!important` here to be able to override the default hidden behavior on the sphinx rendered scikit-learn.org. See: https://github.com/scikit-learn/scikit-learn/issues/21755 */display: inline-block !important;position: relative;}#sk-container-id-21 div.sk-text-repr-fallback {display: none;}</style><div id=\"sk-container-id-21\" class=\"sk-top-container\"><div class=\"sk-text-repr-fallback\"><pre>LogisticRegression()</pre><b>In a Jupyter environment, please rerun this cell to show the HTML representation or trust the notebook. <br />On GitHub, the HTML representation is unable to render, please try loading this page with nbviewer.org.</b></div><div class=\"sk-container\" hidden><div class=\"sk-item\"><div class=\"sk-estimator sk-toggleable\"><input class=\"sk-toggleable__control sk-hidden--visually\" id=\"sk-estimator-id-21\" type=\"checkbox\" checked><label for=\"sk-estimator-id-21\" class=\"sk-toggleable__label sk-toggleable__label-arrow\">LogisticRegression</label><div class=\"sk-toggleable__content\"><pre>LogisticRegression()</pre></div></div></div></div></div>"
            ]
          },
          "metadata": {},
          "execution_count": 427
        }
      ]
    },
    {
      "cell_type": "code",
      "source": [
        "y_predlog=log.predict(x_test)"
      ],
      "metadata": {
        "id": "2ceuAkr5NcwI"
      },
      "execution_count": 428,
      "outputs": []
    },
    {
      "cell_type": "code",
      "source": [
        "from sklearn.metrics import accuracy_score,confusion_matrix,classification_report"
      ],
      "metadata": {
        "id": "riBmiqX-N9ek"
      },
      "execution_count": 429,
      "outputs": []
    },
    {
      "cell_type": "code",
      "source": [
        "con_mat_log=confusion_matrix(y_test,y_predlog)"
      ],
      "metadata": {
        "id": "6OZefn7WOF2E"
      },
      "execution_count": 430,
      "outputs": []
    },
    {
      "cell_type": "code",
      "source": [
        "con_mat_log"
      ],
      "metadata": {
        "colab": {
          "base_uri": "https://localhost:8080/"
        },
        "id": "z3OS-Yzqgw07",
        "outputId": "10a4b58d-72da-47a9-d50b-8ddf9394009f"
      },
      "execution_count": 431,
      "outputs": [
        {
          "output_type": "execute_result",
          "data": {
            "text/plain": [
              "array([[29, 12],\n",
              "       [ 3, 47]])"
            ]
          },
          "metadata": {},
          "execution_count": 431
        }
      ]
    },
    {
      "cell_type": "code",
      "source": [
        "acc_scor_log=accuracy_score(y_test,y_predlog)"
      ],
      "metadata": {
        "id": "3NvxhoJSO7ZA"
      },
      "execution_count": 432,
      "outputs": []
    },
    {
      "cell_type": "code",
      "source": [
        "acc_scor_log"
      ],
      "metadata": {
        "colab": {
          "base_uri": "https://localhost:8080/"
        },
        "id": "cnZWUylAg32m",
        "outputId": "10f6919f-15da-40ec-b253-2837e1caf194"
      },
      "execution_count": 433,
      "outputs": [
        {
          "output_type": "execute_result",
          "data": {
            "text/plain": [
              "0.8351648351648352"
            ]
          },
          "metadata": {},
          "execution_count": 433
        }
      ]
    },
    {
      "cell_type": "code",
      "source": [
        "clas_rep_log=classification_report(y_test,y_predlog)"
      ],
      "metadata": {
        "id": "xCH-_Xb3eQ1B"
      },
      "execution_count": 434,
      "outputs": []
    },
    {
      "cell_type": "code",
      "source": [
        "clas_rep_log"
      ],
      "metadata": {
        "colab": {
          "base_uri": "https://localhost:8080/",
          "height": 69
        },
        "id": "y-7FSyzQhR43",
        "outputId": "2c0c9ffc-6f86-4ea6-fcab-7be75e6fa5dc"
      },
      "execution_count": 435,
      "outputs": [
        {
          "output_type": "execute_result",
          "data": {
            "text/plain": [
              "'              precision    recall  f1-score   support\\n\\n           0       0.91      0.71      0.79        41\\n           1       0.80      0.94      0.86        50\\n\\n    accuracy                           0.84        91\\n   macro avg       0.85      0.82      0.83        91\\nweighted avg       0.85      0.84      0.83        91\\n'"
            ],
            "application/vnd.google.colaboratory.intrinsic+json": {
              "type": "string"
            }
          },
          "metadata": {},
          "execution_count": 435
        }
      ]
    },
    {
      "cell_type": "code",
      "source": [
        "'''4. Decision Tree:\n",
        "a. Build a decision tree model:\n",
        "i. Divide the dataset in 70:30 ratio\n",
        "ii. Build the model on train set and predict the values on test set\n",
        "iii. Build the confusion matrix and calculate the accuracy\n",
        "iv. Visualize the decision tree using the Graphviz package'''"
      ],
      "metadata": {
        "colab": {
          "base_uri": "https://localhost:8080/",
          "height": 69
        },
        "id": "H5Sd0UjpPEr9",
        "outputId": "83e00dc2-f681-4f17-b6e6-8197bab5514b"
      },
      "execution_count": 436,
      "outputs": [
        {
          "output_type": "execute_result",
          "data": {
            "text/plain": [
              "'4. Decision Tree:\\na. Build a decision tree model:\\ni. Divide the dataset in 70:30 ratio\\nii. Build the model on train set and predict the values on test set\\niii. Build the confusion matrix and calculate the accuracy\\niv. Visualize the decision tree using the Graphviz package'"
            ],
            "application/vnd.google.colaboratory.intrinsic+json": {
              "type": "string"
            }
          },
          "metadata": {},
          "execution_count": 436
        }
      ]
    },
    {
      "cell_type": "code",
      "source": [
        "from sklearn.tree import DecisionTreeClassifier"
      ],
      "metadata": {
        "id": "ti-0z3OIPKQK"
      },
      "execution_count": 437,
      "outputs": []
    },
    {
      "cell_type": "code",
      "source": [
        "dt=DecisionTreeClassifier()"
      ],
      "metadata": {
        "id": "RR66d2NYPmpm"
      },
      "execution_count": 438,
      "outputs": []
    },
    {
      "cell_type": "code",
      "source": [
        "dt.fit(x_train,y_train)"
      ],
      "metadata": {
        "colab": {
          "base_uri": "https://localhost:8080/",
          "height": 75
        },
        "id": "H6dWRNwaPpnO",
        "outputId": "70f2911b-90f0-4fa3-fdb3-3c3576e7ab30"
      },
      "execution_count": 439,
      "outputs": [
        {
          "output_type": "execute_result",
          "data": {
            "text/plain": [
              "DecisionTreeClassifier()"
            ],
            "text/html": [
              "<style>#sk-container-id-22 {color: black;background-color: white;}#sk-container-id-22 pre{padding: 0;}#sk-container-id-22 div.sk-toggleable {background-color: white;}#sk-container-id-22 label.sk-toggleable__label {cursor: pointer;display: block;width: 100%;margin-bottom: 0;padding: 0.3em;box-sizing: border-box;text-align: center;}#sk-container-id-22 label.sk-toggleable__label-arrow:before {content: \"▸\";float: left;margin-right: 0.25em;color: #696969;}#sk-container-id-22 label.sk-toggleable__label-arrow:hover:before {color: black;}#sk-container-id-22 div.sk-estimator:hover label.sk-toggleable__label-arrow:before {color: black;}#sk-container-id-22 div.sk-toggleable__content {max-height: 0;max-width: 0;overflow: hidden;text-align: left;background-color: #f0f8ff;}#sk-container-id-22 div.sk-toggleable__content pre {margin: 0.2em;color: black;border-radius: 0.25em;background-color: #f0f8ff;}#sk-container-id-22 input.sk-toggleable__control:checked~div.sk-toggleable__content {max-height: 200px;max-width: 100%;overflow: auto;}#sk-container-id-22 input.sk-toggleable__control:checked~label.sk-toggleable__label-arrow:before {content: \"▾\";}#sk-container-id-22 div.sk-estimator input.sk-toggleable__control:checked~label.sk-toggleable__label {background-color: #d4ebff;}#sk-container-id-22 div.sk-label input.sk-toggleable__control:checked~label.sk-toggleable__label {background-color: #d4ebff;}#sk-container-id-22 input.sk-hidden--visually {border: 0;clip: rect(1px 1px 1px 1px);clip: rect(1px, 1px, 1px, 1px);height: 1px;margin: -1px;overflow: hidden;padding: 0;position: absolute;width: 1px;}#sk-container-id-22 div.sk-estimator {font-family: monospace;background-color: #f0f8ff;border: 1px dotted black;border-radius: 0.25em;box-sizing: border-box;margin-bottom: 0.5em;}#sk-container-id-22 div.sk-estimator:hover {background-color: #d4ebff;}#sk-container-id-22 div.sk-parallel-item::after {content: \"\";width: 100%;border-bottom: 1px solid gray;flex-grow: 1;}#sk-container-id-22 div.sk-label:hover label.sk-toggleable__label {background-color: #d4ebff;}#sk-container-id-22 div.sk-serial::before {content: \"\";position: absolute;border-left: 1px solid gray;box-sizing: border-box;top: 0;bottom: 0;left: 50%;z-index: 0;}#sk-container-id-22 div.sk-serial {display: flex;flex-direction: column;align-items: center;background-color: white;padding-right: 0.2em;padding-left: 0.2em;position: relative;}#sk-container-id-22 div.sk-item {position: relative;z-index: 1;}#sk-container-id-22 div.sk-parallel {display: flex;align-items: stretch;justify-content: center;background-color: white;position: relative;}#sk-container-id-22 div.sk-item::before, #sk-container-id-22 div.sk-parallel-item::before {content: \"\";position: absolute;border-left: 1px solid gray;box-sizing: border-box;top: 0;bottom: 0;left: 50%;z-index: -1;}#sk-container-id-22 div.sk-parallel-item {display: flex;flex-direction: column;z-index: 1;position: relative;background-color: white;}#sk-container-id-22 div.sk-parallel-item:first-child::after {align-self: flex-end;width: 50%;}#sk-container-id-22 div.sk-parallel-item:last-child::after {align-self: flex-start;width: 50%;}#sk-container-id-22 div.sk-parallel-item:only-child::after {width: 0;}#sk-container-id-22 div.sk-dashed-wrapped {border: 1px dashed gray;margin: 0 0.4em 0.5em 0.4em;box-sizing: border-box;padding-bottom: 0.4em;background-color: white;}#sk-container-id-22 div.sk-label label {font-family: monospace;font-weight: bold;display: inline-block;line-height: 1.2em;}#sk-container-id-22 div.sk-label-container {text-align: center;}#sk-container-id-22 div.sk-container {/* jupyter's `normalize.less` sets `[hidden] { display: none; }` but bootstrap.min.css set `[hidden] { display: none !important; }` so we also need the `!important` here to be able to override the default hidden behavior on the sphinx rendered scikit-learn.org. See: https://github.com/scikit-learn/scikit-learn/issues/21755 */display: inline-block !important;position: relative;}#sk-container-id-22 div.sk-text-repr-fallback {display: none;}</style><div id=\"sk-container-id-22\" class=\"sk-top-container\"><div class=\"sk-text-repr-fallback\"><pre>DecisionTreeClassifier()</pre><b>In a Jupyter environment, please rerun this cell to show the HTML representation or trust the notebook. <br />On GitHub, the HTML representation is unable to render, please try loading this page with nbviewer.org.</b></div><div class=\"sk-container\" hidden><div class=\"sk-item\"><div class=\"sk-estimator sk-toggleable\"><input class=\"sk-toggleable__control sk-hidden--visually\" id=\"sk-estimator-id-22\" type=\"checkbox\" checked><label for=\"sk-estimator-id-22\" class=\"sk-toggleable__label sk-toggleable__label-arrow\">DecisionTreeClassifier</label><div class=\"sk-toggleable__content\"><pre>DecisionTreeClassifier()</pre></div></div></div></div></div>"
            ]
          },
          "metadata": {},
          "execution_count": 439
        }
      ]
    },
    {
      "cell_type": "code",
      "source": [
        "y_preddt=dt.predict(x_test)"
      ],
      "metadata": {
        "id": "4nupZlvPPt7r"
      },
      "execution_count": 440,
      "outputs": []
    },
    {
      "cell_type": "code",
      "source": [
        "con_mat_dt=confusion_matrix(y_test,y_preddt)"
      ],
      "metadata": {
        "id": "hSp7pXmcPxnM"
      },
      "execution_count": 441,
      "outputs": []
    },
    {
      "cell_type": "code",
      "source": [
        "acc_score_dt=accuracy_score(y_test,y_preddt)"
      ],
      "metadata": {
        "id": "Uw8Vmf88P2-E"
      },
      "execution_count": 442,
      "outputs": []
    },
    {
      "cell_type": "code",
      "source": [
        "cls_rept_dt=classification_report(y_test,y_preddt)"
      ],
      "metadata": {
        "id": "mvXIzvl9fD3-"
      },
      "execution_count": 443,
      "outputs": []
    },
    {
      "cell_type": "code",
      "source": [
        "!pip install graphviz"
      ],
      "metadata": {
        "colab": {
          "base_uri": "https://localhost:8080/"
        },
        "id": "0fxeIJMfP6DR",
        "outputId": "b4ddc6d8-9ffb-401e-9b6b-f7806365b598"
      },
      "execution_count": 444,
      "outputs": [
        {
          "output_type": "stream",
          "name": "stdout",
          "text": [
            "Requirement already satisfied: graphviz in /usr/local/lib/python3.10/dist-packages (0.20.1)\n"
          ]
        }
      ]
    },
    {
      "cell_type": "code",
      "source": [
        "import graphviz\n",
        "from sklearn.tree import export_graphviz"
      ],
      "metadata": {
        "id": "wFYVudwxQU80"
      },
      "execution_count": 445,
      "outputs": []
    },
    {
      "cell_type": "code",
      "source": [
        "dot_data = export_graphviz(dt,out_file=None,\n",
        "                          feature_names=x.columns,\n",
        "                          class_names='target',\n",
        "                          filled=True, rounded=True,\n",
        "                          special_characters=True)\n",
        "\n",
        "# Create a graph from the DOT data\n",
        "graph = graphviz.Source(dot_data)"
      ],
      "metadata": {
        "id": "9GYVmx2BRcPH"
      },
      "execution_count": 446,
      "outputs": []
    },
    {
      "cell_type": "code",
      "source": [
        "graph"
      ],
      "metadata": {
        "colab": {
          "base_uri": "https://localhost:8080/",
          "height": 1000
        },
        "id": "yY9xxWGyVGpn",
        "outputId": "967b3bca-4481-4044-b663-ef786000b72f"
      },
      "execution_count": 447,
      "outputs": [
        {
          "output_type": "execute_result",
          "data": {
            "image/svg+xml": "<?xml version=\"1.0\" encoding=\"UTF-8\" standalone=\"no\"?>\n<!DOCTYPE svg PUBLIC \"-//W3C//DTD SVG 1.1//EN\"\n \"http://www.w3.org/Graphics/SVG/1.1/DTD/svg11.dtd\">\n<!-- Generated by graphviz version 2.43.0 (0)\n -->\n<!-- Title: Tree Pages: 1 -->\n<svg width=\"2517pt\" height=\"1147pt\"\n viewBox=\"0.00 0.00 2517.00 1147.00\" xmlns=\"http://www.w3.org/2000/svg\" xmlns:xlink=\"http://www.w3.org/1999/xlink\">\n<g id=\"graph0\" class=\"graph\" transform=\"scale(1 1) rotate(0) translate(4 1143)\">\n<title>Tree</title>\n<polygon fill=\"white\" stroke=\"transparent\" points=\"-4,4 -4,-1143 2513,-1143 2513,4 -4,4\"/>\n<!-- 0 -->\n<g id=\"node1\" class=\"node\">\n<title>0</title>\n<path fill=\"#e1f0fb\" stroke=\"black\" d=\"M1357,-1139C1357,-1139 1264,-1139 1264,-1139 1258,-1139 1252,-1133 1252,-1127 1252,-1127 1252,-1068 1252,-1068 1252,-1062 1258,-1056 1264,-1056 1264,-1056 1357,-1056 1357,-1056 1363,-1056 1369,-1062 1369,-1068 1369,-1068 1369,-1127 1369,-1127 1369,-1133 1363,-1139 1357,-1139\"/>\n<text text-anchor=\"start\" x=\"1286\" y=\"-1123.8\" font-family=\"Helvetica,sans-Serif\" font-size=\"14.00\">cp ≤ 0.5</text>\n<text text-anchor=\"start\" x=\"1275\" y=\"-1108.8\" font-family=\"Helvetica,sans-Serif\" font-size=\"14.00\">gini = 0.497</text>\n<text text-anchor=\"start\" x=\"1265.5\" y=\"-1093.8\" font-family=\"Helvetica,sans-Serif\" font-size=\"14.00\">samples = 211</text>\n<text text-anchor=\"start\" x=\"1260\" y=\"-1078.8\" font-family=\"Helvetica,sans-Serif\" font-size=\"14.00\">value = [97, 114]</text>\n<text text-anchor=\"start\" x=\"1283\" y=\"-1063.8\" font-family=\"Helvetica,sans-Serif\" font-size=\"14.00\">class = a</text>\n</g>\n<!-- 1 -->\n<g id=\"node2\" class=\"node\">\n<title>1</title>\n<path fill=\"#eeaa7a\" stroke=\"black\" d=\"M1069.5,-1020C1069.5,-1020 983.5,-1020 983.5,-1020 977.5,-1020 971.5,-1014 971.5,-1008 971.5,-1008 971.5,-949 971.5,-949 971.5,-943 977.5,-937 983.5,-937 983.5,-937 1069.5,-937 1069.5,-937 1075.5,-937 1081.5,-943 1081.5,-949 1081.5,-949 1081.5,-1008 1081.5,-1008 1081.5,-1014 1075.5,-1020 1069.5,-1020\"/>\n<text text-anchor=\"start\" x=\"1002\" y=\"-1004.8\" font-family=\"Helvetica,sans-Serif\" font-size=\"14.00\">ca ≤ 0.5</text>\n<text text-anchor=\"start\" x=\"991\" y=\"-989.8\" font-family=\"Helvetica,sans-Serif\" font-size=\"14.00\">gini = 0.373</text>\n<text text-anchor=\"start\" x=\"981.5\" y=\"-974.8\" font-family=\"Helvetica,sans-Serif\" font-size=\"14.00\">samples = 101</text>\n<text text-anchor=\"start\" x=\"979.5\" y=\"-959.8\" font-family=\"Helvetica,sans-Serif\" font-size=\"14.00\">value = [76, 25]</text>\n<text text-anchor=\"start\" x=\"1001\" y=\"-944.8\" font-family=\"Helvetica,sans-Serif\" font-size=\"14.00\">class = t</text>\n</g>\n<!-- 0&#45;&gt;1 -->\n<g id=\"edge1\" class=\"edge\">\n<title>0&#45;&gt;1</title>\n<path fill=\"none\" stroke=\"black\" d=\"M1252,-1072.4C1205.11,-1053.08 1139.39,-1026.01 1090.99,-1006.07\"/>\n<polygon fill=\"black\" stroke=\"black\" points=\"1092.13,-1002.75 1081.55,-1002.18 1089.46,-1009.22 1092.13,-1002.75\"/>\n<text text-anchor=\"middle\" x=\"1091.16\" y=\"-1021.56\" font-family=\"Helvetica,sans-Serif\" font-size=\"14.00\">True</text>\n</g>\n<!-- 32 -->\n<g id=\"node33\" class=\"node\">\n<title>32</title>\n<path fill=\"#68b4eb\" stroke=\"black\" d=\"M1651.5,-1020C1651.5,-1020 1565.5,-1020 1565.5,-1020 1559.5,-1020 1553.5,-1014 1553.5,-1008 1553.5,-1008 1553.5,-949 1553.5,-949 1553.5,-943 1559.5,-937 1565.5,-937 1565.5,-937 1651.5,-937 1651.5,-937 1657.5,-937 1663.5,-943 1663.5,-949 1663.5,-949 1663.5,-1008 1663.5,-1008 1663.5,-1014 1657.5,-1020 1651.5,-1020\"/>\n<text text-anchor=\"start\" x=\"1580.5\" y=\"-1004.8\" font-family=\"Helvetica,sans-Serif\" font-size=\"14.00\">thal ≤ 2.5</text>\n<text text-anchor=\"start\" x=\"1573\" y=\"-989.8\" font-family=\"Helvetica,sans-Serif\" font-size=\"14.00\">gini = 0.309</text>\n<text text-anchor=\"start\" x=\"1563.5\" y=\"-974.8\" font-family=\"Helvetica,sans-Serif\" font-size=\"14.00\">samples = 110</text>\n<text text-anchor=\"start\" x=\"1561.5\" y=\"-959.8\" font-family=\"Helvetica,sans-Serif\" font-size=\"14.00\">value = [21, 89]</text>\n<text text-anchor=\"start\" x=\"1581\" y=\"-944.8\" font-family=\"Helvetica,sans-Serif\" font-size=\"14.00\">class = a</text>\n</g>\n<!-- 0&#45;&gt;32 -->\n<g id=\"edge32\" class=\"edge\">\n<title>0&#45;&gt;32</title>\n<path fill=\"none\" stroke=\"black\" d=\"M1369.02,-1073.52C1419.28,-1053.79 1491.66,-1025.37 1543.67,-1004.95\"/>\n<polygon fill=\"black\" stroke=\"black\" points=\"1545.11,-1008.15 1553.14,-1001.24 1542.55,-1001.63 1545.11,-1008.15\"/>\n<text text-anchor=\"middle\" x=\"1543.14\" y=\"-1020.45\" font-family=\"Helvetica,sans-Serif\" font-size=\"14.00\">False</text>\n</g>\n<!-- 2 -->\n<g id=\"node3\" class=\"node\">\n<title>2</title>\n<path fill=\"#fbece1\" stroke=\"black\" d=\"M723.5,-901C723.5,-901 637.5,-901 637.5,-901 631.5,-901 625.5,-895 625.5,-889 625.5,-889 625.5,-830 625.5,-830 625.5,-824 631.5,-818 637.5,-818 637.5,-818 723.5,-818 723.5,-818 729.5,-818 735.5,-824 735.5,-830 735.5,-830 735.5,-889 735.5,-889 735.5,-895 729.5,-901 723.5,-901\"/>\n<text text-anchor=\"start\" x=\"645\" y=\"-885.8\" font-family=\"Helvetica,sans-Serif\" font-size=\"14.00\">exang ≤ 0.5</text>\n<text text-anchor=\"start\" x=\"645\" y=\"-870.8\" font-family=\"Helvetica,sans-Serif\" font-size=\"14.00\">gini = 0.497</text>\n<text text-anchor=\"start\" x=\"639.5\" y=\"-855.8\" font-family=\"Helvetica,sans-Serif\" font-size=\"14.00\">samples = 48</text>\n<text text-anchor=\"start\" x=\"633.5\" y=\"-840.8\" font-family=\"Helvetica,sans-Serif\" font-size=\"14.00\">value = [26, 22]</text>\n<text text-anchor=\"start\" x=\"655\" y=\"-825.8\" font-family=\"Helvetica,sans-Serif\" font-size=\"14.00\">class = t</text>\n</g>\n<!-- 1&#45;&gt;2 -->\n<g id=\"edge2\" class=\"edge\">\n<title>1&#45;&gt;2</title>\n<path fill=\"none\" stroke=\"black\" d=\"M971.29,-958.83C909.77,-938.03 810.41,-904.43 745.26,-882.4\"/>\n<polygon fill=\"black\" stroke=\"black\" points=\"746.1,-878.99 735.51,-879.1 743.86,-885.62 746.1,-878.99\"/>\n</g>\n<!-- 21 -->\n<g id=\"node22\" class=\"node\">\n<title>21</title>\n<path fill=\"#e78945\" stroke=\"black\" d=\"M1071,-901C1071,-901 982,-901 982,-901 976,-901 970,-895 970,-889 970,-889 970,-830 970,-830 970,-824 976,-818 982,-818 982,-818 1071,-818 1071,-818 1077,-818 1083,-824 1083,-830 1083,-830 1083,-889 1083,-889 1083,-895 1077,-901 1071,-901\"/>\n<text text-anchor=\"start\" x=\"978\" y=\"-885.8\" font-family=\"Helvetica,sans-Serif\" font-size=\"14.00\">trestbps ≤ 109.0</text>\n<text text-anchor=\"start\" x=\"991\" y=\"-870.8\" font-family=\"Helvetica,sans-Serif\" font-size=\"14.00\">gini = 0.107</text>\n<text text-anchor=\"start\" x=\"985.5\" y=\"-855.8\" font-family=\"Helvetica,sans-Serif\" font-size=\"14.00\">samples = 53</text>\n<text text-anchor=\"start\" x=\"983.5\" y=\"-840.8\" font-family=\"Helvetica,sans-Serif\" font-size=\"14.00\">value = [50, 3]</text>\n<text text-anchor=\"start\" x=\"1001\" y=\"-825.8\" font-family=\"Helvetica,sans-Serif\" font-size=\"14.00\">class = t</text>\n</g>\n<!-- 1&#45;&gt;21 -->\n<g id=\"edge21\" class=\"edge\">\n<title>1&#45;&gt;21</title>\n<path fill=\"none\" stroke=\"black\" d=\"M1026.5,-936.91C1026.5,-928.65 1026.5,-919.86 1026.5,-911.3\"/>\n<polygon fill=\"black\" stroke=\"black\" points=\"1030,-911.02 1026.5,-901.02 1023,-911.02 1030,-911.02\"/>\n</g>\n<!-- 3 -->\n<g id=\"node4\" class=\"node\">\n<title>3</title>\n<path fill=\"#7bbeee\" stroke=\"black\" d=\"M377.5,-782C377.5,-782 299.5,-782 299.5,-782 293.5,-782 287.5,-776 287.5,-770 287.5,-770 287.5,-711 287.5,-711 287.5,-705 293.5,-699 299.5,-699 299.5,-699 377.5,-699 377.5,-699 383.5,-699 389.5,-705 389.5,-711 389.5,-711 389.5,-770 389.5,-770 389.5,-776 383.5,-782 377.5,-782\"/>\n<text text-anchor=\"start\" x=\"310.5\" y=\"-766.8\" font-family=\"Helvetica,sans-Serif\" font-size=\"14.00\">thal ≤ 2.5</text>\n<text text-anchor=\"start\" x=\"303\" y=\"-751.8\" font-family=\"Helvetica,sans-Serif\" font-size=\"14.00\">gini = 0.375</text>\n<text text-anchor=\"start\" x=\"297.5\" y=\"-736.8\" font-family=\"Helvetica,sans-Serif\" font-size=\"14.00\">samples = 24</text>\n<text text-anchor=\"start\" x=\"295.5\" y=\"-721.8\" font-family=\"Helvetica,sans-Serif\" font-size=\"14.00\">value = [6, 18]</text>\n<text text-anchor=\"start\" x=\"311\" y=\"-706.8\" font-family=\"Helvetica,sans-Serif\" font-size=\"14.00\">class = a</text>\n</g>\n<!-- 2&#45;&gt;3 -->\n<g id=\"edge3\" class=\"edge\">\n<title>2&#45;&gt;3</title>\n<path fill=\"none\" stroke=\"black\" d=\"M625.17,-839.57C563.22,-818.38 463.15,-784.14 399.12,-762.24\"/>\n<polygon fill=\"black\" stroke=\"black\" points=\"400.15,-758.89 389.56,-758.97 397.89,-765.52 400.15,-758.89\"/>\n</g>\n<!-- 14 -->\n<g id=\"node15\" class=\"node\">\n<title>14</title>\n<path fill=\"#ea9a61\" stroke=\"black\" d=\"M719.5,-782C719.5,-782 641.5,-782 641.5,-782 635.5,-782 629.5,-776 629.5,-770 629.5,-770 629.5,-711 629.5,-711 629.5,-705 635.5,-699 641.5,-699 641.5,-699 719.5,-699 719.5,-699 725.5,-699 731.5,-705 731.5,-711 731.5,-711 731.5,-770 731.5,-770 731.5,-776 725.5,-782 719.5,-782\"/>\n<text text-anchor=\"start\" x=\"647\" y=\"-766.8\" font-family=\"Helvetica,sans-Serif\" font-size=\"14.00\">slope ≤ 1.5</text>\n<text text-anchor=\"start\" x=\"645\" y=\"-751.8\" font-family=\"Helvetica,sans-Serif\" font-size=\"14.00\">gini = 0.278</text>\n<text text-anchor=\"start\" x=\"639.5\" y=\"-736.8\" font-family=\"Helvetica,sans-Serif\" font-size=\"14.00\">samples = 24</text>\n<text text-anchor=\"start\" x=\"637.5\" y=\"-721.8\" font-family=\"Helvetica,sans-Serif\" font-size=\"14.00\">value = [20, 4]</text>\n<text text-anchor=\"start\" x=\"655\" y=\"-706.8\" font-family=\"Helvetica,sans-Serif\" font-size=\"14.00\">class = t</text>\n</g>\n<!-- 2&#45;&gt;14 -->\n<g id=\"edge14\" class=\"edge\">\n<title>2&#45;&gt;14</title>\n<path fill=\"none\" stroke=\"black\" d=\"M680.5,-817.91C680.5,-809.65 680.5,-800.86 680.5,-792.3\"/>\n<polygon fill=\"black\" stroke=\"black\" points=\"684,-792.02 680.5,-782.02 677,-792.02 684,-792.02\"/>\n</g>\n<!-- 4 -->\n<g id=\"node5\" class=\"node\">\n<title>4</title>\n<path fill=\"#52a9e8\" stroke=\"black\" d=\"M203.5,-663C203.5,-663 125.5,-663 125.5,-663 119.5,-663 113.5,-657 113.5,-651 113.5,-651 113.5,-592 113.5,-592 113.5,-586 119.5,-580 125.5,-580 125.5,-580 203.5,-580 203.5,-580 209.5,-580 215.5,-586 215.5,-592 215.5,-592 215.5,-651 215.5,-651 215.5,-657 209.5,-663 203.5,-663\"/>\n<text text-anchor=\"start\" x=\"122\" y=\"-647.8\" font-family=\"Helvetica,sans-Serif\" font-size=\"14.00\">thalach ≤ 96.5</text>\n<text text-anchor=\"start\" x=\"129\" y=\"-632.8\" font-family=\"Helvetica,sans-Serif\" font-size=\"14.00\">gini = 0.198</text>\n<text text-anchor=\"start\" x=\"123.5\" y=\"-617.8\" font-family=\"Helvetica,sans-Serif\" font-size=\"14.00\">samples = 18</text>\n<text text-anchor=\"start\" x=\"121.5\" y=\"-602.8\" font-family=\"Helvetica,sans-Serif\" font-size=\"14.00\">value = [2, 16]</text>\n<text text-anchor=\"start\" x=\"137\" y=\"-587.8\" font-family=\"Helvetica,sans-Serif\" font-size=\"14.00\">class = a</text>\n</g>\n<!-- 3&#45;&gt;4 -->\n<g id=\"edge4\" class=\"edge\">\n<title>3&#45;&gt;4</title>\n<path fill=\"none\" stroke=\"black\" d=\"M287.24,-705.03C267.41,-691.7 244.59,-676.35 224.05,-662.54\"/>\n<polygon fill=\"black\" stroke=\"black\" points=\"225.95,-659.6 215.7,-656.93 222.04,-665.41 225.95,-659.6\"/>\n</g>\n<!-- 11 -->\n<g id=\"node12\" class=\"node\">\n<title>11</title>\n<path fill=\"#f2c09c\" stroke=\"black\" d=\"M374,-663C374,-663 303,-663 303,-663 297,-663 291,-657 291,-651 291,-651 291,-592 291,-592 291,-586 297,-580 303,-580 303,-580 374,-580 374,-580 380,-580 386,-586 386,-592 386,-592 386,-651 386,-651 386,-657 380,-663 374,-663\"/>\n<text text-anchor=\"start\" x=\"301.5\" y=\"-647.8\" font-family=\"Helvetica,sans-Serif\" font-size=\"14.00\">chol ≤ 217.0</text>\n<text text-anchor=\"start\" x=\"303\" y=\"-632.8\" font-family=\"Helvetica,sans-Serif\" font-size=\"14.00\">gini = 0.444</text>\n<text text-anchor=\"start\" x=\"301\" y=\"-617.8\" font-family=\"Helvetica,sans-Serif\" font-size=\"14.00\">samples = 6</text>\n<text text-anchor=\"start\" x=\"299\" y=\"-602.8\" font-family=\"Helvetica,sans-Serif\" font-size=\"14.00\">value = [4, 2]</text>\n<text text-anchor=\"start\" x=\"313\" y=\"-587.8\" font-family=\"Helvetica,sans-Serif\" font-size=\"14.00\">class = t</text>\n</g>\n<!-- 3&#45;&gt;11 -->\n<g id=\"edge11\" class=\"edge\">\n<title>3&#45;&gt;11</title>\n<path fill=\"none\" stroke=\"black\" d=\"M338.5,-698.91C338.5,-690.65 338.5,-681.86 338.5,-673.3\"/>\n<polygon fill=\"black\" stroke=\"black\" points=\"342,-673.02 338.5,-663.02 335,-673.02 342,-673.02\"/>\n</g>\n<!-- 5 -->\n<g id=\"node6\" class=\"node\">\n<title>5</title>\n<path fill=\"#e58139\" stroke=\"black\" d=\"M83,-536.5C83,-536.5 12,-536.5 12,-536.5 6,-536.5 0,-530.5 0,-524.5 0,-524.5 0,-480.5 0,-480.5 0,-474.5 6,-468.5 12,-468.5 12,-468.5 83,-468.5 83,-468.5 89,-468.5 95,-474.5 95,-480.5 95,-480.5 95,-524.5 95,-524.5 95,-530.5 89,-536.5 83,-536.5\"/>\n<text text-anchor=\"start\" x=\"19.5\" y=\"-521.3\" font-family=\"Helvetica,sans-Serif\" font-size=\"14.00\">gini = 0.0</text>\n<text text-anchor=\"start\" x=\"10\" y=\"-506.3\" font-family=\"Helvetica,sans-Serif\" font-size=\"14.00\">samples = 1</text>\n<text text-anchor=\"start\" x=\"8\" y=\"-491.3\" font-family=\"Helvetica,sans-Serif\" font-size=\"14.00\">value = [1, 0]</text>\n<text text-anchor=\"start\" x=\"22\" y=\"-476.3\" font-family=\"Helvetica,sans-Serif\" font-size=\"14.00\">class = t</text>\n</g>\n<!-- 4&#45;&gt;5 -->\n<g id=\"edge5\" class=\"edge\">\n<title>4&#45;&gt;5</title>\n<path fill=\"none\" stroke=\"black\" d=\"M123.91,-579.91C112.21,-568.21 99.46,-555.46 87.78,-543.78\"/>\n<polygon fill=\"black\" stroke=\"black\" points=\"90.21,-541.26 80.67,-536.67 85.26,-546.21 90.21,-541.26\"/>\n</g>\n<!-- 6 -->\n<g id=\"node7\" class=\"node\">\n<title>6</title>\n<path fill=\"#45a3e7\" stroke=\"black\" d=\"M203.5,-544C203.5,-544 125.5,-544 125.5,-544 119.5,-544 113.5,-538 113.5,-532 113.5,-532 113.5,-473 113.5,-473 113.5,-467 119.5,-461 125.5,-461 125.5,-461 203.5,-461 203.5,-461 209.5,-461 215.5,-467 215.5,-473 215.5,-473 215.5,-532 215.5,-532 215.5,-538 209.5,-544 203.5,-544\"/>\n<text text-anchor=\"start\" x=\"127.5\" y=\"-528.8\" font-family=\"Helvetica,sans-Serif\" font-size=\"14.00\">chol ≤ 316.5</text>\n<text text-anchor=\"start\" x=\"129\" y=\"-513.8\" font-family=\"Helvetica,sans-Serif\" font-size=\"14.00\">gini = 0.111</text>\n<text text-anchor=\"start\" x=\"123.5\" y=\"-498.8\" font-family=\"Helvetica,sans-Serif\" font-size=\"14.00\">samples = 17</text>\n<text text-anchor=\"start\" x=\"121.5\" y=\"-483.8\" font-family=\"Helvetica,sans-Serif\" font-size=\"14.00\">value = [1, 16]</text>\n<text text-anchor=\"start\" x=\"137\" y=\"-468.8\" font-family=\"Helvetica,sans-Serif\" font-size=\"14.00\">class = a</text>\n</g>\n<!-- 4&#45;&gt;6 -->\n<g id=\"edge6\" class=\"edge\">\n<title>4&#45;&gt;6</title>\n<path fill=\"none\" stroke=\"black\" d=\"M164.5,-579.91C164.5,-571.65 164.5,-562.86 164.5,-554.3\"/>\n<polygon fill=\"black\" stroke=\"black\" points=\"168,-554.02 164.5,-544.02 161,-554.02 168,-554.02\"/>\n</g>\n<!-- 7 -->\n<g id=\"node8\" class=\"node\">\n<title>7</title>\n<path fill=\"#399de5\" stroke=\"black\" d=\"M145.5,-417.5C145.5,-417.5 67.5,-417.5 67.5,-417.5 61.5,-417.5 55.5,-411.5 55.5,-405.5 55.5,-405.5 55.5,-361.5 55.5,-361.5 55.5,-355.5 61.5,-349.5 67.5,-349.5 67.5,-349.5 145.5,-349.5 145.5,-349.5 151.5,-349.5 157.5,-355.5 157.5,-361.5 157.5,-361.5 157.5,-405.5 157.5,-405.5 157.5,-411.5 151.5,-417.5 145.5,-417.5\"/>\n<text text-anchor=\"start\" x=\"78.5\" y=\"-402.3\" font-family=\"Helvetica,sans-Serif\" font-size=\"14.00\">gini = 0.0</text>\n<text text-anchor=\"start\" x=\"65.5\" y=\"-387.3\" font-family=\"Helvetica,sans-Serif\" font-size=\"14.00\">samples = 15</text>\n<text text-anchor=\"start\" x=\"63.5\" y=\"-372.3\" font-family=\"Helvetica,sans-Serif\" font-size=\"14.00\">value = [0, 15]</text>\n<text text-anchor=\"start\" x=\"79\" y=\"-357.3\" font-family=\"Helvetica,sans-Serif\" font-size=\"14.00\">class = a</text>\n</g>\n<!-- 6&#45;&gt;7 -->\n<g id=\"edge7\" class=\"edge\">\n<title>6&#45;&gt;7</title>\n<path fill=\"none\" stroke=\"black\" d=\"M144.38,-460.91C138.91,-449.87 132.97,-437.9 127.46,-426.77\"/>\n<polygon fill=\"black\" stroke=\"black\" points=\"130.52,-425.07 122.94,-417.67 124.25,-428.18 130.52,-425.07\"/>\n</g>\n<!-- 8 -->\n<g id=\"node9\" class=\"node\">\n<title>8</title>\n<path fill=\"#ffffff\" stroke=\"black\" d=\"M259,-425C259,-425 188,-425 188,-425 182,-425 176,-419 176,-413 176,-413 176,-354 176,-354 176,-348 182,-342 188,-342 188,-342 259,-342 259,-342 265,-342 271,-348 271,-354 271,-354 271,-413 271,-413 271,-419 265,-425 259,-425\"/>\n<text text-anchor=\"start\" x=\"186.5\" y=\"-409.8\" font-family=\"Helvetica,sans-Serif\" font-size=\"14.00\">chol ≤ 362.0</text>\n<text text-anchor=\"start\" x=\"195.5\" y=\"-394.8\" font-family=\"Helvetica,sans-Serif\" font-size=\"14.00\">gini = 0.5</text>\n<text text-anchor=\"start\" x=\"186\" y=\"-379.8\" font-family=\"Helvetica,sans-Serif\" font-size=\"14.00\">samples = 2</text>\n<text text-anchor=\"start\" x=\"184\" y=\"-364.8\" font-family=\"Helvetica,sans-Serif\" font-size=\"14.00\">value = [1, 1]</text>\n<text text-anchor=\"start\" x=\"198\" y=\"-349.8\" font-family=\"Helvetica,sans-Serif\" font-size=\"14.00\">class = t</text>\n</g>\n<!-- 6&#45;&gt;8 -->\n<g id=\"edge8\" class=\"edge\">\n<title>6&#45;&gt;8</title>\n<path fill=\"none\" stroke=\"black\" d=\"M184.97,-460.91C189.32,-452.29 193.95,-443.09 198.45,-434.17\"/>\n<polygon fill=\"black\" stroke=\"black\" points=\"201.69,-435.53 203.07,-425.02 195.44,-432.37 201.69,-435.53\"/>\n</g>\n<!-- 9 -->\n<g id=\"node10\" class=\"node\">\n<title>9</title>\n<path fill=\"#e58139\" stroke=\"black\" d=\"M203,-298.5C203,-298.5 132,-298.5 132,-298.5 126,-298.5 120,-292.5 120,-286.5 120,-286.5 120,-242.5 120,-242.5 120,-236.5 126,-230.5 132,-230.5 132,-230.5 203,-230.5 203,-230.5 209,-230.5 215,-236.5 215,-242.5 215,-242.5 215,-286.5 215,-286.5 215,-292.5 209,-298.5 203,-298.5\"/>\n<text text-anchor=\"start\" x=\"139.5\" y=\"-283.3\" font-family=\"Helvetica,sans-Serif\" font-size=\"14.00\">gini = 0.0</text>\n<text text-anchor=\"start\" x=\"130\" y=\"-268.3\" font-family=\"Helvetica,sans-Serif\" font-size=\"14.00\">samples = 1</text>\n<text text-anchor=\"start\" x=\"128\" y=\"-253.3\" font-family=\"Helvetica,sans-Serif\" font-size=\"14.00\">value = [1, 0]</text>\n<text text-anchor=\"start\" x=\"142\" y=\"-238.3\" font-family=\"Helvetica,sans-Serif\" font-size=\"14.00\">class = t</text>\n</g>\n<!-- 8&#45;&gt;9 -->\n<g id=\"edge9\" class=\"edge\">\n<title>8&#45;&gt;9</title>\n<path fill=\"none\" stroke=\"black\" d=\"M204.07,-341.91C198.79,-330.87 193.06,-318.9 187.73,-307.77\"/>\n<polygon fill=\"black\" stroke=\"black\" points=\"190.85,-306.18 183.37,-298.67 184.54,-309.2 190.85,-306.18\"/>\n</g>\n<!-- 10 -->\n<g id=\"node11\" class=\"node\">\n<title>10</title>\n<path fill=\"#399de5\" stroke=\"black\" d=\"M316,-298.5C316,-298.5 245,-298.5 245,-298.5 239,-298.5 233,-292.5 233,-286.5 233,-286.5 233,-242.5 233,-242.5 233,-236.5 239,-230.5 245,-230.5 245,-230.5 316,-230.5 316,-230.5 322,-230.5 328,-236.5 328,-242.5 328,-242.5 328,-286.5 328,-286.5 328,-292.5 322,-298.5 316,-298.5\"/>\n<text text-anchor=\"start\" x=\"252.5\" y=\"-283.3\" font-family=\"Helvetica,sans-Serif\" font-size=\"14.00\">gini = 0.0</text>\n<text text-anchor=\"start\" x=\"243\" y=\"-268.3\" font-family=\"Helvetica,sans-Serif\" font-size=\"14.00\">samples = 1</text>\n<text text-anchor=\"start\" x=\"241\" y=\"-253.3\" font-family=\"Helvetica,sans-Serif\" font-size=\"14.00\">value = [0, 1]</text>\n<text text-anchor=\"start\" x=\"253\" y=\"-238.3\" font-family=\"Helvetica,sans-Serif\" font-size=\"14.00\">class = a</text>\n</g>\n<!-- 8&#45;&gt;10 -->\n<g id=\"edge10\" class=\"edge\">\n<title>8&#45;&gt;10</title>\n<path fill=\"none\" stroke=\"black\" d=\"M243.28,-341.91C248.65,-330.87 254.49,-318.9 259.91,-307.77\"/>\n<polygon fill=\"black\" stroke=\"black\" points=\"263.11,-309.19 264.34,-298.67 256.82,-306.12 263.11,-309.19\"/>\n</g>\n<!-- 12 -->\n<g id=\"node13\" class=\"node\">\n<title>12</title>\n<path fill=\"#399de5\" stroke=\"black\" d=\"M317,-536.5C317,-536.5 246,-536.5 246,-536.5 240,-536.5 234,-530.5 234,-524.5 234,-524.5 234,-480.5 234,-480.5 234,-474.5 240,-468.5 246,-468.5 246,-468.5 317,-468.5 317,-468.5 323,-468.5 329,-474.5 329,-480.5 329,-480.5 329,-524.5 329,-524.5 329,-530.5 323,-536.5 317,-536.5\"/>\n<text text-anchor=\"start\" x=\"253.5\" y=\"-521.3\" font-family=\"Helvetica,sans-Serif\" font-size=\"14.00\">gini = 0.0</text>\n<text text-anchor=\"start\" x=\"244\" y=\"-506.3\" font-family=\"Helvetica,sans-Serif\" font-size=\"14.00\">samples = 2</text>\n<text text-anchor=\"start\" x=\"242\" y=\"-491.3\" font-family=\"Helvetica,sans-Serif\" font-size=\"14.00\">value = [0, 2]</text>\n<text text-anchor=\"start\" x=\"254\" y=\"-476.3\" font-family=\"Helvetica,sans-Serif\" font-size=\"14.00\">class = a</text>\n</g>\n<!-- 11&#45;&gt;12 -->\n<g id=\"edge12\" class=\"edge\">\n<title>11&#45;&gt;12</title>\n<path fill=\"none\" stroke=\"black\" d=\"M318.72,-579.91C313.35,-568.87 307.51,-556.9 302.09,-545.77\"/>\n<polygon fill=\"black\" stroke=\"black\" points=\"305.18,-544.12 297.66,-536.67 298.89,-547.19 305.18,-544.12\"/>\n</g>\n<!-- 13 -->\n<g id=\"node14\" class=\"node\">\n<title>13</title>\n<path fill=\"#e58139\" stroke=\"black\" d=\"M430,-536.5C430,-536.5 359,-536.5 359,-536.5 353,-536.5 347,-530.5 347,-524.5 347,-524.5 347,-480.5 347,-480.5 347,-474.5 353,-468.5 359,-468.5 359,-468.5 430,-468.5 430,-468.5 436,-468.5 442,-474.5 442,-480.5 442,-480.5 442,-524.5 442,-524.5 442,-530.5 436,-536.5 430,-536.5\"/>\n<text text-anchor=\"start\" x=\"366.5\" y=\"-521.3\" font-family=\"Helvetica,sans-Serif\" font-size=\"14.00\">gini = 0.0</text>\n<text text-anchor=\"start\" x=\"357\" y=\"-506.3\" font-family=\"Helvetica,sans-Serif\" font-size=\"14.00\">samples = 4</text>\n<text text-anchor=\"start\" x=\"355\" y=\"-491.3\" font-family=\"Helvetica,sans-Serif\" font-size=\"14.00\">value = [4, 0]</text>\n<text text-anchor=\"start\" x=\"369\" y=\"-476.3\" font-family=\"Helvetica,sans-Serif\" font-size=\"14.00\">class = t</text>\n</g>\n<!-- 11&#45;&gt;13 -->\n<g id=\"edge13\" class=\"edge\">\n<title>11&#45;&gt;13</title>\n<path fill=\"none\" stroke=\"black\" d=\"M357.93,-579.91C363.21,-568.87 368.94,-556.9 374.27,-545.77\"/>\n<polygon fill=\"black\" stroke=\"black\" points=\"377.46,-547.2 378.63,-536.67 371.15,-544.18 377.46,-547.2\"/>\n</g>\n<!-- 15 -->\n<g id=\"node16\" class=\"node\">\n<title>15</title>\n<path fill=\"#e68844\" stroke=\"black\" d=\"M664,-663C664,-663 575,-663 575,-663 569,-663 563,-657 563,-651 563,-651 563,-592 563,-592 563,-586 569,-580 575,-580 575,-580 664,-580 664,-580 670,-580 676,-586 676,-592 676,-592 676,-651 676,-651 676,-657 670,-663 664,-663\"/>\n<text text-anchor=\"start\" x=\"571\" y=\"-647.8\" font-family=\"Helvetica,sans-Serif\" font-size=\"14.00\">trestbps ≤ 107.0</text>\n<text text-anchor=\"start\" x=\"591.5\" y=\"-632.8\" font-family=\"Helvetica,sans-Serif\" font-size=\"14.00\">gini = 0.1</text>\n<text text-anchor=\"start\" x=\"578.5\" y=\"-617.8\" font-family=\"Helvetica,sans-Serif\" font-size=\"14.00\">samples = 19</text>\n<text text-anchor=\"start\" x=\"576.5\" y=\"-602.8\" font-family=\"Helvetica,sans-Serif\" font-size=\"14.00\">value = [18, 1]</text>\n<text text-anchor=\"start\" x=\"594\" y=\"-587.8\" font-family=\"Helvetica,sans-Serif\" font-size=\"14.00\">class = t</text>\n</g>\n<!-- 14&#45;&gt;15 -->\n<g id=\"edge15\" class=\"edge\">\n<title>14&#45;&gt;15</title>\n<path fill=\"none\" stroke=\"black\" d=\"M659.34,-698.91C654.79,-690.2 649.95,-680.9 645.25,-671.89\"/>\n<polygon fill=\"black\" stroke=\"black\" points=\"648.35,-670.27 640.63,-663.02 642.15,-673.51 648.35,-670.27\"/>\n</g>\n<!-- 18 -->\n<g id=\"node19\" class=\"node\">\n<title>18</title>\n<path fill=\"#bddef6\" stroke=\"black\" d=\"M777,-663C777,-663 706,-663 706,-663 700,-663 694,-657 694,-651 694,-651 694,-592 694,-592 694,-586 700,-580 706,-580 706,-580 777,-580 777,-580 783,-580 789,-586 789,-592 789,-592 789,-651 789,-651 789,-657 783,-663 777,-663\"/>\n<text text-anchor=\"start\" x=\"709.5\" y=\"-647.8\" font-family=\"Helvetica,sans-Serif\" font-size=\"14.00\">age ≤ 52.0</text>\n<text text-anchor=\"start\" x=\"709.5\" y=\"-632.8\" font-family=\"Helvetica,sans-Serif\" font-size=\"14.00\">gini = 0.48</text>\n<text text-anchor=\"start\" x=\"704\" y=\"-617.8\" font-family=\"Helvetica,sans-Serif\" font-size=\"14.00\">samples = 5</text>\n<text text-anchor=\"start\" x=\"702\" y=\"-602.8\" font-family=\"Helvetica,sans-Serif\" font-size=\"14.00\">value = [2, 3]</text>\n<text text-anchor=\"start\" x=\"714\" y=\"-587.8\" font-family=\"Helvetica,sans-Serif\" font-size=\"14.00\">class = a</text>\n</g>\n<!-- 14&#45;&gt;18 -->\n<g id=\"edge18\" class=\"edge\">\n<title>14&#45;&gt;18</title>\n<path fill=\"none\" stroke=\"black\" d=\"M701.66,-698.91C706.21,-690.2 711.05,-680.9 715.75,-671.89\"/>\n<polygon fill=\"black\" stroke=\"black\" points=\"718.85,-673.51 720.37,-663.02 712.65,-670.27 718.85,-673.51\"/>\n</g>\n<!-- 16 -->\n<g id=\"node17\" class=\"node\">\n<title>16</title>\n<path fill=\"#399de5\" stroke=\"black\" d=\"M543,-536.5C543,-536.5 472,-536.5 472,-536.5 466,-536.5 460,-530.5 460,-524.5 460,-524.5 460,-480.5 460,-480.5 460,-474.5 466,-468.5 472,-468.5 472,-468.5 543,-468.5 543,-468.5 549,-468.5 555,-474.5 555,-480.5 555,-480.5 555,-524.5 555,-524.5 555,-530.5 549,-536.5 543,-536.5\"/>\n<text text-anchor=\"start\" x=\"479.5\" y=\"-521.3\" font-family=\"Helvetica,sans-Serif\" font-size=\"14.00\">gini = 0.0</text>\n<text text-anchor=\"start\" x=\"470\" y=\"-506.3\" font-family=\"Helvetica,sans-Serif\" font-size=\"14.00\">samples = 1</text>\n<text text-anchor=\"start\" x=\"468\" y=\"-491.3\" font-family=\"Helvetica,sans-Serif\" font-size=\"14.00\">value = [0, 1]</text>\n<text text-anchor=\"start\" x=\"480\" y=\"-476.3\" font-family=\"Helvetica,sans-Serif\" font-size=\"14.00\">class = a</text>\n</g>\n<!-- 15&#45;&gt;16 -->\n<g id=\"edge16\" class=\"edge\">\n<title>15&#45;&gt;16</title>\n<path fill=\"none\" stroke=\"black\" d=\"M580.64,-579.91C569.55,-568.32 557.47,-555.7 546.38,-544.11\"/>\n<polygon fill=\"black\" stroke=\"black\" points=\"548.69,-541.47 539.25,-536.67 543.64,-546.31 548.69,-541.47\"/>\n</g>\n<!-- 17 -->\n<g id=\"node18\" class=\"node\">\n<title>17</title>\n<path fill=\"#e58139\" stroke=\"black\" d=\"M663.5,-536.5C663.5,-536.5 585.5,-536.5 585.5,-536.5 579.5,-536.5 573.5,-530.5 573.5,-524.5 573.5,-524.5 573.5,-480.5 573.5,-480.5 573.5,-474.5 579.5,-468.5 585.5,-468.5 585.5,-468.5 663.5,-468.5 663.5,-468.5 669.5,-468.5 675.5,-474.5 675.5,-480.5 675.5,-480.5 675.5,-524.5 675.5,-524.5 675.5,-530.5 669.5,-536.5 663.5,-536.5\"/>\n<text text-anchor=\"start\" x=\"596.5\" y=\"-521.3\" font-family=\"Helvetica,sans-Serif\" font-size=\"14.00\">gini = 0.0</text>\n<text text-anchor=\"start\" x=\"583.5\" y=\"-506.3\" font-family=\"Helvetica,sans-Serif\" font-size=\"14.00\">samples = 18</text>\n<text text-anchor=\"start\" x=\"581.5\" y=\"-491.3\" font-family=\"Helvetica,sans-Serif\" font-size=\"14.00\">value = [18, 0]</text>\n<text text-anchor=\"start\" x=\"599\" y=\"-476.3\" font-family=\"Helvetica,sans-Serif\" font-size=\"14.00\">class = t</text>\n</g>\n<!-- 15&#45;&gt;17 -->\n<g id=\"edge17\" class=\"edge\">\n<title>15&#45;&gt;17</title>\n<path fill=\"none\" stroke=\"black\" d=\"M621.23,-579.91C621.69,-569.2 622.19,-557.62 622.65,-546.78\"/>\n<polygon fill=\"black\" stroke=\"black\" points=\"626.15,-546.81 623.08,-536.67 619.16,-546.51 626.15,-546.81\"/>\n</g>\n<!-- 19 -->\n<g id=\"node20\" class=\"node\">\n<title>19</title>\n<path fill=\"#e58139\" stroke=\"black\" d=\"M777,-536.5C777,-536.5 706,-536.5 706,-536.5 700,-536.5 694,-530.5 694,-524.5 694,-524.5 694,-480.5 694,-480.5 694,-474.5 700,-468.5 706,-468.5 706,-468.5 777,-468.5 777,-468.5 783,-468.5 789,-474.5 789,-480.5 789,-480.5 789,-524.5 789,-524.5 789,-530.5 783,-536.5 777,-536.5\"/>\n<text text-anchor=\"start\" x=\"713.5\" y=\"-521.3\" font-family=\"Helvetica,sans-Serif\" font-size=\"14.00\">gini = 0.0</text>\n<text text-anchor=\"start\" x=\"704\" y=\"-506.3\" font-family=\"Helvetica,sans-Serif\" font-size=\"14.00\">samples = 2</text>\n<text text-anchor=\"start\" x=\"702\" y=\"-491.3\" font-family=\"Helvetica,sans-Serif\" font-size=\"14.00\">value = [2, 0]</text>\n<text text-anchor=\"start\" x=\"716\" y=\"-476.3\" font-family=\"Helvetica,sans-Serif\" font-size=\"14.00\">class = t</text>\n</g>\n<!-- 18&#45;&gt;19 -->\n<g id=\"edge19\" class=\"edge\">\n<title>18&#45;&gt;19</title>\n<path fill=\"none\" stroke=\"black\" d=\"M741.5,-579.91C741.5,-569.2 741.5,-557.62 741.5,-546.78\"/>\n<polygon fill=\"black\" stroke=\"black\" points=\"745,-546.67 741.5,-536.67 738,-546.67 745,-546.67\"/>\n</g>\n<!-- 20 -->\n<g id=\"node21\" class=\"node\">\n<title>20</title>\n<path fill=\"#399de5\" stroke=\"black\" d=\"M890,-536.5C890,-536.5 819,-536.5 819,-536.5 813,-536.5 807,-530.5 807,-524.5 807,-524.5 807,-480.5 807,-480.5 807,-474.5 813,-468.5 819,-468.5 819,-468.5 890,-468.5 890,-468.5 896,-468.5 902,-474.5 902,-480.5 902,-480.5 902,-524.5 902,-524.5 902,-530.5 896,-536.5 890,-536.5\"/>\n<text text-anchor=\"start\" x=\"826.5\" y=\"-521.3\" font-family=\"Helvetica,sans-Serif\" font-size=\"14.00\">gini = 0.0</text>\n<text text-anchor=\"start\" x=\"817\" y=\"-506.3\" font-family=\"Helvetica,sans-Serif\" font-size=\"14.00\">samples = 3</text>\n<text text-anchor=\"start\" x=\"815\" y=\"-491.3\" font-family=\"Helvetica,sans-Serif\" font-size=\"14.00\">value = [0, 3]</text>\n<text text-anchor=\"start\" x=\"827\" y=\"-476.3\" font-family=\"Helvetica,sans-Serif\" font-size=\"14.00\">class = a</text>\n</g>\n<!-- 18&#45;&gt;20 -->\n<g id=\"edge20\" class=\"edge\">\n<title>18&#45;&gt;20</title>\n<path fill=\"none\" stroke=\"black\" d=\"M780.7,-579.91C791.89,-568.32 804.09,-555.7 815.28,-544.11\"/>\n<polygon fill=\"black\" stroke=\"black\" points=\"818.04,-546.29 822.47,-536.67 813,-541.43 818.04,-546.29\"/>\n</g>\n<!-- 22 -->\n<g id=\"node23\" class=\"node\">\n<title>22</title>\n<path fill=\"#9ccef2\" stroke=\"black\" d=\"M1007,-782C1007,-782 922,-782 922,-782 916,-782 910,-776 910,-770 910,-770 910,-711 910,-711 910,-705 916,-699 922,-699 922,-699 1007,-699 1007,-699 1013,-699 1019,-705 1019,-711 1019,-711 1019,-770 1019,-770 1019,-776 1013,-782 1007,-782\"/>\n<text text-anchor=\"start\" x=\"918\" y=\"-766.8\" font-family=\"Helvetica,sans-Serif\" font-size=\"14.00\">thalach ≤ 151.5</text>\n<text text-anchor=\"start\" x=\"929\" y=\"-751.8\" font-family=\"Helvetica,sans-Serif\" font-size=\"14.00\">gini = 0.444</text>\n<text text-anchor=\"start\" x=\"927\" y=\"-736.8\" font-family=\"Helvetica,sans-Serif\" font-size=\"14.00\">samples = 3</text>\n<text text-anchor=\"start\" x=\"925\" y=\"-721.8\" font-family=\"Helvetica,sans-Serif\" font-size=\"14.00\">value = [1, 2]</text>\n<text text-anchor=\"start\" x=\"937\" y=\"-706.8\" font-family=\"Helvetica,sans-Serif\" font-size=\"14.00\">class = a</text>\n</g>\n<!-- 21&#45;&gt;22 -->\n<g id=\"edge22\" class=\"edge\">\n<title>21&#45;&gt;22</title>\n<path fill=\"none\" stroke=\"black\" d=\"M1004.99,-817.91C1000.37,-809.2 995.45,-799.9 990.67,-790.89\"/>\n<polygon fill=\"black\" stroke=\"black\" points=\"993.75,-789.22 985.97,-782.02 987.56,-792.5 993.75,-789.22\"/>\n</g>\n<!-- 25 -->\n<g id=\"node26\" class=\"node\">\n<title>25</title>\n<path fill=\"#e6843d\" stroke=\"black\" d=\"M1127.5,-782C1127.5,-782 1049.5,-782 1049.5,-782 1043.5,-782 1037.5,-776 1037.5,-770 1037.5,-770 1037.5,-711 1037.5,-711 1037.5,-705 1043.5,-699 1049.5,-699 1049.5,-699 1127.5,-699 1127.5,-699 1133.5,-699 1139.5,-705 1139.5,-711 1139.5,-711 1139.5,-770 1139.5,-770 1139.5,-776 1133.5,-782 1127.5,-782\"/>\n<text text-anchor=\"start\" x=\"1056.5\" y=\"-766.8\" font-family=\"Helvetica,sans-Serif\" font-size=\"14.00\">age ≤ 63.5</text>\n<text text-anchor=\"start\" x=\"1053\" y=\"-751.8\" font-family=\"Helvetica,sans-Serif\" font-size=\"14.00\">gini = 0.039</text>\n<text text-anchor=\"start\" x=\"1047.5\" y=\"-736.8\" font-family=\"Helvetica,sans-Serif\" font-size=\"14.00\">samples = 50</text>\n<text text-anchor=\"start\" x=\"1045.5\" y=\"-721.8\" font-family=\"Helvetica,sans-Serif\" font-size=\"14.00\">value = [49, 1]</text>\n<text text-anchor=\"start\" x=\"1063\" y=\"-706.8\" font-family=\"Helvetica,sans-Serif\" font-size=\"14.00\">class = t</text>\n</g>\n<!-- 21&#45;&gt;25 -->\n<g id=\"edge25\" class=\"edge\">\n<title>21&#45;&gt;25</title>\n<path fill=\"none\" stroke=\"black\" d=\"M1048.01,-817.91C1052.63,-809.2 1057.55,-799.9 1062.33,-790.89\"/>\n<polygon fill=\"black\" stroke=\"black\" points=\"1065.44,-792.5 1067.03,-782.02 1059.25,-789.22 1065.44,-792.5\"/>\n</g>\n<!-- 23 -->\n<g id=\"node24\" class=\"node\">\n<title>23</title>\n<path fill=\"#399de5\" stroke=\"black\" d=\"M890,-655.5C890,-655.5 819,-655.5 819,-655.5 813,-655.5 807,-649.5 807,-643.5 807,-643.5 807,-599.5 807,-599.5 807,-593.5 813,-587.5 819,-587.5 819,-587.5 890,-587.5 890,-587.5 896,-587.5 902,-593.5 902,-599.5 902,-599.5 902,-643.5 902,-643.5 902,-649.5 896,-655.5 890,-655.5\"/>\n<text text-anchor=\"start\" x=\"826.5\" y=\"-640.3\" font-family=\"Helvetica,sans-Serif\" font-size=\"14.00\">gini = 0.0</text>\n<text text-anchor=\"start\" x=\"817\" y=\"-625.3\" font-family=\"Helvetica,sans-Serif\" font-size=\"14.00\">samples = 2</text>\n<text text-anchor=\"start\" x=\"815\" y=\"-610.3\" font-family=\"Helvetica,sans-Serif\" font-size=\"14.00\">value = [0, 2]</text>\n<text text-anchor=\"start\" x=\"827\" y=\"-595.3\" font-family=\"Helvetica,sans-Serif\" font-size=\"14.00\">class = a</text>\n</g>\n<!-- 22&#45;&gt;23 -->\n<g id=\"edge23\" class=\"edge\">\n<title>22&#45;&gt;23</title>\n<path fill=\"none\" stroke=\"black\" d=\"M926.34,-698.91C915.44,-687.32 903.57,-674.7 892.68,-663.11\"/>\n<polygon fill=\"black\" stroke=\"black\" points=\"895.08,-660.56 885.68,-655.67 889.98,-665.35 895.08,-660.56\"/>\n</g>\n<!-- 24 -->\n<g id=\"node25\" class=\"node\">\n<title>24</title>\n<path fill=\"#e58139\" stroke=\"black\" d=\"M1003,-655.5C1003,-655.5 932,-655.5 932,-655.5 926,-655.5 920,-649.5 920,-643.5 920,-643.5 920,-599.5 920,-599.5 920,-593.5 926,-587.5 932,-587.5 932,-587.5 1003,-587.5 1003,-587.5 1009,-587.5 1015,-593.5 1015,-599.5 1015,-599.5 1015,-643.5 1015,-643.5 1015,-649.5 1009,-655.5 1003,-655.5\"/>\n<text text-anchor=\"start\" x=\"939.5\" y=\"-640.3\" font-family=\"Helvetica,sans-Serif\" font-size=\"14.00\">gini = 0.0</text>\n<text text-anchor=\"start\" x=\"930\" y=\"-625.3\" font-family=\"Helvetica,sans-Serif\" font-size=\"14.00\">samples = 1</text>\n<text text-anchor=\"start\" x=\"928\" y=\"-610.3\" font-family=\"Helvetica,sans-Serif\" font-size=\"14.00\">value = [1, 0]</text>\n<text text-anchor=\"start\" x=\"942\" y=\"-595.3\" font-family=\"Helvetica,sans-Serif\" font-size=\"14.00\">class = t</text>\n</g>\n<!-- 22&#45;&gt;24 -->\n<g id=\"edge24\" class=\"edge\">\n<title>22&#45;&gt;24</title>\n<path fill=\"none\" stroke=\"black\" d=\"M965.54,-698.91C965.82,-688.2 966.11,-676.62 966.39,-665.78\"/>\n<polygon fill=\"black\" stroke=\"black\" points=\"969.89,-665.75 966.65,-655.67 962.89,-665.57 969.89,-665.75\"/>\n</g>\n<!-- 26 -->\n<g id=\"node27\" class=\"node\">\n<title>26</title>\n<path fill=\"#e58139\" stroke=\"black\" d=\"M1123.5,-655.5C1123.5,-655.5 1045.5,-655.5 1045.5,-655.5 1039.5,-655.5 1033.5,-649.5 1033.5,-643.5 1033.5,-643.5 1033.5,-599.5 1033.5,-599.5 1033.5,-593.5 1039.5,-587.5 1045.5,-587.5 1045.5,-587.5 1123.5,-587.5 1123.5,-587.5 1129.5,-587.5 1135.5,-593.5 1135.5,-599.5 1135.5,-599.5 1135.5,-643.5 1135.5,-643.5 1135.5,-649.5 1129.5,-655.5 1123.5,-655.5\"/>\n<text text-anchor=\"start\" x=\"1056.5\" y=\"-640.3\" font-family=\"Helvetica,sans-Serif\" font-size=\"14.00\">gini = 0.0</text>\n<text text-anchor=\"start\" x=\"1043.5\" y=\"-625.3\" font-family=\"Helvetica,sans-Serif\" font-size=\"14.00\">samples = 42</text>\n<text text-anchor=\"start\" x=\"1041.5\" y=\"-610.3\" font-family=\"Helvetica,sans-Serif\" font-size=\"14.00\">value = [42, 0]</text>\n<text text-anchor=\"start\" x=\"1059\" y=\"-595.3\" font-family=\"Helvetica,sans-Serif\" font-size=\"14.00\">class = t</text>\n</g>\n<!-- 25&#45;&gt;26 -->\n<g id=\"edge26\" class=\"edge\">\n<title>25&#45;&gt;26</title>\n<path fill=\"none\" stroke=\"black\" d=\"M1087.11,-698.91C1086.75,-688.2 1086.35,-676.62 1085.98,-665.78\"/>\n<polygon fill=\"black\" stroke=\"black\" points=\"1089.47,-665.54 1085.63,-655.67 1082.48,-665.78 1089.47,-665.54\"/>\n</g>\n<!-- 27 -->\n<g id=\"node28\" class=\"node\">\n<title>27</title>\n<path fill=\"#e99355\" stroke=\"black\" d=\"M1237,-663C1237,-663 1166,-663 1166,-663 1160,-663 1154,-657 1154,-651 1154,-651 1154,-592 1154,-592 1154,-586 1160,-580 1166,-580 1166,-580 1237,-580 1237,-580 1243,-580 1249,-586 1249,-592 1249,-592 1249,-651 1249,-651 1249,-657 1243,-663 1237,-663\"/>\n<text text-anchor=\"start\" x=\"1162\" y=\"-647.8\" font-family=\"Helvetica,sans-Serif\" font-size=\"14.00\">restecg ≤ 0.5</text>\n<text text-anchor=\"start\" x=\"1166\" y=\"-632.8\" font-family=\"Helvetica,sans-Serif\" font-size=\"14.00\">gini = 0.219</text>\n<text text-anchor=\"start\" x=\"1164\" y=\"-617.8\" font-family=\"Helvetica,sans-Serif\" font-size=\"14.00\">samples = 8</text>\n<text text-anchor=\"start\" x=\"1162\" y=\"-602.8\" font-family=\"Helvetica,sans-Serif\" font-size=\"14.00\">value = [7, 1]</text>\n<text text-anchor=\"start\" x=\"1176\" y=\"-587.8\" font-family=\"Helvetica,sans-Serif\" font-size=\"14.00\">class = t</text>\n</g>\n<!-- 25&#45;&gt;27 -->\n<g id=\"edge27\" class=\"edge\">\n<title>25&#45;&gt;27</title>\n<path fill=\"none\" stroke=\"black\" d=\"M1127.7,-698.91C1136.56,-689.74 1146.04,-679.93 1155.15,-670.49\"/>\n<polygon fill=\"black\" stroke=\"black\" points=\"1157.93,-672.65 1162.36,-663.02 1152.9,-667.78 1157.93,-672.65\"/>\n</g>\n<!-- 28 -->\n<g id=\"node29\" class=\"node\">\n<title>28</title>\n<path fill=\"#e58139\" stroke=\"black\" d=\"M1124,-536.5C1124,-536.5 1053,-536.5 1053,-536.5 1047,-536.5 1041,-530.5 1041,-524.5 1041,-524.5 1041,-480.5 1041,-480.5 1041,-474.5 1047,-468.5 1053,-468.5 1053,-468.5 1124,-468.5 1124,-468.5 1130,-468.5 1136,-474.5 1136,-480.5 1136,-480.5 1136,-524.5 1136,-524.5 1136,-530.5 1130,-536.5 1124,-536.5\"/>\n<text text-anchor=\"start\" x=\"1060.5\" y=\"-521.3\" font-family=\"Helvetica,sans-Serif\" font-size=\"14.00\">gini = 0.0</text>\n<text text-anchor=\"start\" x=\"1051\" y=\"-506.3\" font-family=\"Helvetica,sans-Serif\" font-size=\"14.00\">samples = 6</text>\n<text text-anchor=\"start\" x=\"1049\" y=\"-491.3\" font-family=\"Helvetica,sans-Serif\" font-size=\"14.00\">value = [6, 0]</text>\n<text text-anchor=\"start\" x=\"1063\" y=\"-476.3\" font-family=\"Helvetica,sans-Serif\" font-size=\"14.00\">class = t</text>\n</g>\n<!-- 27&#45;&gt;28 -->\n<g id=\"edge28\" class=\"edge\">\n<title>27&#45;&gt;28</title>\n<path fill=\"none\" stroke=\"black\" d=\"M1162.3,-579.91C1151.11,-568.32 1138.91,-555.7 1127.72,-544.11\"/>\n<polygon fill=\"black\" stroke=\"black\" points=\"1130,-541.43 1120.53,-536.67 1124.96,-546.29 1130,-541.43\"/>\n</g>\n<!-- 29 -->\n<g id=\"node30\" class=\"node\">\n<title>29</title>\n<path fill=\"#ffffff\" stroke=\"black\" d=\"M1237,-544C1237,-544 1166,-544 1166,-544 1160,-544 1154,-538 1154,-532 1154,-532 1154,-473 1154,-473 1154,-467 1160,-461 1166,-461 1166,-461 1237,-461 1237,-461 1243,-461 1249,-467 1249,-473 1249,-473 1249,-532 1249,-532 1249,-538 1243,-544 1237,-544\"/>\n<text text-anchor=\"start\" x=\"1169.5\" y=\"-528.8\" font-family=\"Helvetica,sans-Serif\" font-size=\"14.00\">age ≤ 65.5</text>\n<text text-anchor=\"start\" x=\"1173.5\" y=\"-513.8\" font-family=\"Helvetica,sans-Serif\" font-size=\"14.00\">gini = 0.5</text>\n<text text-anchor=\"start\" x=\"1164\" y=\"-498.8\" font-family=\"Helvetica,sans-Serif\" font-size=\"14.00\">samples = 2</text>\n<text text-anchor=\"start\" x=\"1162\" y=\"-483.8\" font-family=\"Helvetica,sans-Serif\" font-size=\"14.00\">value = [1, 1]</text>\n<text text-anchor=\"start\" x=\"1176\" y=\"-468.8\" font-family=\"Helvetica,sans-Serif\" font-size=\"14.00\">class = t</text>\n</g>\n<!-- 27&#45;&gt;29 -->\n<g id=\"edge29\" class=\"edge\">\n<title>27&#45;&gt;29</title>\n<path fill=\"none\" stroke=\"black\" d=\"M1201.5,-579.91C1201.5,-571.65 1201.5,-562.86 1201.5,-554.3\"/>\n<polygon fill=\"black\" stroke=\"black\" points=\"1205,-554.02 1201.5,-544.02 1198,-554.02 1205,-554.02\"/>\n</g>\n<!-- 30 -->\n<g id=\"node31\" class=\"node\">\n<title>30</title>\n<path fill=\"#399de5\" stroke=\"black\" d=\"M1124,-417.5C1124,-417.5 1053,-417.5 1053,-417.5 1047,-417.5 1041,-411.5 1041,-405.5 1041,-405.5 1041,-361.5 1041,-361.5 1041,-355.5 1047,-349.5 1053,-349.5 1053,-349.5 1124,-349.5 1124,-349.5 1130,-349.5 1136,-355.5 1136,-361.5 1136,-361.5 1136,-405.5 1136,-405.5 1136,-411.5 1130,-417.5 1124,-417.5\"/>\n<text text-anchor=\"start\" x=\"1060.5\" y=\"-402.3\" font-family=\"Helvetica,sans-Serif\" font-size=\"14.00\">gini = 0.0</text>\n<text text-anchor=\"start\" x=\"1051\" y=\"-387.3\" font-family=\"Helvetica,sans-Serif\" font-size=\"14.00\">samples = 1</text>\n<text text-anchor=\"start\" x=\"1049\" y=\"-372.3\" font-family=\"Helvetica,sans-Serif\" font-size=\"14.00\">value = [0, 1]</text>\n<text text-anchor=\"start\" x=\"1061\" y=\"-357.3\" font-family=\"Helvetica,sans-Serif\" font-size=\"14.00\">class = a</text>\n</g>\n<!-- 29&#45;&gt;30 -->\n<g id=\"edge30\" class=\"edge\">\n<title>29&#45;&gt;30</title>\n<path fill=\"none\" stroke=\"black\" d=\"M1162.3,-460.91C1151.11,-449.32 1138.91,-436.7 1127.72,-425.11\"/>\n<polygon fill=\"black\" stroke=\"black\" points=\"1130,-422.43 1120.53,-417.67 1124.96,-427.29 1130,-422.43\"/>\n</g>\n<!-- 31 -->\n<g id=\"node32\" class=\"node\">\n<title>31</title>\n<path fill=\"#e58139\" stroke=\"black\" d=\"M1237,-417.5C1237,-417.5 1166,-417.5 1166,-417.5 1160,-417.5 1154,-411.5 1154,-405.5 1154,-405.5 1154,-361.5 1154,-361.5 1154,-355.5 1160,-349.5 1166,-349.5 1166,-349.5 1237,-349.5 1237,-349.5 1243,-349.5 1249,-355.5 1249,-361.5 1249,-361.5 1249,-405.5 1249,-405.5 1249,-411.5 1243,-417.5 1237,-417.5\"/>\n<text text-anchor=\"start\" x=\"1173.5\" y=\"-402.3\" font-family=\"Helvetica,sans-Serif\" font-size=\"14.00\">gini = 0.0</text>\n<text text-anchor=\"start\" x=\"1164\" y=\"-387.3\" font-family=\"Helvetica,sans-Serif\" font-size=\"14.00\">samples = 1</text>\n<text text-anchor=\"start\" x=\"1162\" y=\"-372.3\" font-family=\"Helvetica,sans-Serif\" font-size=\"14.00\">value = [1, 0]</text>\n<text text-anchor=\"start\" x=\"1176\" y=\"-357.3\" font-family=\"Helvetica,sans-Serif\" font-size=\"14.00\">class = t</text>\n</g>\n<!-- 29&#45;&gt;31 -->\n<g id=\"edge31\" class=\"edge\">\n<title>29&#45;&gt;31</title>\n<path fill=\"none\" stroke=\"black\" d=\"M1201.5,-460.91C1201.5,-450.2 1201.5,-438.62 1201.5,-427.78\"/>\n<polygon fill=\"black\" stroke=\"black\" points=\"1205,-427.67 1201.5,-417.67 1198,-427.67 1205,-427.67\"/>\n</g>\n<!-- 33 -->\n<g id=\"node34\" class=\"node\">\n<title>33</title>\n<path fill=\"#52a9e8\" stroke=\"black\" d=\"M1647.5,-901C1647.5,-901 1569.5,-901 1569.5,-901 1563.5,-901 1557.5,-895 1557.5,-889 1557.5,-889 1557.5,-830 1557.5,-830 1557.5,-824 1563.5,-818 1569.5,-818 1569.5,-818 1647.5,-818 1647.5,-818 1653.5,-818 1659.5,-824 1659.5,-830 1659.5,-830 1659.5,-889 1659.5,-889 1659.5,-895 1653.5,-901 1647.5,-901\"/>\n<text text-anchor=\"start\" x=\"1584\" y=\"-885.8\" font-family=\"Helvetica,sans-Serif\" font-size=\"14.00\">ca ≤ 0.5</text>\n<text text-anchor=\"start\" x=\"1573\" y=\"-870.8\" font-family=\"Helvetica,sans-Serif\" font-size=\"14.00\">gini = 0.198</text>\n<text text-anchor=\"start\" x=\"1567.5\" y=\"-855.8\" font-family=\"Helvetica,sans-Serif\" font-size=\"14.00\">samples = 81</text>\n<text text-anchor=\"start\" x=\"1565.5\" y=\"-840.8\" font-family=\"Helvetica,sans-Serif\" font-size=\"14.00\">value = [9, 72]</text>\n<text text-anchor=\"start\" x=\"1581\" y=\"-825.8\" font-family=\"Helvetica,sans-Serif\" font-size=\"14.00\">class = a</text>\n</g>\n<!-- 32&#45;&gt;33 -->\n<g id=\"edge33\" class=\"edge\">\n<title>32&#45;&gt;33</title>\n<path fill=\"none\" stroke=\"black\" d=\"M1608.5,-936.91C1608.5,-928.65 1608.5,-919.86 1608.5,-911.3\"/>\n<polygon fill=\"black\" stroke=\"black\" points=\"1612,-911.02 1608.5,-901.02 1605,-911.02 1612,-911.02\"/>\n</g>\n<!-- 58 -->\n<g id=\"node59\" class=\"node\">\n<title>58</title>\n<path fill=\"#c5e2f7\" stroke=\"black\" d=\"M1928.5,-901C1928.5,-901 1842.5,-901 1842.5,-901 1836.5,-901 1830.5,-895 1830.5,-889 1830.5,-889 1830.5,-830 1830.5,-830 1830.5,-824 1836.5,-818 1842.5,-818 1842.5,-818 1928.5,-818 1928.5,-818 1934.5,-818 1940.5,-824 1940.5,-830 1940.5,-830 1940.5,-889 1940.5,-889 1940.5,-895 1934.5,-901 1928.5,-901\"/>\n<text text-anchor=\"start\" x=\"1839\" y=\"-885.8\" font-family=\"Helvetica,sans-Serif\" font-size=\"14.00\">thalach ≤ 132.5</text>\n<text text-anchor=\"start\" x=\"1850\" y=\"-870.8\" font-family=\"Helvetica,sans-Serif\" font-size=\"14.00\">gini = 0.485</text>\n<text text-anchor=\"start\" x=\"1844.5\" y=\"-855.8\" font-family=\"Helvetica,sans-Serif\" font-size=\"14.00\">samples = 29</text>\n<text text-anchor=\"start\" x=\"1838.5\" y=\"-840.8\" font-family=\"Helvetica,sans-Serif\" font-size=\"14.00\">value = [12, 17]</text>\n<text text-anchor=\"start\" x=\"1858\" y=\"-825.8\" font-family=\"Helvetica,sans-Serif\" font-size=\"14.00\">class = a</text>\n</g>\n<!-- 32&#45;&gt;58 -->\n<g id=\"edge58\" class=\"edge\">\n<title>32&#45;&gt;58</title>\n<path fill=\"none\" stroke=\"black\" d=\"M1663.56,-954.24C1708.82,-935.13 1773.04,-908 1820.76,-887.85\"/>\n<polygon fill=\"black\" stroke=\"black\" points=\"1822.22,-891.03 1830.07,-883.91 1819.5,-884.58 1822.22,-891.03\"/>\n</g>\n<!-- 34 -->\n<g id=\"node35\" class=\"node\">\n<title>34</title>\n<path fill=\"#40a0e6\" stroke=\"black\" d=\"M1588,-782C1588,-782 1507,-782 1507,-782 1501,-782 1495,-776 1495,-770 1495,-770 1495,-711 1495,-711 1495,-705 1501,-699 1507,-699 1507,-699 1588,-699 1588,-699 1594,-699 1600,-705 1600,-711 1600,-711 1600,-770 1600,-770 1600,-776 1594,-782 1588,-782\"/>\n<text text-anchor=\"start\" x=\"1503\" y=\"-766.8\" font-family=\"Helvetica,sans-Serif\" font-size=\"14.00\">oldpeak ≤ 3.55</text>\n<text text-anchor=\"start\" x=\"1512\" y=\"-751.8\" font-family=\"Helvetica,sans-Serif\" font-size=\"14.00\">gini = 0.067</text>\n<text text-anchor=\"start\" x=\"1506.5\" y=\"-736.8\" font-family=\"Helvetica,sans-Serif\" font-size=\"14.00\">samples = 58</text>\n<text text-anchor=\"start\" x=\"1504.5\" y=\"-721.8\" font-family=\"Helvetica,sans-Serif\" font-size=\"14.00\">value = [2, 56]</text>\n<text text-anchor=\"start\" x=\"1520\" y=\"-706.8\" font-family=\"Helvetica,sans-Serif\" font-size=\"14.00\">class = a</text>\n</g>\n<!-- 33&#45;&gt;34 -->\n<g id=\"edge34\" class=\"edge\">\n<title>33&#45;&gt;34</title>\n<path fill=\"none\" stroke=\"black\" d=\"M1587.34,-817.91C1582.79,-809.2 1577.95,-799.9 1573.25,-790.89\"/>\n<polygon fill=\"black\" stroke=\"black\" points=\"1576.35,-789.27 1568.63,-782.02 1570.15,-792.51 1576.35,-789.27\"/>\n</g>\n<!-- 43 -->\n<g id=\"node44\" class=\"node\">\n<title>43</title>\n<path fill=\"#90c8f0\" stroke=\"black\" d=\"M1711,-782C1711,-782 1630,-782 1630,-782 1624,-782 1618,-776 1618,-770 1618,-770 1618,-711 1618,-711 1618,-705 1624,-699 1630,-699 1630,-699 1711,-699 1711,-699 1717,-699 1723,-705 1723,-711 1723,-711 1723,-770 1723,-770 1723,-776 1717,-782 1711,-782\"/>\n<text text-anchor=\"start\" x=\"1626\" y=\"-766.8\" font-family=\"Helvetica,sans-Serif\" font-size=\"14.00\">oldpeak ≤ 2.05</text>\n<text text-anchor=\"start\" x=\"1635\" y=\"-751.8\" font-family=\"Helvetica,sans-Serif\" font-size=\"14.00\">gini = 0.423</text>\n<text text-anchor=\"start\" x=\"1629.5\" y=\"-736.8\" font-family=\"Helvetica,sans-Serif\" font-size=\"14.00\">samples = 23</text>\n<text text-anchor=\"start\" x=\"1627.5\" y=\"-721.8\" font-family=\"Helvetica,sans-Serif\" font-size=\"14.00\">value = [7, 16]</text>\n<text text-anchor=\"start\" x=\"1643\" y=\"-706.8\" font-family=\"Helvetica,sans-Serif\" font-size=\"14.00\">class = a</text>\n</g>\n<!-- 33&#45;&gt;43 -->\n<g id=\"edge43\" class=\"edge\">\n<title>33&#45;&gt;43</title>\n<path fill=\"none\" stroke=\"black\" d=\"M1630.01,-817.91C1634.63,-809.2 1639.55,-799.9 1644.33,-790.89\"/>\n<polygon fill=\"black\" stroke=\"black\" points=\"1647.44,-792.5 1649.03,-782.02 1641.25,-789.22 1647.44,-792.5\"/>\n</g>\n<!-- 35 -->\n<g id=\"node36\" class=\"node\">\n<title>35</title>\n<path fill=\"#3d9fe5\" stroke=\"black\" d=\"M1472,-663C1472,-663 1383,-663 1383,-663 1377,-663 1371,-657 1371,-651 1371,-651 1371,-592 1371,-592 1371,-586 1377,-580 1383,-580 1383,-580 1472,-580 1472,-580 1478,-580 1484,-586 1484,-592 1484,-592 1484,-651 1484,-651 1484,-657 1478,-663 1472,-663\"/>\n<text text-anchor=\"start\" x=\"1379\" y=\"-647.8\" font-family=\"Helvetica,sans-Serif\" font-size=\"14.00\">trestbps ≤ 109.0</text>\n<text text-anchor=\"start\" x=\"1392\" y=\"-632.8\" font-family=\"Helvetica,sans-Serif\" font-size=\"14.00\">gini = 0.034</text>\n<text text-anchor=\"start\" x=\"1386.5\" y=\"-617.8\" font-family=\"Helvetica,sans-Serif\" font-size=\"14.00\">samples = 57</text>\n<text text-anchor=\"start\" x=\"1384.5\" y=\"-602.8\" font-family=\"Helvetica,sans-Serif\" font-size=\"14.00\">value = [1, 56]</text>\n<text text-anchor=\"start\" x=\"1400\" y=\"-587.8\" font-family=\"Helvetica,sans-Serif\" font-size=\"14.00\">class = a</text>\n</g>\n<!-- 34&#45;&gt;35 -->\n<g id=\"edge35\" class=\"edge\">\n<title>34&#45;&gt;35</title>\n<path fill=\"none\" stroke=\"black\" d=\"M1505.87,-698.91C1496.37,-689.65 1486.2,-679.73 1476.43,-670.21\"/>\n<polygon fill=\"black\" stroke=\"black\" points=\"1478.66,-667.5 1469.06,-663.02 1473.78,-672.51 1478.66,-667.5\"/>\n</g>\n<!-- 42 -->\n<g id=\"node43\" class=\"node\">\n<title>42</title>\n<path fill=\"#e58139\" stroke=\"black\" d=\"M1585,-655.5C1585,-655.5 1514,-655.5 1514,-655.5 1508,-655.5 1502,-649.5 1502,-643.5 1502,-643.5 1502,-599.5 1502,-599.5 1502,-593.5 1508,-587.5 1514,-587.5 1514,-587.5 1585,-587.5 1585,-587.5 1591,-587.5 1597,-593.5 1597,-599.5 1597,-599.5 1597,-643.5 1597,-643.5 1597,-649.5 1591,-655.5 1585,-655.5\"/>\n<text text-anchor=\"start\" x=\"1521.5\" y=\"-640.3\" font-family=\"Helvetica,sans-Serif\" font-size=\"14.00\">gini = 0.0</text>\n<text text-anchor=\"start\" x=\"1512\" y=\"-625.3\" font-family=\"Helvetica,sans-Serif\" font-size=\"14.00\">samples = 1</text>\n<text text-anchor=\"start\" x=\"1510\" y=\"-610.3\" font-family=\"Helvetica,sans-Serif\" font-size=\"14.00\">value = [1, 0]</text>\n<text text-anchor=\"start\" x=\"1524\" y=\"-595.3\" font-family=\"Helvetica,sans-Serif\" font-size=\"14.00\">class = t</text>\n</g>\n<!-- 34&#45;&gt;42 -->\n<g id=\"edge42\" class=\"edge\">\n<title>34&#45;&gt;42</title>\n<path fill=\"none\" stroke=\"black\" d=\"M1548.19,-698.91C1548.38,-688.2 1548.57,-676.62 1548.76,-665.78\"/>\n<polygon fill=\"black\" stroke=\"black\" points=\"1552.26,-665.73 1548.93,-655.67 1545.26,-665.61 1552.26,-665.73\"/>\n</g>\n<!-- 36 -->\n<g id=\"node37\" class=\"node\">\n<title>36</title>\n<path fill=\"#6ab6ec\" stroke=\"black\" d=\"M1436,-544C1436,-544 1365,-544 1365,-544 1359,-544 1353,-538 1353,-532 1353,-532 1353,-473 1353,-473 1353,-467 1359,-461 1365,-461 1365,-461 1436,-461 1436,-461 1442,-461 1448,-467 1448,-473 1448,-473 1448,-532 1448,-532 1448,-538 1442,-544 1436,-544\"/>\n<text text-anchor=\"start\" x=\"1363.5\" y=\"-528.8\" font-family=\"Helvetica,sans-Serif\" font-size=\"14.00\">chol ≤ 232.5</text>\n<text text-anchor=\"start\" x=\"1368.5\" y=\"-513.8\" font-family=\"Helvetica,sans-Serif\" font-size=\"14.00\">gini = 0.32</text>\n<text text-anchor=\"start\" x=\"1363\" y=\"-498.8\" font-family=\"Helvetica,sans-Serif\" font-size=\"14.00\">samples = 5</text>\n<text text-anchor=\"start\" x=\"1361\" y=\"-483.8\" font-family=\"Helvetica,sans-Serif\" font-size=\"14.00\">value = [1, 4]</text>\n<text text-anchor=\"start\" x=\"1373\" y=\"-468.8\" font-family=\"Helvetica,sans-Serif\" font-size=\"14.00\">class = a</text>\n</g>\n<!-- 35&#45;&gt;36 -->\n<g id=\"edge36\" class=\"edge\">\n<title>35&#45;&gt;36</title>\n<path fill=\"none\" stroke=\"black\" d=\"M1418.13,-579.91C1416.21,-571.56 1414.15,-562.67 1412.16,-554.02\"/>\n<polygon fill=\"black\" stroke=\"black\" points=\"1415.51,-552.98 1409.85,-544.02 1408.69,-554.55 1415.51,-552.98\"/>\n</g>\n<!-- 41 -->\n<g id=\"node42\" class=\"node\">\n<title>41</title>\n<path fill=\"#399de5\" stroke=\"black\" d=\"M1556.5,-536.5C1556.5,-536.5 1478.5,-536.5 1478.5,-536.5 1472.5,-536.5 1466.5,-530.5 1466.5,-524.5 1466.5,-524.5 1466.5,-480.5 1466.5,-480.5 1466.5,-474.5 1472.5,-468.5 1478.5,-468.5 1478.5,-468.5 1556.5,-468.5 1556.5,-468.5 1562.5,-468.5 1568.5,-474.5 1568.5,-480.5 1568.5,-480.5 1568.5,-524.5 1568.5,-524.5 1568.5,-530.5 1562.5,-536.5 1556.5,-536.5\"/>\n<text text-anchor=\"start\" x=\"1489.5\" y=\"-521.3\" font-family=\"Helvetica,sans-Serif\" font-size=\"14.00\">gini = 0.0</text>\n<text text-anchor=\"start\" x=\"1476.5\" y=\"-506.3\" font-family=\"Helvetica,sans-Serif\" font-size=\"14.00\">samples = 52</text>\n<text text-anchor=\"start\" x=\"1474.5\" y=\"-491.3\" font-family=\"Helvetica,sans-Serif\" font-size=\"14.00\">value = [0, 52]</text>\n<text text-anchor=\"start\" x=\"1490\" y=\"-476.3\" font-family=\"Helvetica,sans-Serif\" font-size=\"14.00\">class = a</text>\n</g>\n<!-- 35&#45;&gt;41 -->\n<g id=\"edge41\" class=\"edge\">\n<title>35&#45;&gt;41</title>\n<path fill=\"none\" stroke=\"black\" d=\"M1458.73,-579.91C1467.47,-568.54 1476.98,-556.18 1485.75,-544.77\"/>\n<polygon fill=\"black\" stroke=\"black\" points=\"1488.66,-546.73 1491.99,-536.67 1483.12,-542.46 1488.66,-546.73\"/>\n</g>\n<!-- 37 -->\n<g id=\"node38\" class=\"node\">\n<title>37</title>\n<path fill=\"#399de5\" stroke=\"black\" d=\"M1350,-417.5C1350,-417.5 1279,-417.5 1279,-417.5 1273,-417.5 1267,-411.5 1267,-405.5 1267,-405.5 1267,-361.5 1267,-361.5 1267,-355.5 1273,-349.5 1279,-349.5 1279,-349.5 1350,-349.5 1350,-349.5 1356,-349.5 1362,-355.5 1362,-361.5 1362,-361.5 1362,-405.5 1362,-405.5 1362,-411.5 1356,-417.5 1350,-417.5\"/>\n<text text-anchor=\"start\" x=\"1286.5\" y=\"-402.3\" font-family=\"Helvetica,sans-Serif\" font-size=\"14.00\">gini = 0.0</text>\n<text text-anchor=\"start\" x=\"1277\" y=\"-387.3\" font-family=\"Helvetica,sans-Serif\" font-size=\"14.00\">samples = 3</text>\n<text text-anchor=\"start\" x=\"1275\" y=\"-372.3\" font-family=\"Helvetica,sans-Serif\" font-size=\"14.00\">value = [0, 3]</text>\n<text text-anchor=\"start\" x=\"1287\" y=\"-357.3\" font-family=\"Helvetica,sans-Serif\" font-size=\"14.00\">class = a</text>\n</g>\n<!-- 36&#45;&gt;37 -->\n<g id=\"edge37\" class=\"edge\">\n<title>36&#45;&gt;37</title>\n<path fill=\"none\" stroke=\"black\" d=\"M1370.66,-460.91C1362.31,-449.54 1353.22,-437.18 1344.84,-425.77\"/>\n<polygon fill=\"black\" stroke=\"black\" points=\"1347.62,-423.65 1338.88,-417.67 1341.98,-427.8 1347.62,-423.65\"/>\n</g>\n<!-- 38 -->\n<g id=\"node39\" class=\"node\">\n<title>38</title>\n<path fill=\"#ffffff\" stroke=\"black\" d=\"M1463,-425C1463,-425 1392,-425 1392,-425 1386,-425 1380,-419 1380,-413 1380,-413 1380,-354 1380,-354 1380,-348 1386,-342 1392,-342 1392,-342 1463,-342 1463,-342 1469,-342 1475,-348 1475,-354 1475,-354 1475,-413 1475,-413 1475,-419 1469,-425 1463,-425\"/>\n<text text-anchor=\"start\" x=\"1395.5\" y=\"-409.8\" font-family=\"Helvetica,sans-Serif\" font-size=\"14.00\">age ≤ 50.5</text>\n<text text-anchor=\"start\" x=\"1399.5\" y=\"-394.8\" font-family=\"Helvetica,sans-Serif\" font-size=\"14.00\">gini = 0.5</text>\n<text text-anchor=\"start\" x=\"1390\" y=\"-379.8\" font-family=\"Helvetica,sans-Serif\" font-size=\"14.00\">samples = 2</text>\n<text text-anchor=\"start\" x=\"1388\" y=\"-364.8\" font-family=\"Helvetica,sans-Serif\" font-size=\"14.00\">value = [1, 1]</text>\n<text text-anchor=\"start\" x=\"1402\" y=\"-349.8\" font-family=\"Helvetica,sans-Serif\" font-size=\"14.00\">class = t</text>\n</g>\n<!-- 36&#45;&gt;38 -->\n<g id=\"edge38\" class=\"edge\">\n<title>36&#45;&gt;38</title>\n<path fill=\"none\" stroke=\"black\" d=\"M1409.87,-460.91C1411.79,-452.56 1413.85,-443.67 1415.84,-435.02\"/>\n<polygon fill=\"black\" stroke=\"black\" points=\"1419.31,-435.55 1418.15,-425.02 1412.49,-433.98 1419.31,-435.55\"/>\n</g>\n<!-- 39 -->\n<g id=\"node40\" class=\"node\">\n<title>39</title>\n<path fill=\"#e58139\" stroke=\"black\" d=\"M1407,-298.5C1407,-298.5 1336,-298.5 1336,-298.5 1330,-298.5 1324,-292.5 1324,-286.5 1324,-286.5 1324,-242.5 1324,-242.5 1324,-236.5 1330,-230.5 1336,-230.5 1336,-230.5 1407,-230.5 1407,-230.5 1413,-230.5 1419,-236.5 1419,-242.5 1419,-242.5 1419,-286.5 1419,-286.5 1419,-292.5 1413,-298.5 1407,-298.5\"/>\n<text text-anchor=\"start\" x=\"1343.5\" y=\"-283.3\" font-family=\"Helvetica,sans-Serif\" font-size=\"14.00\">gini = 0.0</text>\n<text text-anchor=\"start\" x=\"1334\" y=\"-268.3\" font-family=\"Helvetica,sans-Serif\" font-size=\"14.00\">samples = 1</text>\n<text text-anchor=\"start\" x=\"1332\" y=\"-253.3\" font-family=\"Helvetica,sans-Serif\" font-size=\"14.00\">value = [1, 0]</text>\n<text text-anchor=\"start\" x=\"1346\" y=\"-238.3\" font-family=\"Helvetica,sans-Serif\" font-size=\"14.00\">class = t</text>\n</g>\n<!-- 38&#45;&gt;39 -->\n<g id=\"edge39\" class=\"edge\">\n<title>38&#45;&gt;39</title>\n<path fill=\"none\" stroke=\"black\" d=\"M1408.07,-341.91C1402.79,-330.87 1397.06,-318.9 1391.73,-307.77\"/>\n<polygon fill=\"black\" stroke=\"black\" points=\"1394.85,-306.18 1387.37,-298.67 1388.54,-309.2 1394.85,-306.18\"/>\n</g>\n<!-- 40 -->\n<g id=\"node41\" class=\"node\">\n<title>40</title>\n<path fill=\"#399de5\" stroke=\"black\" d=\"M1520,-298.5C1520,-298.5 1449,-298.5 1449,-298.5 1443,-298.5 1437,-292.5 1437,-286.5 1437,-286.5 1437,-242.5 1437,-242.5 1437,-236.5 1443,-230.5 1449,-230.5 1449,-230.5 1520,-230.5 1520,-230.5 1526,-230.5 1532,-236.5 1532,-242.5 1532,-242.5 1532,-286.5 1532,-286.5 1532,-292.5 1526,-298.5 1520,-298.5\"/>\n<text text-anchor=\"start\" x=\"1456.5\" y=\"-283.3\" font-family=\"Helvetica,sans-Serif\" font-size=\"14.00\">gini = 0.0</text>\n<text text-anchor=\"start\" x=\"1447\" y=\"-268.3\" font-family=\"Helvetica,sans-Serif\" font-size=\"14.00\">samples = 1</text>\n<text text-anchor=\"start\" x=\"1445\" y=\"-253.3\" font-family=\"Helvetica,sans-Serif\" font-size=\"14.00\">value = [0, 1]</text>\n<text text-anchor=\"start\" x=\"1457\" y=\"-238.3\" font-family=\"Helvetica,sans-Serif\" font-size=\"14.00\">class = a</text>\n</g>\n<!-- 38&#45;&gt;40 -->\n<g id=\"edge40\" class=\"edge\">\n<title>38&#45;&gt;40</title>\n<path fill=\"none\" stroke=\"black\" d=\"M1447.28,-341.91C1452.65,-330.87 1458.49,-318.9 1463.91,-307.77\"/>\n<polygon fill=\"black\" stroke=\"black\" points=\"1467.11,-309.19 1468.34,-298.67 1460.82,-306.12 1467.11,-309.19\"/>\n</g>\n<!-- 44 -->\n<g id=\"node45\" class=\"node\">\n<title>44</title>\n<path fill=\"#77bced\" stroke=\"black\" d=\"M1708.5,-663C1708.5,-663 1630.5,-663 1630.5,-663 1624.5,-663 1618.5,-657 1618.5,-651 1618.5,-651 1618.5,-592 1618.5,-592 1618.5,-586 1624.5,-580 1630.5,-580 1630.5,-580 1708.5,-580 1708.5,-580 1714.5,-580 1720.5,-586 1720.5,-592 1720.5,-592 1720.5,-651 1720.5,-651 1720.5,-657 1714.5,-663 1708.5,-663\"/>\n<text text-anchor=\"start\" x=\"1645\" y=\"-647.8\" font-family=\"Helvetica,sans-Serif\" font-size=\"14.00\">cp ≤ 1.5</text>\n<text text-anchor=\"start\" x=\"1634\" y=\"-632.8\" font-family=\"Helvetica,sans-Serif\" font-size=\"14.00\">gini = 0.363</text>\n<text text-anchor=\"start\" x=\"1628.5\" y=\"-617.8\" font-family=\"Helvetica,sans-Serif\" font-size=\"14.00\">samples = 21</text>\n<text text-anchor=\"start\" x=\"1626.5\" y=\"-602.8\" font-family=\"Helvetica,sans-Serif\" font-size=\"14.00\">value = [5, 16]</text>\n<text text-anchor=\"start\" x=\"1642\" y=\"-587.8\" font-family=\"Helvetica,sans-Serif\" font-size=\"14.00\">class = a</text>\n</g>\n<!-- 43&#45;&gt;44 -->\n<g id=\"edge44\" class=\"edge\">\n<title>43&#45;&gt;44</title>\n<path fill=\"none\" stroke=\"black\" d=\"M1670.15,-698.91C1670.08,-690.65 1670.01,-681.86 1669.93,-673.3\"/>\n<polygon fill=\"black\" stroke=\"black\" points=\"1673.43,-672.99 1669.85,-663.02 1666.43,-673.05 1673.43,-672.99\"/>\n</g>\n<!-- 57 -->\n<g id=\"node58\" class=\"node\">\n<title>57</title>\n<path fill=\"#e58139\" stroke=\"black\" d=\"M1822,-655.5C1822,-655.5 1751,-655.5 1751,-655.5 1745,-655.5 1739,-649.5 1739,-643.5 1739,-643.5 1739,-599.5 1739,-599.5 1739,-593.5 1745,-587.5 1751,-587.5 1751,-587.5 1822,-587.5 1822,-587.5 1828,-587.5 1834,-593.5 1834,-599.5 1834,-599.5 1834,-643.5 1834,-643.5 1834,-649.5 1828,-655.5 1822,-655.5\"/>\n<text text-anchor=\"start\" x=\"1758.5\" y=\"-640.3\" font-family=\"Helvetica,sans-Serif\" font-size=\"14.00\">gini = 0.0</text>\n<text text-anchor=\"start\" x=\"1749\" y=\"-625.3\" font-family=\"Helvetica,sans-Serif\" font-size=\"14.00\">samples = 2</text>\n<text text-anchor=\"start\" x=\"1747\" y=\"-610.3\" font-family=\"Helvetica,sans-Serif\" font-size=\"14.00\">value = [2, 0]</text>\n<text text-anchor=\"start\" x=\"1761\" y=\"-595.3\" font-family=\"Helvetica,sans-Serif\" font-size=\"14.00\">class = t</text>\n</g>\n<!-- 43&#45;&gt;57 -->\n<g id=\"edge57\" class=\"edge\">\n<title>43&#45;&gt;57</title>\n<path fill=\"none\" stroke=\"black\" d=\"M1710.75,-698.91C1722.34,-687.21 1734.99,-674.46 1746.56,-662.78\"/>\n<polygon fill=\"black\" stroke=\"black\" points=\"1749.06,-665.23 1753.62,-655.67 1744.09,-660.3 1749.06,-665.23\"/>\n</g>\n<!-- 45 -->\n<g id=\"node46\" class=\"node\">\n<title>45</title>\n<path fill=\"#f2c09c\" stroke=\"black\" d=\"M1687,-544C1687,-544 1616,-544 1616,-544 1610,-544 1604,-538 1604,-532 1604,-532 1604,-473 1604,-473 1604,-467 1610,-461 1616,-461 1616,-461 1687,-461 1687,-461 1693,-461 1699,-467 1699,-473 1699,-473 1699,-532 1699,-532 1699,-538 1693,-544 1687,-544\"/>\n<text text-anchor=\"start\" x=\"1612\" y=\"-528.8\" font-family=\"Helvetica,sans-Serif\" font-size=\"14.00\">restecg ≤ 0.5</text>\n<text text-anchor=\"start\" x=\"1616\" y=\"-513.8\" font-family=\"Helvetica,sans-Serif\" font-size=\"14.00\">gini = 0.444</text>\n<text text-anchor=\"start\" x=\"1614\" y=\"-498.8\" font-family=\"Helvetica,sans-Serif\" font-size=\"14.00\">samples = 3</text>\n<text text-anchor=\"start\" x=\"1612\" y=\"-483.8\" font-family=\"Helvetica,sans-Serif\" font-size=\"14.00\">value = [2, 1]</text>\n<text text-anchor=\"start\" x=\"1626\" y=\"-468.8\" font-family=\"Helvetica,sans-Serif\" font-size=\"14.00\">class = t</text>\n</g>\n<!-- 44&#45;&gt;45 -->\n<g id=\"edge45\" class=\"edge\">\n<title>44&#45;&gt;45</title>\n<path fill=\"none\" stroke=\"black\" d=\"M1663.25,-579.91C1661.97,-571.56 1660.6,-562.67 1659.27,-554.02\"/>\n<polygon fill=\"black\" stroke=\"black\" points=\"1662.71,-553.37 1657.73,-544.02 1655.8,-554.44 1662.71,-553.37\"/>\n</g>\n<!-- 48 -->\n<g id=\"node49\" class=\"node\">\n<title>48</title>\n<path fill=\"#61b1ea\" stroke=\"black\" d=\"M1807.5,-544C1807.5,-544 1729.5,-544 1729.5,-544 1723.5,-544 1717.5,-538 1717.5,-532 1717.5,-532 1717.5,-473 1717.5,-473 1717.5,-467 1723.5,-461 1729.5,-461 1729.5,-461 1807.5,-461 1807.5,-461 1813.5,-461 1819.5,-467 1819.5,-473 1819.5,-473 1819.5,-532 1819.5,-532 1819.5,-538 1813.5,-544 1807.5,-544\"/>\n<text text-anchor=\"start\" x=\"1740.5\" y=\"-528.8\" font-family=\"Helvetica,sans-Serif\" font-size=\"14.00\">thal ≤ 1.5</text>\n<text text-anchor=\"start\" x=\"1733\" y=\"-513.8\" font-family=\"Helvetica,sans-Serif\" font-size=\"14.00\">gini = 0.278</text>\n<text text-anchor=\"start\" x=\"1727.5\" y=\"-498.8\" font-family=\"Helvetica,sans-Serif\" font-size=\"14.00\">samples = 18</text>\n<text text-anchor=\"start\" x=\"1725.5\" y=\"-483.8\" font-family=\"Helvetica,sans-Serif\" font-size=\"14.00\">value = [3, 15]</text>\n<text text-anchor=\"start\" x=\"1741\" y=\"-468.8\" font-family=\"Helvetica,sans-Serif\" font-size=\"14.00\">class = a</text>\n</g>\n<!-- 44&#45;&gt;48 -->\n<g id=\"edge48\" class=\"edge\">\n<title>44&#45;&gt;48</title>\n<path fill=\"none\" stroke=\"black\" d=\"M1703.85,-579.91C1711.53,-570.83 1719.74,-561.12 1727.66,-551.77\"/>\n<polygon fill=\"black\" stroke=\"black\" points=\"1730.43,-553.92 1734.21,-544.02 1725.08,-549.39 1730.43,-553.92\"/>\n</g>\n<!-- 46 -->\n<g id=\"node47\" class=\"node\">\n<title>46</title>\n<path fill=\"#e58139\" stroke=\"black\" d=\"M1576,-417.5C1576,-417.5 1505,-417.5 1505,-417.5 1499,-417.5 1493,-411.5 1493,-405.5 1493,-405.5 1493,-361.5 1493,-361.5 1493,-355.5 1499,-349.5 1505,-349.5 1505,-349.5 1576,-349.5 1576,-349.5 1582,-349.5 1588,-355.5 1588,-361.5 1588,-361.5 1588,-405.5 1588,-405.5 1588,-411.5 1582,-417.5 1576,-417.5\"/>\n<text text-anchor=\"start\" x=\"1512.5\" y=\"-402.3\" font-family=\"Helvetica,sans-Serif\" font-size=\"14.00\">gini = 0.0</text>\n<text text-anchor=\"start\" x=\"1503\" y=\"-387.3\" font-family=\"Helvetica,sans-Serif\" font-size=\"14.00\">samples = 2</text>\n<text text-anchor=\"start\" x=\"1501\" y=\"-372.3\" font-family=\"Helvetica,sans-Serif\" font-size=\"14.00\">value = [2, 0]</text>\n<text text-anchor=\"start\" x=\"1515\" y=\"-357.3\" font-family=\"Helvetica,sans-Serif\" font-size=\"14.00\">class = t</text>\n</g>\n<!-- 45&#45;&gt;46 -->\n<g id=\"edge46\" class=\"edge\">\n<title>45&#45;&gt;46</title>\n<path fill=\"none\" stroke=\"black\" d=\"M1612.99,-460.91C1602,-449.32 1590.02,-436.7 1579.03,-425.11\"/>\n<polygon fill=\"black\" stroke=\"black\" points=\"1581.39,-422.51 1571.97,-417.67 1576.31,-427.33 1581.39,-422.51\"/>\n</g>\n<!-- 47 -->\n<g id=\"node48\" class=\"node\">\n<title>47</title>\n<path fill=\"#399de5\" stroke=\"black\" d=\"M1689,-417.5C1689,-417.5 1618,-417.5 1618,-417.5 1612,-417.5 1606,-411.5 1606,-405.5 1606,-405.5 1606,-361.5 1606,-361.5 1606,-355.5 1612,-349.5 1618,-349.5 1618,-349.5 1689,-349.5 1689,-349.5 1695,-349.5 1701,-355.5 1701,-361.5 1701,-361.5 1701,-405.5 1701,-405.5 1701,-411.5 1695,-417.5 1689,-417.5\"/>\n<text text-anchor=\"start\" x=\"1625.5\" y=\"-402.3\" font-family=\"Helvetica,sans-Serif\" font-size=\"14.00\">gini = 0.0</text>\n<text text-anchor=\"start\" x=\"1616\" y=\"-387.3\" font-family=\"Helvetica,sans-Serif\" font-size=\"14.00\">samples = 1</text>\n<text text-anchor=\"start\" x=\"1614\" y=\"-372.3\" font-family=\"Helvetica,sans-Serif\" font-size=\"14.00\">value = [0, 1]</text>\n<text text-anchor=\"start\" x=\"1626\" y=\"-357.3\" font-family=\"Helvetica,sans-Serif\" font-size=\"14.00\">class = a</text>\n</g>\n<!-- 45&#45;&gt;47 -->\n<g id=\"edge47\" class=\"edge\">\n<title>45&#45;&gt;47</title>\n<path fill=\"none\" stroke=\"black\" d=\"M1652.19,-460.91C1652.38,-450.2 1652.57,-438.62 1652.76,-427.78\"/>\n<polygon fill=\"black\" stroke=\"black\" points=\"1656.26,-427.73 1652.93,-417.67 1649.26,-427.61 1656.26,-427.73\"/>\n</g>\n<!-- 49 -->\n<g id=\"node50\" class=\"node\">\n<title>49</title>\n<path fill=\"#e58139\" stroke=\"black\" d=\"M1802,-417.5C1802,-417.5 1731,-417.5 1731,-417.5 1725,-417.5 1719,-411.5 1719,-405.5 1719,-405.5 1719,-361.5 1719,-361.5 1719,-355.5 1725,-349.5 1731,-349.5 1731,-349.5 1802,-349.5 1802,-349.5 1808,-349.5 1814,-355.5 1814,-361.5 1814,-361.5 1814,-405.5 1814,-405.5 1814,-411.5 1808,-417.5 1802,-417.5\"/>\n<text text-anchor=\"start\" x=\"1738.5\" y=\"-402.3\" font-family=\"Helvetica,sans-Serif\" font-size=\"14.00\">gini = 0.0</text>\n<text text-anchor=\"start\" x=\"1729\" y=\"-387.3\" font-family=\"Helvetica,sans-Serif\" font-size=\"14.00\">samples = 1</text>\n<text text-anchor=\"start\" x=\"1727\" y=\"-372.3\" font-family=\"Helvetica,sans-Serif\" font-size=\"14.00\">value = [1, 0]</text>\n<text text-anchor=\"start\" x=\"1741\" y=\"-357.3\" font-family=\"Helvetica,sans-Serif\" font-size=\"14.00\">class = t</text>\n</g>\n<!-- 48&#45;&gt;49 -->\n<g id=\"edge49\" class=\"edge\">\n<title>48&#45;&gt;49</title>\n<path fill=\"none\" stroke=\"black\" d=\"M1767.81,-460.91C1767.62,-450.2 1767.43,-438.62 1767.24,-427.78\"/>\n<polygon fill=\"black\" stroke=\"black\" points=\"1770.74,-427.61 1767.07,-417.67 1763.74,-427.73 1770.74,-427.61\"/>\n</g>\n<!-- 50 -->\n<g id=\"node51\" class=\"node\">\n<title>50</title>\n<path fill=\"#53aae8\" stroke=\"black\" d=\"M1922.5,-425C1922.5,-425 1844.5,-425 1844.5,-425 1838.5,-425 1832.5,-419 1832.5,-413 1832.5,-413 1832.5,-354 1832.5,-354 1832.5,-348 1838.5,-342 1844.5,-342 1844.5,-342 1922.5,-342 1922.5,-342 1928.5,-342 1934.5,-348 1934.5,-354 1934.5,-354 1934.5,-413 1934.5,-413 1934.5,-419 1928.5,-425 1922.5,-425\"/>\n<text text-anchor=\"start\" x=\"1846.5\" y=\"-409.8\" font-family=\"Helvetica,sans-Serif\" font-size=\"14.00\">chol ≤ 175.0</text>\n<text text-anchor=\"start\" x=\"1848\" y=\"-394.8\" font-family=\"Helvetica,sans-Serif\" font-size=\"14.00\">gini = 0.208</text>\n<text text-anchor=\"start\" x=\"1842.5\" y=\"-379.8\" font-family=\"Helvetica,sans-Serif\" font-size=\"14.00\">samples = 17</text>\n<text text-anchor=\"start\" x=\"1840.5\" y=\"-364.8\" font-family=\"Helvetica,sans-Serif\" font-size=\"14.00\">value = [2, 15]</text>\n<text text-anchor=\"start\" x=\"1856\" y=\"-349.8\" font-family=\"Helvetica,sans-Serif\" font-size=\"14.00\">class = a</text>\n</g>\n<!-- 48&#45;&gt;50 -->\n<g id=\"edge50\" class=\"edge\">\n<title>48&#45;&gt;50</title>\n<path fill=\"none\" stroke=\"black\" d=\"M1808.4,-460.91C1817.5,-451.65 1827.25,-441.73 1836.61,-432.21\"/>\n<polygon fill=\"black\" stroke=\"black\" points=\"1839.16,-434.61 1843.67,-425.02 1834.17,-429.7 1839.16,-434.61\"/>\n</g>\n<!-- 51 -->\n<g id=\"node52\" class=\"node\">\n<title>51</title>\n<path fill=\"#e58139\" stroke=\"black\" d=\"M1850,-298.5C1850,-298.5 1779,-298.5 1779,-298.5 1773,-298.5 1767,-292.5 1767,-286.5 1767,-286.5 1767,-242.5 1767,-242.5 1767,-236.5 1773,-230.5 1779,-230.5 1779,-230.5 1850,-230.5 1850,-230.5 1856,-230.5 1862,-236.5 1862,-242.5 1862,-242.5 1862,-286.5 1862,-286.5 1862,-292.5 1856,-298.5 1850,-298.5\"/>\n<text text-anchor=\"start\" x=\"1786.5\" y=\"-283.3\" font-family=\"Helvetica,sans-Serif\" font-size=\"14.00\">gini = 0.0</text>\n<text text-anchor=\"start\" x=\"1777\" y=\"-268.3\" font-family=\"Helvetica,sans-Serif\" font-size=\"14.00\">samples = 1</text>\n<text text-anchor=\"start\" x=\"1775\" y=\"-253.3\" font-family=\"Helvetica,sans-Serif\" font-size=\"14.00\">value = [1, 0]</text>\n<text text-anchor=\"start\" x=\"1789\" y=\"-238.3\" font-family=\"Helvetica,sans-Serif\" font-size=\"14.00\">class = t</text>\n</g>\n<!-- 50&#45;&gt;51 -->\n<g id=\"edge51\" class=\"edge\">\n<title>50&#45;&gt;51</title>\n<path fill=\"none\" stroke=\"black\" d=\"M1859.56,-341.91C1852.99,-330.76 1845.85,-318.66 1839.23,-307.44\"/>\n<polygon fill=\"black\" stroke=\"black\" points=\"1842.15,-305.5 1834.06,-298.67 1836.13,-309.06 1842.15,-305.5\"/>\n</g>\n<!-- 52 -->\n<g id=\"node53\" class=\"node\">\n<title>52</title>\n<path fill=\"#46a4e7\" stroke=\"black\" d=\"M1977,-306C1977,-306 1892,-306 1892,-306 1886,-306 1880,-300 1880,-294 1880,-294 1880,-235 1880,-235 1880,-229 1886,-223 1892,-223 1892,-223 1977,-223 1977,-223 1983,-223 1989,-229 1989,-235 1989,-235 1989,-294 1989,-294 1989,-300 1983,-306 1977,-306\"/>\n<text text-anchor=\"start\" x=\"1888\" y=\"-290.8\" font-family=\"Helvetica,sans-Serif\" font-size=\"14.00\">thalach ≤ 173.5</text>\n<text text-anchor=\"start\" x=\"1899\" y=\"-275.8\" font-family=\"Helvetica,sans-Serif\" font-size=\"14.00\">gini = 0.117</text>\n<text text-anchor=\"start\" x=\"1893.5\" y=\"-260.8\" font-family=\"Helvetica,sans-Serif\" font-size=\"14.00\">samples = 16</text>\n<text text-anchor=\"start\" x=\"1891.5\" y=\"-245.8\" font-family=\"Helvetica,sans-Serif\" font-size=\"14.00\">value = [1, 15]</text>\n<text text-anchor=\"start\" x=\"1907\" y=\"-230.8\" font-family=\"Helvetica,sans-Serif\" font-size=\"14.00\">class = a</text>\n</g>\n<!-- 50&#45;&gt;52 -->\n<g id=\"edge52\" class=\"edge\">\n<title>50&#45;&gt;52</title>\n<path fill=\"none\" stroke=\"black\" d=\"M1901.19,-341.91C1904.91,-333.38 1908.88,-324.28 1912.72,-315.46\"/>\n<polygon fill=\"black\" stroke=\"black\" points=\"1916.05,-316.59 1916.84,-306.02 1909.63,-313.79 1916.05,-316.59\"/>\n</g>\n<!-- 53 -->\n<g id=\"node54\" class=\"node\">\n<title>53</title>\n<path fill=\"#399de5\" stroke=\"black\" d=\"M1943.5,-179.5C1943.5,-179.5 1865.5,-179.5 1865.5,-179.5 1859.5,-179.5 1853.5,-173.5 1853.5,-167.5 1853.5,-167.5 1853.5,-123.5 1853.5,-123.5 1853.5,-117.5 1859.5,-111.5 1865.5,-111.5 1865.5,-111.5 1943.5,-111.5 1943.5,-111.5 1949.5,-111.5 1955.5,-117.5 1955.5,-123.5 1955.5,-123.5 1955.5,-167.5 1955.5,-167.5 1955.5,-173.5 1949.5,-179.5 1943.5,-179.5\"/>\n<text text-anchor=\"start\" x=\"1876.5\" y=\"-164.3\" font-family=\"Helvetica,sans-Serif\" font-size=\"14.00\">gini = 0.0</text>\n<text text-anchor=\"start\" x=\"1863.5\" y=\"-149.3\" font-family=\"Helvetica,sans-Serif\" font-size=\"14.00\">samples = 13</text>\n<text text-anchor=\"start\" x=\"1861.5\" y=\"-134.3\" font-family=\"Helvetica,sans-Serif\" font-size=\"14.00\">value = [0, 13]</text>\n<text text-anchor=\"start\" x=\"1877\" y=\"-119.3\" font-family=\"Helvetica,sans-Serif\" font-size=\"14.00\">class = a</text>\n</g>\n<!-- 52&#45;&gt;53 -->\n<g id=\"edge53\" class=\"edge\">\n<title>52&#45;&gt;53</title>\n<path fill=\"none\" stroke=\"black\" d=\"M1924.09,-222.91C1921.32,-212.09 1918.31,-200.38 1915.51,-189.44\"/>\n<polygon fill=\"black\" stroke=\"black\" points=\"1918.88,-188.48 1913,-179.67 1912.1,-190.22 1918.88,-188.48\"/>\n</g>\n<!-- 54 -->\n<g id=\"node55\" class=\"node\">\n<title>54</title>\n<path fill=\"#9ccef2\" stroke=\"black\" d=\"M2057,-187C2057,-187 1986,-187 1986,-187 1980,-187 1974,-181 1974,-175 1974,-175 1974,-116 1974,-116 1974,-110 1980,-104 1986,-104 1986,-104 2057,-104 2057,-104 2063,-104 2069,-110 2069,-116 2069,-116 2069,-175 2069,-175 2069,-181 2063,-187 2057,-187\"/>\n<text text-anchor=\"start\" x=\"1984.5\" y=\"-171.8\" font-family=\"Helvetica,sans-Serif\" font-size=\"14.00\">chol ≤ 268.5</text>\n<text text-anchor=\"start\" x=\"1986\" y=\"-156.8\" font-family=\"Helvetica,sans-Serif\" font-size=\"14.00\">gini = 0.444</text>\n<text text-anchor=\"start\" x=\"1984\" y=\"-141.8\" font-family=\"Helvetica,sans-Serif\" font-size=\"14.00\">samples = 3</text>\n<text text-anchor=\"start\" x=\"1982\" y=\"-126.8\" font-family=\"Helvetica,sans-Serif\" font-size=\"14.00\">value = [1, 2]</text>\n<text text-anchor=\"start\" x=\"1994\" y=\"-111.8\" font-family=\"Helvetica,sans-Serif\" font-size=\"14.00\">class = a</text>\n</g>\n<!-- 52&#45;&gt;54 -->\n<g id=\"edge54\" class=\"edge\">\n<title>52&#45;&gt;54</title>\n<path fill=\"none\" stroke=\"black\" d=\"M1964.68,-222.91C1971.36,-213.92 1978.51,-204.32 1985.4,-195.05\"/>\n<polygon fill=\"black\" stroke=\"black\" points=\"1988.21,-197.13 1991.37,-187.02 1982.59,-192.96 1988.21,-197.13\"/>\n</g>\n<!-- 55 -->\n<g id=\"node56\" class=\"node\">\n<title>55</title>\n<path fill=\"#399de5\" stroke=\"black\" d=\"M2001,-68C2001,-68 1930,-68 1930,-68 1924,-68 1918,-62 1918,-56 1918,-56 1918,-12 1918,-12 1918,-6 1924,0 1930,0 1930,0 2001,0 2001,0 2007,0 2013,-6 2013,-12 2013,-12 2013,-56 2013,-56 2013,-62 2007,-68 2001,-68\"/>\n<text text-anchor=\"start\" x=\"1937.5\" y=\"-52.8\" font-family=\"Helvetica,sans-Serif\" font-size=\"14.00\">gini = 0.0</text>\n<text text-anchor=\"start\" x=\"1928\" y=\"-37.8\" font-family=\"Helvetica,sans-Serif\" font-size=\"14.00\">samples = 2</text>\n<text text-anchor=\"start\" x=\"1926\" y=\"-22.8\" font-family=\"Helvetica,sans-Serif\" font-size=\"14.00\">value = [0, 2]</text>\n<text text-anchor=\"start\" x=\"1938\" y=\"-7.8\" font-family=\"Helvetica,sans-Serif\" font-size=\"14.00\">class = a</text>\n</g>\n<!-- 54&#45;&gt;55 -->\n<g id=\"edge55\" class=\"edge\">\n<title>54&#45;&gt;55</title>\n<path fill=\"none\" stroke=\"black\" d=\"M2000.65,-103.73C1996.26,-95.15 1991.63,-86.09 1987.21,-77.46\"/>\n<polygon fill=\"black\" stroke=\"black\" points=\"1990.2,-75.61 1982.53,-68.3 1983.97,-78.8 1990.2,-75.61\"/>\n</g>\n<!-- 56 -->\n<g id=\"node57\" class=\"node\">\n<title>56</title>\n<path fill=\"#e58139\" stroke=\"black\" d=\"M2114,-68C2114,-68 2043,-68 2043,-68 2037,-68 2031,-62 2031,-56 2031,-56 2031,-12 2031,-12 2031,-6 2037,0 2043,0 2043,0 2114,0 2114,0 2120,0 2126,-6 2126,-12 2126,-12 2126,-56 2126,-56 2126,-62 2120,-68 2114,-68\"/>\n<text text-anchor=\"start\" x=\"2050.5\" y=\"-52.8\" font-family=\"Helvetica,sans-Serif\" font-size=\"14.00\">gini = 0.0</text>\n<text text-anchor=\"start\" x=\"2041\" y=\"-37.8\" font-family=\"Helvetica,sans-Serif\" font-size=\"14.00\">samples = 1</text>\n<text text-anchor=\"start\" x=\"2039\" y=\"-22.8\" font-family=\"Helvetica,sans-Serif\" font-size=\"14.00\">value = [1, 0]</text>\n<text text-anchor=\"start\" x=\"2053\" y=\"-7.8\" font-family=\"Helvetica,sans-Serif\" font-size=\"14.00\">class = t</text>\n</g>\n<!-- 54&#45;&gt;56 -->\n<g id=\"edge56\" class=\"edge\">\n<title>54&#45;&gt;56</title>\n<path fill=\"none\" stroke=\"black\" d=\"M2042.72,-103.73C2047.24,-95.06 2052.01,-85.9 2056.54,-77.18\"/>\n<polygon fill=\"black\" stroke=\"black\" points=\"2059.65,-78.79 2061.17,-68.3 2053.44,-75.55 2059.65,-78.79\"/>\n</g>\n<!-- 59 -->\n<g id=\"node60\" class=\"node\">\n<title>59</title>\n<path fill=\"#e58139\" stroke=\"black\" d=\"M1921,-774.5C1921,-774.5 1850,-774.5 1850,-774.5 1844,-774.5 1838,-768.5 1838,-762.5 1838,-762.5 1838,-718.5 1838,-718.5 1838,-712.5 1844,-706.5 1850,-706.5 1850,-706.5 1921,-706.5 1921,-706.5 1927,-706.5 1933,-712.5 1933,-718.5 1933,-718.5 1933,-762.5 1933,-762.5 1933,-768.5 1927,-774.5 1921,-774.5\"/>\n<text text-anchor=\"start\" x=\"1857.5\" y=\"-759.3\" font-family=\"Helvetica,sans-Serif\" font-size=\"14.00\">gini = 0.0</text>\n<text text-anchor=\"start\" x=\"1848\" y=\"-744.3\" font-family=\"Helvetica,sans-Serif\" font-size=\"14.00\">samples = 4</text>\n<text text-anchor=\"start\" x=\"1846\" y=\"-729.3\" font-family=\"Helvetica,sans-Serif\" font-size=\"14.00\">value = [4, 0]</text>\n<text text-anchor=\"start\" x=\"1860\" y=\"-714.3\" font-family=\"Helvetica,sans-Serif\" font-size=\"14.00\">class = t</text>\n</g>\n<!-- 58&#45;&gt;59 -->\n<g id=\"edge59\" class=\"edge\">\n<title>58&#45;&gt;59</title>\n<path fill=\"none\" stroke=\"black\" d=\"M1885.5,-817.91C1885.5,-807.2 1885.5,-795.62 1885.5,-784.78\"/>\n<polygon fill=\"black\" stroke=\"black\" points=\"1889,-784.67 1885.5,-774.67 1882,-784.67 1889,-784.67\"/>\n</g>\n<!-- 60 -->\n<g id=\"node61\" class=\"node\">\n<title>60</title>\n<path fill=\"#96cbf1\" stroke=\"black\" d=\"M2094.5,-782C2094.5,-782 2016.5,-782 2016.5,-782 2010.5,-782 2004.5,-776 2004.5,-770 2004.5,-770 2004.5,-711 2004.5,-711 2004.5,-705 2010.5,-699 2016.5,-699 2016.5,-699 2094.5,-699 2094.5,-699 2100.5,-699 2106.5,-705 2106.5,-711 2106.5,-711 2106.5,-770 2106.5,-770 2106.5,-776 2100.5,-782 2094.5,-782\"/>\n<text text-anchor=\"start\" x=\"2020\" y=\"-766.8\" font-family=\"Helvetica,sans-Serif\" font-size=\"14.00\">exang ≤ 0.5</text>\n<text text-anchor=\"start\" x=\"2020\" y=\"-751.8\" font-family=\"Helvetica,sans-Serif\" font-size=\"14.00\">gini = 0.435</text>\n<text text-anchor=\"start\" x=\"2014.5\" y=\"-736.8\" font-family=\"Helvetica,sans-Serif\" font-size=\"14.00\">samples = 25</text>\n<text text-anchor=\"start\" x=\"2012.5\" y=\"-721.8\" font-family=\"Helvetica,sans-Serif\" font-size=\"14.00\">value = [8, 17]</text>\n<text text-anchor=\"start\" x=\"2028\" y=\"-706.8\" font-family=\"Helvetica,sans-Serif\" font-size=\"14.00\">class = a</text>\n</g>\n<!-- 58&#45;&gt;60 -->\n<g id=\"edge60\" class=\"edge\">\n<title>58&#45;&gt;60</title>\n<path fill=\"none\" stroke=\"black\" d=\"M1940.69,-820.51C1958.27,-808.41 1977.8,-794.97 1995.69,-782.66\"/>\n<polygon fill=\"black\" stroke=\"black\" points=\"1998.07,-785.27 2004.33,-776.72 1994.11,-779.5 1998.07,-785.27\"/>\n</g>\n<!-- 61 -->\n<g id=\"node62\" class=\"node\">\n<title>61</title>\n<path fill=\"#7fc0ee\" stroke=\"black\" d=\"M2094.5,-663C2094.5,-663 2016.5,-663 2016.5,-663 2010.5,-663 2004.5,-657 2004.5,-651 2004.5,-651 2004.5,-592 2004.5,-592 2004.5,-586 2010.5,-580 2016.5,-580 2016.5,-580 2094.5,-580 2094.5,-580 2100.5,-580 2106.5,-586 2106.5,-592 2106.5,-592 2106.5,-651 2106.5,-651 2106.5,-657 2100.5,-663 2094.5,-663\"/>\n<text text-anchor=\"start\" x=\"2023.5\" y=\"-647.8\" font-family=\"Helvetica,sans-Serif\" font-size=\"14.00\">age ≤ 56.5</text>\n<text text-anchor=\"start\" x=\"2020\" y=\"-632.8\" font-family=\"Helvetica,sans-Serif\" font-size=\"14.00\">gini = 0.386</text>\n<text text-anchor=\"start\" x=\"2014.5\" y=\"-617.8\" font-family=\"Helvetica,sans-Serif\" font-size=\"14.00\">samples = 23</text>\n<text text-anchor=\"start\" x=\"2012.5\" y=\"-602.8\" font-family=\"Helvetica,sans-Serif\" font-size=\"14.00\">value = [6, 17]</text>\n<text text-anchor=\"start\" x=\"2028\" y=\"-587.8\" font-family=\"Helvetica,sans-Serif\" font-size=\"14.00\">class = a</text>\n</g>\n<!-- 60&#45;&gt;61 -->\n<g id=\"edge61\" class=\"edge\">\n<title>60&#45;&gt;61</title>\n<path fill=\"none\" stroke=\"black\" d=\"M2055.5,-698.91C2055.5,-690.65 2055.5,-681.86 2055.5,-673.3\"/>\n<polygon fill=\"black\" stroke=\"black\" points=\"2059,-673.02 2055.5,-663.02 2052,-673.02 2059,-673.02\"/>\n</g>\n<!-- 74 -->\n<g id=\"node75\" class=\"node\">\n<title>74</title>\n<path fill=\"#e58139\" stroke=\"black\" d=\"M2208,-655.5C2208,-655.5 2137,-655.5 2137,-655.5 2131,-655.5 2125,-649.5 2125,-643.5 2125,-643.5 2125,-599.5 2125,-599.5 2125,-593.5 2131,-587.5 2137,-587.5 2137,-587.5 2208,-587.5 2208,-587.5 2214,-587.5 2220,-593.5 2220,-599.5 2220,-599.5 2220,-643.5 2220,-643.5 2220,-649.5 2214,-655.5 2208,-655.5\"/>\n<text text-anchor=\"start\" x=\"2144.5\" y=\"-640.3\" font-family=\"Helvetica,sans-Serif\" font-size=\"14.00\">gini = 0.0</text>\n<text text-anchor=\"start\" x=\"2135\" y=\"-625.3\" font-family=\"Helvetica,sans-Serif\" font-size=\"14.00\">samples = 2</text>\n<text text-anchor=\"start\" x=\"2133\" y=\"-610.3\" font-family=\"Helvetica,sans-Serif\" font-size=\"14.00\">value = [2, 0]</text>\n<text text-anchor=\"start\" x=\"2147\" y=\"-595.3\" font-family=\"Helvetica,sans-Serif\" font-size=\"14.00\">class = t</text>\n</g>\n<!-- 60&#45;&gt;74 -->\n<g id=\"edge74\" class=\"edge\">\n<title>60&#45;&gt;74</title>\n<path fill=\"none\" stroke=\"black\" d=\"M2096.09,-698.91C2107.79,-687.21 2120.54,-674.46 2132.22,-662.78\"/>\n<polygon fill=\"black\" stroke=\"black\" points=\"2134.74,-665.21 2139.33,-655.67 2129.79,-660.26 2134.74,-665.21\"/>\n</g>\n<!-- 62 -->\n<g id=\"node63\" class=\"node\">\n<title>62</title>\n<path fill=\"#4fa8e8\" stroke=\"black\" d=\"M2092.5,-544C2092.5,-544 2018.5,-544 2018.5,-544 2012.5,-544 2006.5,-538 2006.5,-532 2006.5,-532 2006.5,-473 2006.5,-473 2006.5,-467 2012.5,-461 2018.5,-461 2018.5,-461 2092.5,-461 2092.5,-461 2098.5,-461 2104.5,-467 2104.5,-473 2104.5,-473 2104.5,-532 2104.5,-532 2104.5,-538 2098.5,-544 2092.5,-544\"/>\n<text text-anchor=\"start\" x=\"2031\" y=\"-528.8\" font-family=\"Helvetica,sans-Serif\" font-size=\"14.00\">ca ≤ 0.5</text>\n<text text-anchor=\"start\" x=\"2023.5\" y=\"-513.8\" font-family=\"Helvetica,sans-Serif\" font-size=\"14.00\">gini = 0.18</text>\n<text text-anchor=\"start\" x=\"2014.5\" y=\"-498.8\" font-family=\"Helvetica,sans-Serif\" font-size=\"14.00\">samples = 10</text>\n<text text-anchor=\"start\" x=\"2016\" y=\"-483.8\" font-family=\"Helvetica,sans-Serif\" font-size=\"14.00\">value = [1, 9]</text>\n<text text-anchor=\"start\" x=\"2028\" y=\"-468.8\" font-family=\"Helvetica,sans-Serif\" font-size=\"14.00\">class = a</text>\n</g>\n<!-- 61&#45;&gt;62 -->\n<g id=\"edge62\" class=\"edge\">\n<title>61&#45;&gt;62</title>\n<path fill=\"none\" stroke=\"black\" d=\"M2055.5,-579.91C2055.5,-571.65 2055.5,-562.86 2055.5,-554.3\"/>\n<polygon fill=\"black\" stroke=\"black\" points=\"2059,-554.02 2055.5,-544.02 2052,-554.02 2059,-554.02\"/>\n</g>\n<!-- 65 -->\n<g id=\"node66\" class=\"node\">\n<title>65</title>\n<path fill=\"#b5daf5\" stroke=\"black\" d=\"M2263.5,-544C2263.5,-544 2189.5,-544 2189.5,-544 2183.5,-544 2177.5,-538 2177.5,-532 2177.5,-532 2177.5,-473 2177.5,-473 2177.5,-467 2183.5,-461 2189.5,-461 2189.5,-461 2263.5,-461 2263.5,-461 2269.5,-461 2275.5,-467 2275.5,-473 2275.5,-473 2275.5,-532 2275.5,-532 2275.5,-538 2269.5,-544 2263.5,-544\"/>\n<text text-anchor=\"start\" x=\"2194.5\" y=\"-528.8\" font-family=\"Helvetica,sans-Serif\" font-size=\"14.00\">age ≤ 60.5</text>\n<text text-anchor=\"start\" x=\"2191\" y=\"-513.8\" font-family=\"Helvetica,sans-Serif\" font-size=\"14.00\">gini = 0.473</text>\n<text text-anchor=\"start\" x=\"2185.5\" y=\"-498.8\" font-family=\"Helvetica,sans-Serif\" font-size=\"14.00\">samples = 13</text>\n<text text-anchor=\"start\" x=\"2187\" y=\"-483.8\" font-family=\"Helvetica,sans-Serif\" font-size=\"14.00\">value = [5, 8]</text>\n<text text-anchor=\"start\" x=\"2199\" y=\"-468.8\" font-family=\"Helvetica,sans-Serif\" font-size=\"14.00\">class = a</text>\n</g>\n<!-- 61&#45;&gt;65 -->\n<g id=\"edge65\" class=\"edge\">\n<title>61&#45;&gt;65</title>\n<path fill=\"none\" stroke=\"black\" d=\"M2106.81,-585.4C2126.35,-572.03 2148.74,-556.71 2168.83,-542.96\"/>\n<polygon fill=\"black\" stroke=\"black\" points=\"2171.01,-545.71 2177.29,-537.17 2167.06,-539.93 2171.01,-545.71\"/>\n</g>\n<!-- 63 -->\n<g id=\"node64\" class=\"node\">\n<title>63</title>\n<path fill=\"#399de5\" stroke=\"black\" d=\"M2036,-417.5C2036,-417.5 1965,-417.5 1965,-417.5 1959,-417.5 1953,-411.5 1953,-405.5 1953,-405.5 1953,-361.5 1953,-361.5 1953,-355.5 1959,-349.5 1965,-349.5 1965,-349.5 2036,-349.5 2036,-349.5 2042,-349.5 2048,-355.5 2048,-361.5 2048,-361.5 2048,-405.5 2048,-405.5 2048,-411.5 2042,-417.5 2036,-417.5\"/>\n<text text-anchor=\"start\" x=\"1972.5\" y=\"-402.3\" font-family=\"Helvetica,sans-Serif\" font-size=\"14.00\">gini = 0.0</text>\n<text text-anchor=\"start\" x=\"1963\" y=\"-387.3\" font-family=\"Helvetica,sans-Serif\" font-size=\"14.00\">samples = 9</text>\n<text text-anchor=\"start\" x=\"1961\" y=\"-372.3\" font-family=\"Helvetica,sans-Serif\" font-size=\"14.00\">value = [0, 9]</text>\n<text text-anchor=\"start\" x=\"1973\" y=\"-357.3\" font-family=\"Helvetica,sans-Serif\" font-size=\"14.00\">class = a</text>\n</g>\n<!-- 62&#45;&gt;63 -->\n<g id=\"edge63\" class=\"edge\">\n<title>62&#45;&gt;63</title>\n<path fill=\"none\" stroke=\"black\" d=\"M2036.42,-460.91C2031.23,-449.87 2025.6,-437.9 2020.37,-426.77\"/>\n<polygon fill=\"black\" stroke=\"black\" points=\"2023.51,-425.23 2016.09,-417.67 2017.18,-428.21 2023.51,-425.23\"/>\n</g>\n<!-- 64 -->\n<g id=\"node65\" class=\"node\">\n<title>64</title>\n<path fill=\"#e58139\" stroke=\"black\" d=\"M2149,-417.5C2149,-417.5 2078,-417.5 2078,-417.5 2072,-417.5 2066,-411.5 2066,-405.5 2066,-405.5 2066,-361.5 2066,-361.5 2066,-355.5 2072,-349.5 2078,-349.5 2078,-349.5 2149,-349.5 2149,-349.5 2155,-349.5 2161,-355.5 2161,-361.5 2161,-361.5 2161,-405.5 2161,-405.5 2161,-411.5 2155,-417.5 2149,-417.5\"/>\n<text text-anchor=\"start\" x=\"2085.5\" y=\"-402.3\" font-family=\"Helvetica,sans-Serif\" font-size=\"14.00\">gini = 0.0</text>\n<text text-anchor=\"start\" x=\"2076\" y=\"-387.3\" font-family=\"Helvetica,sans-Serif\" font-size=\"14.00\">samples = 1</text>\n<text text-anchor=\"start\" x=\"2074\" y=\"-372.3\" font-family=\"Helvetica,sans-Serif\" font-size=\"14.00\">value = [1, 0]</text>\n<text text-anchor=\"start\" x=\"2088\" y=\"-357.3\" font-family=\"Helvetica,sans-Serif\" font-size=\"14.00\">class = t</text>\n</g>\n<!-- 62&#45;&gt;64 -->\n<g id=\"edge64\" class=\"edge\">\n<title>62&#45;&gt;64</title>\n<path fill=\"none\" stroke=\"black\" d=\"M2075.62,-460.91C2081.09,-449.87 2087.03,-437.9 2092.54,-426.77\"/>\n<polygon fill=\"black\" stroke=\"black\" points=\"2095.75,-428.18 2097.06,-417.67 2089.48,-425.07 2095.75,-428.18\"/>\n</g>\n<!-- 66 -->\n<g id=\"node67\" class=\"node\">\n<title>66</title>\n<path fill=\"#f8e0ce\" stroke=\"black\" d=\"M2262,-425C2262,-425 2191,-425 2191,-425 2185,-425 2179,-419 2179,-413 2179,-413 2179,-354 2179,-354 2179,-348 2185,-342 2191,-342 2191,-342 2262,-342 2262,-342 2268,-342 2274,-348 2274,-354 2274,-354 2274,-413 2274,-413 2274,-419 2268,-425 2262,-425\"/>\n<text text-anchor=\"start\" x=\"2189.5\" y=\"-409.8\" font-family=\"Helvetica,sans-Serif\" font-size=\"14.00\">chol ≤ 224.5</text>\n<text text-anchor=\"start\" x=\"2194.5\" y=\"-394.8\" font-family=\"Helvetica,sans-Serif\" font-size=\"14.00\">gini = 0.49</text>\n<text text-anchor=\"start\" x=\"2189\" y=\"-379.8\" font-family=\"Helvetica,sans-Serif\" font-size=\"14.00\">samples = 7</text>\n<text text-anchor=\"start\" x=\"2187\" y=\"-364.8\" font-family=\"Helvetica,sans-Serif\" font-size=\"14.00\">value = [4, 3]</text>\n<text text-anchor=\"start\" x=\"2201\" y=\"-349.8\" font-family=\"Helvetica,sans-Serif\" font-size=\"14.00\">class = t</text>\n</g>\n<!-- 65&#45;&gt;66 -->\n<g id=\"edge66\" class=\"edge\">\n<title>65&#45;&gt;66</title>\n<path fill=\"none\" stroke=\"black\" d=\"M2226.5,-460.91C2226.5,-452.65 2226.5,-443.86 2226.5,-435.3\"/>\n<polygon fill=\"black\" stroke=\"black\" points=\"2230,-435.02 2226.5,-425.02 2223,-435.02 2230,-435.02\"/>\n</g>\n<!-- 71 -->\n<g id=\"node72\" class=\"node\">\n<title>71</title>\n<path fill=\"#61b1ea\" stroke=\"black\" d=\"M2384,-425C2384,-425 2313,-425 2313,-425 2307,-425 2301,-419 2301,-413 2301,-413 2301,-354 2301,-354 2301,-348 2307,-342 2313,-342 2313,-342 2384,-342 2384,-342 2390,-342 2396,-348 2396,-354 2396,-354 2396,-413 2396,-413 2396,-419 2390,-425 2384,-425\"/>\n<text text-anchor=\"start\" x=\"2311.5\" y=\"-409.8\" font-family=\"Helvetica,sans-Serif\" font-size=\"14.00\">chol ≤ 219.5</text>\n<text text-anchor=\"start\" x=\"2313\" y=\"-394.8\" font-family=\"Helvetica,sans-Serif\" font-size=\"14.00\">gini = 0.278</text>\n<text text-anchor=\"start\" x=\"2311\" y=\"-379.8\" font-family=\"Helvetica,sans-Serif\" font-size=\"14.00\">samples = 6</text>\n<text text-anchor=\"start\" x=\"2309\" y=\"-364.8\" font-family=\"Helvetica,sans-Serif\" font-size=\"14.00\">value = [1, 5]</text>\n<text text-anchor=\"start\" x=\"2321\" y=\"-349.8\" font-family=\"Helvetica,sans-Serif\" font-size=\"14.00\">class = a</text>\n</g>\n<!-- 65&#45;&gt;71 -->\n<g id=\"edge71\" class=\"edge\">\n<title>65&#45;&gt;71</title>\n<path fill=\"none\" stroke=\"black\" d=\"M2268.83,-460.91C2278.48,-451.65 2288.82,-441.73 2298.75,-432.21\"/>\n<polygon fill=\"black\" stroke=\"black\" points=\"2301.45,-434.47 2306.25,-425.02 2296.61,-429.42 2301.45,-434.47\"/>\n</g>\n<!-- 67 -->\n<g id=\"node68\" class=\"node\">\n<title>67</title>\n<path fill=\"#399de5\" stroke=\"black\" d=\"M2140,-298.5C2140,-298.5 2069,-298.5 2069,-298.5 2063,-298.5 2057,-292.5 2057,-286.5 2057,-286.5 2057,-242.5 2057,-242.5 2057,-236.5 2063,-230.5 2069,-230.5 2069,-230.5 2140,-230.5 2140,-230.5 2146,-230.5 2152,-236.5 2152,-242.5 2152,-242.5 2152,-286.5 2152,-286.5 2152,-292.5 2146,-298.5 2140,-298.5\"/>\n<text text-anchor=\"start\" x=\"2076.5\" y=\"-283.3\" font-family=\"Helvetica,sans-Serif\" font-size=\"14.00\">gini = 0.0</text>\n<text text-anchor=\"start\" x=\"2067\" y=\"-268.3\" font-family=\"Helvetica,sans-Serif\" font-size=\"14.00\">samples = 2</text>\n<text text-anchor=\"start\" x=\"2065\" y=\"-253.3\" font-family=\"Helvetica,sans-Serif\" font-size=\"14.00\">value = [0, 2]</text>\n<text text-anchor=\"start\" x=\"2077\" y=\"-238.3\" font-family=\"Helvetica,sans-Serif\" font-size=\"14.00\">class = a</text>\n</g>\n<!-- 66&#45;&gt;67 -->\n<g id=\"edge67\" class=\"edge\">\n<title>66&#45;&gt;67</title>\n<path fill=\"none\" stroke=\"black\" d=\"M2184.17,-341.91C2171.98,-330.21 2158.68,-317.46 2146.5,-305.78\"/>\n<polygon fill=\"black\" stroke=\"black\" points=\"2148.72,-303.06 2139.08,-298.67 2143.88,-308.11 2148.72,-303.06\"/>\n</g>\n<!-- 68 -->\n<g id=\"node69\" class=\"node\">\n<title>68</title>\n<path fill=\"#eca06a\" stroke=\"black\" d=\"M2271,-306C2271,-306 2182,-306 2182,-306 2176,-306 2170,-300 2170,-294 2170,-294 2170,-235 2170,-235 2170,-229 2176,-223 2182,-223 2182,-223 2271,-223 2271,-223 2277,-223 2283,-229 2283,-235 2283,-235 2283,-294 2283,-294 2283,-300 2277,-306 2271,-306\"/>\n<text text-anchor=\"start\" x=\"2178\" y=\"-290.8\" font-family=\"Helvetica,sans-Serif\" font-size=\"14.00\">trestbps ≤ 174.0</text>\n<text text-anchor=\"start\" x=\"2194.5\" y=\"-275.8\" font-family=\"Helvetica,sans-Serif\" font-size=\"14.00\">gini = 0.32</text>\n<text text-anchor=\"start\" x=\"2189\" y=\"-260.8\" font-family=\"Helvetica,sans-Serif\" font-size=\"14.00\">samples = 5</text>\n<text text-anchor=\"start\" x=\"2187\" y=\"-245.8\" font-family=\"Helvetica,sans-Serif\" font-size=\"14.00\">value = [4, 1]</text>\n<text text-anchor=\"start\" x=\"2201\" y=\"-230.8\" font-family=\"Helvetica,sans-Serif\" font-size=\"14.00\">class = t</text>\n</g>\n<!-- 66&#45;&gt;68 -->\n<g id=\"edge68\" class=\"edge\">\n<title>66&#45;&gt;68</title>\n<path fill=\"none\" stroke=\"black\" d=\"M2226.5,-341.91C2226.5,-333.65 2226.5,-324.86 2226.5,-316.3\"/>\n<polygon fill=\"black\" stroke=\"black\" points=\"2230,-316.02 2226.5,-306.02 2223,-316.02 2230,-316.02\"/>\n</g>\n<!-- 69 -->\n<g id=\"node70\" class=\"node\">\n<title>69</title>\n<path fill=\"#e58139\" stroke=\"black\" d=\"M2178,-179.5C2178,-179.5 2107,-179.5 2107,-179.5 2101,-179.5 2095,-173.5 2095,-167.5 2095,-167.5 2095,-123.5 2095,-123.5 2095,-117.5 2101,-111.5 2107,-111.5 2107,-111.5 2178,-111.5 2178,-111.5 2184,-111.5 2190,-117.5 2190,-123.5 2190,-123.5 2190,-167.5 2190,-167.5 2190,-173.5 2184,-179.5 2178,-179.5\"/>\n<text text-anchor=\"start\" x=\"2114.5\" y=\"-164.3\" font-family=\"Helvetica,sans-Serif\" font-size=\"14.00\">gini = 0.0</text>\n<text text-anchor=\"start\" x=\"2105\" y=\"-149.3\" font-family=\"Helvetica,sans-Serif\" font-size=\"14.00\">samples = 4</text>\n<text text-anchor=\"start\" x=\"2103\" y=\"-134.3\" font-family=\"Helvetica,sans-Serif\" font-size=\"14.00\">value = [4, 0]</text>\n<text text-anchor=\"start\" x=\"2117\" y=\"-119.3\" font-family=\"Helvetica,sans-Serif\" font-size=\"14.00\">class = t</text>\n</g>\n<!-- 68&#45;&gt;69 -->\n<g id=\"edge69\" class=\"edge\">\n<title>68&#45;&gt;69</title>\n<path fill=\"none\" stroke=\"black\" d=\"M2197.36,-222.91C2189.28,-211.65 2180.49,-199.42 2172.37,-188.11\"/>\n<polygon fill=\"black\" stroke=\"black\" points=\"2174.99,-185.75 2166.31,-179.67 2169.3,-189.83 2174.99,-185.75\"/>\n</g>\n<!-- 70 -->\n<g id=\"node71\" class=\"node\">\n<title>70</title>\n<path fill=\"#399de5\" stroke=\"black\" d=\"M2291,-179.5C2291,-179.5 2220,-179.5 2220,-179.5 2214,-179.5 2208,-173.5 2208,-167.5 2208,-167.5 2208,-123.5 2208,-123.5 2208,-117.5 2214,-111.5 2220,-111.5 2220,-111.5 2291,-111.5 2291,-111.5 2297,-111.5 2303,-117.5 2303,-123.5 2303,-123.5 2303,-167.5 2303,-167.5 2303,-173.5 2297,-179.5 2291,-179.5\"/>\n<text text-anchor=\"start\" x=\"2227.5\" y=\"-164.3\" font-family=\"Helvetica,sans-Serif\" font-size=\"14.00\">gini = 0.0</text>\n<text text-anchor=\"start\" x=\"2218\" y=\"-149.3\" font-family=\"Helvetica,sans-Serif\" font-size=\"14.00\">samples = 1</text>\n<text text-anchor=\"start\" x=\"2216\" y=\"-134.3\" font-family=\"Helvetica,sans-Serif\" font-size=\"14.00\">value = [0, 1]</text>\n<text text-anchor=\"start\" x=\"2228\" y=\"-119.3\" font-family=\"Helvetica,sans-Serif\" font-size=\"14.00\">class = a</text>\n</g>\n<!-- 68&#45;&gt;70 -->\n<g id=\"edge70\" class=\"edge\">\n<title>68&#45;&gt;70</title>\n<path fill=\"none\" stroke=\"black\" d=\"M2236.56,-222.91C2239.24,-212.09 2242.15,-200.38 2244.86,-189.44\"/>\n<polygon fill=\"black\" stroke=\"black\" points=\"2248.27,-190.22 2247.28,-179.67 2241.48,-188.53 2248.27,-190.22\"/>\n</g>\n<!-- 72 -->\n<g id=\"node73\" class=\"node\">\n<title>72</title>\n<path fill=\"#e58139\" stroke=\"black\" d=\"M2384,-298.5C2384,-298.5 2313,-298.5 2313,-298.5 2307,-298.5 2301,-292.5 2301,-286.5 2301,-286.5 2301,-242.5 2301,-242.5 2301,-236.5 2307,-230.5 2313,-230.5 2313,-230.5 2384,-230.5 2384,-230.5 2390,-230.5 2396,-236.5 2396,-242.5 2396,-242.5 2396,-286.5 2396,-286.5 2396,-292.5 2390,-298.5 2384,-298.5\"/>\n<text text-anchor=\"start\" x=\"2320.5\" y=\"-283.3\" font-family=\"Helvetica,sans-Serif\" font-size=\"14.00\">gini = 0.0</text>\n<text text-anchor=\"start\" x=\"2311\" y=\"-268.3\" font-family=\"Helvetica,sans-Serif\" font-size=\"14.00\">samples = 1</text>\n<text text-anchor=\"start\" x=\"2309\" y=\"-253.3\" font-family=\"Helvetica,sans-Serif\" font-size=\"14.00\">value = [1, 0]</text>\n<text text-anchor=\"start\" x=\"2323\" y=\"-238.3\" font-family=\"Helvetica,sans-Serif\" font-size=\"14.00\">class = t</text>\n</g>\n<!-- 71&#45;&gt;72 -->\n<g id=\"edge72\" class=\"edge\">\n<title>71&#45;&gt;72</title>\n<path fill=\"none\" stroke=\"black\" d=\"M2348.5,-341.91C2348.5,-331.2 2348.5,-319.62 2348.5,-308.78\"/>\n<polygon fill=\"black\" stroke=\"black\" points=\"2352,-308.67 2348.5,-298.67 2345,-308.67 2352,-308.67\"/>\n</g>\n<!-- 73 -->\n<g id=\"node74\" class=\"node\">\n<title>73</title>\n<path fill=\"#399de5\" stroke=\"black\" d=\"M2497,-298.5C2497,-298.5 2426,-298.5 2426,-298.5 2420,-298.5 2414,-292.5 2414,-286.5 2414,-286.5 2414,-242.5 2414,-242.5 2414,-236.5 2420,-230.5 2426,-230.5 2426,-230.5 2497,-230.5 2497,-230.5 2503,-230.5 2509,-236.5 2509,-242.5 2509,-242.5 2509,-286.5 2509,-286.5 2509,-292.5 2503,-298.5 2497,-298.5\"/>\n<text text-anchor=\"start\" x=\"2433.5\" y=\"-283.3\" font-family=\"Helvetica,sans-Serif\" font-size=\"14.00\">gini = 0.0</text>\n<text text-anchor=\"start\" x=\"2424\" y=\"-268.3\" font-family=\"Helvetica,sans-Serif\" font-size=\"14.00\">samples = 5</text>\n<text text-anchor=\"start\" x=\"2422\" y=\"-253.3\" font-family=\"Helvetica,sans-Serif\" font-size=\"14.00\">value = [0, 5]</text>\n<text text-anchor=\"start\" x=\"2434\" y=\"-238.3\" font-family=\"Helvetica,sans-Serif\" font-size=\"14.00\">class = a</text>\n</g>\n<!-- 71&#45;&gt;73 -->\n<g id=\"edge73\" class=\"edge\">\n<title>71&#45;&gt;73</title>\n<path fill=\"none\" stroke=\"black\" d=\"M2387.7,-341.91C2398.89,-330.32 2411.09,-317.7 2422.28,-306.11\"/>\n<polygon fill=\"black\" stroke=\"black\" points=\"2425.04,-308.29 2429.47,-298.67 2420,-303.43 2425.04,-308.29\"/>\n</g>\n</g>\n</svg>\n",
            "text/plain": [
              "<graphviz.sources.Source at 0x7b29c02a7a90>"
            ]
          },
          "metadata": {},
          "execution_count": 447
        }
      ]
    },
    {
      "cell_type": "code",
      "source": [
        "'''5. Random Forest:\n",
        "a. Build a Random Forest model:\n",
        "i. Divide the dataset in 70:30 ratio\n",
        "ii. Build the model on train set and predict the values on test set\n",
        "iii. Build the confusion matrix and calculate the accuracy\n",
        "iv. Visualize the model using the Graphviz package'''"
      ],
      "metadata": {
        "colab": {
          "base_uri": "https://localhost:8080/",
          "height": 69
        },
        "id": "e1Xj8ycuWCtX",
        "outputId": "3a8656ce-ad9a-46b5-d336-e004442ce63c"
      },
      "execution_count": 448,
      "outputs": [
        {
          "output_type": "execute_result",
          "data": {
            "text/plain": [
              "'5. Random Forest:\\na. Build a Random Forest model:\\ni. Divide the dataset in 70:30 ratio\\nii. Build the model on train set and predict the values on test set\\niii. Build the confusion matrix and calculate the accuracy\\niv. Visualize the model using the Graphviz package'"
            ],
            "application/vnd.google.colaboratory.intrinsic+json": {
              "type": "string"
            }
          },
          "metadata": {},
          "execution_count": 448
        }
      ]
    },
    {
      "cell_type": "code",
      "source": [
        "from sklearn.ensemble import RandomForestClassifier"
      ],
      "metadata": {
        "id": "wYHBGmHvRfkD"
      },
      "execution_count": 449,
      "outputs": []
    },
    {
      "cell_type": "code",
      "source": [
        "rf=RandomForestClassifier()"
      ],
      "metadata": {
        "id": "pTP29ViKUCF3"
      },
      "execution_count": 450,
      "outputs": []
    },
    {
      "cell_type": "code",
      "source": [
        "rf.fit(x_train,y_train)"
      ],
      "metadata": {
        "colab": {
          "base_uri": "https://localhost:8080/",
          "height": 75
        },
        "id": "V-5lCxX2Wp9q",
        "outputId": "3fad0349-d0d9-47f1-a2c2-508dda506ecc"
      },
      "execution_count": 451,
      "outputs": [
        {
          "output_type": "execute_result",
          "data": {
            "text/plain": [
              "RandomForestClassifier()"
            ],
            "text/html": [
              "<style>#sk-container-id-23 {color: black;background-color: white;}#sk-container-id-23 pre{padding: 0;}#sk-container-id-23 div.sk-toggleable {background-color: white;}#sk-container-id-23 label.sk-toggleable__label {cursor: pointer;display: block;width: 100%;margin-bottom: 0;padding: 0.3em;box-sizing: border-box;text-align: center;}#sk-container-id-23 label.sk-toggleable__label-arrow:before {content: \"▸\";float: left;margin-right: 0.25em;color: #696969;}#sk-container-id-23 label.sk-toggleable__label-arrow:hover:before {color: black;}#sk-container-id-23 div.sk-estimator:hover label.sk-toggleable__label-arrow:before {color: black;}#sk-container-id-23 div.sk-toggleable__content {max-height: 0;max-width: 0;overflow: hidden;text-align: left;background-color: #f0f8ff;}#sk-container-id-23 div.sk-toggleable__content pre {margin: 0.2em;color: black;border-radius: 0.25em;background-color: #f0f8ff;}#sk-container-id-23 input.sk-toggleable__control:checked~div.sk-toggleable__content {max-height: 200px;max-width: 100%;overflow: auto;}#sk-container-id-23 input.sk-toggleable__control:checked~label.sk-toggleable__label-arrow:before {content: \"▾\";}#sk-container-id-23 div.sk-estimator input.sk-toggleable__control:checked~label.sk-toggleable__label {background-color: #d4ebff;}#sk-container-id-23 div.sk-label input.sk-toggleable__control:checked~label.sk-toggleable__label {background-color: #d4ebff;}#sk-container-id-23 input.sk-hidden--visually {border: 0;clip: rect(1px 1px 1px 1px);clip: rect(1px, 1px, 1px, 1px);height: 1px;margin: -1px;overflow: hidden;padding: 0;position: absolute;width: 1px;}#sk-container-id-23 div.sk-estimator {font-family: monospace;background-color: #f0f8ff;border: 1px dotted black;border-radius: 0.25em;box-sizing: border-box;margin-bottom: 0.5em;}#sk-container-id-23 div.sk-estimator:hover {background-color: #d4ebff;}#sk-container-id-23 div.sk-parallel-item::after {content: \"\";width: 100%;border-bottom: 1px solid gray;flex-grow: 1;}#sk-container-id-23 div.sk-label:hover label.sk-toggleable__label {background-color: #d4ebff;}#sk-container-id-23 div.sk-serial::before {content: \"\";position: absolute;border-left: 1px solid gray;box-sizing: border-box;top: 0;bottom: 0;left: 50%;z-index: 0;}#sk-container-id-23 div.sk-serial {display: flex;flex-direction: column;align-items: center;background-color: white;padding-right: 0.2em;padding-left: 0.2em;position: relative;}#sk-container-id-23 div.sk-item {position: relative;z-index: 1;}#sk-container-id-23 div.sk-parallel {display: flex;align-items: stretch;justify-content: center;background-color: white;position: relative;}#sk-container-id-23 div.sk-item::before, #sk-container-id-23 div.sk-parallel-item::before {content: \"\";position: absolute;border-left: 1px solid gray;box-sizing: border-box;top: 0;bottom: 0;left: 50%;z-index: -1;}#sk-container-id-23 div.sk-parallel-item {display: flex;flex-direction: column;z-index: 1;position: relative;background-color: white;}#sk-container-id-23 div.sk-parallel-item:first-child::after {align-self: flex-end;width: 50%;}#sk-container-id-23 div.sk-parallel-item:last-child::after {align-self: flex-start;width: 50%;}#sk-container-id-23 div.sk-parallel-item:only-child::after {width: 0;}#sk-container-id-23 div.sk-dashed-wrapped {border: 1px dashed gray;margin: 0 0.4em 0.5em 0.4em;box-sizing: border-box;padding-bottom: 0.4em;background-color: white;}#sk-container-id-23 div.sk-label label {font-family: monospace;font-weight: bold;display: inline-block;line-height: 1.2em;}#sk-container-id-23 div.sk-label-container {text-align: center;}#sk-container-id-23 div.sk-container {/* jupyter's `normalize.less` sets `[hidden] { display: none; }` but bootstrap.min.css set `[hidden] { display: none !important; }` so we also need the `!important` here to be able to override the default hidden behavior on the sphinx rendered scikit-learn.org. See: https://github.com/scikit-learn/scikit-learn/issues/21755 */display: inline-block !important;position: relative;}#sk-container-id-23 div.sk-text-repr-fallback {display: none;}</style><div id=\"sk-container-id-23\" class=\"sk-top-container\"><div class=\"sk-text-repr-fallback\"><pre>RandomForestClassifier()</pre><b>In a Jupyter environment, please rerun this cell to show the HTML representation or trust the notebook. <br />On GitHub, the HTML representation is unable to render, please try loading this page with nbviewer.org.</b></div><div class=\"sk-container\" hidden><div class=\"sk-item\"><div class=\"sk-estimator sk-toggleable\"><input class=\"sk-toggleable__control sk-hidden--visually\" id=\"sk-estimator-id-23\" type=\"checkbox\" checked><label for=\"sk-estimator-id-23\" class=\"sk-toggleable__label sk-toggleable__label-arrow\">RandomForestClassifier</label><div class=\"sk-toggleable__content\"><pre>RandomForestClassifier()</pre></div></div></div></div></div>"
            ]
          },
          "metadata": {},
          "execution_count": 451
        }
      ]
    },
    {
      "cell_type": "code",
      "source": [
        "y_predrf=rf.predict(x_test)"
      ],
      "metadata": {
        "id": "BRjuEngNVDGy"
      },
      "execution_count": 452,
      "outputs": []
    },
    {
      "cell_type": "code",
      "source": [
        "con_mat_rf=confusion_matrix(y_test,y_predrf)"
      ],
      "metadata": {
        "id": "ACzDbmqXbOeH"
      },
      "execution_count": 453,
      "outputs": []
    },
    {
      "cell_type": "code",
      "source": [
        "acc_score_rf=accuracy_score(y_test,y_predrf)"
      ],
      "metadata": {
        "id": "8MjNZAtPbqds"
      },
      "execution_count": 454,
      "outputs": []
    },
    {
      "cell_type": "code",
      "source": [
        "cls_rept_rf=classification_report(y_test,y_predrf)"
      ],
      "metadata": {
        "id": "vjRL31Bhh1N7"
      },
      "execution_count": 455,
      "outputs": []
    },
    {
      "cell_type": "code",
      "source": [
        "cls_rept_rf"
      ],
      "metadata": {
        "colab": {
          "base_uri": "https://localhost:8080/",
          "height": 69
        },
        "id": "U3pwd7G1j-ho",
        "outputId": "847a6fcc-4ce7-4c9d-94eb-4ff9322cb6a4"
      },
      "execution_count": 456,
      "outputs": [
        {
          "output_type": "execute_result",
          "data": {
            "text/plain": [
              "'              precision    recall  f1-score   support\\n\\n           0       0.79      0.76      0.77        41\\n           1       0.81      0.84      0.82        50\\n\\n    accuracy                           0.80        91\\n   macro avg       0.80      0.80      0.80        91\\nweighted avg       0.80      0.80      0.80        91\\n'"
            ],
            "application/vnd.google.colaboratory.intrinsic+json": {
              "type": "string"
            }
          },
          "metadata": {},
          "execution_count": 456
        }
      ]
    },
    {
      "cell_type": "code",
      "source": [
        "from sklearn.tree import export_graphviz\n",
        "\n",
        "tree=rf.estimators_[0]"
      ],
      "metadata": {
        "id": "H6E8HrUnca3T"
      },
      "execution_count": 457,
      "outputs": []
    },
    {
      "cell_type": "code",
      "source": [
        "dot_data = export_graphviz(tree,out_file=None,\n",
        "                          feature_names=x.columns,\n",
        "                          class_names='target',\n",
        "                          filled=True, rounded=True,\n",
        "                          special_characters=True)\n",
        "\n",
        "# Create a graph from the DOT data\n",
        "graph = graphviz.Source(dot_data)"
      ],
      "metadata": {
        "id": "Z7j8yJG6cG06"
      },
      "execution_count": 458,
      "outputs": []
    },
    {
      "cell_type": "code",
      "source": [
        "graph"
      ],
      "metadata": {
        "colab": {
          "base_uri": "https://localhost:8080/",
          "height": 1000
        },
        "id": "203DiEJDcTFZ",
        "outputId": "838f2821-83b4-4ad6-daee-e2b82abdec35"
      },
      "execution_count": 459,
      "outputs": [
        {
          "output_type": "execute_result",
          "data": {
            "image/svg+xml": "<?xml version=\"1.0\" encoding=\"UTF-8\" standalone=\"no\"?>\n<!DOCTYPE svg PUBLIC \"-//W3C//DTD SVG 1.1//EN\"\n \"http://www.w3.org/Graphics/SVG/1.1/DTD/svg11.dtd\">\n<!-- Generated by graphviz version 2.43.0 (0)\n -->\n<!-- Title: Tree Pages: 1 -->\n<svg width=\"1933pt\" height=\"1266pt\"\n viewBox=\"0.00 0.00 1933.00 1266.00\" xmlns=\"http://www.w3.org/2000/svg\" xmlns:xlink=\"http://www.w3.org/1999/xlink\">\n<g id=\"graph0\" class=\"graph\" transform=\"scale(1 1) rotate(0) translate(4 1262)\">\n<title>Tree</title>\n<polygon fill=\"white\" stroke=\"transparent\" points=\"-4,4 -4,-1262 1929,-1262 1929,4 -4,4\"/>\n<!-- 0 -->\n<g id=\"node1\" class=\"node\">\n<title>0</title>\n<path fill=\"#e8f4fc\" stroke=\"black\" d=\"M1348,-1258C1348,-1258 1255,-1258 1255,-1258 1249,-1258 1243,-1252 1243,-1246 1243,-1246 1243,-1187 1243,-1187 1243,-1181 1249,-1175 1255,-1175 1255,-1175 1348,-1175 1348,-1175 1354,-1175 1360,-1181 1360,-1187 1360,-1187 1360,-1246 1360,-1246 1360,-1252 1354,-1258 1348,-1258\"/>\n<text text-anchor=\"start\" x=\"1266\" y=\"-1242.8\" font-family=\"Helvetica,sans-Serif\" font-size=\"14.00\">exang ≤ 0.5</text>\n<text text-anchor=\"start\" x=\"1266\" y=\"-1227.8\" font-family=\"Helvetica,sans-Serif\" font-size=\"14.00\">gini = 0.498</text>\n<text text-anchor=\"start\" x=\"1256.5\" y=\"-1212.8\" font-family=\"Helvetica,sans-Serif\" font-size=\"14.00\">samples = 138</text>\n<text text-anchor=\"start\" x=\"1251\" y=\"-1197.8\" font-family=\"Helvetica,sans-Serif\" font-size=\"14.00\">value = [99, 112]</text>\n<text text-anchor=\"start\" x=\"1274\" y=\"-1182.8\" font-family=\"Helvetica,sans-Serif\" font-size=\"14.00\">class = a</text>\n</g>\n<!-- 1 -->\n<g id=\"node2\" class=\"node\">\n<title>1</title>\n<path fill=\"#7bbeee\" stroke=\"black\" d=\"M1002,-1139C1002,-1139 909,-1139 909,-1139 903,-1139 897,-1133 897,-1127 897,-1127 897,-1068 897,-1068 897,-1062 903,-1056 909,-1056 909,-1056 1002,-1056 1002,-1056 1008,-1056 1014,-1062 1014,-1068 1014,-1068 1014,-1127 1014,-1127 1014,-1133 1008,-1139 1002,-1139\"/>\n<text text-anchor=\"start\" x=\"907\" y=\"-1123.8\" font-family=\"Helvetica,sans-Serif\" font-size=\"14.00\">trestbps ≤ 142.5</text>\n<text text-anchor=\"start\" x=\"920\" y=\"-1108.8\" font-family=\"Helvetica,sans-Serif\" font-size=\"14.00\">gini = 0.375</text>\n<text text-anchor=\"start\" x=\"914.5\" y=\"-1093.8\" font-family=\"Helvetica,sans-Serif\" font-size=\"14.00\">samples = 92</text>\n<text text-anchor=\"start\" x=\"905\" y=\"-1078.8\" font-family=\"Helvetica,sans-Serif\" font-size=\"14.00\">value = [34, 102]</text>\n<text text-anchor=\"start\" x=\"928\" y=\"-1063.8\" font-family=\"Helvetica,sans-Serif\" font-size=\"14.00\">class = a</text>\n</g>\n<!-- 0&#45;&gt;1 -->\n<g id=\"edge1\" class=\"edge\">\n<title>0&#45;&gt;1</title>\n<path fill=\"none\" stroke=\"black\" d=\"M1242.81,-1195.65C1182.2,-1175.16 1087.7,-1143.2 1023.79,-1121.59\"/>\n<polygon fill=\"black\" stroke=\"black\" points=\"1024.79,-1118.23 1014.19,-1118.35 1022.54,-1124.87 1024.79,-1118.23\"/>\n<text text-anchor=\"middle\" x=\"1025.28\" y=\"-1137.06\" font-family=\"Helvetica,sans-Serif\" font-size=\"14.00\">True</text>\n</g>\n<!-- 58 -->\n<g id=\"node59\" class=\"node\">\n<title>58</title>\n<path fill=\"#e99457\" stroke=\"black\" d=\"M1523.5,-1139C1523.5,-1139 1437.5,-1139 1437.5,-1139 1431.5,-1139 1425.5,-1133 1425.5,-1127 1425.5,-1127 1425.5,-1068 1425.5,-1068 1425.5,-1062 1431.5,-1056 1437.5,-1056 1437.5,-1056 1523.5,-1056 1523.5,-1056 1529.5,-1056 1535.5,-1062 1535.5,-1068 1535.5,-1068 1535.5,-1127 1535.5,-1127 1535.5,-1133 1529.5,-1139 1523.5,-1139\"/>\n<text text-anchor=\"start\" x=\"1434\" y=\"-1123.8\" font-family=\"Helvetica,sans-Serif\" font-size=\"14.00\">thalach ≤ 162.5</text>\n<text text-anchor=\"start\" x=\"1445\" y=\"-1108.8\" font-family=\"Helvetica,sans-Serif\" font-size=\"14.00\">gini = 0.231</text>\n<text text-anchor=\"start\" x=\"1439.5\" y=\"-1093.8\" font-family=\"Helvetica,sans-Serif\" font-size=\"14.00\">samples = 46</text>\n<text text-anchor=\"start\" x=\"1433.5\" y=\"-1078.8\" font-family=\"Helvetica,sans-Serif\" font-size=\"14.00\">value = [65, 10]</text>\n<text text-anchor=\"start\" x=\"1455\" y=\"-1063.8\" font-family=\"Helvetica,sans-Serif\" font-size=\"14.00\">class = t</text>\n</g>\n<!-- 0&#45;&gt;58 -->\n<g id=\"edge58\" class=\"edge\">\n<title>0&#45;&gt;58</title>\n<path fill=\"none\" stroke=\"black\" d=\"M1360.11,-1177.19C1378.33,-1165.28 1398.49,-1152.11 1417.02,-1140\"/>\n<polygon fill=\"black\" stroke=\"black\" points=\"1418.95,-1142.91 1425.4,-1134.51 1415.12,-1137.06 1418.95,-1142.91\"/>\n<text text-anchor=\"middle\" x=\"1420.28\" y=\"-1155.28\" font-family=\"Helvetica,sans-Serif\" font-size=\"14.00\">False</text>\n</g>\n<!-- 2 -->\n<g id=\"node3\" class=\"node\">\n<title>2</title>\n<path fill=\"#6fb8ec\" stroke=\"black\" d=\"M532.5,-1020C532.5,-1020 446.5,-1020 446.5,-1020 440.5,-1020 434.5,-1014 434.5,-1008 434.5,-1008 434.5,-949 434.5,-949 434.5,-943 440.5,-937 446.5,-937 446.5,-937 532.5,-937 532.5,-937 538.5,-937 544.5,-943 544.5,-949 544.5,-949 544.5,-1008 544.5,-1008 544.5,-1014 538.5,-1020 532.5,-1020\"/>\n<text text-anchor=\"start\" x=\"443\" y=\"-1004.8\" font-family=\"Helvetica,sans-Serif\" font-size=\"14.00\">thalach ≤ 114.0</text>\n<text text-anchor=\"start\" x=\"454\" y=\"-989.8\" font-family=\"Helvetica,sans-Serif\" font-size=\"14.00\">gini = 0.335</text>\n<text text-anchor=\"start\" x=\"448.5\" y=\"-974.8\" font-family=\"Helvetica,sans-Serif\" font-size=\"14.00\">samples = 74</text>\n<text text-anchor=\"start\" x=\"442.5\" y=\"-959.8\" font-family=\"Helvetica,sans-Serif\" font-size=\"14.00\">value = [23, 85]</text>\n<text text-anchor=\"start\" x=\"462\" y=\"-944.8\" font-family=\"Helvetica,sans-Serif\" font-size=\"14.00\">class = a</text>\n</g>\n<!-- 1&#45;&gt;2 -->\n<g id=\"edge2\" class=\"edge\">\n<title>1&#45;&gt;2</title>\n<path fill=\"none\" stroke=\"black\" d=\"M896.95,-1081.8C809.54,-1059.85 645.47,-1018.66 554.47,-995.81\"/>\n<polygon fill=\"black\" stroke=\"black\" points=\"555.1,-992.36 544.55,-993.32 553.4,-999.15 555.1,-992.36\"/>\n</g>\n<!-- 45 -->\n<g id=\"node46\" class=\"node\">\n<title>45</title>\n<path fill=\"#b9dcf6\" stroke=\"black\" d=\"M998.5,-1020C998.5,-1020 912.5,-1020 912.5,-1020 906.5,-1020 900.5,-1014 900.5,-1008 900.5,-1008 900.5,-949 900.5,-949 900.5,-943 906.5,-937 912.5,-937 912.5,-937 998.5,-937 998.5,-937 1004.5,-937 1010.5,-943 1010.5,-949 1010.5,-949 1010.5,-1008 1010.5,-1008 1010.5,-1014 1004.5,-1020 998.5,-1020\"/>\n<text text-anchor=\"start\" x=\"931\" y=\"-1004.8\" font-family=\"Helvetica,sans-Serif\" font-size=\"14.00\">cp ≤ 1.0</text>\n<text text-anchor=\"start\" x=\"920\" y=\"-989.8\" font-family=\"Helvetica,sans-Serif\" font-size=\"14.00\">gini = 0.477</text>\n<text text-anchor=\"start\" x=\"914.5\" y=\"-974.8\" font-family=\"Helvetica,sans-Serif\" font-size=\"14.00\">samples = 18</text>\n<text text-anchor=\"start\" x=\"908.5\" y=\"-959.8\" font-family=\"Helvetica,sans-Serif\" font-size=\"14.00\">value = [11, 17]</text>\n<text text-anchor=\"start\" x=\"928\" y=\"-944.8\" font-family=\"Helvetica,sans-Serif\" font-size=\"14.00\">class = a</text>\n</g>\n<!-- 1&#45;&gt;45 -->\n<g id=\"edge45\" class=\"edge\">\n<title>1&#45;&gt;45</title>\n<path fill=\"none\" stroke=\"black\" d=\"M955.5,-1055.91C955.5,-1047.65 955.5,-1038.86 955.5,-1030.3\"/>\n<polygon fill=\"black\" stroke=\"black\" points=\"959,-1030.02 955.5,-1020.02 952,-1030.02 959,-1030.02\"/>\n</g>\n<!-- 3 -->\n<g id=\"node4\" class=\"node\">\n<title>3</title>\n<path fill=\"#ea9a61\" stroke=\"black\" d=\"M323,-901C323,-901 234,-901 234,-901 228,-901 222,-895 222,-889 222,-889 222,-830 222,-830 222,-824 228,-818 234,-818 234,-818 323,-818 323,-818 329,-818 335,-824 335,-830 335,-830 335,-889 335,-889 335,-895 329,-901 323,-901\"/>\n<text text-anchor=\"start\" x=\"230\" y=\"-885.8\" font-family=\"Helvetica,sans-Serif\" font-size=\"14.00\">trestbps ≤ 125.0</text>\n<text text-anchor=\"start\" x=\"243\" y=\"-870.8\" font-family=\"Helvetica,sans-Serif\" font-size=\"14.00\">gini = 0.278</text>\n<text text-anchor=\"start\" x=\"241\" y=\"-855.8\" font-family=\"Helvetica,sans-Serif\" font-size=\"14.00\">samples = 4</text>\n<text text-anchor=\"start\" x=\"239\" y=\"-840.8\" font-family=\"Helvetica,sans-Serif\" font-size=\"14.00\">value = [5, 1]</text>\n<text text-anchor=\"start\" x=\"253\" y=\"-825.8\" font-family=\"Helvetica,sans-Serif\" font-size=\"14.00\">class = t</text>\n</g>\n<!-- 2&#45;&gt;3 -->\n<g id=\"edge3\" class=\"edge\">\n<title>2&#45;&gt;3</title>\n<path fill=\"none\" stroke=\"black\" d=\"M434.34,-946.91C406.67,-931.57 372.98,-912.89 344.01,-896.82\"/>\n<polygon fill=\"black\" stroke=\"black\" points=\"345.62,-893.72 335.18,-891.93 342.23,-899.84 345.62,-893.72\"/>\n</g>\n<!-- 8 -->\n<g id=\"node9\" class=\"node\">\n<title>8</title>\n<path fill=\"#63b2eb\" stroke=\"black\" d=\"M532.5,-901C532.5,-901 446.5,-901 446.5,-901 440.5,-901 434.5,-895 434.5,-889 434.5,-889 434.5,-830 434.5,-830 434.5,-824 440.5,-818 446.5,-818 446.5,-818 532.5,-818 532.5,-818 538.5,-818 544.5,-824 544.5,-830 544.5,-830 544.5,-889 544.5,-889 544.5,-895 538.5,-901 532.5,-901\"/>\n<text text-anchor=\"start\" x=\"461.5\" y=\"-885.8\" font-family=\"Helvetica,sans-Serif\" font-size=\"14.00\">thal ≤ 1.5</text>\n<text text-anchor=\"start\" x=\"454\" y=\"-870.8\" font-family=\"Helvetica,sans-Serif\" font-size=\"14.00\">gini = 0.291</text>\n<text text-anchor=\"start\" x=\"448.5\" y=\"-855.8\" font-family=\"Helvetica,sans-Serif\" font-size=\"14.00\">samples = 70</text>\n<text text-anchor=\"start\" x=\"442.5\" y=\"-840.8\" font-family=\"Helvetica,sans-Serif\" font-size=\"14.00\">value = [18, 84]</text>\n<text text-anchor=\"start\" x=\"462\" y=\"-825.8\" font-family=\"Helvetica,sans-Serif\" font-size=\"14.00\">class = a</text>\n</g>\n<!-- 2&#45;&gt;8 -->\n<g id=\"edge8\" class=\"edge\">\n<title>2&#45;&gt;8</title>\n<path fill=\"none\" stroke=\"black\" d=\"M489.5,-936.91C489.5,-928.65 489.5,-919.86 489.5,-911.3\"/>\n<polygon fill=\"black\" stroke=\"black\" points=\"493,-911.02 489.5,-901.02 486,-911.02 493,-911.02\"/>\n</g>\n<!-- 4 -->\n<g id=\"node5\" class=\"node\">\n<title>4</title>\n<path fill=\"#f2c09c\" stroke=\"black\" d=\"M201,-782C201,-782 116,-782 116,-782 110,-782 104,-776 104,-770 104,-770 104,-711 104,-711 104,-705 110,-699 116,-699 116,-699 201,-699 201,-699 207,-699 213,-705 213,-711 213,-711 213,-770 213,-770 213,-776 207,-782 201,-782\"/>\n<text text-anchor=\"start\" x=\"112\" y=\"-766.8\" font-family=\"Helvetica,sans-Serif\" font-size=\"14.00\">thalach ≤ 104.5</text>\n<text text-anchor=\"start\" x=\"123\" y=\"-751.8\" font-family=\"Helvetica,sans-Serif\" font-size=\"14.00\">gini = 0.444</text>\n<text text-anchor=\"start\" x=\"121\" y=\"-736.8\" font-family=\"Helvetica,sans-Serif\" font-size=\"14.00\">samples = 2</text>\n<text text-anchor=\"start\" x=\"119\" y=\"-721.8\" font-family=\"Helvetica,sans-Serif\" font-size=\"14.00\">value = [2, 1]</text>\n<text text-anchor=\"start\" x=\"133\" y=\"-706.8\" font-family=\"Helvetica,sans-Serif\" font-size=\"14.00\">class = t</text>\n</g>\n<!-- 3&#45;&gt;4 -->\n<g id=\"edge4\" class=\"edge\">\n<title>3&#45;&gt;4</title>\n<path fill=\"none\" stroke=\"black\" d=\"M236.87,-817.91C227.37,-808.65 217.2,-798.73 207.43,-789.21\"/>\n<polygon fill=\"black\" stroke=\"black\" points=\"209.66,-786.5 200.06,-782.02 204.78,-791.51 209.66,-786.5\"/>\n</g>\n<!-- 7 -->\n<g id=\"node8\" class=\"node\">\n<title>7</title>\n<path fill=\"#e58139\" stroke=\"black\" d=\"M314,-774.5C314,-774.5 243,-774.5 243,-774.5 237,-774.5 231,-768.5 231,-762.5 231,-762.5 231,-718.5 231,-718.5 231,-712.5 237,-706.5 243,-706.5 243,-706.5 314,-706.5 314,-706.5 320,-706.5 326,-712.5 326,-718.5 326,-718.5 326,-762.5 326,-762.5 326,-768.5 320,-774.5 314,-774.5\"/>\n<text text-anchor=\"start\" x=\"250.5\" y=\"-759.3\" font-family=\"Helvetica,sans-Serif\" font-size=\"14.00\">gini = 0.0</text>\n<text text-anchor=\"start\" x=\"241\" y=\"-744.3\" font-family=\"Helvetica,sans-Serif\" font-size=\"14.00\">samples = 2</text>\n<text text-anchor=\"start\" x=\"239\" y=\"-729.3\" font-family=\"Helvetica,sans-Serif\" font-size=\"14.00\">value = [3, 0]</text>\n<text text-anchor=\"start\" x=\"253\" y=\"-714.3\" font-family=\"Helvetica,sans-Serif\" font-size=\"14.00\">class = t</text>\n</g>\n<!-- 3&#45;&gt;7 -->\n<g id=\"edge7\" class=\"edge\">\n<title>3&#45;&gt;7</title>\n<path fill=\"none\" stroke=\"black\" d=\"M278.5,-817.91C278.5,-807.2 278.5,-795.62 278.5,-784.78\"/>\n<polygon fill=\"black\" stroke=\"black\" points=\"282,-784.67 278.5,-774.67 275,-784.67 282,-784.67\"/>\n</g>\n<!-- 5 -->\n<g id=\"node6\" class=\"node\">\n<title>5</title>\n<path fill=\"#399de5\" stroke=\"black\" d=\"M83,-655.5C83,-655.5 12,-655.5 12,-655.5 6,-655.5 0,-649.5 0,-643.5 0,-643.5 0,-599.5 0,-599.5 0,-593.5 6,-587.5 12,-587.5 12,-587.5 83,-587.5 83,-587.5 89,-587.5 95,-593.5 95,-599.5 95,-599.5 95,-643.5 95,-643.5 95,-649.5 89,-655.5 83,-655.5\"/>\n<text text-anchor=\"start\" x=\"19.5\" y=\"-640.3\" font-family=\"Helvetica,sans-Serif\" font-size=\"14.00\">gini = 0.0</text>\n<text text-anchor=\"start\" x=\"10\" y=\"-625.3\" font-family=\"Helvetica,sans-Serif\" font-size=\"14.00\">samples = 1</text>\n<text text-anchor=\"start\" x=\"8\" y=\"-610.3\" font-family=\"Helvetica,sans-Serif\" font-size=\"14.00\">value = [0, 1]</text>\n<text text-anchor=\"start\" x=\"20\" y=\"-595.3\" font-family=\"Helvetica,sans-Serif\" font-size=\"14.00\">class = a</text>\n</g>\n<!-- 4&#45;&gt;5 -->\n<g id=\"edge5\" class=\"edge\">\n<title>4&#45;&gt;5</title>\n<path fill=\"none\" stroke=\"black\" d=\"M119.99,-698.91C109,-687.32 97.02,-674.7 86.03,-663.11\"/>\n<polygon fill=\"black\" stroke=\"black\" points=\"88.39,-660.51 78.97,-655.67 83.31,-665.33 88.39,-660.51\"/>\n</g>\n<!-- 6 -->\n<g id=\"node7\" class=\"node\">\n<title>6</title>\n<path fill=\"#e58139\" stroke=\"black\" d=\"M196,-655.5C196,-655.5 125,-655.5 125,-655.5 119,-655.5 113,-649.5 113,-643.5 113,-643.5 113,-599.5 113,-599.5 113,-593.5 119,-587.5 125,-587.5 125,-587.5 196,-587.5 196,-587.5 202,-587.5 208,-593.5 208,-599.5 208,-599.5 208,-643.5 208,-643.5 208,-649.5 202,-655.5 196,-655.5\"/>\n<text text-anchor=\"start\" x=\"132.5\" y=\"-640.3\" font-family=\"Helvetica,sans-Serif\" font-size=\"14.00\">gini = 0.0</text>\n<text text-anchor=\"start\" x=\"123\" y=\"-625.3\" font-family=\"Helvetica,sans-Serif\" font-size=\"14.00\">samples = 1</text>\n<text text-anchor=\"start\" x=\"121\" y=\"-610.3\" font-family=\"Helvetica,sans-Serif\" font-size=\"14.00\">value = [2, 0]</text>\n<text text-anchor=\"start\" x=\"135\" y=\"-595.3\" font-family=\"Helvetica,sans-Serif\" font-size=\"14.00\">class = t</text>\n</g>\n<!-- 4&#45;&gt;6 -->\n<g id=\"edge6\" class=\"edge\">\n<title>4&#45;&gt;6</title>\n<path fill=\"none\" stroke=\"black\" d=\"M159.19,-698.91C159.38,-688.2 159.57,-676.62 159.76,-665.78\"/>\n<polygon fill=\"black\" stroke=\"black\" points=\"163.26,-665.73 159.93,-655.67 156.26,-665.61 163.26,-665.73\"/>\n</g>\n<!-- 9 -->\n<g id=\"node10\" class=\"node\">\n<title>9</title>\n<path fill=\"#f6d5bd\" stroke=\"black\" d=\"M427,-782C427,-782 356,-782 356,-782 350,-782 344,-776 344,-770 344,-770 344,-711 344,-711 344,-705 350,-699 356,-699 356,-699 427,-699 427,-699 433,-699 439,-705 439,-711 439,-711 439,-770 439,-770 439,-776 433,-782 427,-782\"/>\n<text text-anchor=\"start\" x=\"352\" y=\"-766.8\" font-family=\"Helvetica,sans-Serif\" font-size=\"14.00\">restecg ≤ 0.5</text>\n<text text-anchor=\"start\" x=\"359.5\" y=\"-751.8\" font-family=\"Helvetica,sans-Serif\" font-size=\"14.00\">gini = 0.48</text>\n<text text-anchor=\"start\" x=\"354\" y=\"-736.8\" font-family=\"Helvetica,sans-Serif\" font-size=\"14.00\">samples = 3</text>\n<text text-anchor=\"start\" x=\"352\" y=\"-721.8\" font-family=\"Helvetica,sans-Serif\" font-size=\"14.00\">value = [3, 2]</text>\n<text text-anchor=\"start\" x=\"366\" y=\"-706.8\" font-family=\"Helvetica,sans-Serif\" font-size=\"14.00\">class = t</text>\n</g>\n<!-- 8&#45;&gt;9 -->\n<g id=\"edge9\" class=\"edge\">\n<title>8&#45;&gt;9</title>\n<path fill=\"none\" stroke=\"black\" d=\"M455.5,-817.91C447.9,-808.83 439.76,-799.12 431.93,-789.77\"/>\n<polygon fill=\"black\" stroke=\"black\" points=\"434.54,-787.44 425.44,-782.02 429.18,-791.93 434.54,-787.44\"/>\n</g>\n<!-- 14 -->\n<g id=\"node15\" class=\"node\">\n<title>14</title>\n<path fill=\"#5dafea\" stroke=\"black\" d=\"M584.5,-782C584.5,-782 498.5,-782 498.5,-782 492.5,-782 486.5,-776 486.5,-770 486.5,-770 486.5,-711 486.5,-711 486.5,-705 492.5,-699 498.5,-699 498.5,-699 584.5,-699 584.5,-699 590.5,-699 596.5,-705 596.5,-711 596.5,-711 596.5,-770 596.5,-770 596.5,-776 590.5,-782 584.5,-782\"/>\n<text text-anchor=\"start\" x=\"517\" y=\"-766.8\" font-family=\"Helvetica,sans-Serif\" font-size=\"14.00\">ca ≤ 0.5</text>\n<text text-anchor=\"start\" x=\"506\" y=\"-751.8\" font-family=\"Helvetica,sans-Serif\" font-size=\"14.00\">gini = 0.261</text>\n<text text-anchor=\"start\" x=\"500.5\" y=\"-736.8\" font-family=\"Helvetica,sans-Serif\" font-size=\"14.00\">samples = 67</text>\n<text text-anchor=\"start\" x=\"494.5\" y=\"-721.8\" font-family=\"Helvetica,sans-Serif\" font-size=\"14.00\">value = [15, 82]</text>\n<text text-anchor=\"start\" x=\"514\" y=\"-706.8\" font-family=\"Helvetica,sans-Serif\" font-size=\"14.00\">class = a</text>\n</g>\n<!-- 8&#45;&gt;14 -->\n<g id=\"edge14\" class=\"edge\">\n<title>8&#45;&gt;14</title>\n<path fill=\"none\" stroke=\"black\" d=\"M507.54,-817.91C511.37,-809.29 515.46,-800.09 519.42,-791.17\"/>\n<polygon fill=\"black\" stroke=\"black\" points=\"522.63,-792.58 523.49,-782.02 516.23,-789.74 522.63,-792.58\"/>\n</g>\n<!-- 10 -->\n<g id=\"node11\" class=\"node\">\n<title>10</title>\n<path fill=\"#e58139\" stroke=\"black\" d=\"M312,-655.5C312,-655.5 241,-655.5 241,-655.5 235,-655.5 229,-649.5 229,-643.5 229,-643.5 229,-599.5 229,-599.5 229,-593.5 235,-587.5 241,-587.5 241,-587.5 312,-587.5 312,-587.5 318,-587.5 324,-593.5 324,-599.5 324,-599.5 324,-643.5 324,-643.5 324,-649.5 318,-655.5 312,-655.5\"/>\n<text text-anchor=\"start\" x=\"248.5\" y=\"-640.3\" font-family=\"Helvetica,sans-Serif\" font-size=\"14.00\">gini = 0.0</text>\n<text text-anchor=\"start\" x=\"239\" y=\"-625.3\" font-family=\"Helvetica,sans-Serif\" font-size=\"14.00\">samples = 1</text>\n<text text-anchor=\"start\" x=\"237\" y=\"-610.3\" font-family=\"Helvetica,sans-Serif\" font-size=\"14.00\">value = [2, 0]</text>\n<text text-anchor=\"start\" x=\"251\" y=\"-595.3\" font-family=\"Helvetica,sans-Serif\" font-size=\"14.00\">class = t</text>\n</g>\n<!-- 9&#45;&gt;10 -->\n<g id=\"edge10\" class=\"edge\">\n<title>9&#45;&gt;10</title>\n<path fill=\"none\" stroke=\"black\" d=\"M351.6,-698.91C340.21,-687.32 327.81,-674.7 316.42,-663.11\"/>\n<polygon fill=\"black\" stroke=\"black\" points=\"318.61,-660.35 309.1,-655.67 313.61,-665.25 318.61,-660.35\"/>\n</g>\n<!-- 11 -->\n<g id=\"node12\" class=\"node\">\n<title>11</title>\n<path fill=\"#9ccef2\" stroke=\"black\" d=\"M425,-663C425,-663 354,-663 354,-663 348,-663 342,-657 342,-651 342,-651 342,-592 342,-592 342,-586 348,-580 354,-580 354,-580 425,-580 425,-580 431,-580 437,-586 437,-592 437,-592 437,-651 437,-651 437,-657 431,-663 425,-663\"/>\n<text text-anchor=\"start\" x=\"357.5\" y=\"-647.8\" font-family=\"Helvetica,sans-Serif\" font-size=\"14.00\">age ≤ 57.5</text>\n<text text-anchor=\"start\" x=\"354\" y=\"-632.8\" font-family=\"Helvetica,sans-Serif\" font-size=\"14.00\">gini = 0.444</text>\n<text text-anchor=\"start\" x=\"352\" y=\"-617.8\" font-family=\"Helvetica,sans-Serif\" font-size=\"14.00\">samples = 2</text>\n<text text-anchor=\"start\" x=\"350\" y=\"-602.8\" font-family=\"Helvetica,sans-Serif\" font-size=\"14.00\">value = [1, 2]</text>\n<text text-anchor=\"start\" x=\"362\" y=\"-587.8\" font-family=\"Helvetica,sans-Serif\" font-size=\"14.00\">class = a</text>\n</g>\n<!-- 9&#45;&gt;11 -->\n<g id=\"edge11\" class=\"edge\">\n<title>9&#45;&gt;11</title>\n<path fill=\"none\" stroke=\"black\" d=\"M390.81,-698.91C390.66,-690.56 390.51,-681.67 390.36,-673.02\"/>\n<polygon fill=\"black\" stroke=\"black\" points=\"393.86,-672.96 390.19,-663.02 386.86,-673.08 393.86,-672.96\"/>\n</g>\n<!-- 12 -->\n<g id=\"node13\" class=\"node\">\n<title>12</title>\n<path fill=\"#399de5\" stroke=\"black\" d=\"M285,-536.5C285,-536.5 214,-536.5 214,-536.5 208,-536.5 202,-530.5 202,-524.5 202,-524.5 202,-480.5 202,-480.5 202,-474.5 208,-468.5 214,-468.5 214,-468.5 285,-468.5 285,-468.5 291,-468.5 297,-474.5 297,-480.5 297,-480.5 297,-524.5 297,-524.5 297,-530.5 291,-536.5 285,-536.5\"/>\n<text text-anchor=\"start\" x=\"221.5\" y=\"-521.3\" font-family=\"Helvetica,sans-Serif\" font-size=\"14.00\">gini = 0.0</text>\n<text text-anchor=\"start\" x=\"212\" y=\"-506.3\" font-family=\"Helvetica,sans-Serif\" font-size=\"14.00\">samples = 1</text>\n<text text-anchor=\"start\" x=\"210\" y=\"-491.3\" font-family=\"Helvetica,sans-Serif\" font-size=\"14.00\">value = [0, 2]</text>\n<text text-anchor=\"start\" x=\"222\" y=\"-476.3\" font-family=\"Helvetica,sans-Serif\" font-size=\"14.00\">class = a</text>\n</g>\n<!-- 11&#45;&gt;12 -->\n<g id=\"edge12\" class=\"edge\">\n<title>11&#45;&gt;12</title>\n<path fill=\"none\" stroke=\"black\" d=\"M341.71,-580.56C327.27,-568.5 311.43,-555.26 297.01,-543.21\"/>\n<polygon fill=\"black\" stroke=\"black\" points=\"299.09,-540.38 289.17,-536.65 294.6,-545.75 299.09,-540.38\"/>\n</g>\n<!-- 13 -->\n<g id=\"node14\" class=\"node\">\n<title>13</title>\n<path fill=\"#e58139\" stroke=\"black\" d=\"M398,-536.5C398,-536.5 327,-536.5 327,-536.5 321,-536.5 315,-530.5 315,-524.5 315,-524.5 315,-480.5 315,-480.5 315,-474.5 321,-468.5 327,-468.5 327,-468.5 398,-468.5 398,-468.5 404,-468.5 410,-474.5 410,-480.5 410,-480.5 410,-524.5 410,-524.5 410,-530.5 404,-536.5 398,-536.5\"/>\n<text text-anchor=\"start\" x=\"334.5\" y=\"-521.3\" font-family=\"Helvetica,sans-Serif\" font-size=\"14.00\">gini = 0.0</text>\n<text text-anchor=\"start\" x=\"325\" y=\"-506.3\" font-family=\"Helvetica,sans-Serif\" font-size=\"14.00\">samples = 1</text>\n<text text-anchor=\"start\" x=\"323\" y=\"-491.3\" font-family=\"Helvetica,sans-Serif\" font-size=\"14.00\">value = [1, 0]</text>\n<text text-anchor=\"start\" x=\"337\" y=\"-476.3\" font-family=\"Helvetica,sans-Serif\" font-size=\"14.00\">class = t</text>\n</g>\n<!-- 11&#45;&gt;13 -->\n<g id=\"edge13\" class=\"edge\">\n<title>11&#45;&gt;13</title>\n<path fill=\"none\" stroke=\"black\" d=\"M380.13,-579.91C377.64,-569.09 374.93,-557.38 372.41,-546.44\"/>\n<polygon fill=\"black\" stroke=\"black\" points=\"375.81,-545.62 370.15,-536.67 368.99,-547.2 375.81,-545.62\"/>\n</g>\n<!-- 15 -->\n<g id=\"node16\" class=\"node\">\n<title>15</title>\n<path fill=\"#3fa0e6\" stroke=\"black\" d=\"M580.5,-663C580.5,-663 502.5,-663 502.5,-663 496.5,-663 490.5,-657 490.5,-651 490.5,-651 490.5,-592 490.5,-592 490.5,-586 496.5,-580 502.5,-580 502.5,-580 580.5,-580 580.5,-580 586.5,-580 592.5,-586 592.5,-592 592.5,-592 592.5,-651 592.5,-651 592.5,-657 586.5,-663 580.5,-663\"/>\n<text text-anchor=\"start\" x=\"504.5\" y=\"-647.8\" font-family=\"Helvetica,sans-Serif\" font-size=\"14.00\">chol ≤ 241.0</text>\n<text text-anchor=\"start\" x=\"506\" y=\"-632.8\" font-family=\"Helvetica,sans-Serif\" font-size=\"14.00\">gini = 0.059</text>\n<text text-anchor=\"start\" x=\"500.5\" y=\"-617.8\" font-family=\"Helvetica,sans-Serif\" font-size=\"14.00\">samples = 46</text>\n<text text-anchor=\"start\" x=\"498.5\" y=\"-602.8\" font-family=\"Helvetica,sans-Serif\" font-size=\"14.00\">value = [2, 64]</text>\n<text text-anchor=\"start\" x=\"514\" y=\"-587.8\" font-family=\"Helvetica,sans-Serif\" font-size=\"14.00\">class = a</text>\n</g>\n<!-- 14&#45;&gt;15 -->\n<g id=\"edge15\" class=\"edge\">\n<title>14&#45;&gt;15</title>\n<path fill=\"none\" stroke=\"black\" d=\"M541.5,-698.91C541.5,-690.65 541.5,-681.86 541.5,-673.3\"/>\n<polygon fill=\"black\" stroke=\"black\" points=\"545,-673.02 541.5,-663.02 538,-673.02 545,-673.02\"/>\n</g>\n<!-- 26 -->\n<g id=\"node27\" class=\"node\">\n<title>26</title>\n<path fill=\"#c8e4f8\" stroke=\"black\" d=\"M766.5,-663C766.5,-663 680.5,-663 680.5,-663 674.5,-663 668.5,-657 668.5,-651 668.5,-651 668.5,-592 668.5,-592 668.5,-586 674.5,-580 680.5,-580 680.5,-580 766.5,-580 766.5,-580 772.5,-580 778.5,-586 778.5,-592 778.5,-592 778.5,-651 778.5,-651 778.5,-657 772.5,-663 766.5,-663\"/>\n<text text-anchor=\"start\" x=\"677\" y=\"-647.8\" font-family=\"Helvetica,sans-Serif\" font-size=\"14.00\">thalach ≤ 152.5</text>\n<text text-anchor=\"start\" x=\"688\" y=\"-632.8\" font-family=\"Helvetica,sans-Serif\" font-size=\"14.00\">gini = 0.487</text>\n<text text-anchor=\"start\" x=\"682.5\" y=\"-617.8\" font-family=\"Helvetica,sans-Serif\" font-size=\"14.00\">samples = 21</text>\n<text text-anchor=\"start\" x=\"676.5\" y=\"-602.8\" font-family=\"Helvetica,sans-Serif\" font-size=\"14.00\">value = [13, 18]</text>\n<text text-anchor=\"start\" x=\"696\" y=\"-587.8\" font-family=\"Helvetica,sans-Serif\" font-size=\"14.00\">class = a</text>\n</g>\n<!-- 14&#45;&gt;26 -->\n<g id=\"edge26\" class=\"edge\">\n<title>14&#45;&gt;26</title>\n<path fill=\"none\" stroke=\"black\" d=\"M596.6,-704.08C616.47,-691.31 639.05,-676.79 659.6,-663.58\"/>\n<polygon fill=\"black\" stroke=\"black\" points=\"661.75,-666.35 668.27,-658 657.97,-660.47 661.75,-666.35\"/>\n</g>\n<!-- 16 -->\n<g id=\"node17\" class=\"node\">\n<title>16</title>\n<path fill=\"#399de5\" stroke=\"black\" d=\"M518.5,-536.5C518.5,-536.5 440.5,-536.5 440.5,-536.5 434.5,-536.5 428.5,-530.5 428.5,-524.5 428.5,-524.5 428.5,-480.5 428.5,-480.5 428.5,-474.5 434.5,-468.5 440.5,-468.5 440.5,-468.5 518.5,-468.5 518.5,-468.5 524.5,-468.5 530.5,-474.5 530.5,-480.5 530.5,-480.5 530.5,-524.5 530.5,-524.5 530.5,-530.5 524.5,-536.5 518.5,-536.5\"/>\n<text text-anchor=\"start\" x=\"451.5\" y=\"-521.3\" font-family=\"Helvetica,sans-Serif\" font-size=\"14.00\">gini = 0.0</text>\n<text text-anchor=\"start\" x=\"438.5\" y=\"-506.3\" font-family=\"Helvetica,sans-Serif\" font-size=\"14.00\">samples = 26</text>\n<text text-anchor=\"start\" x=\"436.5\" y=\"-491.3\" font-family=\"Helvetica,sans-Serif\" font-size=\"14.00\">value = [0, 40]</text>\n<text text-anchor=\"start\" x=\"452\" y=\"-476.3\" font-family=\"Helvetica,sans-Serif\" font-size=\"14.00\">class = a</text>\n</g>\n<!-- 15&#45;&gt;16 -->\n<g id=\"edge16\" class=\"edge\">\n<title>15&#45;&gt;16</title>\n<path fill=\"none\" stroke=\"black\" d=\"M519.99,-579.91C514.14,-568.87 507.8,-556.9 501.9,-545.77\"/>\n<polygon fill=\"black\" stroke=\"black\" points=\"504.85,-543.86 497.08,-536.67 498.67,-547.14 504.85,-543.86\"/>\n</g>\n<!-- 17 -->\n<g id=\"node18\" class=\"node\">\n<title>17</title>\n<path fill=\"#49a5e7\" stroke=\"black\" d=\"M638.5,-544C638.5,-544 560.5,-544 560.5,-544 554.5,-544 548.5,-538 548.5,-532 548.5,-532 548.5,-473 548.5,-473 548.5,-467 554.5,-461 560.5,-461 560.5,-461 638.5,-461 638.5,-461 644.5,-461 650.5,-467 650.5,-473 650.5,-473 650.5,-532 650.5,-532 650.5,-538 644.5,-544 638.5,-544\"/>\n<text text-anchor=\"start\" x=\"562.5\" y=\"-528.8\" font-family=\"Helvetica,sans-Serif\" font-size=\"14.00\">chol ≤ 244.0</text>\n<text text-anchor=\"start\" x=\"564\" y=\"-513.8\" font-family=\"Helvetica,sans-Serif\" font-size=\"14.00\">gini = 0.142</text>\n<text text-anchor=\"start\" x=\"558.5\" y=\"-498.8\" font-family=\"Helvetica,sans-Serif\" font-size=\"14.00\">samples = 20</text>\n<text text-anchor=\"start\" x=\"556.5\" y=\"-483.8\" font-family=\"Helvetica,sans-Serif\" font-size=\"14.00\">value = [2, 24]</text>\n<text text-anchor=\"start\" x=\"572\" y=\"-468.8\" font-family=\"Helvetica,sans-Serif\" font-size=\"14.00\">class = a</text>\n</g>\n<!-- 15&#45;&gt;17 -->\n<g id=\"edge17\" class=\"edge\">\n<title>15&#45;&gt;17</title>\n<path fill=\"none\" stroke=\"black\" d=\"M561.62,-579.91C565.9,-571.29 570.46,-562.09 574.87,-553.17\"/>\n<polygon fill=\"black\" stroke=\"black\" points=\"578.11,-554.53 579.41,-544.02 571.84,-551.43 578.11,-554.53\"/>\n</g>\n<!-- 18 -->\n<g id=\"node19\" class=\"node\">\n<title>18</title>\n<path fill=\"#e58139\" stroke=\"black\" d=\"M516,-417.5C516,-417.5 445,-417.5 445,-417.5 439,-417.5 433,-411.5 433,-405.5 433,-405.5 433,-361.5 433,-361.5 433,-355.5 439,-349.5 445,-349.5 445,-349.5 516,-349.5 516,-349.5 522,-349.5 528,-355.5 528,-361.5 528,-361.5 528,-405.5 528,-405.5 528,-411.5 522,-417.5 516,-417.5\"/>\n<text text-anchor=\"start\" x=\"452.5\" y=\"-402.3\" font-family=\"Helvetica,sans-Serif\" font-size=\"14.00\">gini = 0.0</text>\n<text text-anchor=\"start\" x=\"443\" y=\"-387.3\" font-family=\"Helvetica,sans-Serif\" font-size=\"14.00\">samples = 1</text>\n<text text-anchor=\"start\" x=\"441\" y=\"-372.3\" font-family=\"Helvetica,sans-Serif\" font-size=\"14.00\">value = [1, 0]</text>\n<text text-anchor=\"start\" x=\"455\" y=\"-357.3\" font-family=\"Helvetica,sans-Serif\" font-size=\"14.00\">class = t</text>\n</g>\n<!-- 17&#45;&gt;18 -->\n<g id=\"edge18\" class=\"edge\">\n<title>17&#45;&gt;18</title>\n<path fill=\"none\" stroke=\"black\" d=\"M558.21,-460.91C546.32,-449.21 533.35,-436.46 521.47,-424.78\"/>\n<polygon fill=\"black\" stroke=\"black\" points=\"523.82,-422.18 514.23,-417.67 518.91,-427.17 523.82,-422.18\"/>\n</g>\n<!-- 19 -->\n<g id=\"node20\" class=\"node\">\n<title>19</title>\n<path fill=\"#41a1e6\" stroke=\"black\" d=\"M636.5,-425C636.5,-425 558.5,-425 558.5,-425 552.5,-425 546.5,-419 546.5,-413 546.5,-413 546.5,-354 546.5,-354 546.5,-348 552.5,-342 558.5,-342 558.5,-342 636.5,-342 636.5,-342 642.5,-342 648.5,-348 648.5,-354 648.5,-354 648.5,-413 648.5,-413 648.5,-419 642.5,-425 636.5,-425\"/>\n<text text-anchor=\"start\" x=\"560.5\" y=\"-409.8\" font-family=\"Helvetica,sans-Serif\" font-size=\"14.00\">chol ≤ 272.5</text>\n<text text-anchor=\"start\" x=\"562\" y=\"-394.8\" font-family=\"Helvetica,sans-Serif\" font-size=\"14.00\">gini = 0.077</text>\n<text text-anchor=\"start\" x=\"556.5\" y=\"-379.8\" font-family=\"Helvetica,sans-Serif\" font-size=\"14.00\">samples = 19</text>\n<text text-anchor=\"start\" x=\"554.5\" y=\"-364.8\" font-family=\"Helvetica,sans-Serif\" font-size=\"14.00\">value = [1, 24]</text>\n<text text-anchor=\"start\" x=\"570\" y=\"-349.8\" font-family=\"Helvetica,sans-Serif\" font-size=\"14.00\">class = a</text>\n</g>\n<!-- 17&#45;&gt;19 -->\n<g id=\"edge19\" class=\"edge\">\n<title>17&#45;&gt;19</title>\n<path fill=\"none\" stroke=\"black\" d=\"M598.81,-460.91C598.66,-452.56 598.51,-443.67 598.36,-435.02\"/>\n<polygon fill=\"black\" stroke=\"black\" points=\"601.86,-434.96 598.19,-425.02 594.86,-435.08 601.86,-434.96\"/>\n</g>\n<!-- 20 -->\n<g id=\"node21\" class=\"node\">\n<title>20</title>\n<path fill=\"#399de5\" stroke=\"black\" d=\"M511.5,-298.5C511.5,-298.5 433.5,-298.5 433.5,-298.5 427.5,-298.5 421.5,-292.5 421.5,-286.5 421.5,-286.5 421.5,-242.5 421.5,-242.5 421.5,-236.5 427.5,-230.5 433.5,-230.5 433.5,-230.5 511.5,-230.5 511.5,-230.5 517.5,-230.5 523.5,-236.5 523.5,-242.5 523.5,-242.5 523.5,-286.5 523.5,-286.5 523.5,-292.5 517.5,-298.5 511.5,-298.5\"/>\n<text text-anchor=\"start\" x=\"444.5\" y=\"-283.3\" font-family=\"Helvetica,sans-Serif\" font-size=\"14.00\">gini = 0.0</text>\n<text text-anchor=\"start\" x=\"431.5\" y=\"-268.3\" font-family=\"Helvetica,sans-Serif\" font-size=\"14.00\">samples = 12</text>\n<text text-anchor=\"start\" x=\"429.5\" y=\"-253.3\" font-family=\"Helvetica,sans-Serif\" font-size=\"14.00\">value = [0, 15]</text>\n<text text-anchor=\"start\" x=\"445\" y=\"-238.3\" font-family=\"Helvetica,sans-Serif\" font-size=\"14.00\">class = a</text>\n</g>\n<!-- 19&#45;&gt;20 -->\n<g id=\"edge20\" class=\"edge\">\n<title>19&#45;&gt;20</title>\n<path fill=\"none\" stroke=\"black\" d=\"M554.13,-341.91C541.64,-330.21 528.01,-317.46 515.53,-305.78\"/>\n<polygon fill=\"black\" stroke=\"black\" points=\"517.63,-302.95 507.93,-298.67 512.84,-308.06 517.63,-302.95\"/>\n</g>\n<!-- 21 -->\n<g id=\"node22\" class=\"node\">\n<title>21</title>\n<path fill=\"#4fa8e8\" stroke=\"black\" d=\"M643,-306C643,-306 554,-306 554,-306 548,-306 542,-300 542,-294 542,-294 542,-235 542,-235 542,-229 548,-223 554,-223 554,-223 643,-223 643,-223 649,-223 655,-229 655,-235 655,-235 655,-294 655,-294 655,-300 649,-306 643,-306\"/>\n<text text-anchor=\"start\" x=\"550\" y=\"-290.8\" font-family=\"Helvetica,sans-Serif\" font-size=\"14.00\">trestbps ≤ 128.0</text>\n<text text-anchor=\"start\" x=\"566.5\" y=\"-275.8\" font-family=\"Helvetica,sans-Serif\" font-size=\"14.00\">gini = 0.18</text>\n<text text-anchor=\"start\" x=\"561\" y=\"-260.8\" font-family=\"Helvetica,sans-Serif\" font-size=\"14.00\">samples = 7</text>\n<text text-anchor=\"start\" x=\"559\" y=\"-245.8\" font-family=\"Helvetica,sans-Serif\" font-size=\"14.00\">value = [1, 9]</text>\n<text text-anchor=\"start\" x=\"571\" y=\"-230.8\" font-family=\"Helvetica,sans-Serif\" font-size=\"14.00\">class = a</text>\n</g>\n<!-- 19&#45;&gt;21 -->\n<g id=\"edge21\" class=\"edge\">\n<title>19&#45;&gt;21</title>\n<path fill=\"none\" stroke=\"black\" d=\"M597.85,-341.91C597.92,-333.65 597.99,-324.86 598.07,-316.3\"/>\n<polygon fill=\"black\" stroke=\"black\" points=\"601.57,-316.05 598.15,-306.02 594.57,-315.99 601.57,-316.05\"/>\n</g>\n<!-- 22 -->\n<g id=\"node23\" class=\"node\">\n<title>22</title>\n<path fill=\"#9ccef2\" stroke=\"black\" d=\"M578,-187C578,-187 507,-187 507,-187 501,-187 495,-181 495,-175 495,-175 495,-116 495,-116 495,-110 501,-104 507,-104 507,-104 578,-104 578,-104 584,-104 590,-110 590,-116 590,-116 590,-175 590,-175 590,-181 584,-187 578,-187\"/>\n<text text-anchor=\"start\" x=\"505.5\" y=\"-171.8\" font-family=\"Helvetica,sans-Serif\" font-size=\"14.00\">chol ≤ 299.5</text>\n<text text-anchor=\"start\" x=\"507\" y=\"-156.8\" font-family=\"Helvetica,sans-Serif\" font-size=\"14.00\">gini = 0.444</text>\n<text text-anchor=\"start\" x=\"505\" y=\"-141.8\" font-family=\"Helvetica,sans-Serif\" font-size=\"14.00\">samples = 3</text>\n<text text-anchor=\"start\" x=\"503\" y=\"-126.8\" font-family=\"Helvetica,sans-Serif\" font-size=\"14.00\">value = [1, 2]</text>\n<text text-anchor=\"start\" x=\"515\" y=\"-111.8\" font-family=\"Helvetica,sans-Serif\" font-size=\"14.00\">class = a</text>\n</g>\n<!-- 21&#45;&gt;22 -->\n<g id=\"edge22\" class=\"edge\">\n<title>21&#45;&gt;22</title>\n<path fill=\"none\" stroke=\"black\" d=\"M579.07,-222.91C574.94,-214.29 570.54,-205.09 566.28,-196.17\"/>\n<polygon fill=\"black\" stroke=\"black\" points=\"569.37,-194.53 561.89,-187.02 563.05,-197.55 569.37,-194.53\"/>\n</g>\n<!-- 25 -->\n<g id=\"node26\" class=\"node\">\n<title>25</title>\n<path fill=\"#399de5\" stroke=\"black\" d=\"M691,-179.5C691,-179.5 620,-179.5 620,-179.5 614,-179.5 608,-173.5 608,-167.5 608,-167.5 608,-123.5 608,-123.5 608,-117.5 614,-111.5 620,-111.5 620,-111.5 691,-111.5 691,-111.5 697,-111.5 703,-117.5 703,-123.5 703,-123.5 703,-167.5 703,-167.5 703,-173.5 697,-179.5 691,-179.5\"/>\n<text text-anchor=\"start\" x=\"627.5\" y=\"-164.3\" font-family=\"Helvetica,sans-Serif\" font-size=\"14.00\">gini = 0.0</text>\n<text text-anchor=\"start\" x=\"618\" y=\"-149.3\" font-family=\"Helvetica,sans-Serif\" font-size=\"14.00\">samples = 4</text>\n<text text-anchor=\"start\" x=\"616\" y=\"-134.3\" font-family=\"Helvetica,sans-Serif\" font-size=\"14.00\">value = [0, 7]</text>\n<text text-anchor=\"start\" x=\"628\" y=\"-119.3\" font-family=\"Helvetica,sans-Serif\" font-size=\"14.00\">class = a</text>\n</g>\n<!-- 21&#45;&gt;25 -->\n<g id=\"edge25\" class=\"edge\">\n<title>21&#45;&gt;25</title>\n<path fill=\"none\" stroke=\"black\" d=\"M618.28,-222.91C623.65,-211.87 629.49,-199.9 634.91,-188.77\"/>\n<polygon fill=\"black\" stroke=\"black\" points=\"638.11,-190.19 639.34,-179.67 631.82,-187.12 638.11,-190.19\"/>\n</g>\n<!-- 23 -->\n<g id=\"node24\" class=\"node\">\n<title>23</title>\n<path fill=\"#e58139\" stroke=\"black\" d=\"M522,-68C522,-68 451,-68 451,-68 445,-68 439,-62 439,-56 439,-56 439,-12 439,-12 439,-6 445,0 451,0 451,0 522,0 522,0 528,0 534,-6 534,-12 534,-12 534,-56 534,-56 534,-62 528,-68 522,-68\"/>\n<text text-anchor=\"start\" x=\"458.5\" y=\"-52.8\" font-family=\"Helvetica,sans-Serif\" font-size=\"14.00\">gini = 0.0</text>\n<text text-anchor=\"start\" x=\"449\" y=\"-37.8\" font-family=\"Helvetica,sans-Serif\" font-size=\"14.00\">samples = 1</text>\n<text text-anchor=\"start\" x=\"447\" y=\"-22.8\" font-family=\"Helvetica,sans-Serif\" font-size=\"14.00\">value = [1, 0]</text>\n<text text-anchor=\"start\" x=\"461\" y=\"-7.8\" font-family=\"Helvetica,sans-Serif\" font-size=\"14.00\">class = t</text>\n</g>\n<!-- 22&#45;&gt;23 -->\n<g id=\"edge23\" class=\"edge\">\n<title>22&#45;&gt;23</title>\n<path fill=\"none\" stroke=\"black\" d=\"M521.65,-103.73C517.26,-95.15 512.63,-86.09 508.21,-77.46\"/>\n<polygon fill=\"black\" stroke=\"black\" points=\"511.2,-75.61 503.53,-68.3 504.97,-78.8 511.2,-75.61\"/>\n</g>\n<!-- 24 -->\n<g id=\"node25\" class=\"node\">\n<title>24</title>\n<path fill=\"#399de5\" stroke=\"black\" d=\"M635,-68C635,-68 564,-68 564,-68 558,-68 552,-62 552,-56 552,-56 552,-12 552,-12 552,-6 558,0 564,0 564,0 635,0 635,0 641,0 647,-6 647,-12 647,-12 647,-56 647,-56 647,-62 641,-68 635,-68\"/>\n<text text-anchor=\"start\" x=\"571.5\" y=\"-52.8\" font-family=\"Helvetica,sans-Serif\" font-size=\"14.00\">gini = 0.0</text>\n<text text-anchor=\"start\" x=\"562\" y=\"-37.8\" font-family=\"Helvetica,sans-Serif\" font-size=\"14.00\">samples = 2</text>\n<text text-anchor=\"start\" x=\"560\" y=\"-22.8\" font-family=\"Helvetica,sans-Serif\" font-size=\"14.00\">value = [0, 2]</text>\n<text text-anchor=\"start\" x=\"572\" y=\"-7.8\" font-family=\"Helvetica,sans-Serif\" font-size=\"14.00\">class = a</text>\n</g>\n<!-- 22&#45;&gt;24 -->\n<g id=\"edge24\" class=\"edge\">\n<title>22&#45;&gt;24</title>\n<path fill=\"none\" stroke=\"black\" d=\"M563.72,-103.73C568.24,-95.06 573.01,-85.9 577.54,-77.18\"/>\n<polygon fill=\"black\" stroke=\"black\" points=\"580.65,-78.79 582.17,-68.3 574.44,-75.55 580.65,-78.79\"/>\n</g>\n<!-- 27 -->\n<g id=\"node28\" class=\"node\">\n<title>27</title>\n<path fill=\"#5dafea\" stroke=\"black\" d=\"M766,-544C766,-544 681,-544 681,-544 675,-544 669,-538 669,-532 669,-532 669,-473 669,-473 669,-467 675,-461 681,-461 681,-461 766,-461 766,-461 772,-461 778,-467 778,-473 778,-473 778,-532 778,-532 778,-538 772,-544 766,-544\"/>\n<text text-anchor=\"start\" x=\"677\" y=\"-528.8\" font-family=\"Helvetica,sans-Serif\" font-size=\"14.00\">thalach ≤ 134.0</text>\n<text text-anchor=\"start\" x=\"691.5\" y=\"-513.8\" font-family=\"Helvetica,sans-Serif\" font-size=\"14.00\">gini = 0.26</text>\n<text text-anchor=\"start\" x=\"682.5\" y=\"-498.8\" font-family=\"Helvetica,sans-Serif\" font-size=\"14.00\">samples = 10</text>\n<text text-anchor=\"start\" x=\"680.5\" y=\"-483.8\" font-family=\"Helvetica,sans-Serif\" font-size=\"14.00\">value = [2, 11]</text>\n<text text-anchor=\"start\" x=\"696\" y=\"-468.8\" font-family=\"Helvetica,sans-Serif\" font-size=\"14.00\">class = a</text>\n</g>\n<!-- 26&#45;&gt;27 -->\n<g id=\"edge27\" class=\"edge\">\n<title>26&#45;&gt;27</title>\n<path fill=\"none\" stroke=\"black\" d=\"M723.5,-579.91C723.5,-571.65 723.5,-562.86 723.5,-554.3\"/>\n<polygon fill=\"black\" stroke=\"black\" points=\"727,-554.02 723.5,-544.02 720,-554.02 727,-554.02\"/>\n</g>\n<!-- 34 -->\n<g id=\"node35\" class=\"node\">\n<title>34</title>\n<path fill=\"#f6d1b7\" stroke=\"black\" d=\"M998,-544C998,-544 909,-544 909,-544 903,-544 897,-538 897,-532 897,-532 897,-473 897,-473 897,-467 903,-461 909,-461 909,-461 998,-461 998,-461 1004,-461 1010,-467 1010,-473 1010,-473 1010,-532 1010,-532 1010,-538 1004,-544 998,-544\"/>\n<text text-anchor=\"start\" x=\"905\" y=\"-528.8\" font-family=\"Helvetica,sans-Serif\" font-size=\"14.00\">trestbps ≤ 127.5</text>\n<text text-anchor=\"start\" x=\"918\" y=\"-513.8\" font-family=\"Helvetica,sans-Serif\" font-size=\"14.00\">gini = 0.475</text>\n<text text-anchor=\"start\" x=\"912.5\" y=\"-498.8\" font-family=\"Helvetica,sans-Serif\" font-size=\"14.00\">samples = 11</text>\n<text text-anchor=\"start\" x=\"910.5\" y=\"-483.8\" font-family=\"Helvetica,sans-Serif\" font-size=\"14.00\">value = [11, 7]</text>\n<text text-anchor=\"start\" x=\"928\" y=\"-468.8\" font-family=\"Helvetica,sans-Serif\" font-size=\"14.00\">class = t</text>\n</g>\n<!-- 26&#45;&gt;34 -->\n<g id=\"edge34\" class=\"edge\">\n<title>26&#45;&gt;34</title>\n<path fill=\"none\" stroke=\"black\" d=\"M778.54,-587.12C782.9,-584.66 787.25,-582.26 791.5,-580 822.59,-563.45 857.88,-546.57 887.56,-532.89\"/>\n<polygon fill=\"black\" stroke=\"black\" points=\"889.36,-535.92 896.99,-528.57 886.44,-529.56 889.36,-535.92\"/>\n</g>\n<!-- 28 -->\n<g id=\"node29\" class=\"node\">\n<title>28</title>\n<path fill=\"#e58139\" stroke=\"black\" d=\"M750,-417.5C750,-417.5 679,-417.5 679,-417.5 673,-417.5 667,-411.5 667,-405.5 667,-405.5 667,-361.5 667,-361.5 667,-355.5 673,-349.5 679,-349.5 679,-349.5 750,-349.5 750,-349.5 756,-349.5 762,-355.5 762,-361.5 762,-361.5 762,-405.5 762,-405.5 762,-411.5 756,-417.5 750,-417.5\"/>\n<text text-anchor=\"start\" x=\"686.5\" y=\"-402.3\" font-family=\"Helvetica,sans-Serif\" font-size=\"14.00\">gini = 0.0</text>\n<text text-anchor=\"start\" x=\"677\" y=\"-387.3\" font-family=\"Helvetica,sans-Serif\" font-size=\"14.00\">samples = 1</text>\n<text text-anchor=\"start\" x=\"675\" y=\"-372.3\" font-family=\"Helvetica,sans-Serif\" font-size=\"14.00\">value = [1, 0]</text>\n<text text-anchor=\"start\" x=\"689\" y=\"-357.3\" font-family=\"Helvetica,sans-Serif\" font-size=\"14.00\">class = t</text>\n</g>\n<!-- 27&#45;&gt;28 -->\n<g id=\"edge28\" class=\"edge\">\n<title>27&#45;&gt;28</title>\n<path fill=\"none\" stroke=\"black\" d=\"M720.38,-460.91C719.55,-450.2 718.66,-438.62 717.83,-427.78\"/>\n<polygon fill=\"black\" stroke=\"black\" points=\"721.31,-427.37 717.05,-417.67 714.33,-427.91 721.31,-427.37\"/>\n</g>\n<!-- 29 -->\n<g id=\"node30\" class=\"node\">\n<title>29</title>\n<path fill=\"#4ba6e7\" stroke=\"black\" d=\"M877,-425C877,-425 792,-425 792,-425 786,-425 780,-419 780,-413 780,-413 780,-354 780,-354 780,-348 786,-342 792,-342 792,-342 877,-342 877,-342 883,-342 889,-348 889,-354 889,-354 889,-413 889,-413 889,-419 883,-425 877,-425\"/>\n<text text-anchor=\"start\" x=\"788\" y=\"-409.8\" font-family=\"Helvetica,sans-Serif\" font-size=\"14.00\">thalach ≤ 148.5</text>\n<text text-anchor=\"start\" x=\"799\" y=\"-394.8\" font-family=\"Helvetica,sans-Serif\" font-size=\"14.00\">gini = 0.153</text>\n<text text-anchor=\"start\" x=\"797\" y=\"-379.8\" font-family=\"Helvetica,sans-Serif\" font-size=\"14.00\">samples = 9</text>\n<text text-anchor=\"start\" x=\"791.5\" y=\"-364.8\" font-family=\"Helvetica,sans-Serif\" font-size=\"14.00\">value = [1, 11]</text>\n<text text-anchor=\"start\" x=\"807\" y=\"-349.8\" font-family=\"Helvetica,sans-Serif\" font-size=\"14.00\">class = a</text>\n</g>\n<!-- 27&#45;&gt;29 -->\n<g id=\"edge29\" class=\"edge\">\n<title>27&#45;&gt;29</title>\n<path fill=\"none\" stroke=\"black\" d=\"M762.01,-460.91C770.71,-451.74 780.02,-441.93 788.97,-432.49\"/>\n<polygon fill=\"black\" stroke=\"black\" points=\"791.71,-434.68 796.06,-425.02 786.64,-429.87 791.71,-434.68\"/>\n</g>\n<!-- 30 -->\n<g id=\"node31\" class=\"node\">\n<title>30</title>\n<path fill=\"#399de5\" stroke=\"black\" d=\"M757,-298.5C757,-298.5 686,-298.5 686,-298.5 680,-298.5 674,-292.5 674,-286.5 674,-286.5 674,-242.5 674,-242.5 674,-236.5 680,-230.5 686,-230.5 686,-230.5 757,-230.5 757,-230.5 763,-230.5 769,-236.5 769,-242.5 769,-242.5 769,-286.5 769,-286.5 769,-292.5 763,-298.5 757,-298.5\"/>\n<text text-anchor=\"start\" x=\"693.5\" y=\"-283.3\" font-family=\"Helvetica,sans-Serif\" font-size=\"14.00\">gini = 0.0</text>\n<text text-anchor=\"start\" x=\"684\" y=\"-268.3\" font-family=\"Helvetica,sans-Serif\" font-size=\"14.00\">samples = 5</text>\n<text text-anchor=\"start\" x=\"682\" y=\"-253.3\" font-family=\"Helvetica,sans-Serif\" font-size=\"14.00\">value = [0, 7]</text>\n<text text-anchor=\"start\" x=\"694\" y=\"-238.3\" font-family=\"Helvetica,sans-Serif\" font-size=\"14.00\">class = a</text>\n</g>\n<!-- 29&#45;&gt;30 -->\n<g id=\"edge30\" class=\"edge\">\n<title>29&#45;&gt;30</title>\n<path fill=\"none\" stroke=\"black\" d=\"M795.3,-341.91C784.11,-330.32 771.91,-317.7 760.72,-306.11\"/>\n<polygon fill=\"black\" stroke=\"black\" points=\"763,-303.43 753.53,-298.67 757.96,-308.29 763,-303.43\"/>\n</g>\n<!-- 31 -->\n<g id=\"node32\" class=\"node\">\n<title>31</title>\n<path fill=\"#6ab6ec\" stroke=\"black\" d=\"M870,-306C870,-306 799,-306 799,-306 793,-306 787,-300 787,-294 787,-294 787,-235 787,-235 787,-229 793,-223 799,-223 799,-223 870,-223 870,-223 876,-223 882,-229 882,-235 882,-235 882,-294 882,-294 882,-300 876,-306 870,-306\"/>\n<text text-anchor=\"start\" x=\"797.5\" y=\"-290.8\" font-family=\"Helvetica,sans-Serif\" font-size=\"14.00\">chol ≤ 234.0</text>\n<text text-anchor=\"start\" x=\"802.5\" y=\"-275.8\" font-family=\"Helvetica,sans-Serif\" font-size=\"14.00\">gini = 0.32</text>\n<text text-anchor=\"start\" x=\"797\" y=\"-260.8\" font-family=\"Helvetica,sans-Serif\" font-size=\"14.00\">samples = 4</text>\n<text text-anchor=\"start\" x=\"795\" y=\"-245.8\" font-family=\"Helvetica,sans-Serif\" font-size=\"14.00\">value = [1, 4]</text>\n<text text-anchor=\"start\" x=\"807\" y=\"-230.8\" font-family=\"Helvetica,sans-Serif\" font-size=\"14.00\">class = a</text>\n</g>\n<!-- 29&#45;&gt;31 -->\n<g id=\"edge31\" class=\"edge\">\n<title>29&#45;&gt;31</title>\n<path fill=\"none\" stroke=\"black\" d=\"M834.5,-341.91C834.5,-333.65 834.5,-324.86 834.5,-316.3\"/>\n<polygon fill=\"black\" stroke=\"black\" points=\"838,-316.02 834.5,-306.02 831,-316.02 838,-316.02\"/>\n</g>\n<!-- 32 -->\n<g id=\"node33\" class=\"node\">\n<title>32</title>\n<path fill=\"#e58139\" stroke=\"black\" d=\"M868,-179.5C868,-179.5 797,-179.5 797,-179.5 791,-179.5 785,-173.5 785,-167.5 785,-167.5 785,-123.5 785,-123.5 785,-117.5 791,-111.5 797,-111.5 797,-111.5 868,-111.5 868,-111.5 874,-111.5 880,-117.5 880,-123.5 880,-123.5 880,-167.5 880,-167.5 880,-173.5 874,-179.5 868,-179.5\"/>\n<text text-anchor=\"start\" x=\"804.5\" y=\"-164.3\" font-family=\"Helvetica,sans-Serif\" font-size=\"14.00\">gini = 0.0</text>\n<text text-anchor=\"start\" x=\"795\" y=\"-149.3\" font-family=\"Helvetica,sans-Serif\" font-size=\"14.00\">samples = 1</text>\n<text text-anchor=\"start\" x=\"793\" y=\"-134.3\" font-family=\"Helvetica,sans-Serif\" font-size=\"14.00\">value = [1, 0]</text>\n<text text-anchor=\"start\" x=\"807\" y=\"-119.3\" font-family=\"Helvetica,sans-Serif\" font-size=\"14.00\">class = t</text>\n</g>\n<!-- 31&#45;&gt;32 -->\n<g id=\"edge32\" class=\"edge\">\n<title>31&#45;&gt;32</title>\n<path fill=\"none\" stroke=\"black\" d=\"M833.81,-222.91C833.62,-212.2 833.43,-200.62 833.24,-189.78\"/>\n<polygon fill=\"black\" stroke=\"black\" points=\"836.74,-189.61 833.07,-179.67 829.74,-189.73 836.74,-189.61\"/>\n</g>\n<!-- 33 -->\n<g id=\"node34\" class=\"node\">\n<title>33</title>\n<path fill=\"#399de5\" stroke=\"black\" d=\"M981,-179.5C981,-179.5 910,-179.5 910,-179.5 904,-179.5 898,-173.5 898,-167.5 898,-167.5 898,-123.5 898,-123.5 898,-117.5 904,-111.5 910,-111.5 910,-111.5 981,-111.5 981,-111.5 987,-111.5 993,-117.5 993,-123.5 993,-123.5 993,-167.5 993,-167.5 993,-173.5 987,-179.5 981,-179.5\"/>\n<text text-anchor=\"start\" x=\"917.5\" y=\"-164.3\" font-family=\"Helvetica,sans-Serif\" font-size=\"14.00\">gini = 0.0</text>\n<text text-anchor=\"start\" x=\"908\" y=\"-149.3\" font-family=\"Helvetica,sans-Serif\" font-size=\"14.00\">samples = 3</text>\n<text text-anchor=\"start\" x=\"906\" y=\"-134.3\" font-family=\"Helvetica,sans-Serif\" font-size=\"14.00\">value = [0, 4]</text>\n<text text-anchor=\"start\" x=\"918\" y=\"-119.3\" font-family=\"Helvetica,sans-Serif\" font-size=\"14.00\">class = a</text>\n</g>\n<!-- 31&#45;&gt;33 -->\n<g id=\"edge33\" class=\"edge\">\n<title>31&#45;&gt;33</title>\n<path fill=\"none\" stroke=\"black\" d=\"M873.01,-222.91C884,-211.32 895.98,-198.7 906.97,-187.11\"/>\n<polygon fill=\"black\" stroke=\"black\" points=\"909.69,-189.33 914.03,-179.67 904.61,-184.51 909.69,-189.33\"/>\n</g>\n<!-- 35 -->\n<g id=\"node36\" class=\"node\">\n<title>35</title>\n<path fill=\"#e88f4f\" stroke=\"black\" d=\"M990,-425C990,-425 919,-425 919,-425 913,-425 907,-419 907,-413 907,-413 907,-354 907,-354 907,-348 913,-342 919,-342 919,-342 990,-342 990,-342 996,-342 1002,-348 1002,-354 1002,-354 1002,-413 1002,-413 1002,-419 996,-425 990,-425\"/>\n<text text-anchor=\"start\" x=\"922.5\" y=\"-409.8\" font-family=\"Helvetica,sans-Serif\" font-size=\"14.00\">age ≤ 42.5</text>\n<text text-anchor=\"start\" x=\"922.5\" y=\"-394.8\" font-family=\"Helvetica,sans-Serif\" font-size=\"14.00\">gini = 0.18</text>\n<text text-anchor=\"start\" x=\"917\" y=\"-379.8\" font-family=\"Helvetica,sans-Serif\" font-size=\"14.00\">samples = 6</text>\n<text text-anchor=\"start\" x=\"915\" y=\"-364.8\" font-family=\"Helvetica,sans-Serif\" font-size=\"14.00\">value = [9, 1]</text>\n<text text-anchor=\"start\" x=\"929\" y=\"-349.8\" font-family=\"Helvetica,sans-Serif\" font-size=\"14.00\">class = t</text>\n</g>\n<!-- 34&#45;&gt;35 -->\n<g id=\"edge35\" class=\"edge\">\n<title>34&#45;&gt;35</title>\n<path fill=\"none\" stroke=\"black\" d=\"M953.85,-460.91C953.92,-452.65 953.99,-443.86 954.07,-435.3\"/>\n<polygon fill=\"black\" stroke=\"black\" points=\"957.57,-435.05 954.15,-425.02 950.57,-434.99 957.57,-435.05\"/>\n</g>\n<!-- 38 -->\n<g id=\"node39\" class=\"node\">\n<title>38</title>\n<path fill=\"#7bbeee\" stroke=\"black\" d=\"M1209,-425C1209,-425 1138,-425 1138,-425 1132,-425 1126,-419 1126,-413 1126,-413 1126,-354 1126,-354 1126,-348 1132,-342 1138,-342 1138,-342 1209,-342 1209,-342 1215,-342 1221,-348 1221,-354 1221,-354 1221,-413 1221,-413 1221,-419 1215,-425 1209,-425\"/>\n<text text-anchor=\"start\" x=\"1149\" y=\"-409.8\" font-family=\"Helvetica,sans-Serif\" font-size=\"14.00\">ca ≤ 2.0</text>\n<text text-anchor=\"start\" x=\"1138\" y=\"-394.8\" font-family=\"Helvetica,sans-Serif\" font-size=\"14.00\">gini = 0.375</text>\n<text text-anchor=\"start\" x=\"1136\" y=\"-379.8\" font-family=\"Helvetica,sans-Serif\" font-size=\"14.00\">samples = 5</text>\n<text text-anchor=\"start\" x=\"1134\" y=\"-364.8\" font-family=\"Helvetica,sans-Serif\" font-size=\"14.00\">value = [2, 6]</text>\n<text text-anchor=\"start\" x=\"1146\" y=\"-349.8\" font-family=\"Helvetica,sans-Serif\" font-size=\"14.00\">class = a</text>\n</g>\n<!-- 34&#45;&gt;38 -->\n<g id=\"edge38\" class=\"edge\">\n<title>34&#45;&gt;38</title>\n<path fill=\"none\" stroke=\"black\" d=\"M1010.02,-465.82C1012.87,-464.17 1015.71,-462.55 1018.5,-461 1050.32,-443.29 1086.81,-425.18 1116.39,-411.03\"/>\n<polygon fill=\"black\" stroke=\"black\" points=\"1118.21,-414.03 1125.73,-406.58 1115.2,-407.71 1118.21,-414.03\"/>\n</g>\n<!-- 36 -->\n<g id=\"node37\" class=\"node\">\n<title>36</title>\n<path fill=\"#399de5\" stroke=\"black\" d=\"M983,-298.5C983,-298.5 912,-298.5 912,-298.5 906,-298.5 900,-292.5 900,-286.5 900,-286.5 900,-242.5 900,-242.5 900,-236.5 906,-230.5 912,-230.5 912,-230.5 983,-230.5 983,-230.5 989,-230.5 995,-236.5 995,-242.5 995,-242.5 995,-286.5 995,-286.5 995,-292.5 989,-298.5 983,-298.5\"/>\n<text text-anchor=\"start\" x=\"919.5\" y=\"-283.3\" font-family=\"Helvetica,sans-Serif\" font-size=\"14.00\">gini = 0.0</text>\n<text text-anchor=\"start\" x=\"910\" y=\"-268.3\" font-family=\"Helvetica,sans-Serif\" font-size=\"14.00\">samples = 1</text>\n<text text-anchor=\"start\" x=\"908\" y=\"-253.3\" font-family=\"Helvetica,sans-Serif\" font-size=\"14.00\">value = [0, 1]</text>\n<text text-anchor=\"start\" x=\"920\" y=\"-238.3\" font-family=\"Helvetica,sans-Serif\" font-size=\"14.00\">class = a</text>\n</g>\n<!-- 35&#45;&gt;36 -->\n<g id=\"edge36\" class=\"edge\">\n<title>35&#45;&gt;36</title>\n<path fill=\"none\" stroke=\"black\" d=\"M952.07,-341.91C951.43,-331.2 950.74,-319.62 950.09,-308.78\"/>\n<polygon fill=\"black\" stroke=\"black\" points=\"953.58,-308.44 949.48,-298.67 946.59,-308.86 953.58,-308.44\"/>\n</g>\n<!-- 37 -->\n<g id=\"node38\" class=\"node\">\n<title>37</title>\n<path fill=\"#e58139\" stroke=\"black\" d=\"M1096,-298.5C1096,-298.5 1025,-298.5 1025,-298.5 1019,-298.5 1013,-292.5 1013,-286.5 1013,-286.5 1013,-242.5 1013,-242.5 1013,-236.5 1019,-230.5 1025,-230.5 1025,-230.5 1096,-230.5 1096,-230.5 1102,-230.5 1108,-236.5 1108,-242.5 1108,-242.5 1108,-286.5 1108,-286.5 1108,-292.5 1102,-298.5 1096,-298.5\"/>\n<text text-anchor=\"start\" x=\"1032.5\" y=\"-283.3\" font-family=\"Helvetica,sans-Serif\" font-size=\"14.00\">gini = 0.0</text>\n<text text-anchor=\"start\" x=\"1023\" y=\"-268.3\" font-family=\"Helvetica,sans-Serif\" font-size=\"14.00\">samples = 5</text>\n<text text-anchor=\"start\" x=\"1021\" y=\"-253.3\" font-family=\"Helvetica,sans-Serif\" font-size=\"14.00\">value = [9, 0]</text>\n<text text-anchor=\"start\" x=\"1035\" y=\"-238.3\" font-family=\"Helvetica,sans-Serif\" font-size=\"14.00\">class = t</text>\n</g>\n<!-- 35&#45;&gt;37 -->\n<g id=\"edge37\" class=\"edge\">\n<title>35&#45;&gt;37</title>\n<path fill=\"none\" stroke=\"black\" d=\"M991.28,-341.91C1001.77,-330.32 1013.21,-317.7 1023.71,-306.11\"/>\n<polygon fill=\"black\" stroke=\"black\" points=\"1026.33,-308.43 1030.45,-298.67 1021.14,-303.73 1026.33,-308.43\"/>\n</g>\n<!-- 39 -->\n<g id=\"node40\" class=\"node\">\n<title>39</title>\n<path fill=\"#f2c09c\" stroke=\"black\" d=\"M1209,-306C1209,-306 1138,-306 1138,-306 1132,-306 1126,-300 1126,-294 1126,-294 1126,-235 1126,-235 1126,-229 1132,-223 1138,-223 1138,-223 1209,-223 1209,-223 1215,-223 1221,-229 1221,-235 1221,-235 1221,-294 1221,-294 1221,-300 1215,-306 1209,-306\"/>\n<text text-anchor=\"start\" x=\"1147.5\" y=\"-290.8\" font-family=\"Helvetica,sans-Serif\" font-size=\"14.00\">fbs ≤ 0.5</text>\n<text text-anchor=\"start\" x=\"1138\" y=\"-275.8\" font-family=\"Helvetica,sans-Serif\" font-size=\"14.00\">gini = 0.444</text>\n<text text-anchor=\"start\" x=\"1136\" y=\"-260.8\" font-family=\"Helvetica,sans-Serif\" font-size=\"14.00\">samples = 3</text>\n<text text-anchor=\"start\" x=\"1134\" y=\"-245.8\" font-family=\"Helvetica,sans-Serif\" font-size=\"14.00\">value = [2, 1]</text>\n<text text-anchor=\"start\" x=\"1148\" y=\"-230.8\" font-family=\"Helvetica,sans-Serif\" font-size=\"14.00\">class = t</text>\n</g>\n<!-- 38&#45;&gt;39 -->\n<g id=\"edge39\" class=\"edge\">\n<title>38&#45;&gt;39</title>\n<path fill=\"none\" stroke=\"black\" d=\"M1173.5,-341.91C1173.5,-333.65 1173.5,-324.86 1173.5,-316.3\"/>\n<polygon fill=\"black\" stroke=\"black\" points=\"1177,-316.02 1173.5,-306.02 1170,-316.02 1177,-316.02\"/>\n</g>\n<!-- 44 -->\n<g id=\"node45\" class=\"node\">\n<title>44</title>\n<path fill=\"#399de5\" stroke=\"black\" d=\"M1322,-298.5C1322,-298.5 1251,-298.5 1251,-298.5 1245,-298.5 1239,-292.5 1239,-286.5 1239,-286.5 1239,-242.5 1239,-242.5 1239,-236.5 1245,-230.5 1251,-230.5 1251,-230.5 1322,-230.5 1322,-230.5 1328,-230.5 1334,-236.5 1334,-242.5 1334,-242.5 1334,-286.5 1334,-286.5 1334,-292.5 1328,-298.5 1322,-298.5\"/>\n<text text-anchor=\"start\" x=\"1258.5\" y=\"-283.3\" font-family=\"Helvetica,sans-Serif\" font-size=\"14.00\">gini = 0.0</text>\n<text text-anchor=\"start\" x=\"1249\" y=\"-268.3\" font-family=\"Helvetica,sans-Serif\" font-size=\"14.00\">samples = 2</text>\n<text text-anchor=\"start\" x=\"1247\" y=\"-253.3\" font-family=\"Helvetica,sans-Serif\" font-size=\"14.00\">value = [0, 5]</text>\n<text text-anchor=\"start\" x=\"1259\" y=\"-238.3\" font-family=\"Helvetica,sans-Serif\" font-size=\"14.00\">class = a</text>\n</g>\n<!-- 38&#45;&gt;44 -->\n<g id=\"edge44\" class=\"edge\">\n<title>38&#45;&gt;44</title>\n<path fill=\"none\" stroke=\"black\" d=\"M1212.7,-341.91C1223.89,-330.32 1236.09,-317.7 1247.28,-306.11\"/>\n<polygon fill=\"black\" stroke=\"black\" points=\"1250.04,-308.29 1254.47,-298.67 1245,-303.43 1250.04,-308.29\"/>\n</g>\n<!-- 40 -->\n<g id=\"node41\" class=\"node\">\n<title>40</title>\n<path fill=\"#e58139\" stroke=\"black\" d=\"M1098,-179.5C1098,-179.5 1027,-179.5 1027,-179.5 1021,-179.5 1015,-173.5 1015,-167.5 1015,-167.5 1015,-123.5 1015,-123.5 1015,-117.5 1021,-111.5 1027,-111.5 1027,-111.5 1098,-111.5 1098,-111.5 1104,-111.5 1110,-117.5 1110,-123.5 1110,-123.5 1110,-167.5 1110,-167.5 1110,-173.5 1104,-179.5 1098,-179.5\"/>\n<text text-anchor=\"start\" x=\"1034.5\" y=\"-164.3\" font-family=\"Helvetica,sans-Serif\" font-size=\"14.00\">gini = 0.0</text>\n<text text-anchor=\"start\" x=\"1025\" y=\"-149.3\" font-family=\"Helvetica,sans-Serif\" font-size=\"14.00\">samples = 1</text>\n<text text-anchor=\"start\" x=\"1023\" y=\"-134.3\" font-family=\"Helvetica,sans-Serif\" font-size=\"14.00\">value = [1, 0]</text>\n<text text-anchor=\"start\" x=\"1037\" y=\"-119.3\" font-family=\"Helvetica,sans-Serif\" font-size=\"14.00\">class = t</text>\n</g>\n<!-- 39&#45;&gt;40 -->\n<g id=\"edge40\" class=\"edge\">\n<title>39&#45;&gt;40</title>\n<path fill=\"none\" stroke=\"black\" d=\"M1134.99,-222.91C1124,-211.32 1112.02,-198.7 1101.03,-187.11\"/>\n<polygon fill=\"black\" stroke=\"black\" points=\"1103.39,-184.51 1093.97,-179.67 1098.31,-189.33 1103.39,-184.51\"/>\n</g>\n<!-- 41 -->\n<g id=\"node42\" class=\"node\">\n<title>41</title>\n<path fill=\"#ffffff\" stroke=\"black\" d=\"M1211,-187C1211,-187 1140,-187 1140,-187 1134,-187 1128,-181 1128,-175 1128,-175 1128,-116 1128,-116 1128,-110 1134,-104 1140,-104 1140,-104 1211,-104 1211,-104 1217,-104 1223,-110 1223,-116 1223,-116 1223,-175 1223,-175 1223,-181 1217,-187 1211,-187\"/>\n<text text-anchor=\"start\" x=\"1151\" y=\"-171.8\" font-family=\"Helvetica,sans-Serif\" font-size=\"14.00\">cp ≤ 2.5</text>\n<text text-anchor=\"start\" x=\"1147.5\" y=\"-156.8\" font-family=\"Helvetica,sans-Serif\" font-size=\"14.00\">gini = 0.5</text>\n<text text-anchor=\"start\" x=\"1138\" y=\"-141.8\" font-family=\"Helvetica,sans-Serif\" font-size=\"14.00\">samples = 2</text>\n<text text-anchor=\"start\" x=\"1136\" y=\"-126.8\" font-family=\"Helvetica,sans-Serif\" font-size=\"14.00\">value = [1, 1]</text>\n<text text-anchor=\"start\" x=\"1150\" y=\"-111.8\" font-family=\"Helvetica,sans-Serif\" font-size=\"14.00\">class = t</text>\n</g>\n<!-- 39&#45;&gt;41 -->\n<g id=\"edge41\" class=\"edge\">\n<title>39&#45;&gt;41</title>\n<path fill=\"none\" stroke=\"black\" d=\"M1174.19,-222.91C1174.34,-214.56 1174.49,-205.67 1174.64,-197.02\"/>\n<polygon fill=\"black\" stroke=\"black\" points=\"1178.14,-197.08 1174.81,-187.02 1171.14,-196.96 1178.14,-197.08\"/>\n</g>\n<!-- 42 -->\n<g id=\"node43\" class=\"node\">\n<title>42</title>\n<path fill=\"#399de5\" stroke=\"black\" d=\"M1154,-68C1154,-68 1083,-68 1083,-68 1077,-68 1071,-62 1071,-56 1071,-56 1071,-12 1071,-12 1071,-6 1077,0 1083,0 1083,0 1154,0 1154,0 1160,0 1166,-6 1166,-12 1166,-12 1166,-56 1166,-56 1166,-62 1160,-68 1154,-68\"/>\n<text text-anchor=\"start\" x=\"1090.5\" y=\"-52.8\" font-family=\"Helvetica,sans-Serif\" font-size=\"14.00\">gini = 0.0</text>\n<text text-anchor=\"start\" x=\"1081\" y=\"-37.8\" font-family=\"Helvetica,sans-Serif\" font-size=\"14.00\">samples = 1</text>\n<text text-anchor=\"start\" x=\"1079\" y=\"-22.8\" font-family=\"Helvetica,sans-Serif\" font-size=\"14.00\">value = [0, 1]</text>\n<text text-anchor=\"start\" x=\"1091\" y=\"-7.8\" font-family=\"Helvetica,sans-Serif\" font-size=\"14.00\">class = a</text>\n</g>\n<!-- 41&#45;&gt;42 -->\n<g id=\"edge42\" class=\"edge\">\n<title>41&#45;&gt;42</title>\n<path fill=\"none\" stroke=\"black\" d=\"M1154.28,-103.73C1149.76,-95.06 1144.99,-85.9 1140.46,-77.18\"/>\n<polygon fill=\"black\" stroke=\"black\" points=\"1143.56,-75.55 1135.83,-68.3 1137.35,-78.79 1143.56,-75.55\"/>\n</g>\n<!-- 43 -->\n<g id=\"node44\" class=\"node\">\n<title>43</title>\n<path fill=\"#e58139\" stroke=\"black\" d=\"M1267,-68C1267,-68 1196,-68 1196,-68 1190,-68 1184,-62 1184,-56 1184,-56 1184,-12 1184,-12 1184,-6 1190,0 1196,0 1196,0 1267,0 1267,0 1273,0 1279,-6 1279,-12 1279,-12 1279,-56 1279,-56 1279,-62 1273,-68 1267,-68\"/>\n<text text-anchor=\"start\" x=\"1203.5\" y=\"-52.8\" font-family=\"Helvetica,sans-Serif\" font-size=\"14.00\">gini = 0.0</text>\n<text text-anchor=\"start\" x=\"1194\" y=\"-37.8\" font-family=\"Helvetica,sans-Serif\" font-size=\"14.00\">samples = 1</text>\n<text text-anchor=\"start\" x=\"1192\" y=\"-22.8\" font-family=\"Helvetica,sans-Serif\" font-size=\"14.00\">value = [1, 0]</text>\n<text text-anchor=\"start\" x=\"1206\" y=\"-7.8\" font-family=\"Helvetica,sans-Serif\" font-size=\"14.00\">class = t</text>\n</g>\n<!-- 41&#45;&gt;43 -->\n<g id=\"edge43\" class=\"edge\">\n<title>41&#45;&gt;43</title>\n<path fill=\"none\" stroke=\"black\" d=\"M1196.35,-103.73C1200.74,-95.15 1205.37,-86.09 1209.79,-77.46\"/>\n<polygon fill=\"black\" stroke=\"black\" points=\"1213.03,-78.8 1214.47,-68.3 1206.8,-75.61 1213.03,-78.8\"/>\n</g>\n<!-- 46 -->\n<g id=\"node47\" class=\"node\">\n<title>46</title>\n<path fill=\"#eca06a\" stroke=\"black\" d=\"M932,-901C932,-901 861,-901 861,-901 855,-901 849,-895 849,-889 849,-889 849,-830 849,-830 849,-824 855,-818 861,-818 861,-818 932,-818 932,-818 938,-818 944,-824 944,-830 944,-830 944,-889 944,-889 944,-895 938,-901 932,-901\"/>\n<text text-anchor=\"start\" x=\"859.5\" y=\"-885.8\" font-family=\"Helvetica,sans-Serif\" font-size=\"14.00\">chol ≤ 225.5</text>\n<text text-anchor=\"start\" x=\"864.5\" y=\"-870.8\" font-family=\"Helvetica,sans-Serif\" font-size=\"14.00\">gini = 0.32</text>\n<text text-anchor=\"start\" x=\"859\" y=\"-855.8\" font-family=\"Helvetica,sans-Serif\" font-size=\"14.00\">samples = 6</text>\n<text text-anchor=\"start\" x=\"857\" y=\"-840.8\" font-family=\"Helvetica,sans-Serif\" font-size=\"14.00\">value = [8, 2]</text>\n<text text-anchor=\"start\" x=\"871\" y=\"-825.8\" font-family=\"Helvetica,sans-Serif\" font-size=\"14.00\">class = t</text>\n</g>\n<!-- 45&#45;&gt;46 -->\n<g id=\"edge46\" class=\"edge\">\n<title>45&#45;&gt;46</title>\n<path fill=\"none\" stroke=\"black\" d=\"M935.03,-936.91C930.68,-928.29 926.05,-919.09 921.55,-910.17\"/>\n<polygon fill=\"black\" stroke=\"black\" points=\"924.56,-908.37 916.93,-901.02 918.31,-911.53 924.56,-908.37\"/>\n</g>\n<!-- 51 -->\n<g id=\"node52\" class=\"node\">\n<title>51</title>\n<path fill=\"#61b1ea\" stroke=\"black\" d=\"M1053.5,-901C1053.5,-901 975.5,-901 975.5,-901 969.5,-901 963.5,-895 963.5,-889 963.5,-889 963.5,-830 963.5,-830 963.5,-824 969.5,-818 975.5,-818 975.5,-818 1053.5,-818 1053.5,-818 1059.5,-818 1065.5,-824 1065.5,-830 1065.5,-830 1065.5,-889 1065.5,-889 1065.5,-895 1059.5,-901 1053.5,-901\"/>\n<text text-anchor=\"start\" x=\"982.5\" y=\"-885.8\" font-family=\"Helvetica,sans-Serif\" font-size=\"14.00\">age ≤ 49.0</text>\n<text text-anchor=\"start\" x=\"979\" y=\"-870.8\" font-family=\"Helvetica,sans-Serif\" font-size=\"14.00\">gini = 0.278</text>\n<text text-anchor=\"start\" x=\"973.5\" y=\"-855.8\" font-family=\"Helvetica,sans-Serif\" font-size=\"14.00\">samples = 12</text>\n<text text-anchor=\"start\" x=\"971.5\" y=\"-840.8\" font-family=\"Helvetica,sans-Serif\" font-size=\"14.00\">value = [3, 15]</text>\n<text text-anchor=\"start\" x=\"987\" y=\"-825.8\" font-family=\"Helvetica,sans-Serif\" font-size=\"14.00\">class = a</text>\n</g>\n<!-- 45&#45;&gt;51 -->\n<g id=\"edge51\" class=\"edge\">\n<title>45&#45;&gt;51</title>\n<path fill=\"none\" stroke=\"black\" d=\"M975.97,-936.91C980.32,-928.29 984.95,-919.09 989.45,-910.17\"/>\n<polygon fill=\"black\" stroke=\"black\" points=\"992.69,-911.53 994.07,-901.02 986.44,-908.37 992.69,-911.53\"/>\n</g>\n<!-- 47 -->\n<g id=\"node48\" class=\"node\">\n<title>47</title>\n<path fill=\"#e58139\" stroke=\"black\" d=\"M814,-774.5C814,-774.5 743,-774.5 743,-774.5 737,-774.5 731,-768.5 731,-762.5 731,-762.5 731,-718.5 731,-718.5 731,-712.5 737,-706.5 743,-706.5 743,-706.5 814,-706.5 814,-706.5 820,-706.5 826,-712.5 826,-718.5 826,-718.5 826,-762.5 826,-762.5 826,-768.5 820,-774.5 814,-774.5\"/>\n<text text-anchor=\"start\" x=\"750.5\" y=\"-759.3\" font-family=\"Helvetica,sans-Serif\" font-size=\"14.00\">gini = 0.0</text>\n<text text-anchor=\"start\" x=\"741\" y=\"-744.3\" font-family=\"Helvetica,sans-Serif\" font-size=\"14.00\">samples = 4</text>\n<text text-anchor=\"start\" x=\"739\" y=\"-729.3\" font-family=\"Helvetica,sans-Serif\" font-size=\"14.00\">value = [6, 0]</text>\n<text text-anchor=\"start\" x=\"753\" y=\"-714.3\" font-family=\"Helvetica,sans-Serif\" font-size=\"14.00\">class = t</text>\n</g>\n<!-- 46&#45;&gt;47 -->\n<g id=\"edge47\" class=\"edge\">\n<title>46&#45;&gt;47</title>\n<path fill=\"none\" stroke=\"black\" d=\"M855.56,-817.91C843.76,-806.21 830.9,-793.46 819.12,-781.78\"/>\n<polygon fill=\"black\" stroke=\"black\" points=\"821.52,-779.22 811.95,-774.67 816.59,-784.19 821.52,-779.22\"/>\n</g>\n<!-- 48 -->\n<g id=\"node49\" class=\"node\">\n<title>48</title>\n<path fill=\"#ffffff\" stroke=\"black\" d=\"M937,-782C937,-782 856,-782 856,-782 850,-782 844,-776 844,-770 844,-770 844,-711 844,-711 844,-705 850,-699 856,-699 856,-699 937,-699 937,-699 943,-699 949,-705 949,-711 949,-711 949,-770 949,-770 949,-776 943,-782 937,-782\"/>\n<text text-anchor=\"start\" x=\"852\" y=\"-766.8\" font-family=\"Helvetica,sans-Serif\" font-size=\"14.00\">oldpeak ≤ 2.45</text>\n<text text-anchor=\"start\" x=\"868.5\" y=\"-751.8\" font-family=\"Helvetica,sans-Serif\" font-size=\"14.00\">gini = 0.5</text>\n<text text-anchor=\"start\" x=\"859\" y=\"-736.8\" font-family=\"Helvetica,sans-Serif\" font-size=\"14.00\">samples = 2</text>\n<text text-anchor=\"start\" x=\"857\" y=\"-721.8\" font-family=\"Helvetica,sans-Serif\" font-size=\"14.00\">value = [2, 2]</text>\n<text text-anchor=\"start\" x=\"871\" y=\"-706.8\" font-family=\"Helvetica,sans-Serif\" font-size=\"14.00\">class = t</text>\n</g>\n<!-- 46&#45;&gt;48 -->\n<g id=\"edge48\" class=\"edge\">\n<title>46&#45;&gt;48</title>\n<path fill=\"none\" stroke=\"black\" d=\"M896.5,-817.91C896.5,-809.65 896.5,-800.86 896.5,-792.3\"/>\n<polygon fill=\"black\" stroke=\"black\" points=\"900,-792.02 896.5,-782.02 893,-792.02 900,-792.02\"/>\n</g>\n<!-- 49 -->\n<g id=\"node50\" class=\"node\">\n<title>49</title>\n<path fill=\"#399de5\" stroke=\"black\" d=\"M884,-655.5C884,-655.5 813,-655.5 813,-655.5 807,-655.5 801,-649.5 801,-643.5 801,-643.5 801,-599.5 801,-599.5 801,-593.5 807,-587.5 813,-587.5 813,-587.5 884,-587.5 884,-587.5 890,-587.5 896,-593.5 896,-599.5 896,-599.5 896,-643.5 896,-643.5 896,-649.5 890,-655.5 884,-655.5\"/>\n<text text-anchor=\"start\" x=\"820.5\" y=\"-640.3\" font-family=\"Helvetica,sans-Serif\" font-size=\"14.00\">gini = 0.0</text>\n<text text-anchor=\"start\" x=\"811\" y=\"-625.3\" font-family=\"Helvetica,sans-Serif\" font-size=\"14.00\">samples = 1</text>\n<text text-anchor=\"start\" x=\"809\" y=\"-610.3\" font-family=\"Helvetica,sans-Serif\" font-size=\"14.00\">value = [0, 2]</text>\n<text text-anchor=\"start\" x=\"821\" y=\"-595.3\" font-family=\"Helvetica,sans-Serif\" font-size=\"14.00\">class = a</text>\n</g>\n<!-- 48&#45;&gt;49 -->\n<g id=\"edge49\" class=\"edge\">\n<title>48&#45;&gt;49</title>\n<path fill=\"none\" stroke=\"black\" d=\"M879.85,-698.91C875.36,-687.98 870.5,-676.14 865.98,-665.11\"/>\n<polygon fill=\"black\" stroke=\"black\" points=\"869.14,-663.59 862.11,-655.67 862.66,-666.25 869.14,-663.59\"/>\n</g>\n<!-- 50 -->\n<g id=\"node51\" class=\"node\">\n<title>50</title>\n<path fill=\"#e58139\" stroke=\"black\" d=\"M997,-655.5C997,-655.5 926,-655.5 926,-655.5 920,-655.5 914,-649.5 914,-643.5 914,-643.5 914,-599.5 914,-599.5 914,-593.5 920,-587.5 926,-587.5 926,-587.5 997,-587.5 997,-587.5 1003,-587.5 1009,-593.5 1009,-599.5 1009,-599.5 1009,-643.5 1009,-643.5 1009,-649.5 1003,-655.5 997,-655.5\"/>\n<text text-anchor=\"start\" x=\"933.5\" y=\"-640.3\" font-family=\"Helvetica,sans-Serif\" font-size=\"14.00\">gini = 0.0</text>\n<text text-anchor=\"start\" x=\"924\" y=\"-625.3\" font-family=\"Helvetica,sans-Serif\" font-size=\"14.00\">samples = 1</text>\n<text text-anchor=\"start\" x=\"922\" y=\"-610.3\" font-family=\"Helvetica,sans-Serif\" font-size=\"14.00\">value = [2, 0]</text>\n<text text-anchor=\"start\" x=\"936\" y=\"-595.3\" font-family=\"Helvetica,sans-Serif\" font-size=\"14.00\">class = t</text>\n</g>\n<!-- 48&#45;&gt;50 -->\n<g id=\"edge50\" class=\"edge\">\n<title>48&#45;&gt;50</title>\n<path fill=\"none\" stroke=\"black\" d=\"M919.05,-698.91C925.24,-687.76 931.97,-675.66 938.2,-664.44\"/>\n<polygon fill=\"black\" stroke=\"black\" points=\"941.28,-666.11 943.07,-655.67 935.16,-662.71 941.28,-666.11\"/>\n</g>\n<!-- 52 -->\n<g id=\"node53\" class=\"node\">\n<title>52</title>\n<path fill=\"#e58139\" stroke=\"black\" d=\"M1050,-774.5C1050,-774.5 979,-774.5 979,-774.5 973,-774.5 967,-768.5 967,-762.5 967,-762.5 967,-718.5 967,-718.5 967,-712.5 973,-706.5 979,-706.5 979,-706.5 1050,-706.5 1050,-706.5 1056,-706.5 1062,-712.5 1062,-718.5 1062,-718.5 1062,-762.5 1062,-762.5 1062,-768.5 1056,-774.5 1050,-774.5\"/>\n<text text-anchor=\"start\" x=\"986.5\" y=\"-759.3\" font-family=\"Helvetica,sans-Serif\" font-size=\"14.00\">gini = 0.0</text>\n<text text-anchor=\"start\" x=\"977\" y=\"-744.3\" font-family=\"Helvetica,sans-Serif\" font-size=\"14.00\">samples = 1</text>\n<text text-anchor=\"start\" x=\"975\" y=\"-729.3\" font-family=\"Helvetica,sans-Serif\" font-size=\"14.00\">value = [1, 0]</text>\n<text text-anchor=\"start\" x=\"989\" y=\"-714.3\" font-family=\"Helvetica,sans-Serif\" font-size=\"14.00\">class = t</text>\n</g>\n<!-- 51&#45;&gt;52 -->\n<g id=\"edge52\" class=\"edge\">\n<title>51&#45;&gt;52</title>\n<path fill=\"none\" stroke=\"black\" d=\"M1014.5,-817.91C1014.5,-807.2 1014.5,-795.62 1014.5,-784.78\"/>\n<polygon fill=\"black\" stroke=\"black\" points=\"1018,-784.67 1014.5,-774.67 1011,-784.67 1018,-784.67\"/>\n</g>\n<!-- 53 -->\n<g id=\"node54\" class=\"node\">\n<title>53</title>\n<path fill=\"#53aae8\" stroke=\"black\" d=\"M1170.5,-782C1170.5,-782 1092.5,-782 1092.5,-782 1086.5,-782 1080.5,-776 1080.5,-770 1080.5,-770 1080.5,-711 1080.5,-711 1080.5,-705 1086.5,-699 1092.5,-699 1092.5,-699 1170.5,-699 1170.5,-699 1176.5,-699 1182.5,-705 1182.5,-711 1182.5,-711 1182.5,-770 1182.5,-770 1182.5,-776 1176.5,-782 1170.5,-782\"/>\n<text text-anchor=\"start\" x=\"1092\" y=\"-766.8\" font-family=\"Helvetica,sans-Serif\" font-size=\"14.00\">restecg ≤ 0.5</text>\n<text text-anchor=\"start\" x=\"1096\" y=\"-751.8\" font-family=\"Helvetica,sans-Serif\" font-size=\"14.00\">gini = 0.208</text>\n<text text-anchor=\"start\" x=\"1090.5\" y=\"-736.8\" font-family=\"Helvetica,sans-Serif\" font-size=\"14.00\">samples = 11</text>\n<text text-anchor=\"start\" x=\"1088.5\" y=\"-721.8\" font-family=\"Helvetica,sans-Serif\" font-size=\"14.00\">value = [2, 15]</text>\n<text text-anchor=\"start\" x=\"1104\" y=\"-706.8\" font-family=\"Helvetica,sans-Serif\" font-size=\"14.00\">class = a</text>\n</g>\n<!-- 51&#45;&gt;53 -->\n<g id=\"edge53\" class=\"edge\">\n<title>51&#45;&gt;53</title>\n<path fill=\"none\" stroke=\"black\" d=\"M1055.09,-817.91C1064.35,-808.65 1074.27,-798.73 1083.79,-789.21\"/>\n<polygon fill=\"black\" stroke=\"black\" points=\"1086.38,-791.57 1090.98,-782.02 1081.43,-786.62 1086.38,-791.57\"/>\n</g>\n<!-- 54 -->\n<g id=\"node55\" class=\"node\">\n<title>54</title>\n<path fill=\"#6ab6ec\" stroke=\"black\" d=\"M1111,-663C1111,-663 1040,-663 1040,-663 1034,-663 1028,-657 1028,-651 1028,-651 1028,-592 1028,-592 1028,-586 1034,-580 1040,-580 1040,-580 1111,-580 1111,-580 1117,-580 1123,-586 1123,-592 1123,-592 1123,-651 1123,-651 1123,-657 1117,-663 1111,-663\"/>\n<text text-anchor=\"start\" x=\"1038.5\" y=\"-647.8\" font-family=\"Helvetica,sans-Serif\" font-size=\"14.00\">chol ≤ 283.0</text>\n<text text-anchor=\"start\" x=\"1043.5\" y=\"-632.8\" font-family=\"Helvetica,sans-Serif\" font-size=\"14.00\">gini = 0.32</text>\n<text text-anchor=\"start\" x=\"1038\" y=\"-617.8\" font-family=\"Helvetica,sans-Serif\" font-size=\"14.00\">samples = 6</text>\n<text text-anchor=\"start\" x=\"1036\" y=\"-602.8\" font-family=\"Helvetica,sans-Serif\" font-size=\"14.00\">value = [2, 8]</text>\n<text text-anchor=\"start\" x=\"1048\" y=\"-587.8\" font-family=\"Helvetica,sans-Serif\" font-size=\"14.00\">class = a</text>\n</g>\n<!-- 53&#45;&gt;54 -->\n<g id=\"edge54\" class=\"edge\">\n<title>53&#45;&gt;54</title>\n<path fill=\"none\" stroke=\"black\" d=\"M1112.07,-698.91C1107.94,-690.29 1103.54,-681.09 1099.28,-672.17\"/>\n<polygon fill=\"black\" stroke=\"black\" points=\"1102.37,-670.53 1094.89,-663.02 1096.05,-673.55 1102.37,-670.53\"/>\n</g>\n<!-- 57 -->\n<g id=\"node58\" class=\"node\">\n<title>57</title>\n<path fill=\"#399de5\" stroke=\"black\" d=\"M1224,-655.5C1224,-655.5 1153,-655.5 1153,-655.5 1147,-655.5 1141,-649.5 1141,-643.5 1141,-643.5 1141,-599.5 1141,-599.5 1141,-593.5 1147,-587.5 1153,-587.5 1153,-587.5 1224,-587.5 1224,-587.5 1230,-587.5 1236,-593.5 1236,-599.5 1236,-599.5 1236,-643.5 1236,-643.5 1236,-649.5 1230,-655.5 1224,-655.5\"/>\n<text text-anchor=\"start\" x=\"1160.5\" y=\"-640.3\" font-family=\"Helvetica,sans-Serif\" font-size=\"14.00\">gini = 0.0</text>\n<text text-anchor=\"start\" x=\"1151\" y=\"-625.3\" font-family=\"Helvetica,sans-Serif\" font-size=\"14.00\">samples = 5</text>\n<text text-anchor=\"start\" x=\"1149\" y=\"-610.3\" font-family=\"Helvetica,sans-Serif\" font-size=\"14.00\">value = [0, 7]</text>\n<text text-anchor=\"start\" x=\"1161\" y=\"-595.3\" font-family=\"Helvetica,sans-Serif\" font-size=\"14.00\">class = a</text>\n</g>\n<!-- 53&#45;&gt;57 -->\n<g id=\"edge57\" class=\"edge\">\n<title>53&#45;&gt;57</title>\n<path fill=\"none\" stroke=\"black\" d=\"M1151.28,-698.91C1156.65,-687.87 1162.49,-675.9 1167.91,-664.77\"/>\n<polygon fill=\"black\" stroke=\"black\" points=\"1171.11,-666.19 1172.34,-655.67 1164.82,-663.12 1171.11,-666.19\"/>\n</g>\n<!-- 55 -->\n<g id=\"node56\" class=\"node\">\n<title>55</title>\n<path fill=\"#399de5\" stroke=\"black\" d=\"M1111,-536.5C1111,-536.5 1040,-536.5 1040,-536.5 1034,-536.5 1028,-530.5 1028,-524.5 1028,-524.5 1028,-480.5 1028,-480.5 1028,-474.5 1034,-468.5 1040,-468.5 1040,-468.5 1111,-468.5 1111,-468.5 1117,-468.5 1123,-474.5 1123,-480.5 1123,-480.5 1123,-524.5 1123,-524.5 1123,-530.5 1117,-536.5 1111,-536.5\"/>\n<text text-anchor=\"start\" x=\"1047.5\" y=\"-521.3\" font-family=\"Helvetica,sans-Serif\" font-size=\"14.00\">gini = 0.0</text>\n<text text-anchor=\"start\" x=\"1038\" y=\"-506.3\" font-family=\"Helvetica,sans-Serif\" font-size=\"14.00\">samples = 5</text>\n<text text-anchor=\"start\" x=\"1036\" y=\"-491.3\" font-family=\"Helvetica,sans-Serif\" font-size=\"14.00\">value = [0, 8]</text>\n<text text-anchor=\"start\" x=\"1048\" y=\"-476.3\" font-family=\"Helvetica,sans-Serif\" font-size=\"14.00\">class = a</text>\n</g>\n<!-- 54&#45;&gt;55 -->\n<g id=\"edge55\" class=\"edge\">\n<title>54&#45;&gt;55</title>\n<path fill=\"none\" stroke=\"black\" d=\"M1075.5,-579.91C1075.5,-569.2 1075.5,-557.62 1075.5,-546.78\"/>\n<polygon fill=\"black\" stroke=\"black\" points=\"1079,-546.67 1075.5,-536.67 1072,-546.67 1079,-546.67\"/>\n</g>\n<!-- 56 -->\n<g id=\"node57\" class=\"node\">\n<title>56</title>\n<path fill=\"#e58139\" stroke=\"black\" d=\"M1224,-536.5C1224,-536.5 1153,-536.5 1153,-536.5 1147,-536.5 1141,-530.5 1141,-524.5 1141,-524.5 1141,-480.5 1141,-480.5 1141,-474.5 1147,-468.5 1153,-468.5 1153,-468.5 1224,-468.5 1224,-468.5 1230,-468.5 1236,-474.5 1236,-480.5 1236,-480.5 1236,-524.5 1236,-524.5 1236,-530.5 1230,-536.5 1224,-536.5\"/>\n<text text-anchor=\"start\" x=\"1160.5\" y=\"-521.3\" font-family=\"Helvetica,sans-Serif\" font-size=\"14.00\">gini = 0.0</text>\n<text text-anchor=\"start\" x=\"1151\" y=\"-506.3\" font-family=\"Helvetica,sans-Serif\" font-size=\"14.00\">samples = 1</text>\n<text text-anchor=\"start\" x=\"1149\" y=\"-491.3\" font-family=\"Helvetica,sans-Serif\" font-size=\"14.00\">value = [2, 0]</text>\n<text text-anchor=\"start\" x=\"1163\" y=\"-476.3\" font-family=\"Helvetica,sans-Serif\" font-size=\"14.00\">class = t</text>\n</g>\n<!-- 54&#45;&gt;56 -->\n<g id=\"edge56\" class=\"edge\">\n<title>54&#45;&gt;56</title>\n<path fill=\"none\" stroke=\"black\" d=\"M1114.7,-579.91C1125.89,-568.32 1138.09,-555.7 1149.28,-544.11\"/>\n<polygon fill=\"black\" stroke=\"black\" points=\"1152.04,-546.29 1156.47,-536.67 1147,-541.43 1152.04,-546.29\"/>\n</g>\n<!-- 59 -->\n<g id=\"node60\" class=\"node\">\n<title>59</title>\n<path fill=\"#e78d4c\" stroke=\"black\" d=\"M1519.5,-1020C1519.5,-1020 1441.5,-1020 1441.5,-1020 1435.5,-1020 1429.5,-1014 1429.5,-1008 1429.5,-1008 1429.5,-949 1429.5,-949 1429.5,-943 1435.5,-937 1441.5,-937 1441.5,-937 1519.5,-937 1519.5,-937 1525.5,-937 1531.5,-943 1531.5,-949 1531.5,-949 1531.5,-1008 1531.5,-1008 1531.5,-1014 1525.5,-1020 1519.5,-1020\"/>\n<text text-anchor=\"start\" x=\"1456\" y=\"-1004.8\" font-family=\"Helvetica,sans-Serif\" font-size=\"14.00\">cp ≤ 1.0</text>\n<text text-anchor=\"start\" x=\"1445\" y=\"-989.8\" font-family=\"Helvetica,sans-Serif\" font-size=\"14.00\">gini = 0.157</text>\n<text text-anchor=\"start\" x=\"1439.5\" y=\"-974.8\" font-family=\"Helvetica,sans-Serif\" font-size=\"14.00\">samples = 42</text>\n<text text-anchor=\"start\" x=\"1437.5\" y=\"-959.8\" font-family=\"Helvetica,sans-Serif\" font-size=\"14.00\">value = [64, 6]</text>\n<text text-anchor=\"start\" x=\"1455\" y=\"-944.8\" font-family=\"Helvetica,sans-Serif\" font-size=\"14.00\">class = t</text>\n</g>\n<!-- 58&#45;&gt;59 -->\n<g id=\"edge59\" class=\"edge\">\n<title>58&#45;&gt;59</title>\n<path fill=\"none\" stroke=\"black\" d=\"M1480.5,-1055.91C1480.5,-1047.65 1480.5,-1038.86 1480.5,-1030.3\"/>\n<polygon fill=\"black\" stroke=\"black\" points=\"1484,-1030.02 1480.5,-1020.02 1477,-1030.02 1484,-1030.02\"/>\n</g>\n<!-- 72 -->\n<g id=\"node73\" class=\"node\">\n<title>72</title>\n<path fill=\"#6ab6ec\" stroke=\"black\" d=\"M1800,-1020C1800,-1020 1729,-1020 1729,-1020 1723,-1020 1717,-1014 1717,-1008 1717,-1008 1717,-949 1717,-949 1717,-943 1723,-937 1729,-937 1729,-937 1800,-937 1800,-937 1806,-937 1812,-943 1812,-949 1812,-949 1812,-1008 1812,-1008 1812,-1014 1806,-1020 1800,-1020\"/>\n<text text-anchor=\"start\" x=\"1727.5\" y=\"-1004.8\" font-family=\"Helvetica,sans-Serif\" font-size=\"14.00\">chol ≤ 232.0</text>\n<text text-anchor=\"start\" x=\"1732.5\" y=\"-989.8\" font-family=\"Helvetica,sans-Serif\" font-size=\"14.00\">gini = 0.32</text>\n<text text-anchor=\"start\" x=\"1727\" y=\"-974.8\" font-family=\"Helvetica,sans-Serif\" font-size=\"14.00\">samples = 4</text>\n<text text-anchor=\"start\" x=\"1725\" y=\"-959.8\" font-family=\"Helvetica,sans-Serif\" font-size=\"14.00\">value = [1, 4]</text>\n<text text-anchor=\"start\" x=\"1737\" y=\"-944.8\" font-family=\"Helvetica,sans-Serif\" font-size=\"14.00\">class = a</text>\n</g>\n<!-- 58&#45;&gt;72 -->\n<g id=\"edge72\" class=\"edge\">\n<title>58&#45;&gt;72</title>\n<path fill=\"none\" stroke=\"black\" d=\"M1535.59,-1073.8C1585,-1053.45 1657.2,-1023.7 1707.25,-1003.08\"/>\n<polygon fill=\"black\" stroke=\"black\" points=\"1708.73,-1006.26 1716.64,-999.22 1706.06,-999.79 1708.73,-1006.26\"/>\n</g>\n<!-- 60 -->\n<g id=\"node61\" class=\"node\">\n<title>60</title>\n<path fill=\"#e68540\" stroke=\"black\" d=\"M1463,-901C1463,-901 1378,-901 1378,-901 1372,-901 1366,-895 1366,-889 1366,-889 1366,-830 1366,-830 1366,-824 1372,-818 1378,-818 1378,-818 1463,-818 1463,-818 1469,-818 1475,-824 1475,-830 1475,-830 1475,-889 1475,-889 1475,-895 1469,-901 1463,-901\"/>\n<text text-anchor=\"start\" x=\"1374\" y=\"-885.8\" font-family=\"Helvetica,sans-Serif\" font-size=\"14.00\">thalach ≤ 111.5</text>\n<text text-anchor=\"start\" x=\"1385\" y=\"-870.8\" font-family=\"Helvetica,sans-Serif\" font-size=\"14.00\">gini = 0.064</text>\n<text text-anchor=\"start\" x=\"1379.5\" y=\"-855.8\" font-family=\"Helvetica,sans-Serif\" font-size=\"14.00\">samples = 36</text>\n<text text-anchor=\"start\" x=\"1377.5\" y=\"-840.8\" font-family=\"Helvetica,sans-Serif\" font-size=\"14.00\">value = [58, 2]</text>\n<text text-anchor=\"start\" x=\"1395\" y=\"-825.8\" font-family=\"Helvetica,sans-Serif\" font-size=\"14.00\">class = t</text>\n</g>\n<!-- 59&#45;&gt;60 -->\n<g id=\"edge60\" class=\"edge\">\n<title>59&#45;&gt;60</title>\n<path fill=\"none\" stroke=\"black\" d=\"M1459.68,-936.91C1455.26,-928.29 1450.55,-919.09 1445.97,-910.17\"/>\n<polygon fill=\"black\" stroke=\"black\" points=\"1448.96,-908.32 1441.28,-901.02 1442.73,-911.52 1448.96,-908.32\"/>\n</g>\n<!-- 67 -->\n<g id=\"node68\" class=\"node\">\n<title>67</title>\n<path fill=\"#f6d5bd\" stroke=\"black\" d=\"M1576,-901C1576,-901 1505,-901 1505,-901 1499,-901 1493,-895 1493,-889 1493,-889 1493,-830 1493,-830 1493,-824 1499,-818 1505,-818 1505,-818 1576,-818 1576,-818 1582,-818 1588,-824 1588,-830 1588,-830 1588,-889 1588,-889 1588,-895 1582,-901 1576,-901\"/>\n<text text-anchor=\"start\" x=\"1512.5\" y=\"-885.8\" font-family=\"Helvetica,sans-Serif\" font-size=\"14.00\">thal ≤ 2.5</text>\n<text text-anchor=\"start\" x=\"1508.5\" y=\"-870.8\" font-family=\"Helvetica,sans-Serif\" font-size=\"14.00\">gini = 0.48</text>\n<text text-anchor=\"start\" x=\"1503\" y=\"-855.8\" font-family=\"Helvetica,sans-Serif\" font-size=\"14.00\">samples = 6</text>\n<text text-anchor=\"start\" x=\"1501\" y=\"-840.8\" font-family=\"Helvetica,sans-Serif\" font-size=\"14.00\">value = [6, 4]</text>\n<text text-anchor=\"start\" x=\"1515\" y=\"-825.8\" font-family=\"Helvetica,sans-Serif\" font-size=\"14.00\">class = t</text>\n</g>\n<!-- 59&#45;&gt;67 -->\n<g id=\"edge67\" class=\"edge\">\n<title>59&#45;&gt;67</title>\n<path fill=\"none\" stroke=\"black\" d=\"M1501.32,-936.91C1505.74,-928.29 1510.45,-919.09 1515.03,-910.17\"/>\n<polygon fill=\"black\" stroke=\"black\" points=\"1518.27,-911.52 1519.72,-901.02 1512.04,-908.32 1518.27,-911.52\"/>\n</g>\n<!-- 61 -->\n<g id=\"node62\" class=\"node\">\n<title>61</title>\n<path fill=\"#e9965a\" stroke=\"black\" d=\"M1340.5,-782C1340.5,-782 1262.5,-782 1262.5,-782 1256.5,-782 1250.5,-776 1250.5,-770 1250.5,-770 1250.5,-711 1250.5,-711 1250.5,-705 1256.5,-699 1262.5,-699 1262.5,-699 1340.5,-699 1340.5,-699 1346.5,-699 1352.5,-705 1352.5,-711 1352.5,-711 1352.5,-770 1352.5,-770 1352.5,-776 1346.5,-782 1340.5,-782\"/>\n<text text-anchor=\"start\" x=\"1269.5\" y=\"-766.8\" font-family=\"Helvetica,sans-Serif\" font-size=\"14.00\">age ≤ 53.5</text>\n<text text-anchor=\"start\" x=\"1266\" y=\"-751.8\" font-family=\"Helvetica,sans-Serif\" font-size=\"14.00\">gini = 0.245</text>\n<text text-anchor=\"start\" x=\"1264\" y=\"-736.8\" font-family=\"Helvetica,sans-Serif\" font-size=\"14.00\">samples = 9</text>\n<text text-anchor=\"start\" x=\"1258.5\" y=\"-721.8\" font-family=\"Helvetica,sans-Serif\" font-size=\"14.00\">value = [12, 2]</text>\n<text text-anchor=\"start\" x=\"1276\" y=\"-706.8\" font-family=\"Helvetica,sans-Serif\" font-size=\"14.00\">class = t</text>\n</g>\n<!-- 60&#45;&gt;61 -->\n<g id=\"edge61\" class=\"edge\">\n<title>60&#45;&gt;61</title>\n<path fill=\"none\" stroke=\"black\" d=\"M1379.21,-817.91C1369.8,-808.65 1359.71,-798.73 1350.02,-789.21\"/>\n<polygon fill=\"black\" stroke=\"black\" points=\"1352.3,-786.54 1342.71,-782.02 1347.39,-791.53 1352.3,-786.54\"/>\n</g>\n<!-- 66 -->\n<g id=\"node67\" class=\"node\">\n<title>66</title>\n<path fill=\"#e58139\" stroke=\"black\" d=\"M1460.5,-774.5C1460.5,-774.5 1382.5,-774.5 1382.5,-774.5 1376.5,-774.5 1370.5,-768.5 1370.5,-762.5 1370.5,-762.5 1370.5,-718.5 1370.5,-718.5 1370.5,-712.5 1376.5,-706.5 1382.5,-706.5 1382.5,-706.5 1460.5,-706.5 1460.5,-706.5 1466.5,-706.5 1472.5,-712.5 1472.5,-718.5 1472.5,-718.5 1472.5,-762.5 1472.5,-762.5 1472.5,-768.5 1466.5,-774.5 1460.5,-774.5\"/>\n<text text-anchor=\"start\" x=\"1393.5\" y=\"-759.3\" font-family=\"Helvetica,sans-Serif\" font-size=\"14.00\">gini = 0.0</text>\n<text text-anchor=\"start\" x=\"1380.5\" y=\"-744.3\" font-family=\"Helvetica,sans-Serif\" font-size=\"14.00\">samples = 27</text>\n<text text-anchor=\"start\" x=\"1378.5\" y=\"-729.3\" font-family=\"Helvetica,sans-Serif\" font-size=\"14.00\">value = [46, 0]</text>\n<text text-anchor=\"start\" x=\"1396\" y=\"-714.3\" font-family=\"Helvetica,sans-Serif\" font-size=\"14.00\">class = t</text>\n</g>\n<!-- 60&#45;&gt;66 -->\n<g id=\"edge66\" class=\"edge\">\n<title>60&#45;&gt;66</title>\n<path fill=\"none\" stroke=\"black\" d=\"M1420.85,-817.91C1420.94,-807.2 1421.04,-795.62 1421.13,-784.78\"/>\n<polygon fill=\"black\" stroke=\"black\" points=\"1424.63,-784.7 1421.22,-774.67 1417.63,-784.64 1424.63,-784.7\"/>\n</g>\n<!-- 62 -->\n<g id=\"node63\" class=\"node\">\n<title>62</title>\n<path fill=\"#9ccef2\" stroke=\"black\" d=\"M1337,-663C1337,-663 1266,-663 1266,-663 1260,-663 1254,-657 1254,-651 1254,-651 1254,-592 1254,-592 1254,-586 1260,-580 1266,-580 1266,-580 1337,-580 1337,-580 1343,-580 1349,-586 1349,-592 1349,-592 1349,-651 1349,-651 1349,-657 1343,-663 1337,-663\"/>\n<text text-anchor=\"start\" x=\"1262\" y=\"-647.8\" font-family=\"Helvetica,sans-Serif\" font-size=\"14.00\">restecg ≤ 0.5</text>\n<text text-anchor=\"start\" x=\"1266\" y=\"-632.8\" font-family=\"Helvetica,sans-Serif\" font-size=\"14.00\">gini = 0.444</text>\n<text text-anchor=\"start\" x=\"1264\" y=\"-617.8\" font-family=\"Helvetica,sans-Serif\" font-size=\"14.00\">samples = 2</text>\n<text text-anchor=\"start\" x=\"1262\" y=\"-602.8\" font-family=\"Helvetica,sans-Serif\" font-size=\"14.00\">value = [1, 2]</text>\n<text text-anchor=\"start\" x=\"1274\" y=\"-587.8\" font-family=\"Helvetica,sans-Serif\" font-size=\"14.00\">class = a</text>\n</g>\n<!-- 61&#45;&gt;62 -->\n<g id=\"edge62\" class=\"edge\">\n<title>61&#45;&gt;62</title>\n<path fill=\"none\" stroke=\"black\" d=\"M1301.5,-698.91C1301.5,-690.65 1301.5,-681.86 1301.5,-673.3\"/>\n<polygon fill=\"black\" stroke=\"black\" points=\"1305,-673.02 1301.5,-663.02 1298,-673.02 1305,-673.02\"/>\n</g>\n<!-- 65 -->\n<g id=\"node66\" class=\"node\">\n<title>65</title>\n<path fill=\"#e58139\" stroke=\"black\" d=\"M1457.5,-655.5C1457.5,-655.5 1379.5,-655.5 1379.5,-655.5 1373.5,-655.5 1367.5,-649.5 1367.5,-643.5 1367.5,-643.5 1367.5,-599.5 1367.5,-599.5 1367.5,-593.5 1373.5,-587.5 1379.5,-587.5 1379.5,-587.5 1457.5,-587.5 1457.5,-587.5 1463.5,-587.5 1469.5,-593.5 1469.5,-599.5 1469.5,-599.5 1469.5,-643.5 1469.5,-643.5 1469.5,-649.5 1463.5,-655.5 1457.5,-655.5\"/>\n<text text-anchor=\"start\" x=\"1390.5\" y=\"-640.3\" font-family=\"Helvetica,sans-Serif\" font-size=\"14.00\">gini = 0.0</text>\n<text text-anchor=\"start\" x=\"1381\" y=\"-625.3\" font-family=\"Helvetica,sans-Serif\" font-size=\"14.00\">samples = 7</text>\n<text text-anchor=\"start\" x=\"1375.5\" y=\"-610.3\" font-family=\"Helvetica,sans-Serif\" font-size=\"14.00\">value = [11, 0]</text>\n<text text-anchor=\"start\" x=\"1393\" y=\"-595.3\" font-family=\"Helvetica,sans-Serif\" font-size=\"14.00\">class = t</text>\n</g>\n<!-- 61&#45;&gt;65 -->\n<g id=\"edge65\" class=\"edge\">\n<title>61&#45;&gt;65</title>\n<path fill=\"none\" stroke=\"black\" d=\"M1342.09,-698.91C1353.79,-687.21 1366.54,-674.46 1378.22,-662.78\"/>\n<polygon fill=\"black\" stroke=\"black\" points=\"1380.74,-665.21 1385.33,-655.67 1375.79,-660.26 1380.74,-665.21\"/>\n</g>\n<!-- 63 -->\n<g id=\"node64\" class=\"node\">\n<title>63</title>\n<path fill=\"#399de5\" stroke=\"black\" d=\"M1337,-536.5C1337,-536.5 1266,-536.5 1266,-536.5 1260,-536.5 1254,-530.5 1254,-524.5 1254,-524.5 1254,-480.5 1254,-480.5 1254,-474.5 1260,-468.5 1266,-468.5 1266,-468.5 1337,-468.5 1337,-468.5 1343,-468.5 1349,-474.5 1349,-480.5 1349,-480.5 1349,-524.5 1349,-524.5 1349,-530.5 1343,-536.5 1337,-536.5\"/>\n<text text-anchor=\"start\" x=\"1273.5\" y=\"-521.3\" font-family=\"Helvetica,sans-Serif\" font-size=\"14.00\">gini = 0.0</text>\n<text text-anchor=\"start\" x=\"1264\" y=\"-506.3\" font-family=\"Helvetica,sans-Serif\" font-size=\"14.00\">samples = 1</text>\n<text text-anchor=\"start\" x=\"1262\" y=\"-491.3\" font-family=\"Helvetica,sans-Serif\" font-size=\"14.00\">value = [0, 2]</text>\n<text text-anchor=\"start\" x=\"1274\" y=\"-476.3\" font-family=\"Helvetica,sans-Serif\" font-size=\"14.00\">class = a</text>\n</g>\n<!-- 62&#45;&gt;63 -->\n<g id=\"edge63\" class=\"edge\">\n<title>62&#45;&gt;63</title>\n<path fill=\"none\" stroke=\"black\" d=\"M1301.5,-579.91C1301.5,-569.2 1301.5,-557.62 1301.5,-546.78\"/>\n<polygon fill=\"black\" stroke=\"black\" points=\"1305,-546.67 1301.5,-536.67 1298,-546.67 1305,-546.67\"/>\n</g>\n<!-- 64 -->\n<g id=\"node65\" class=\"node\">\n<title>64</title>\n<path fill=\"#e58139\" stroke=\"black\" d=\"M1450,-536.5C1450,-536.5 1379,-536.5 1379,-536.5 1373,-536.5 1367,-530.5 1367,-524.5 1367,-524.5 1367,-480.5 1367,-480.5 1367,-474.5 1373,-468.5 1379,-468.5 1379,-468.5 1450,-468.5 1450,-468.5 1456,-468.5 1462,-474.5 1462,-480.5 1462,-480.5 1462,-524.5 1462,-524.5 1462,-530.5 1456,-536.5 1450,-536.5\"/>\n<text text-anchor=\"start\" x=\"1386.5\" y=\"-521.3\" font-family=\"Helvetica,sans-Serif\" font-size=\"14.00\">gini = 0.0</text>\n<text text-anchor=\"start\" x=\"1377\" y=\"-506.3\" font-family=\"Helvetica,sans-Serif\" font-size=\"14.00\">samples = 1</text>\n<text text-anchor=\"start\" x=\"1375\" y=\"-491.3\" font-family=\"Helvetica,sans-Serif\" font-size=\"14.00\">value = [1, 0]</text>\n<text text-anchor=\"start\" x=\"1389\" y=\"-476.3\" font-family=\"Helvetica,sans-Serif\" font-size=\"14.00\">class = t</text>\n</g>\n<!-- 62&#45;&gt;64 -->\n<g id=\"edge64\" class=\"edge\">\n<title>62&#45;&gt;64</title>\n<path fill=\"none\" stroke=\"black\" d=\"M1340.7,-579.91C1351.89,-568.32 1364.09,-555.7 1375.28,-544.11\"/>\n<polygon fill=\"black\" stroke=\"black\" points=\"1378.04,-546.29 1382.47,-536.67 1373,-541.43 1378.04,-546.29\"/>\n</g>\n<!-- 68 -->\n<g id=\"node69\" class=\"node\">\n<title>68</title>\n<path fill=\"#6ab6ec\" stroke=\"black\" d=\"M1574,-782C1574,-782 1503,-782 1503,-782 1497,-782 1491,-776 1491,-770 1491,-770 1491,-711 1491,-711 1491,-705 1497,-699 1503,-699 1503,-699 1574,-699 1574,-699 1580,-699 1586,-705 1586,-711 1586,-711 1586,-770 1586,-770 1586,-776 1580,-782 1574,-782\"/>\n<text text-anchor=\"start\" x=\"1510.5\" y=\"-766.8\" font-family=\"Helvetica,sans-Serif\" font-size=\"14.00\">thal ≤ 1.5</text>\n<text text-anchor=\"start\" x=\"1506.5\" y=\"-751.8\" font-family=\"Helvetica,sans-Serif\" font-size=\"14.00\">gini = 0.32</text>\n<text text-anchor=\"start\" x=\"1501\" y=\"-736.8\" font-family=\"Helvetica,sans-Serif\" font-size=\"14.00\">samples = 4</text>\n<text text-anchor=\"start\" x=\"1499\" y=\"-721.8\" font-family=\"Helvetica,sans-Serif\" font-size=\"14.00\">value = [1, 4]</text>\n<text text-anchor=\"start\" x=\"1511\" y=\"-706.8\" font-family=\"Helvetica,sans-Serif\" font-size=\"14.00\">class = a</text>\n</g>\n<!-- 67&#45;&gt;68 -->\n<g id=\"edge68\" class=\"edge\">\n<title>67&#45;&gt;68</title>\n<path fill=\"none\" stroke=\"black\" d=\"M1539.81,-817.91C1539.66,-809.56 1539.51,-800.67 1539.36,-792.02\"/>\n<polygon fill=\"black\" stroke=\"black\" points=\"1542.86,-791.96 1539.19,-782.02 1535.86,-792.08 1542.86,-791.96\"/>\n</g>\n<!-- 71 -->\n<g id=\"node72\" class=\"node\">\n<title>71</title>\n<path fill=\"#e58139\" stroke=\"black\" d=\"M1687,-774.5C1687,-774.5 1616,-774.5 1616,-774.5 1610,-774.5 1604,-768.5 1604,-762.5 1604,-762.5 1604,-718.5 1604,-718.5 1604,-712.5 1610,-706.5 1616,-706.5 1616,-706.5 1687,-706.5 1687,-706.5 1693,-706.5 1699,-712.5 1699,-718.5 1699,-718.5 1699,-762.5 1699,-762.5 1699,-768.5 1693,-774.5 1687,-774.5\"/>\n<text text-anchor=\"start\" x=\"1623.5\" y=\"-759.3\" font-family=\"Helvetica,sans-Serif\" font-size=\"14.00\">gini = 0.0</text>\n<text text-anchor=\"start\" x=\"1614\" y=\"-744.3\" font-family=\"Helvetica,sans-Serif\" font-size=\"14.00\">samples = 2</text>\n<text text-anchor=\"start\" x=\"1612\" y=\"-729.3\" font-family=\"Helvetica,sans-Serif\" font-size=\"14.00\">value = [5, 0]</text>\n<text text-anchor=\"start\" x=\"1626\" y=\"-714.3\" font-family=\"Helvetica,sans-Serif\" font-size=\"14.00\">class = t</text>\n</g>\n<!-- 67&#45;&gt;71 -->\n<g id=\"edge71\" class=\"edge\">\n<title>67&#45;&gt;71</title>\n<path fill=\"none\" stroke=\"black\" d=\"M1579.01,-817.91C1590,-806.32 1601.98,-793.7 1612.97,-782.11\"/>\n<polygon fill=\"black\" stroke=\"black\" points=\"1615.69,-784.33 1620.03,-774.67 1610.61,-779.51 1615.69,-784.33\"/>\n</g>\n<!-- 69 -->\n<g id=\"node70\" class=\"node\">\n<title>69</title>\n<path fill=\"#e58139\" stroke=\"black\" d=\"M1573,-655.5C1573,-655.5 1502,-655.5 1502,-655.5 1496,-655.5 1490,-649.5 1490,-643.5 1490,-643.5 1490,-599.5 1490,-599.5 1490,-593.5 1496,-587.5 1502,-587.5 1502,-587.5 1573,-587.5 1573,-587.5 1579,-587.5 1585,-593.5 1585,-599.5 1585,-599.5 1585,-643.5 1585,-643.5 1585,-649.5 1579,-655.5 1573,-655.5\"/>\n<text text-anchor=\"start\" x=\"1509.5\" y=\"-640.3\" font-family=\"Helvetica,sans-Serif\" font-size=\"14.00\">gini = 0.0</text>\n<text text-anchor=\"start\" x=\"1500\" y=\"-625.3\" font-family=\"Helvetica,sans-Serif\" font-size=\"14.00\">samples = 1</text>\n<text text-anchor=\"start\" x=\"1498\" y=\"-610.3\" font-family=\"Helvetica,sans-Serif\" font-size=\"14.00\">value = [1, 0]</text>\n<text text-anchor=\"start\" x=\"1512\" y=\"-595.3\" font-family=\"Helvetica,sans-Serif\" font-size=\"14.00\">class = t</text>\n</g>\n<!-- 68&#45;&gt;69 -->\n<g id=\"edge69\" class=\"edge\">\n<title>68&#45;&gt;69</title>\n<path fill=\"none\" stroke=\"black\" d=\"M1538.15,-698.91C1538.06,-688.2 1537.96,-676.62 1537.87,-665.78\"/>\n<polygon fill=\"black\" stroke=\"black\" points=\"1541.37,-665.64 1537.78,-655.67 1534.37,-665.7 1541.37,-665.64\"/>\n</g>\n<!-- 70 -->\n<g id=\"node71\" class=\"node\">\n<title>70</title>\n<path fill=\"#399de5\" stroke=\"black\" d=\"M1686,-655.5C1686,-655.5 1615,-655.5 1615,-655.5 1609,-655.5 1603,-649.5 1603,-643.5 1603,-643.5 1603,-599.5 1603,-599.5 1603,-593.5 1609,-587.5 1615,-587.5 1615,-587.5 1686,-587.5 1686,-587.5 1692,-587.5 1698,-593.5 1698,-599.5 1698,-599.5 1698,-643.5 1698,-643.5 1698,-649.5 1692,-655.5 1686,-655.5\"/>\n<text text-anchor=\"start\" x=\"1622.5\" y=\"-640.3\" font-family=\"Helvetica,sans-Serif\" font-size=\"14.00\">gini = 0.0</text>\n<text text-anchor=\"start\" x=\"1613\" y=\"-625.3\" font-family=\"Helvetica,sans-Serif\" font-size=\"14.00\">samples = 3</text>\n<text text-anchor=\"start\" x=\"1611\" y=\"-610.3\" font-family=\"Helvetica,sans-Serif\" font-size=\"14.00\">value = [0, 4]</text>\n<text text-anchor=\"start\" x=\"1623\" y=\"-595.3\" font-family=\"Helvetica,sans-Serif\" font-size=\"14.00\">class = a</text>\n</g>\n<!-- 68&#45;&gt;70 -->\n<g id=\"edge70\" class=\"edge\">\n<title>68&#45;&gt;70</title>\n<path fill=\"none\" stroke=\"black\" d=\"M1577.36,-698.91C1588.45,-687.32 1600.53,-674.7 1611.62,-663.11\"/>\n<polygon fill=\"black\" stroke=\"black\" points=\"1614.36,-665.31 1618.75,-655.67 1609.31,-660.47 1614.36,-665.31\"/>\n</g>\n<!-- 73 -->\n<g id=\"node74\" class=\"node\">\n<title>73</title>\n<path fill=\"#ffffff\" stroke=\"black\" d=\"M1800,-901C1800,-901 1729,-901 1729,-901 1723,-901 1717,-895 1717,-889 1717,-889 1717,-830 1717,-830 1717,-824 1723,-818 1729,-818 1729,-818 1800,-818 1800,-818 1806,-818 1812,-824 1812,-830 1812,-830 1812,-889 1812,-889 1812,-895 1806,-901 1800,-901\"/>\n<text text-anchor=\"start\" x=\"1727.5\" y=\"-885.8\" font-family=\"Helvetica,sans-Serif\" font-size=\"14.00\">chol ≤ 219.0</text>\n<text text-anchor=\"start\" x=\"1736.5\" y=\"-870.8\" font-family=\"Helvetica,sans-Serif\" font-size=\"14.00\">gini = 0.5</text>\n<text text-anchor=\"start\" x=\"1727\" y=\"-855.8\" font-family=\"Helvetica,sans-Serif\" font-size=\"14.00\">samples = 2</text>\n<text text-anchor=\"start\" x=\"1725\" y=\"-840.8\" font-family=\"Helvetica,sans-Serif\" font-size=\"14.00\">value = [1, 1]</text>\n<text text-anchor=\"start\" x=\"1739\" y=\"-825.8\" font-family=\"Helvetica,sans-Serif\" font-size=\"14.00\">class = t</text>\n</g>\n<!-- 72&#45;&gt;73 -->\n<g id=\"edge73\" class=\"edge\">\n<title>72&#45;&gt;73</title>\n<path fill=\"none\" stroke=\"black\" d=\"M1764.5,-936.91C1764.5,-928.65 1764.5,-919.86 1764.5,-911.3\"/>\n<polygon fill=\"black\" stroke=\"black\" points=\"1768,-911.02 1764.5,-901.02 1761,-911.02 1768,-911.02\"/>\n</g>\n<!-- 76 -->\n<g id=\"node77\" class=\"node\">\n<title>76</title>\n<path fill=\"#399de5\" stroke=\"black\" d=\"M1913,-893.5C1913,-893.5 1842,-893.5 1842,-893.5 1836,-893.5 1830,-887.5 1830,-881.5 1830,-881.5 1830,-837.5 1830,-837.5 1830,-831.5 1836,-825.5 1842,-825.5 1842,-825.5 1913,-825.5 1913,-825.5 1919,-825.5 1925,-831.5 1925,-837.5 1925,-837.5 1925,-881.5 1925,-881.5 1925,-887.5 1919,-893.5 1913,-893.5\"/>\n<text text-anchor=\"start\" x=\"1849.5\" y=\"-878.3\" font-family=\"Helvetica,sans-Serif\" font-size=\"14.00\">gini = 0.0</text>\n<text text-anchor=\"start\" x=\"1840\" y=\"-863.3\" font-family=\"Helvetica,sans-Serif\" font-size=\"14.00\">samples = 2</text>\n<text text-anchor=\"start\" x=\"1838\" y=\"-848.3\" font-family=\"Helvetica,sans-Serif\" font-size=\"14.00\">value = [0, 3]</text>\n<text text-anchor=\"start\" x=\"1850\" y=\"-833.3\" font-family=\"Helvetica,sans-Serif\" font-size=\"14.00\">class = a</text>\n</g>\n<!-- 72&#45;&gt;76 -->\n<g id=\"edge76\" class=\"edge\">\n<title>72&#45;&gt;76</title>\n<path fill=\"none\" stroke=\"black\" d=\"M1803.7,-936.91C1814.89,-925.32 1827.09,-912.7 1838.28,-901.11\"/>\n<polygon fill=\"black\" stroke=\"black\" points=\"1841.04,-903.29 1845.47,-893.67 1836,-898.43 1841.04,-903.29\"/>\n</g>\n<!-- 74 -->\n<g id=\"node75\" class=\"node\">\n<title>74</title>\n<path fill=\"#399de5\" stroke=\"black\" d=\"M1800,-774.5C1800,-774.5 1729,-774.5 1729,-774.5 1723,-774.5 1717,-768.5 1717,-762.5 1717,-762.5 1717,-718.5 1717,-718.5 1717,-712.5 1723,-706.5 1729,-706.5 1729,-706.5 1800,-706.5 1800,-706.5 1806,-706.5 1812,-712.5 1812,-718.5 1812,-718.5 1812,-762.5 1812,-762.5 1812,-768.5 1806,-774.5 1800,-774.5\"/>\n<text text-anchor=\"start\" x=\"1736.5\" y=\"-759.3\" font-family=\"Helvetica,sans-Serif\" font-size=\"14.00\">gini = 0.0</text>\n<text text-anchor=\"start\" x=\"1727\" y=\"-744.3\" font-family=\"Helvetica,sans-Serif\" font-size=\"14.00\">samples = 1</text>\n<text text-anchor=\"start\" x=\"1725\" y=\"-729.3\" font-family=\"Helvetica,sans-Serif\" font-size=\"14.00\">value = [0, 1]</text>\n<text text-anchor=\"start\" x=\"1737\" y=\"-714.3\" font-family=\"Helvetica,sans-Serif\" font-size=\"14.00\">class = a</text>\n</g>\n<!-- 73&#45;&gt;74 -->\n<g id=\"edge74\" class=\"edge\">\n<title>73&#45;&gt;74</title>\n<path fill=\"none\" stroke=\"black\" d=\"M1764.5,-817.91C1764.5,-807.2 1764.5,-795.62 1764.5,-784.78\"/>\n<polygon fill=\"black\" stroke=\"black\" points=\"1768,-784.67 1764.5,-774.67 1761,-784.67 1768,-784.67\"/>\n</g>\n<!-- 75 -->\n<g id=\"node76\" class=\"node\">\n<title>75</title>\n<path fill=\"#e58139\" stroke=\"black\" d=\"M1913,-774.5C1913,-774.5 1842,-774.5 1842,-774.5 1836,-774.5 1830,-768.5 1830,-762.5 1830,-762.5 1830,-718.5 1830,-718.5 1830,-712.5 1836,-706.5 1842,-706.5 1842,-706.5 1913,-706.5 1913,-706.5 1919,-706.5 1925,-712.5 1925,-718.5 1925,-718.5 1925,-762.5 1925,-762.5 1925,-768.5 1919,-774.5 1913,-774.5\"/>\n<text text-anchor=\"start\" x=\"1849.5\" y=\"-759.3\" font-family=\"Helvetica,sans-Serif\" font-size=\"14.00\">gini = 0.0</text>\n<text text-anchor=\"start\" x=\"1840\" y=\"-744.3\" font-family=\"Helvetica,sans-Serif\" font-size=\"14.00\">samples = 1</text>\n<text text-anchor=\"start\" x=\"1838\" y=\"-729.3\" font-family=\"Helvetica,sans-Serif\" font-size=\"14.00\">value = [1, 0]</text>\n<text text-anchor=\"start\" x=\"1852\" y=\"-714.3\" font-family=\"Helvetica,sans-Serif\" font-size=\"14.00\">class = t</text>\n</g>\n<!-- 73&#45;&gt;75 -->\n<g id=\"edge75\" class=\"edge\">\n<title>73&#45;&gt;75</title>\n<path fill=\"none\" stroke=\"black\" d=\"M1803.7,-817.91C1814.89,-806.32 1827.09,-793.7 1838.28,-782.11\"/>\n<polygon fill=\"black\" stroke=\"black\" points=\"1841.04,-784.29 1845.47,-774.67 1836,-779.43 1841.04,-784.29\"/>\n</g>\n</g>\n</svg>\n",
            "text/plain": [
              "<graphviz.sources.Source at 0x7b29c0ad0880>"
            ]
          },
          "metadata": {},
          "execution_count": 459
        }
      ]
    },
    {
      "cell_type": "code",
      "source": [
        "'''. Select the best model\n",
        "a. Print the confusion matrix of all classifiers\n",
        "b. Print the classification report of all classifiers\n",
        "c. Calculate Recall Precision and F1 score of all the models\n",
        "d. Visualize confusion matrix using heatmaps\n",
        "e. Select the best model based on the best accuracies'''"
      ],
      "metadata": {
        "colab": {
          "base_uri": "https://localhost:8080/",
          "height": 69
        },
        "id": "WwlR3GnTdhPP",
        "outputId": "47836c5f-581f-4639-9ed2-ba5c9c64d365"
      },
      "execution_count": 460,
      "outputs": [
        {
          "output_type": "execute_result",
          "data": {
            "text/plain": [
              "'. Select the best model\\na. Print the confusion matrix of all classifiers\\nb. Print the classification report of all classifiers\\nc. Calculate Recall Precision and F1 score of all the models\\nd. Visualize confusion matrix using heatmaps\\ne. Select the best model based on the best accuracies'"
            ],
            "application/vnd.google.colaboratory.intrinsic+json": {
              "type": "string"
            }
          },
          "metadata": {},
          "execution_count": 460
        }
      ]
    },
    {
      "cell_type": "code",
      "source": [
        "print('Confusion Matrix for Logistic Regression:')\n",
        "print(con_mat_log)\n",
        "print('')\n",
        "print('Confusion matrix of decision Tree:')\n",
        "print(con_mat_dt)\n",
        "print('')\n",
        "print('Confusion matrix on random forest:')\n",
        "print(con_mat_rf)"
      ],
      "metadata": {
        "colab": {
          "base_uri": "https://localhost:8080/"
        },
        "id": "17rQx7PrfudL",
        "outputId": "50a4557f-48f9-4baf-e5ab-4060bb4cccd7"
      },
      "execution_count": 464,
      "outputs": [
        {
          "output_type": "stream",
          "name": "stdout",
          "text": [
            "Confusion Matrix for Logistic Regression:\n",
            "[[29 12]\n",
            " [ 3 47]]\n",
            "\n",
            "Confusion matrix of decision Tree:\n",
            "[[29 12]\n",
            " [12 38]]\n",
            "\n",
            "Confusion matrix on random forest:\n",
            "[[31 10]\n",
            " [ 8 42]]\n"
          ]
        }
      ]
    },
    {
      "cell_type": "code",
      "source": [
        "print('classification_report for Logistic Regression:')\n",
        "print(clas_rep_log)\n",
        "print('')\n",
        "print('classification_report of decision Tree:')\n",
        "print(cls_rept_dt)\n",
        "print('')\n",
        "print('classification_report on random forest:')\n",
        "print(cls_rept_rf)"
      ],
      "metadata": {
        "colab": {
          "base_uri": "https://localhost:8080/"
        },
        "id": "lcI9U3WGf0Bz",
        "outputId": "f6810467-b989-4455-d486-2829ff9c2406"
      },
      "execution_count": 465,
      "outputs": [
        {
          "output_type": "stream",
          "name": "stdout",
          "text": [
            "classification_report for Logistic Regression:\n",
            "              precision    recall  f1-score   support\n",
            "\n",
            "           0       0.91      0.71      0.79        41\n",
            "           1       0.80      0.94      0.86        50\n",
            "\n",
            "    accuracy                           0.84        91\n",
            "   macro avg       0.85      0.82      0.83        91\n",
            "weighted avg       0.85      0.84      0.83        91\n",
            "\n",
            "\n",
            "classification_report of decision Tree:\n",
            "              precision    recall  f1-score   support\n",
            "\n",
            "           0       0.71      0.71      0.71        41\n",
            "           1       0.76      0.76      0.76        50\n",
            "\n",
            "    accuracy                           0.74        91\n",
            "   macro avg       0.73      0.73      0.73        91\n",
            "weighted avg       0.74      0.74      0.74        91\n",
            "\n",
            "\n",
            "classification_report on random forest:\n",
            "              precision    recall  f1-score   support\n",
            "\n",
            "           0       0.79      0.76      0.77        41\n",
            "           1       0.81      0.84      0.82        50\n",
            "\n",
            "    accuracy                           0.80        91\n",
            "   macro avg       0.80      0.80      0.80        91\n",
            "weighted avg       0.80      0.80      0.80        91\n",
            "\n"
          ]
        }
      ]
    },
    {
      "cell_type": "code",
      "source": [
        "sns.heatmap(con_mat_log,annot=True)\n",
        "plt.title('Visualize confusion matrix using heatmaps of logistic regression')\n",
        "plt.show()"
      ],
      "metadata": {
        "colab": {
          "base_uri": "https://localhost:8080/",
          "height": 452
        },
        "id": "Evb46xIok9FP",
        "outputId": "83dbf3dc-64f2-45b4-8062-13660d5f1818"
      },
      "execution_count": 466,
      "outputs": [
        {
          "output_type": "display_data",
          "data": {
            "text/plain": [
              "<Figure size 640x480 with 2 Axes>"
            ],
            "image/png": "[encoded data removed]"
          },
          "metadata": {}
        }
      ]
    },
    {
      "cell_type": "code",
      "source": [
        "sns.heatmap(con_mat_dt,annot=True)\n",
        "plt.title('Visualize confusion matrix using heatmaps of decision tree')\n",
        "plt.show()"
      ],
      "metadata": {
        "colab": {
          "base_uri": "https://localhost:8080/",
          "height": 452
        },
        "id": "KMYUsPKZkhcd",
        "outputId": "52fa2dff-73ad-4ea6-d49c-651918876bcf"
      },
      "execution_count": 467,
      "outputs": [
        {
          "output_type": "display_data",
          "data": {
            "text/plain": [
              "<Figure size 640x480 with 2 Axes>"
            ],
            "image/png": "[encoded data removed]"
          },
          "metadata": {}
        }
      ]
    },
    {
      "cell_type": "code",
      "source": [
        "sns.heatmap(con_mat_rf,annot=True)\n",
        "plt.title('Visualize confusion matrix using heatmaps of random forest')\n",
        "plt.show()"
      ],
      "metadata": {
        "colab": {
          "base_uri": "https://localhost:8080/",
          "height": 452
        },
        "id": "h7TeTEdfj0Z6",
        "outputId": "d81847ea-f87a-4ce3-f2de-903002991855"
      },
      "execution_count": 470,
      "outputs": [
        {
          "output_type": "display_data",
          "data": {
            "text/plain": [
              "<Figure size 640x480 with 2 Axes>"
            ],
            "image/png": "[encoded data removed]"
          },
          "metadata": {}
        }
      ]
    },
    {
      "cell_type": "code",
      "source": [
        "print('Accuracy score of logistic regression',acc_scor_log)\n",
        "print('Accuracy score of decision tree',acc_score_dt)\n",
        "print('Accuracy score of random forest',acc_score_rf)"
      ],
      "metadata": {
        "colab": {
          "base_uri": "https://localhost:8080/"
        },
        "id": "mWe5DGTKkWEQ",
        "outputId": "1c143e49-e091-4b87-a12b-ece25ceb2ce4"
      },
      "execution_count": 471,
      "outputs": [
        {
          "output_type": "stream",
          "name": "stdout",
          "text": [
            "Accuracy score of logistic regression 0.8351648351648352\n",
            "Accuracy score of decision tree 0.7362637362637363\n",
            "Accuracy score of random forest 0.8021978021978022\n"
          ]
        }
      ]
    },
    {
      "cell_type": "code",
      "source": [
        "#logistic regression have high accuracy"
      ],
      "metadata": {
        "id": "sKQ-zpFEl0zp"
      },
      "execution_count": null,
      "outputs": []
    }
  ]
}